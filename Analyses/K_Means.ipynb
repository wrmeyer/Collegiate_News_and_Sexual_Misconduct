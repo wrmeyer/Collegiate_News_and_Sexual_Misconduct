{
 "cells": [
  {
   "cell_type": "code",
   "execution_count": 1,
   "metadata": {},
   "outputs": [],
   "source": [
    "import pandas as pd\n",
    "import os\n",
    "location = str(os.getcwd())"
   ]
  },
  {
   "cell_type": "code",
   "execution_count": 2,
   "metadata": {},
   "outputs": [
    {
     "name": "stdout",
     "output_type": "stream",
     "text": [
      "11768\n"
     ]
    }
   ],
   "source": [
    "f = (location[:-8] + \"Articles\\\\articles_cleaned.csv\")\n",
    "df = pd.read_csv(f)\n",
    "df = df.to_dict(\"index\")\n",
    "print(len(df))"
   ]
  },
  {
   "cell_type": "code",
   "execution_count": 3,
   "metadata": {},
   "outputs": [
    {
     "name": "stdout",
     "output_type": "stream",
     "text": [
      "11768\n"
     ]
    }
   ],
   "source": [
    "#cleaning body text\n",
    "for i in range(len(df)):\n",
    "    df[i][\"body\"] = str(df[i][\"body\"]).replace(\"\\n\", \"\").replace(\"\\r\", \"\").replace(\".\", \". \")\n",
    "print(len(df))"
   ]
  },
  {
   "cell_type": "markdown",
   "metadata": {},
   "source": [
    "K MEANS CLUSTERING\n",
    "https://towardsdatascience.com/generating-colocations-n-grams-6dd8bea31d13\n",
    "https://towardsdatascience.com/text-clustering-using-k-means-ec19768aae48#:~:text=K%2Dmeans%20clustering%20is%20a,represented%20by%20the%20variable%20K."
   ]
  },
  {
   "cell_type": "code",
   "execution_count": 4,
   "metadata": {},
   "outputs": [
    {
     "name": "stderr",
     "output_type": "stream",
     "text": [
      "[nltk_data] Downloading package averaged_perceptron_tagger to\n",
      "[nltk_data]     C:\\Users\\Wil\\AppData\\Roaming\\nltk_data...\n",
      "[nltk_data]   Package averaged_perceptron_tagger is already up-to-\n",
      "[nltk_data]       date!\n"
     ]
    }
   ],
   "source": [
    "import re\n",
    "import pandas as pd\n",
    "import nltk\n",
    "nltk.download('averaged_perceptron_tagger')\n",
    "en_stopwords = [\"i\", \"me\", \"my\", \"myself\", \"we\", \"our\", \"ours\", \"ourselves\", \"you\", \"your\", \"yours\", \"yourself\", \"yourselves\", \"he\", \"him\", \"his\", \"himself\", \"she\", \"her\", \"hers\", \"herself\", \"it\", \"its\", \"itself\", \"they\", \"them\", \"their\", \"theirs\", \"themselves\", \"what\", \"which\", \"who\", \"whom\", \"this\", \"that\", \"these\", \"those\", \"am\", \"is\", \"are\", \"was\", \"were\", \"be\", \"been\", \"being\", \"have\", \"has\", \"had\", \"having\", \"do\", \"does\", \"did\", \"doing\", \"a\", \"an\", \"the\", \"and\", \"but\", \"if\", \"or\", \"because\", \"as\", \"until\", \"while\", \"of\", \"at\", \"by\", \"for\", \"with\", \"about\", \"against\", \"between\", \"into\", \"through\", \"during\", \"before\", \"after\", \"above\", \"below\", \"to\", \"from\", \"up\", \"down\", \"in\", \"out\", \"on\", \"off\", \"over\", \"under\", \"again\", \"further\", \"then\", \"once\", \"here\", \"there\", \"when\", \"where\", \"why\", \"how\", \"all\", \"any\", \"both\", \"each\", \"few\", \"more\", \"most\", \"other\", \"some\", \"such\", \"no\", \"nor\", \"not\", \"only\", \"own\", \"same\", \"so\", \"than\", \"too\", \"very\", \"s\", \"t\", \"can\", \"will\", \"just\", \"don\", \"should\", \"now\"]"
   ]
  },
  {
   "cell_type": "code",
   "execution_count": 5,
   "metadata": {},
   "outputs": [],
   "source": [
    "data = []\n",
    "for i in range(len(df)):\n",
    "    data.append(df[i][\"body\"])"
   ]
  },
  {
   "cell_type": "code",
   "execution_count": 6,
   "metadata": {},
   "outputs": [
    {
     "name": "stdout",
     "output_type": "stream",
     "text": [
      "7804116\n"
     ]
    }
   ],
   "source": [
    "def list_tokens(Data):\n",
    "    \"\"\"\n",
    "    This function will convert Articles into list of tokens(either alpha or numeric)\n",
    "    \n",
    "    arguments:\n",
    "        input_text: \"Data\" of type \"pandas Dataframe\". \n",
    "                    \n",
    "    return:\n",
    "        value: \"list_of_tokens\" after splitting all the articles in \n",
    "                \"Processed_Content\" attribute into list of tokens.\n",
    "        \n",
    "    Example:\n",
    "    Input : This is a nice place to live. \n",
    "    Output : ['This', 'is', 'a', 'nice', 'place', 'to', 'live']\n",
    "    \"\"\"\n",
    "    list_of_articles = []\n",
    "    # For each article in Processed_Content\n",
    "    for article in Data:\n",
    "        # split each article into tokens of words either alpha or numeric (not a single punctuation)\n",
    "        tokens = re.findall(\"[\\w']+\", article) # [\\w]+ --> Checks for more than one occurrence of words which are either alpha or numeric.\n",
    "        # Appending each list of tokens for each article.\n",
    "        list_of_articles.append(tokens)  \n",
    "    # Unlisting list of list elements to only one list having all the tokens for each & every article.\n",
    "    list_of_tokens = [item for items in list_of_articles for item in items]\n",
    "    return list_of_tokens\n",
    "list_of_tokens = list_tokens(data)\n",
    "print(len(list_of_tokens))"
   ]
  },
  {
   "cell_type": "code",
   "execution_count": 7,
   "metadata": {},
   "outputs": [],
   "source": [
    "def initialize_ngram_finder(list_of_tokens):\n",
    "    \"\"\"\n",
    "    This function will initialize ngram finders for both bigrams & trigrams.\n",
    "    \n",
    "    arguments:\n",
    "        input_text: \"list_of_tokens\" of type \"list\" containing all alphanum tokens for each article.\n",
    "                    \n",
    "    return:\n",
    "        value: \"bigrams\", \"trigrams\", \"bigramFinder\", \"trigramFinder\"\n",
    "        \n",
    "    \"\"\"\n",
    "    # A number of standard association\n",
    "    # measures are provided in BigramAssocMeasures and TrigramAssocMeasures.\n",
    "    bigrams = nltk.collocations.BigramAssocMeasures()\n",
    "    trigrams = nltk.collocations.TrigramAssocMeasures()\n",
    "    \n",
    "    # BigramCollocationFinder --> A tool for the finding and ranking of Bigram collocations or other\n",
    "    # association measures. It is often useful to use from_words() rather than\n",
    "    # constructing an instance directly.\n",
    "    bigramFinder = nltk.collocations.BigramCollocationFinder.from_words(list_of_tokens)\n",
    "    # TrigramCollocationFinder --> A tool for the finding and ranking of trigram collocations or other\n",
    "    # association measures. It is often useful to use from_words() rather than\n",
    "    # constructing an instance directly.\n",
    "    trigramFinder = nltk.collocations.TrigramCollocationFinder.from_words(list_of_tokens)\n",
    "    return bigrams, trigrams, bigramFinder, trigramFinder\n",
    "bigrams, trigrams, bigramFinder, trigramFinder = initialize_ngram_finder(list_of_tokens)"
   ]
  },
  {
   "cell_type": "code",
   "execution_count": 8,
   "metadata": {},
   "outputs": [
    {
     "data": {
      "text/plain": [
       "1775136"
      ]
     },
     "execution_count": 8,
     "metadata": {},
     "output_type": "execute_result"
    }
   ],
   "source": [
    "def freq_counting_bigram(bigramFinder):\n",
    "    \"\"\"\n",
    "    This function will count how many times adjacent words co-occurs as bigrams.\n",
    "    \n",
    "    arguments:\n",
    "        input_text: \"bigramFinder\" of type \"nltk.collocations.BigramCollocationFinder\". \n",
    "                    \n",
    "    return:\n",
    "        value: \"bigramFreqTable\" of type \"pandas Dataframe\" \n",
    "                containing bigrams and their corresponding frequencies.\n",
    "        \n",
    "    \"\"\"\n",
    "    # Generate list of bigrams w.r.t their frequency.\n",
    "    bigram_freq = bigramFinder.ngram_fd.items()\n",
    "    # Create Dataframe having bigrams as one column & their corresponding frequency as other column \n",
    "    # sorted in descending order of frequency.\n",
    "    bigramFreqTable = pd.DataFrame(list(bigram_freq), columns=['bigram','freq']).sort_values(by='freq', ascending=False)\n",
    "    freq_bi = bigramFreqTable[:100].bigram.values\n",
    "    return bigramFreqTable, freq_bi\n",
    "\n",
    "bigramFreqTable, freq_bi = freq_counting_bigram(bigramFinder)\n",
    "bigramFreqTable.head(10).reset_index(drop=True)\n",
    "len(bigramFreqTable)"
   ]
  },
  {
   "cell_type": "code",
   "execution_count": 9,
   "metadata": {},
   "outputs": [
    {
     "data": {
      "text/html": [
       "<div>\n",
       "<style scoped>\n",
       "    .dataframe tbody tr th:only-of-type {\n",
       "        vertical-align: middle;\n",
       "    }\n",
       "\n",
       "    .dataframe tbody tr th {\n",
       "        vertical-align: top;\n",
       "    }\n",
       "\n",
       "    .dataframe thead th {\n",
       "        text-align: right;\n",
       "    }\n",
       "</style>\n",
       "<table border=\"1\" class=\"dataframe\">\n",
       "  <thead>\n",
       "    <tr style=\"text-align: right;\">\n",
       "      <th></th>\n",
       "      <th>bigram</th>\n",
       "      <th>freq</th>\n",
       "    </tr>\n",
       "  </thead>\n",
       "  <tbody>\n",
       "    <tr>\n",
       "      <th>250</th>\n",
       "      <td>(of, the)</td>\n",
       "      <td>41851</td>\n",
       "    </tr>\n",
       "    <tr>\n",
       "      <th>105</th>\n",
       "      <td>(in, the)</td>\n",
       "      <td>30057</td>\n",
       "    </tr>\n",
       "    <tr>\n",
       "      <th>706</th>\n",
       "      <td>(to, the)</td>\n",
       "      <td>21924</td>\n",
       "    </tr>\n",
       "    <tr>\n",
       "      <th>445</th>\n",
       "      <td>(on, the)</td>\n",
       "      <td>14198</td>\n",
       "    </tr>\n",
       "    <tr>\n",
       "      <th>264</th>\n",
       "      <td>(sexual, assault)</td>\n",
       "      <td>12614</td>\n",
       "    </tr>\n",
       "    <tr>\n",
       "      <th>...</th>\n",
       "      <td>...</td>\n",
       "      <td>...</td>\n",
       "    </tr>\n",
       "    <tr>\n",
       "      <th>409754</th>\n",
       "      <td>(distressed, if)</td>\n",
       "      <td>1</td>\n",
       "    </tr>\n",
       "    <tr>\n",
       "      <th>409753</th>\n",
       "      <td>(be, distressed)</td>\n",
       "      <td>1</td>\n",
       "    </tr>\n",
       "    <tr>\n",
       "      <th>409746</th>\n",
       "      <td>(yael3, at)</td>\n",
       "      <td>1</td>\n",
       "    </tr>\n",
       "    <tr>\n",
       "      <th>409745</th>\n",
       "      <td>(at, yael3)</td>\n",
       "      <td>1</td>\n",
       "    </tr>\n",
       "    <tr>\n",
       "      <th>1775135</th>\n",
       "      <td>(of, Send)</td>\n",
       "      <td>1</td>\n",
       "    </tr>\n",
       "  </tbody>\n",
       "</table>\n",
       "<p>1775136 rows × 2 columns</p>\n",
       "</div>"
      ],
      "text/plain": [
       "                    bigram   freq\n",
       "250              (of, the)  41851\n",
       "105              (in, the)  30057\n",
       "706              (to, the)  21924\n",
       "445              (on, the)  14198\n",
       "264      (sexual, assault)  12614\n",
       "...                    ...    ...\n",
       "409754    (distressed, if)      1\n",
       "409753    (be, distressed)      1\n",
       "409746         (yael3, at)      1\n",
       "409745         (at, yael3)      1\n",
       "1775135         (of, Send)      1\n",
       "\n",
       "[1775136 rows x 2 columns]"
      ]
     },
     "execution_count": 9,
     "metadata": {},
     "output_type": "execute_result"
    }
   ],
   "source": [
    "bigramFreqTable"
   ]
  },
  {
   "cell_type": "code",
   "execution_count": 10,
   "metadata": {},
   "outputs": [],
   "source": [
    "#function to filter for ADJ/NN bigrams\n",
    "def rightTypesBi(ngram):\n",
    "    \"\"\"\n",
    "    This function will filter out all nouns, pronouns, articles that may occur \n",
    "    while generating bigrams by checking & setting values to false\n",
    "    if the pairs in tuple contains any pronouns, articles, etc. \n",
    "    \n",
    "    arguments:\n",
    "        input_text: \"ngram\" of type \"tuple\" of Dataframe.\n",
    "                    \n",
    "    return:\n",
    "        value: True, if tags corresponding to each words in the tuple present in the acceptable_types.\n",
    "               False, if tags corresponding to each words in the tuple do not present in the acceptable_types or second_type.\n",
    "               False, if there are pronounce & spaces in passed tuple \"ngrams\".\n",
    "               False, if words in passed tuple \"ngrams\" are StopWords.\n",
    "        \n",
    "    \"\"\"\n",
    "    \n",
    "    # If there is pronounce, spaces as word in passed tuple \"ngram\", return False\n",
    "    if '-pron-' in ngram or '' in ngram or ' 'in ngram or 't' in ngram:\n",
    "        return False\n",
    "    # For every word in passed tuple \"ngram\", checks whether that word is present in english stopwords and return False.\n",
    "    for word in ngram:\n",
    "        if word in en_stopwords:\n",
    "            return False\n",
    "    # tags for adjective, Nouns & their types\n",
    "    acceptable_types = ('JJ', 'JJR', 'JJS', 'NN', 'NNS', 'NNP', 'NNPS')\n",
    "    second_type = ('NN', 'NNS', 'NNP', 'NNPS')\n",
    "    # Parts of speech tagging corresponding to each word in passed tuple.\n",
    "    tags = nltk.pos_tag(ngram) #pos_tag() --> is a function of nltk library that is used to tag words \n",
    "    # corresponding to their respective parts of speech.\n",
    "    # Check if the tags corresponding to each words in the tuple are present in \"acceptable_types\" & \"second_type\".\n",
    "    if tags[0][1] in acceptable_types and tags[1][1] in second_type:\n",
    "        return True\n",
    "    else:\n",
    "        return False"
   ]
  },
  {
   "cell_type": "code",
   "execution_count": 11,
   "metadata": {},
   "outputs": [
    {
     "data": {
      "text/plain": [
       "485889"
      ]
     },
     "execution_count": 11,
     "metadata": {},
     "output_type": "execute_result"
    }
   ],
   "source": [
    "#Function for filter bigrams.\n",
    "def filter_freq_bigrams(bigramFreqTable):\n",
    "    \"\"\"\n",
    "    This function will check for tags of each word present in tuple of the passed Dataframe.\n",
    "    \n",
    "    arguments:\n",
    "        input_text: \"bigramFreqTable\" of type \"pandas Dataframe\". \n",
    "                    \n",
    "    return:\n",
    "        value: \"filtered_bi\" of type \"pandas Dataframe\" containing filtered bigrams & their respective frequencies\n",
    "        & \"freq_bi\" of type \"array\" containing only values of bigrams.\n",
    "        \n",
    "    \"\"\"\n",
    "    # Pass each tuple of Passed Dataframe to function \"rightTypesBi()\", to filter out those tuples \n",
    "    # which do not contain any nouns, pronouns, articles.\n",
    "    filtered_bi = bigramFreqTable[bigramFreqTable.bigram.map(lambda x: rightTypesBi(x))] \n",
    "    # map function is used to map iterable with that of passed function. Iterable is tuple here. function is \"rightTypes()\"\n",
    "    # Filtered bigrams\n",
    "    freq_bi_filter = filtered_bi[:100].bigram.values # Getting top 100 filtered bigrams.\n",
    "    return filtered_bi, freq_bi_filter\n",
    "\n",
    "filtered_bi, freq_bi_filter = filter_freq_bigrams(bigramFreqTable)\n",
    "len(filtered_bi)"
   ]
  },
  {
   "cell_type": "code",
   "execution_count": 12,
   "metadata": {},
   "outputs": [
    {
     "data": {
      "text/html": [
       "<div>\n",
       "<style scoped>\n",
       "    .dataframe tbody tr th:only-of-type {\n",
       "        vertical-align: middle;\n",
       "    }\n",
       "\n",
       "    .dataframe tbody tr th {\n",
       "        vertical-align: top;\n",
       "    }\n",
       "\n",
       "    .dataframe thead th {\n",
       "        text-align: right;\n",
       "    }\n",
       "</style>\n",
       "<table border=\"1\" class=\"dataframe\">\n",
       "  <thead>\n",
       "    <tr style=\"text-align: right;\">\n",
       "      <th></th>\n",
       "      <th>bigram</th>\n",
       "      <th>freq</th>\n",
       "    </tr>\n",
       "  </thead>\n",
       "  <tbody>\n",
       "    <tr>\n",
       "      <th>264</th>\n",
       "      <td>(sexual, assault)</td>\n",
       "      <td>12614</td>\n",
       "    </tr>\n",
       "    <tr>\n",
       "      <th>30006</th>\n",
       "      <td>(Title, IX)</td>\n",
       "      <td>3247</td>\n",
       "    </tr>\n",
       "    <tr>\n",
       "      <th>8344</th>\n",
       "      <td>(sexual, misconduct)</td>\n",
       "      <td>3059</td>\n",
       "    </tr>\n",
       "    <tr>\n",
       "      <th>6789</th>\n",
       "      <td>(U, S)</td>\n",
       "      <td>2474</td>\n",
       "    </tr>\n",
       "    <tr>\n",
       "      <th>1143</th>\n",
       "      <td>(sexual, violence)</td>\n",
       "      <td>2431</td>\n",
       "    </tr>\n",
       "    <tr>\n",
       "      <th>...</th>\n",
       "      <td>...</td>\n",
       "      <td>...</td>\n",
       "    </tr>\n",
       "    <tr>\n",
       "      <th>409739</th>\n",
       "      <td>(optimist, Lippey)</td>\n",
       "      <td>1</td>\n",
       "    </tr>\n",
       "    <tr>\n",
       "      <th>409742</th>\n",
       "      <td>(Contact, Yael)</td>\n",
       "      <td>1</td>\n",
       "    </tr>\n",
       "    <tr>\n",
       "      <th>409743</th>\n",
       "      <td>(Yael, Lederman)</td>\n",
       "      <td>1</td>\n",
       "    </tr>\n",
       "    <tr>\n",
       "      <th>409805</th>\n",
       "      <td>(single, number)</td>\n",
       "      <td>1</td>\n",
       "    </tr>\n",
       "    <tr>\n",
       "      <th>409783</th>\n",
       "      <td>(unacceptable, findings)</td>\n",
       "      <td>1</td>\n",
       "    </tr>\n",
       "  </tbody>\n",
       "</table>\n",
       "<p>485889 rows × 2 columns</p>\n",
       "</div>"
      ],
      "text/plain": [
       "                          bigram   freq\n",
       "264            (sexual, assault)  12614\n",
       "30006                (Title, IX)   3247\n",
       "8344        (sexual, misconduct)   3059\n",
       "6789                      (U, S)   2474\n",
       "1143          (sexual, violence)   2431\n",
       "...                          ...    ...\n",
       "409739        (optimist, Lippey)      1\n",
       "409742           (Contact, Yael)      1\n",
       "409743          (Yael, Lederman)      1\n",
       "409805          (single, number)      1\n",
       "409783  (unacceptable, findings)      1\n",
       "\n",
       "[485889 rows x 2 columns]"
      ]
     },
     "execution_count": 12,
     "metadata": {},
     "output_type": "execute_result"
    }
   ],
   "source": [
    "filtered_bi"
   ]
  },
  {
   "cell_type": "code",
   "execution_count": 31,
   "metadata": {},
   "outputs": [],
   "source": [
    "pd.DataFrame(filtered_bi).to_csv('bi-grams.csv')"
   ]
  },
  {
   "cell_type": "code",
   "execution_count": 13,
   "metadata": {},
   "outputs": [],
   "source": [
    "n_grams = filtered_bi[\"bigram\"]\n",
    "n_grams_use = []\n",
    "\n",
    "for item in n_grams:\n",
    "    n_grams_use.append(item)"
   ]
  },
  {
   "cell_type": "code",
   "execution_count": 14,
   "metadata": {},
   "outputs": [
    {
     "data": {
      "text/plain": [
       "485889"
      ]
     },
     "execution_count": 14,
     "metadata": {},
     "output_type": "execute_result"
    }
   ],
   "source": [
    "len(n_grams_use)"
   ]
  },
  {
   "cell_type": "code",
   "execution_count": 17,
   "metadata": {},
   "outputs": [],
   "source": [
    "n_grams_to_use = []\n",
    "for item in n_grams_use:\n",
    "    n_grams_to_use.append(item[0] + \" \" + item[1])"
   ]
  },
  {
   "cell_type": "code",
   "execution_count": 18,
   "metadata": {},
   "outputs": [
    {
     "name": "stdout",
     "output_type": "stream",
     "text": [
      "sexual assault\n",
      "['sexual', 'assault']\n"
     ]
    }
   ],
   "source": [
    "def split_nGrams(n_grams_to_use):\n",
    "    ngrams_splited = [each.split() for each in n_grams_to_use]\n",
    "    return ngrams_splited\n",
    "\n",
    "ngrams_splited = split_nGrams(n_grams_to_use)\n",
    "len(ngrams_splited)\n",
    "print(n_grams_to_use[0])\n",
    "print(ngrams_splited[0])"
   ]
  },
  {
   "cell_type": "markdown",
   "metadata": {},
   "source": [
    "Taking n-grams and converting to vectors"
   ]
  },
  {
   "cell_type": "code",
   "execution_count": 23,
   "metadata": {},
   "outputs": [],
   "source": [
    "import numpy as np"
   ]
  },
  {
   "cell_type": "code",
   "execution_count": null,
   "metadata": {},
   "outputs": [],
   "source": [
    "#  function to read glove vectors from text file\n",
    "def read_glove(glove_path):\n",
    "    \"\"\"\n",
    "    This function will read glove data from text file and do the following:\n",
    "    1. prepare dictionary of words and vectors\n",
    "    2. prepare dictionary of words and index\n",
    "    3. prepare dictionary of index and words\n",
    "    \"\"\"\n",
    "    # Read word_embedding file stored on glove_path specified.\n",
    "    with open(glove_path, 'r', encoding='utf-8')as inp_file:\n",
    "        \n",
    "        words = set()\n",
    "        word_to_vec_map = {}\n",
    "        \n",
    "        # For every line in embedding file which contains the word & the corresponding vector.\n",
    "        for line in inp_file:\n",
    "            # convert each line in embedding file to a list of elements.\n",
    "            line = line.strip().split()\n",
    "\n",
    "            # Get first element of the list, i.e., word of each list.\n",
    "            curr_word = line[0]\n",
    "            # Add the distinct set of words.\n",
    "            words.add(curr_word)\n",
    "            # Create dictionary that will map current word to that of it's vector representation.\n",
    "            word_to_vec_map[curr_word] = np.array(line[1:], dtype=np.float64)\n",
    "\n",
    "        i=1\n",
    "        words_to_index = {}\n",
    "        index_to_words = {}\n",
    "        # For every word in sorted dictionary of words\n",
    "        for w in sorted(words):\n",
    "            # map index to each words\n",
    "            words_to_index[w]=i\n",
    "            # map words to each index\n",
    "            index_to_words[i]=w\n",
    "            i += 1\n",
    "        \n",
    "        return words_to_index, index_to_words, word_to_vec_map"
   ]
  },
  {
   "cell_type": "code",
   "execution_count": 65,
   "metadata": {},
   "outputs": [],
   "source": [
    "def average_word_vectors(list_words, model, vocabulary, num_features):\n",
    "    \"\"\"\n",
    "    This function will take each tokenized sentence having bigrams or trigrams, \n",
    "    model = the mapping_of_word_to_vector dictionary, vocabulary = unique set of keys(words) present in model,\n",
    "    num_features = 50\n",
    "    \n",
    "    This function will return the average of feature vector for each word present in list_words.\n",
    "    \"\"\"\n",
    "    # Created array of zeros (type float) of size num_features, i.e., 50.\n",
    "    feature_vector = np.zeros((num_features,),dtype=\"float64\")\n",
    "    nwords = 0.\n",
    "    # Put it in try block so that if any exception occur, it will be dealt by below exception block.\n",
    "#     try:\n",
    "        # Check if word is in passed list_of_words or not.\n",
    "    for word in list_words:\n",
    "        # Check if word is in general vocabulary or not (the unique set of words in word embedding).\n",
    "        if word in vocabulary:\n",
    "            # Increment number_of_words\n",
    "            nwords = nwords + 1\n",
    "            # add vector array of corresponding key in model which matches the passed word.\n",
    "            feature_vector = np.add(feature_vector, model[word])\n",
    "\n",
    "    if nwords:\n",
    "        # Take average of feature_vector by dividing with total number of words\n",
    "        feature_vector = np.divide(feature_vector, nwords)\n",
    "\n",
    "    return feature_vector\n",
    "    \n",
    "#     except:\n",
    "#         # If the exception occurs, while the word isn't found in vocabulary, it will return the array of zeros\n",
    "#         return np.zeros((num_features,),dtype=\"float64\")\n",
    "    \n",
    "\n",
    "    \n",
    "def averaged_word_vectorizer(corpus, model, num_features):\n",
    "    \"\"\"\n",
    "    This function is taking corpus of bigrams & trigrams, w2v mappings, num of features as a input arguments.\n",
    "    and returning array of features after taking average using average_word_vectors() function.\n",
    "    \"\"\"\n",
    "    # Get the unique keys out of word_to_vector_map dictionary.\n",
    "    vocabulary = set(model.keys())\n",
    "    # Call function average_word_vectors which is returning with averaged vectors for each word in tokenized sentence.\n",
    "    features = [average_word_vectors(tokenized_sentence, model, vocabulary, num_features)\n",
    "                    for tokenized_sentence in corpus]\n",
    "    return np.array(features)"
   ]
  },
  {
   "cell_type": "code",
   "execution_count": 40,
   "metadata": {},
   "outputs": [],
   "source": [
    "# load glove vectors from pre-trained model domain dataset\n",
    "glove_path = location + \"\\domain_embeddings.txt\"\n",
    "new_words_to_index, new_index_to_words, new_word_to_vec_map  = read_glove(glove_path)"
   ]
  },
  {
   "cell_type": "code",
   "execution_count": 66,
   "metadata": {},
   "outputs": [
    {
     "data": {
      "text/plain": [
       "(485889, 300)"
      ]
     },
     "execution_count": 66,
     "metadata": {},
     "output_type": "execute_result"
    }
   ],
   "source": [
    "w2v_feature_array = averaged_word_vectorizer(corpus=ngrams_splited, model=new_word_to_vec_map,\n",
    "                                             num_features=300)\n",
    "w2v_feature_array.shape"
   ]
  },
  {
   "cell_type": "code",
   "execution_count": 67,
   "metadata": {},
   "outputs": [
    {
     "data": {
      "text/html": [
       "<div>\n",
       "<style scoped>\n",
       "    .dataframe tbody tr th:only-of-type {\n",
       "        vertical-align: middle;\n",
       "    }\n",
       "\n",
       "    .dataframe tbody tr th {\n",
       "        vertical-align: top;\n",
       "    }\n",
       "\n",
       "    .dataframe thead th {\n",
       "        text-align: right;\n",
       "    }\n",
       "</style>\n",
       "<table border=\"1\" class=\"dataframe\">\n",
       "  <thead>\n",
       "    <tr style=\"text-align: right;\">\n",
       "      <th></th>\n",
       "      <th>0</th>\n",
       "      <th>1</th>\n",
       "      <th>2</th>\n",
       "      <th>3</th>\n",
       "      <th>4</th>\n",
       "      <th>5</th>\n",
       "      <th>6</th>\n",
       "      <th>7</th>\n",
       "      <th>8</th>\n",
       "      <th>9</th>\n",
       "      <th>...</th>\n",
       "      <th>290</th>\n",
       "      <th>291</th>\n",
       "      <th>292</th>\n",
       "      <th>293</th>\n",
       "      <th>294</th>\n",
       "      <th>295</th>\n",
       "      <th>296</th>\n",
       "      <th>297</th>\n",
       "      <th>298</th>\n",
       "      <th>299</th>\n",
       "    </tr>\n",
       "  </thead>\n",
       "  <tbody>\n",
       "    <tr>\n",
       "      <th>sexual assault</th>\n",
       "      <td>-0.190680</td>\n",
       "      <td>0.081750</td>\n",
       "      <td>-0.241839</td>\n",
       "      <td>0.376119</td>\n",
       "      <td>0.133921</td>\n",
       "      <td>-0.336730</td>\n",
       "      <td>-2.51040</td>\n",
       "      <td>0.43751</td>\n",
       "      <td>-0.874235</td>\n",
       "      <td>-0.583520</td>\n",
       "      <td>...</td>\n",
       "      <td>-0.33575</td>\n",
       "      <td>-0.324060</td>\n",
       "      <td>-0.256266</td>\n",
       "      <td>0.049640</td>\n",
       "      <td>-0.336665</td>\n",
       "      <td>0.212866</td>\n",
       "      <td>0.155680</td>\n",
       "      <td>-0.340450</td>\n",
       "      <td>-0.286976</td>\n",
       "      <td>-0.021874</td>\n",
       "    </tr>\n",
       "    <tr>\n",
       "      <th>Title IX</th>\n",
       "      <td>0.000000</td>\n",
       "      <td>0.000000</td>\n",
       "      <td>0.000000</td>\n",
       "      <td>0.000000</td>\n",
       "      <td>0.000000</td>\n",
       "      <td>0.000000</td>\n",
       "      <td>0.00000</td>\n",
       "      <td>0.00000</td>\n",
       "      <td>0.000000</td>\n",
       "      <td>0.000000</td>\n",
       "      <td>...</td>\n",
       "      <td>0.00000</td>\n",
       "      <td>0.000000</td>\n",
       "      <td>0.000000</td>\n",
       "      <td>0.000000</td>\n",
       "      <td>0.000000</td>\n",
       "      <td>0.000000</td>\n",
       "      <td>0.000000</td>\n",
       "      <td>0.000000</td>\n",
       "      <td>0.000000</td>\n",
       "      <td>0.000000</td>\n",
       "    </tr>\n",
       "    <tr>\n",
       "      <th>sexual misconduct</th>\n",
       "      <td>-0.199300</td>\n",
       "      <td>-0.127725</td>\n",
       "      <td>-0.576860</td>\n",
       "      <td>0.635425</td>\n",
       "      <td>0.245730</td>\n",
       "      <td>-0.205355</td>\n",
       "      <td>-2.27885</td>\n",
       "      <td>0.57876</td>\n",
       "      <td>-0.760600</td>\n",
       "      <td>-0.718755</td>\n",
       "      <td>...</td>\n",
       "      <td>-0.30345</td>\n",
       "      <td>-0.447220</td>\n",
       "      <td>-0.179876</td>\n",
       "      <td>-0.100963</td>\n",
       "      <td>0.046456</td>\n",
       "      <td>0.113137</td>\n",
       "      <td>0.319360</td>\n",
       "      <td>-0.309070</td>\n",
       "      <td>-0.288171</td>\n",
       "      <td>-0.260105</td>\n",
       "    </tr>\n",
       "    <tr>\n",
       "      <th>U S</th>\n",
       "      <td>0.000000</td>\n",
       "      <td>0.000000</td>\n",
       "      <td>0.000000</td>\n",
       "      <td>0.000000</td>\n",
       "      <td>0.000000</td>\n",
       "      <td>0.000000</td>\n",
       "      <td>0.00000</td>\n",
       "      <td>0.00000</td>\n",
       "      <td>0.000000</td>\n",
       "      <td>0.000000</td>\n",
       "      <td>...</td>\n",
       "      <td>0.00000</td>\n",
       "      <td>0.000000</td>\n",
       "      <td>0.000000</td>\n",
       "      <td>0.000000</td>\n",
       "      <td>0.000000</td>\n",
       "      <td>0.000000</td>\n",
       "      <td>0.000000</td>\n",
       "      <td>0.000000</td>\n",
       "      <td>0.000000</td>\n",
       "      <td>0.000000</td>\n",
       "    </tr>\n",
       "    <tr>\n",
       "      <th>sexual violence</th>\n",
       "      <td>-0.026115</td>\n",
       "      <td>0.039620</td>\n",
       "      <td>-0.055285</td>\n",
       "      <td>0.529330</td>\n",
       "      <td>0.024445</td>\n",
       "      <td>-0.172530</td>\n",
       "      <td>-3.14895</td>\n",
       "      <td>0.69064</td>\n",
       "      <td>-0.466080</td>\n",
       "      <td>-0.486725</td>\n",
       "      <td>...</td>\n",
       "      <td>-0.25753</td>\n",
       "      <td>-0.209324</td>\n",
       "      <td>-0.023116</td>\n",
       "      <td>-0.335120</td>\n",
       "      <td>-0.079239</td>\n",
       "      <td>-0.085924</td>\n",
       "      <td>0.349745</td>\n",
       "      <td>-0.111275</td>\n",
       "      <td>-0.283656</td>\n",
       "      <td>0.112226</td>\n",
       "    </tr>\n",
       "  </tbody>\n",
       "</table>\n",
       "<p>5 rows × 300 columns</p>\n",
       "</div>"
      ],
      "text/plain": [
       "                        0         1         2         3         4         5    \\\n",
       "sexual assault    -0.190680  0.081750 -0.241839  0.376119  0.133921 -0.336730   \n",
       "Title IX           0.000000  0.000000  0.000000  0.000000  0.000000  0.000000   \n",
       "sexual misconduct -0.199300 -0.127725 -0.576860  0.635425  0.245730 -0.205355   \n",
       "U S                0.000000  0.000000  0.000000  0.000000  0.000000  0.000000   \n",
       "sexual violence   -0.026115  0.039620 -0.055285  0.529330  0.024445 -0.172530   \n",
       "\n",
       "                       6        7         8         9    ...      290  \\\n",
       "sexual assault    -2.51040  0.43751 -0.874235 -0.583520  ... -0.33575   \n",
       "Title IX           0.00000  0.00000  0.000000  0.000000  ...  0.00000   \n",
       "sexual misconduct -2.27885  0.57876 -0.760600 -0.718755  ... -0.30345   \n",
       "U S                0.00000  0.00000  0.000000  0.000000  ...  0.00000   \n",
       "sexual violence   -3.14895  0.69064 -0.466080 -0.486725  ... -0.25753   \n",
       "\n",
       "                        291       292       293       294       295       296  \\\n",
       "sexual assault    -0.324060 -0.256266  0.049640 -0.336665  0.212866  0.155680   \n",
       "Title IX           0.000000  0.000000  0.000000  0.000000  0.000000  0.000000   \n",
       "sexual misconduct -0.447220 -0.179876 -0.100963  0.046456  0.113137  0.319360   \n",
       "U S                0.000000  0.000000  0.000000  0.000000  0.000000  0.000000   \n",
       "sexual violence   -0.209324 -0.023116 -0.335120 -0.079239 -0.085924  0.349745   \n",
       "\n",
       "                        297       298       299  \n",
       "sexual assault    -0.340450 -0.286976 -0.021874  \n",
       "Title IX           0.000000  0.000000  0.000000  \n",
       "sexual misconduct -0.309070 -0.288171 -0.260105  \n",
       "U S                0.000000  0.000000  0.000000  \n",
       "sexual violence   -0.111275 -0.283656  0.112226  \n",
       "\n",
       "[5 rows x 300 columns]"
      ]
     },
     "execution_count": 67,
     "metadata": {},
     "output_type": "execute_result"
    }
   ],
   "source": [
    "# Create Dataframe\n",
    "df = None\n",
    "df = pd.DataFrame(w2v_feature_array)\n",
    "df.index = n_grams_to_use\n",
    "df.head()"
   ]
  },
  {
   "cell_type": "markdown",
   "metadata": {},
   "source": [
    "Transforming arrays for better results"
   ]
  },
  {
   "cell_type": "code",
   "execution_count": 90,
   "metadata": {},
   "outputs": [
    {
     "ename": "TypeError",
     "evalue": "'(slice(None, None, None), 299)' is an invalid key",
     "output_type": "error",
     "traceback": [
      "\u001b[1;31m---------------------------------------------------------------------------\u001b[0m",
      "\u001b[1;31mTypeError\u001b[0m                                 Traceback (most recent call last)",
      "\u001b[1;32m<ipython-input-90-d661d55c0782>\u001b[0m in \u001b[0;36m<module>\u001b[1;34m\u001b[0m\n\u001b[0;32m      9\u001b[0m         \u001b[1;32mreturn\u001b[0m\u001b[1;33m(\u001b[0m\u001b[1;33m(\u001b[0m\u001b[0mnp\u001b[0m\u001b[1;33m.\u001b[0m\u001b[0mabs\u001b[0m\u001b[1;33m(\u001b[0m\u001b[0mdf\u001b[0m\u001b[1;33m[\u001b[0m\u001b[1;33m:\u001b[0m\u001b[1;33m,\u001b[0m\u001b[0mx\u001b[0m\u001b[1;33m]\u001b[0m \u001b[1;33m-\u001b[0m \u001b[0mmean\u001b[0m\u001b[1;33m[\u001b[0m\u001b[0mx\u001b[0m\u001b[1;33m]\u001b[0m\u001b[1;33m)\u001b[0m \u001b[1;33m>\u001b[0m \u001b[0mstdev\u001b[0m\u001b[1;33m[\u001b[0m\u001b[0mx\u001b[0m\u001b[1;33m]\u001b[0m\u001b[1;33m)\u001b[0m \u001b[1;33m*\u001b[0m \u001b[0mfancy\u001b[0m\u001b[1;33m(\u001b[0m\u001b[0mx\u001b[0m\u001b[1;33m-\u001b[0m\u001b[1;36m1\u001b[0m\u001b[1;33m)\u001b[0m\u001b[1;33m)\u001b[0m\u001b[1;33m\u001b[0m\u001b[1;33m\u001b[0m\u001b[0m\n\u001b[0;32m     10\u001b[0m \u001b[1;33m\u001b[0m\u001b[0m\n\u001b[1;32m---> 11\u001b[1;33m \u001b[0mprint\u001b[0m\u001b[1;33m(\u001b[0m\u001b[0mlen\u001b[0m\u001b[1;33m(\u001b[0m\u001b[0mdf\u001b[0m\u001b[1;33m.\u001b[0m\u001b[0mT\u001b[0m\u001b[1;33m[\u001b[0m\u001b[0mfancy\u001b[0m\u001b[1;33m(\u001b[0m\u001b[1;36m299\u001b[0m\u001b[1;33m)\u001b[0m\u001b[1;33m]\u001b[0m\u001b[1;33m)\u001b[0m\u001b[1;33m)\u001b[0m\u001b[1;33m\u001b[0m\u001b[1;33m\u001b[0m\u001b[0m\n\u001b[0m\u001b[0;32m     12\u001b[0m \u001b[0mprint\u001b[0m\u001b[1;33m(\u001b[0m\u001b[0mlen\u001b[0m\u001b[1;33m(\u001b[0m\u001b[0mdf\u001b[0m\u001b[1;33m)\u001b[0m\u001b[1;33m)\u001b[0m\u001b[1;33m\u001b[0m\u001b[1;33m\u001b[0m\u001b[0m\n",
      "\u001b[1;32m<ipython-input-90-d661d55c0782>\u001b[0m in \u001b[0;36mfancy\u001b[1;34m(x)\u001b[0m\n\u001b[0;32m      7\u001b[0m         \u001b[1;32mreturn\u001b[0m\u001b[1;33m(\u001b[0m\u001b[1;33m(\u001b[0m\u001b[0mnp\u001b[0m\u001b[1;33m.\u001b[0m\u001b[0mabs\u001b[0m\u001b[1;33m(\u001b[0m\u001b[0mdf\u001b[0m\u001b[1;33m[\u001b[0m\u001b[1;33m:\u001b[0m\u001b[1;33m,\u001b[0m\u001b[1;36m0\u001b[0m\u001b[1;33m]\u001b[0m \u001b[1;33m-\u001b[0m \u001b[0mmean\u001b[0m\u001b[1;33m[\u001b[0m\u001b[1;36m0\u001b[0m\u001b[1;33m]\u001b[0m\u001b[1;33m)\u001b[0m \u001b[1;33m>\u001b[0m \u001b[0mstdev\u001b[0m\u001b[1;33m[\u001b[0m\u001b[1;36m0\u001b[0m\u001b[1;33m]\u001b[0m\u001b[1;33m)\u001b[0m\u001b[1;33m)\u001b[0m\u001b[1;33m\u001b[0m\u001b[1;33m\u001b[0m\u001b[0m\n\u001b[0;32m      8\u001b[0m     \u001b[1;32melse\u001b[0m\u001b[1;33m:\u001b[0m\u001b[1;33m\u001b[0m\u001b[1;33m\u001b[0m\u001b[0m\n\u001b[1;32m----> 9\u001b[1;33m         \u001b[1;32mreturn\u001b[0m\u001b[1;33m(\u001b[0m\u001b[1;33m(\u001b[0m\u001b[0mnp\u001b[0m\u001b[1;33m.\u001b[0m\u001b[0mabs\u001b[0m\u001b[1;33m(\u001b[0m\u001b[0mdf\u001b[0m\u001b[1;33m[\u001b[0m\u001b[1;33m:\u001b[0m\u001b[1;33m,\u001b[0m\u001b[0mx\u001b[0m\u001b[1;33m]\u001b[0m \u001b[1;33m-\u001b[0m \u001b[0mmean\u001b[0m\u001b[1;33m[\u001b[0m\u001b[0mx\u001b[0m\u001b[1;33m]\u001b[0m\u001b[1;33m)\u001b[0m \u001b[1;33m>\u001b[0m \u001b[0mstdev\u001b[0m\u001b[1;33m[\u001b[0m\u001b[0mx\u001b[0m\u001b[1;33m]\u001b[0m\u001b[1;33m)\u001b[0m \u001b[1;33m*\u001b[0m \u001b[0mfancy\u001b[0m\u001b[1;33m(\u001b[0m\u001b[0mx\u001b[0m\u001b[1;33m-\u001b[0m\u001b[1;36m1\u001b[0m\u001b[1;33m)\u001b[0m\u001b[1;33m)\u001b[0m\u001b[1;33m\u001b[0m\u001b[1;33m\u001b[0m\u001b[0m\n\u001b[0m\u001b[0;32m     10\u001b[0m \u001b[1;33m\u001b[0m\u001b[0m\n\u001b[0;32m     11\u001b[0m \u001b[0mprint\u001b[0m\u001b[1;33m(\u001b[0m\u001b[0mlen\u001b[0m\u001b[1;33m(\u001b[0m\u001b[0mdf\u001b[0m\u001b[1;33m.\u001b[0m\u001b[0mT\u001b[0m\u001b[1;33m[\u001b[0m\u001b[0mfancy\u001b[0m\u001b[1;33m(\u001b[0m\u001b[1;36m299\u001b[0m\u001b[1;33m)\u001b[0m\u001b[1;33m]\u001b[0m\u001b[1;33m)\u001b[0m\u001b[1;33m)\u001b[0m\u001b[1;33m\u001b[0m\u001b[1;33m\u001b[0m\u001b[0m\n",
      "\u001b[1;32mc:\\users\\wil\\desktop\\getoldtweets\\lib\\site-packages\\pandas\\core\\frame.py\u001b[0m in \u001b[0;36m__getitem__\u001b[1;34m(self, key)\u001b[0m\n\u001b[0;32m   2798\u001b[0m             \u001b[1;32mif\u001b[0m \u001b[0mself\u001b[0m\u001b[1;33m.\u001b[0m\u001b[0mcolumns\u001b[0m\u001b[1;33m.\u001b[0m\u001b[0mnlevels\u001b[0m \u001b[1;33m>\u001b[0m \u001b[1;36m1\u001b[0m\u001b[1;33m:\u001b[0m\u001b[1;33m\u001b[0m\u001b[1;33m\u001b[0m\u001b[0m\n\u001b[0;32m   2799\u001b[0m                 \u001b[1;32mreturn\u001b[0m \u001b[0mself\u001b[0m\u001b[1;33m.\u001b[0m\u001b[0m_getitem_multilevel\u001b[0m\u001b[1;33m(\u001b[0m\u001b[0mkey\u001b[0m\u001b[1;33m)\u001b[0m\u001b[1;33m\u001b[0m\u001b[1;33m\u001b[0m\u001b[0m\n\u001b[1;32m-> 2800\u001b[1;33m             \u001b[0mindexer\u001b[0m \u001b[1;33m=\u001b[0m \u001b[0mself\u001b[0m\u001b[1;33m.\u001b[0m\u001b[0mcolumns\u001b[0m\u001b[1;33m.\u001b[0m\u001b[0mget_loc\u001b[0m\u001b[1;33m(\u001b[0m\u001b[0mkey\u001b[0m\u001b[1;33m)\u001b[0m\u001b[1;33m\u001b[0m\u001b[1;33m\u001b[0m\u001b[0m\n\u001b[0m\u001b[0;32m   2801\u001b[0m             \u001b[1;32mif\u001b[0m \u001b[0mis_integer\u001b[0m\u001b[1;33m(\u001b[0m\u001b[0mindexer\u001b[0m\u001b[1;33m)\u001b[0m\u001b[1;33m:\u001b[0m\u001b[1;33m\u001b[0m\u001b[1;33m\u001b[0m\u001b[0m\n\u001b[0;32m   2802\u001b[0m                 \u001b[0mindexer\u001b[0m \u001b[1;33m=\u001b[0m \u001b[1;33m[\u001b[0m\u001b[0mindexer\u001b[0m\u001b[1;33m]\u001b[0m\u001b[1;33m\u001b[0m\u001b[1;33m\u001b[0m\u001b[0m\n",
      "\u001b[1;32mc:\\users\\wil\\desktop\\getoldtweets\\lib\\site-packages\\pandas\\core\\indexes\\range.py\u001b[0m in \u001b[0;36mget_loc\u001b[1;34m(self, key, method, tolerance)\u001b[0m\n\u001b[0;32m    351\u001b[0m             \u001b[1;32mexcept\u001b[0m \u001b[0mValueError\u001b[0m\u001b[1;33m:\u001b[0m\u001b[1;33m\u001b[0m\u001b[1;33m\u001b[0m\u001b[0m\n\u001b[0;32m    352\u001b[0m                 \u001b[1;32mraise\u001b[0m \u001b[0mKeyError\u001b[0m\u001b[1;33m(\u001b[0m\u001b[0mkey\u001b[0m\u001b[1;33m)\u001b[0m\u001b[1;33m\u001b[0m\u001b[1;33m\u001b[0m\u001b[0m\n\u001b[1;32m--> 353\u001b[1;33m         \u001b[1;32mreturn\u001b[0m \u001b[0msuper\u001b[0m\u001b[1;33m(\u001b[0m\u001b[1;33m)\u001b[0m\u001b[1;33m.\u001b[0m\u001b[0mget_loc\u001b[0m\u001b[1;33m(\u001b[0m\u001b[0mkey\u001b[0m\u001b[1;33m,\u001b[0m \u001b[0mmethod\u001b[0m\u001b[1;33m=\u001b[0m\u001b[0mmethod\u001b[0m\u001b[1;33m,\u001b[0m \u001b[0mtolerance\u001b[0m\u001b[1;33m=\u001b[0m\u001b[0mtolerance\u001b[0m\u001b[1;33m)\u001b[0m\u001b[1;33m\u001b[0m\u001b[1;33m\u001b[0m\u001b[0m\n\u001b[0m\u001b[0;32m    354\u001b[0m \u001b[1;33m\u001b[0m\u001b[0m\n\u001b[0;32m    355\u001b[0m     \u001b[1;33m@\u001b[0m\u001b[0mAppender\u001b[0m\u001b[1;33m(\u001b[0m\u001b[0m_index_shared_docs\u001b[0m\u001b[1;33m[\u001b[0m\u001b[1;34m\"get_indexer\"\u001b[0m\u001b[1;33m]\u001b[0m\u001b[1;33m)\u001b[0m\u001b[1;33m\u001b[0m\u001b[1;33m\u001b[0m\u001b[0m\n",
      "\u001b[1;32mc:\\users\\wil\\desktop\\getoldtweets\\lib\\site-packages\\pandas\\core\\indexes\\base.py\u001b[0m in \u001b[0;36mget_loc\u001b[1;34m(self, key, method, tolerance)\u001b[0m\n\u001b[0;32m   2644\u001b[0m                 )\n\u001b[0;32m   2645\u001b[0m             \u001b[1;32mtry\u001b[0m\u001b[1;33m:\u001b[0m\u001b[1;33m\u001b[0m\u001b[1;33m\u001b[0m\u001b[0m\n\u001b[1;32m-> 2646\u001b[1;33m                 \u001b[1;32mreturn\u001b[0m \u001b[0mself\u001b[0m\u001b[1;33m.\u001b[0m\u001b[0m_engine\u001b[0m\u001b[1;33m.\u001b[0m\u001b[0mget_loc\u001b[0m\u001b[1;33m(\u001b[0m\u001b[0mkey\u001b[0m\u001b[1;33m)\u001b[0m\u001b[1;33m\u001b[0m\u001b[1;33m\u001b[0m\u001b[0m\n\u001b[0m\u001b[0;32m   2647\u001b[0m             \u001b[1;32mexcept\u001b[0m \u001b[0mKeyError\u001b[0m\u001b[1;33m:\u001b[0m\u001b[1;33m\u001b[0m\u001b[1;33m\u001b[0m\u001b[0m\n\u001b[0;32m   2648\u001b[0m                 \u001b[1;32mreturn\u001b[0m \u001b[0mself\u001b[0m\u001b[1;33m.\u001b[0m\u001b[0m_engine\u001b[0m\u001b[1;33m.\u001b[0m\u001b[0mget_loc\u001b[0m\u001b[1;33m(\u001b[0m\u001b[0mself\u001b[0m\u001b[1;33m.\u001b[0m\u001b[0m_maybe_cast_indexer\u001b[0m\u001b[1;33m(\u001b[0m\u001b[0mkey\u001b[0m\u001b[1;33m)\u001b[0m\u001b[1;33m)\u001b[0m\u001b[1;33m\u001b[0m\u001b[1;33m\u001b[0m\u001b[0m\n",
      "\u001b[1;32mpandas\\_libs\\index.pyx\u001b[0m in \u001b[0;36mpandas._libs.index.IndexEngine.get_loc\u001b[1;34m()\u001b[0m\n",
      "\u001b[1;32mpandas\\_libs\\index.pyx\u001b[0m in \u001b[0;36mpandas._libs.index.IndexEngine.get_loc\u001b[1;34m()\u001b[0m\n",
      "\u001b[1;31mTypeError\u001b[0m: '(slice(None, None, None), 299)' is an invalid key"
     ]
    }
   ],
   "source": [
    "#Trying to go back and remove outliers\n",
    "\n",
    "mean, stdev = np.mean(df, axis = 0), np.std(df, axis = 0)\n",
    "\n",
    "def fancy (x):\n",
    "    if x == 0:\n",
    "        return((np.abs(df[:,0] - mean[0]) > stdev[0]))\n",
    "    else:\n",
    "        return((np.abs(df[:,x] - mean[x]) > stdev[x]) * fancy(x-1))\n",
    "\n",
    "print(len(df.T[fancy(299)]))\n",
    "print(len(df))"
   ]
  },
  {
   "cell_type": "code",
   "execution_count": 69,
   "metadata": {},
   "outputs": [
    {
     "data": {
      "text/plain": [
       "300"
      ]
     },
     "execution_count": 69,
     "metadata": {},
     "output_type": "execute_result"
    }
   ],
   "source": [
    "from sklearn import preprocessing\n",
    "Transposed_Dataset = df.T\n",
    "Transposed_Dataset.head()\n",
    "# Used preprocessing module of sklearn library to scale data.\n",
    "X_scaled = preprocessing.scale(Transposed_Dataset)\n",
    "len(X_scaled)"
   ]
  },
  {
   "cell_type": "code",
   "execution_count": 70,
   "metadata": {},
   "outputs": [],
   "source": [
    "# I have used StandarScaler() & fit_transform() function of sklearn library to standardize features.\n",
    "from sklearn.preprocessing import StandardScaler\n",
    "X_std = StandardScaler().fit_transform(X_scaled)"
   ]
  },
  {
   "cell_type": "code",
   "execution_count": 71,
   "metadata": {},
   "outputs": [],
   "source": [
    "df_variance = df.var() # Calculating variance for each feature of dataframe\n",
    "df_mean = df.stack().mean() # Calculating mean for each feature of dataframe\n",
    "trans_mean = Transposed_Dataset.stack().mean() # Calculating mean for each feature of transpose\n",
    "trans_variance = Transposed_Dataset.var() # Calculating variance for each feature of transpose\n",
    "df_std = df.stack().std()   # Calculating standard deviation for each feature of dataframe\n",
    "trans_std = Transposed_Dataset.stack().std() # Calculating standard deviation for each feature of transpose"
   ]
  },
  {
   "cell_type": "code",
   "execution_count": 72,
   "metadata": {},
   "outputs": [
    {
     "data": {
      "image/png": "[encoded data removed]",
      "text/plain": [
       "<Figure size 432x288 with 1 Axes>"
      ]
     },
     "metadata": {
      "needs_background": "light"
     },
     "output_type": "display_data"
    }
   ],
   "source": [
    "from scipy.stats import norm\n",
    "import matplotlib.pyplot as plt\n",
    "def kl_divergence(p, q):\n",
    "    return np.sum(np.where(p != 0, p * np.log(p / q), 0))\n",
    "def df_normal_dist():\n",
    "    x = np.arange(-10, 10, 0.001)\n",
    "    dp = norm.pdf(x, df_mean, df_std) \n",
    "    dq = norm.pdf(x, 0, 1) \n",
    "    # Taking KL divergence b/w Dataframe distribution & normal distribution.\n",
    "    plt.title('KL(P||Q) = %1.3f' % kl_divergence(dp, dq))\n",
    "    plt.plot(x, dp)\n",
    "    plt.plot(x, dq, c='red')\n",
    "df_normal_dist()"
   ]
  },
  {
   "cell_type": "markdown",
   "metadata": {},
   "source": [
    "Running the K-Means Algorithm"
   ]
  },
  {
   "cell_type": "code",
   "execution_count": 73,
   "metadata": {},
   "outputs": [],
   "source": [
    "from sklearn.decomposition import PCA\n",
    "from sklearn.cluster import KMeans"
   ]
  },
  {
   "cell_type": "code",
   "execution_count": 74,
   "metadata": {},
   "outputs": [],
   "source": [
    "sklearn_pca = PCA(n_components = 2) # Using PCA to remove cols which has less co-relation\n",
    "Y_sklearn = sklearn_pca.fit_transform(X_std) #fit_transform() is used to scale training data to learn parameters such as \n",
    "# mean & variance of the features of training set and then these parameters are used to scale our testing data.\n",
    "# As concluded using Elbow Method.\n",
    "n_clusters = 2\n",
    "kmeans = KMeans(n_clusters = n_clusters, max_iter=400, algorithm = 'auto')# Partition 'n' no. of observations into 'k' no. of clusters. \n",
    "fitted = kmeans.fit(Y_sklearn) # Fitting k-means model  to feature array\n",
    "prediction = kmeans.predict(Y_sklearn) # predicting clusters class '0' or '1' corresponding to 'n' no. of observations"
   ]
  },
  {
   "cell_type": "code",
   "execution_count": 75,
   "metadata": {},
   "outputs": [
    {
     "data": {
      "image/png": "[encoded data removed]",
      "text/plain": [
       "<Figure size 432x288 with 1 Axes>"
      ]
     },
     "metadata": {
      "needs_background": "light"
     },
     "output_type": "display_data"
    }
   ],
   "source": [
    "def elbow_method(Y_sklearn):\n",
    "    \"\"\"\n",
    "    This is the function used to get optimal number of clusters in order to feed to the k-means clustering algorithm.\n",
    "    \"\"\"\n",
    "\n",
    "    number_clusters = range(1, 7)  # Range of possible clusters that can be generated\n",
    "    kmeans = [KMeans(n_clusters=i, max_iter = 600) for i in number_clusters] # Getting no. of clusters \n",
    "\n",
    "    score = [kmeans[i].fit(Y_sklearn).score(Y_sklearn) for i in range(len(kmeans))] # Getting score corresponding to each cluster.\n",
    "    score = [i*-1 for i in score] # Getting list of positive scores.\n",
    "    \n",
    "    plt.plot(number_clusters, score)\n",
    "    plt.xlabel('Number of Clusters')\n",
    "    plt.ylabel('Score')\n",
    "    plt.title('Elbow Method')\n",
    "    plt.show()\n",
    "elbow_method(Y_sklearn)"
   ]
  },
  {
   "cell_type": "code",
   "execution_count": 76,
   "metadata": {},
   "outputs": [
    {
     "data": {
      "image/png": "[encoded data removed]",
      "text/plain": [
       "<Figure size 432x288 with 1 Axes>"
      ]
     },
     "metadata": {
      "needs_background": "light"
     },
     "output_type": "display_data"
    }
   ],
   "source": [
    "def kmeans_clustering(Y_sklearn, fitted):\n",
    "    \"\"\"\n",
    "    This function will predict clusters on training set and plot the visuals of clusters as well.\n",
    "    \"\"\"\n",
    "\n",
    "    plt.scatter(Y_sklearn[:, 0], Y_sklearn[:, 1],c=prediction ,s=50, cmap='viridis') # Plotting scatter plot \n",
    "    centers2 = fitted.cluster_centers_ # It will give best possible coordinates of cluster center after fitting k-means\n",
    "    plt.scatter(centers2[:, 0], centers2[:, 1],c='black', s=300, alpha=0.6);\n",
    "    # As this can be seen from the figure, there is an outlier as well.\n",
    "kmeans_clustering(Y_sklearn, fitted)"
   ]
  },
  {
   "cell_type": "code",
   "execution_count": 78,
   "metadata": {},
   "outputs": [],
   "source": [
    "def get_top_features_cluster(X_std, prediction, n_feats):\n",
    "    # Get unique labels, in this case {0,1}\n",
    "    labels = np.unique(prediction)\n",
    "    dfs = []\n",
    "    for label in labels:\n",
    "        id_temp = np.where(prediction==label) # Get indices for each feature corresponding to each cluster.        \n",
    "        x_means = np.mean(X_std[id_temp], axis = 0) # returns average score across cluster\n",
    "        sorted_means = np.argsort(x_means)[::-1][:n_feats] # indices with top 20 scores\n",
    "        features = n_grams_to_use\n",
    "        best_features = [(features[i], x_means[i]) for i in sorted_means] # Retrieve corresponding best features to that of best scores.\n",
    "        Df = pd.DataFrame(best_features, columns = ['features', 'score'])\n",
    "        dfs.append(Df) # append both the Dataframes to a list\n",
    "    return dfs\n",
    "dfs = get_top_features_cluster(X_std, prediction, 20)"
   ]
  },
  {
   "cell_type": "code",
   "execution_count": 81,
   "metadata": {},
   "outputs": [
    {
     "data": {
      "text/plain": [
       "<AxesSubplot:xlabel='score', ylabel='features'>"
      ]
     },
     "execution_count": 81,
     "metadata": {},
     "output_type": "execute_result"
    },
    {
     "data": {
      "image/png": "[encoded data removed]",
      "text/plain": [
       "<Figure size 576x432 with 1 Axes>"
      ]
     },
     "metadata": {
      "needs_background": "light"
     },
     "output_type": "display_data"
    }
   ],
   "source": [
    "import seaborn as sns\n",
    "plt.figure(figsize=(8,6))\n",
    "sns.barplot(x = 'score' , y = 'features', orient = 'h' , data = dfs[:25][0]) # Get top 25 rows of 1st Dataframe"
   ]
  },
  {
   "cell_type": "code",
   "execution_count": 82,
   "metadata": {},
   "outputs": [
    {
     "data": {
      "text/plain": [
       "<AxesSubplot:xlabel='score', ylabel='features'>"
      ]
     },
     "execution_count": 82,
     "metadata": {},
     "output_type": "execute_result"
    },
    {
     "data": {
      "image/png": "[encoded data removed]",
      "text/plain": [
       "<Figure size 576x432 with 1 Axes>"
      ]
     },
     "metadata": {
      "needs_background": "light"
     },
     "output_type": "display_data"
    }
   ],
   "source": [
    "plt.figure(figsize=(8,6))\n",
    "sns.barplot(x = 'score' , y = 'features', orient = 'h' , data = dfs[:25][1])"
   ]
  },
  {
   "cell_type": "code",
   "execution_count": null,
   "metadata": {},
   "outputs": [],
   "source": []
  }
 ],
 "metadata": {
  "kernelspec": {
   "display_name": "Python 3",
   "language": "python",
   "name": "python3"
  },
  "language_info": {
   "codemirror_mode": {
    "name": "ipython",
    "version": 3
   },
   "file_extension": ".py",
   "mimetype": "text/x-python",
   "name": "python",
   "nbconvert_exporter": "python",
   "pygments_lexer": "ipython3",
   "version": "3.8.10"
  }
 },
 "nbformat": 4,
 "nbformat_minor": 4
}
