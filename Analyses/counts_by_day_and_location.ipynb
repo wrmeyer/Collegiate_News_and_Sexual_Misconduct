{
 "cells": [
  {
   "cell_type": "code",
   "execution_count": 1,
   "metadata": {},
   "outputs": [],
   "source": [
    "import pandas as pd\n",
    "import os\n",
    "location = str(os.getcwd())"
   ]
  },
  {
   "cell_type": "code",
   "execution_count": 2,
   "metadata": {},
   "outputs": [],
   "source": [
    "f = (location[:-8] + \"Articles\\\\articles_cleaned.csv\")\n",
    "articles = pd.read_csv(f)\n",
    "articles = articles.to_dict(\"index\")"
   ]
  },
  {
   "cell_type": "code",
   "execution_count": 3,
   "metadata": {},
   "outputs": [],
   "source": [
    "f = (location[:-8] + \"Tweets\\\\tweets_cleaned.csv\")\n",
    "tweets = pd.read_csv(f)\n",
    "tweets = tweets.to_dict(\"index\")"
   ]
  },
  {
   "cell_type": "code",
   "execution_count": 4,
   "metadata": {},
   "outputs": [
    {
     "name": "stdout",
     "output_type": "stream",
     "text": [
      "4840\n"
     ]
    }
   ],
   "source": [
    "locations = [\"IUB\", \"UMD\", \"UMN\", \"Stanford\", \"Wisconsin\"]\n",
    "dates = []\n",
    "for i in range(len(tweets)):\n",
    "    tweet = tweets[i]\n",
    "    if tweet[\"created_at\"] not in dates:\n",
    "        dates.append(tweet[\"created_at\"])\n",
    "for i in range(len(articles)):\n",
    "    article = articles[i]\n",
    "    if article[\"date\"] not in dates:\n",
    "        dates.append(article[\"date\"])\n",
    "print(len(dates))"
   ]
  },
  {
   "cell_type": "code",
   "execution_count": 6,
   "metadata": {},
   "outputs": [],
   "source": [
    "by_date = []\n",
    "\n",
    "for location in locations:\n",
    "    for date in dates:\n",
    "        date_dict = {}\n",
    "        date_dict[\"location\"] = location\n",
    "        date_dict[\"date\"] = date\n",
    "        tweet_count = 0\n",
    "        article_count = 0\n",
    "\n",
    "        for i in range(len(tweets)):\n",
    "            tweet = tweets[i]\n",
    "            if date == tweet[\"created_at\"] and tweet[\"location\"] == location:\n",
    "                tweet_count += 1\n",
    "\n",
    "        for j in range(len(articles)):\n",
    "            article = articles[j]\n",
    "            if date == article[\"date\"] and article[\"location\"] == location:\n",
    "                article_count += 1\n",
    "\n",
    "        date_dict[\"tweet_count\"] = tweet_count\n",
    "        date_dict[\"article_count\"] = article_count\n",
    "\n",
    "        by_date.append(date_dict)"
   ]
  },
  {
   "cell_type": "code",
   "execution_count": 8,
   "metadata": {},
   "outputs": [],
   "source": [
    "pd.DataFrame(by_date).to_csv('counts_by_day.csv')"
   ]
  },
  {
   "cell_type": "code",
   "execution_count": null,
   "metadata": {},
   "outputs": [],
   "source": []
  }
 ],
 "metadata": {
  "kernelspec": {
   "display_name": "Python 3",
   "language": "python",
   "name": "python3"
  },
  "language_info": {
   "codemirror_mode": {
    "name": "ipython",
    "version": 3
   },
   "file_extension": ".py",
   "mimetype": "text/x-python",
   "name": "python",
   "nbconvert_exporter": "python",
   "pygments_lexer": "ipython3",
   "version": "3.7.6"
  }
 },
 "nbformat": 4,
 "nbformat_minor": 4
}
