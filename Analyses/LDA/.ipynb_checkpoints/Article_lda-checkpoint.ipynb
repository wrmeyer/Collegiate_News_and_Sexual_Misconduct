{
 "cells": [
  {
   "cell_type": "code",
   "execution_count": 3,
   "metadata": {},
   "outputs": [],
   "source": [
    "import pandas as pd\n",
    "import os\n",
    "location = str(os.getcwd())"
   ]
  },
  {
   "cell_type": "code",
   "execution_count": 20,
   "metadata": {},
   "outputs": [
    {
     "name": "stdout",
     "output_type": "stream",
     "text": [
      "11768\n"
     ]
    }
   ],
   "source": [
    "f = (location[:-12] + \"Articles\\\\articles_cleaned.csv\")\n",
    "df = pd.read_csv(f)\n",
    "df = df.to_dict(\"index\")\n",
    "print(len(df))"
   ]
  },
  {
   "cell_type": "code",
   "execution_count": 5,
   "metadata": {},
   "outputs": [
    {
     "name": "stderr",
     "output_type": "stream",
     "text": [
      "[nltk_data] Downloading package wordnet to\n",
      "[nltk_data]     C:\\Users\\wilmd\\AppData\\Roaming\\nltk_data...\n",
      "[nltk_data]   Package wordnet is already up-to-date!\n"
     ]
    },
    {
     "data": {
      "text/plain": [
       "True"
      ]
     },
     "execution_count": 5,
     "metadata": {},
     "output_type": "execute_result"
    }
   ],
   "source": [
    "import gensim\n",
    "from gensim.utils import simple_preprocess\n",
    "from gensim.models import CoherenceModel\n",
    "from gensim.parsing.preprocessing import STOPWORDS\n",
    "from nltk.stem import WordNetLemmatizer, SnowballStemmer\n",
    "from nltk.stem.porter import *\n",
    "import numpy as np\n",
    "stemmer = PorterStemmer()\n",
    "np.random.seed(2018)\n",
    "import nltk\n",
    "nltk.download('wordnet')"
   ]
  },
  {
   "cell_type": "code",
   "execution_count": 6,
   "metadata": {},
   "outputs": [],
   "source": [
    "def lemmatize_stemming(text):\n",
    "    return stemmer.stem(WordNetLemmatizer().lemmatize(text, pos='v'))\n",
    "\n",
    "def preprocess(text):\n",
    "    result = []\n",
    "    for word in text:\n",
    "        word.replace(\"\\n\", \"\")\n",
    "    for token in gensim.utils.simple_preprocess(text):\n",
    "        if token not in gensim.parsing.preprocessing.STOPWORDS and len(token) > 3:\n",
    "            result.append(lemmatize_stemming(token))\n",
    "    return result"
   ]
  },
  {
   "cell_type": "code",
   "execution_count": 7,
   "metadata": {},
   "outputs": [
    {
     "name": "stdout",
     "output_type": "stream",
     "text": [
      "11768\n",
      "10884\n"
     ]
    }
   ],
   "source": [
    "df_clean = []\n",
    "print(len(df))\n",
    "for i in range(len(df)):\n",
    "    body = df[i][\"body\"]\n",
    "    if len(str(body)) > 100:\n",
    "        if \"rape\" in body or \"sexual\" in body or \"assault\" in body or \"misconduct\" in body or \"harassment\" in body:\n",
    "            df_clean.append(df[i])\n",
    "print(len(df_clean))"
   ]
  },
  {
   "cell_type": "code",
   "execution_count": 8,
   "metadata": {},
   "outputs": [
    {
     "data": {
      "text/plain": [
       "0    [year, offic, women, affair, work, improv, liv...\n",
       "1    [third, time, offic, student, associ, administ...\n",
       "Name: body, dtype: object"
      ]
     },
     "execution_count": 8,
     "metadata": {},
     "output_type": "execute_result"
    }
   ],
   "source": [
    "df = pd.DataFrame(df_clean)\n",
    "processed_docs = df['body'].map(preprocess)\n",
    "processed_docs[:2]"
   ]
  },
  {
   "cell_type": "code",
   "execution_count": 9,
   "metadata": {},
   "outputs": [
    {
     "name": "stdout",
     "output_type": "stream",
     "text": [
      "0 accomplish\n",
      "1 achiev\n",
      "2 addit\n",
      "3 address\n",
      "4 affair\n",
      "5 aim\n",
      "6 alex\n",
      "7 alyc\n",
      "8 anniversari\n",
      "9 assault\n",
      "10 assensoh\n"
     ]
    }
   ],
   "source": [
    "dictionary = gensim.corpora.Dictionary(processed_docs)\n",
    "count = 0\n",
    "for k, v in dictionary.iteritems():\n",
    "    print(k, v)\n",
    "    count += 1\n",
    "    if count > 10:\n",
    "        break"
   ]
  },
  {
   "cell_type": "code",
   "execution_count": 10,
   "metadata": {},
   "outputs": [],
   "source": [
    "dictionary.filter_extremes(no_below=15, no_above=0.5, keep_n=100000)"
   ]
  },
  {
   "cell_type": "code",
   "execution_count": 11,
   "metadata": {},
   "outputs": [],
   "source": [
    "bow_corpus = [dictionary.doc2bow(doc) for doc in processed_docs]"
   ]
  },
  {
   "cell_type": "code",
   "execution_count": 12,
   "metadata": {},
   "outputs": [],
   "source": [
    "from gensim import corpora, models\n",
    "tfidf = models.TfidfModel(bow_corpus)\n",
    "corpus_tfidf = tfidf[bow_corpus]"
   ]
  },
  {
   "cell_type": "code",
   "execution_count": 15,
   "metadata": {
    "collapsed": true,
    "jupyter": {
     "outputs_hidden": true
    }
   },
   "outputs": [
    {
     "name": "stderr",
     "output_type": "stream",
     "text": [
      "  0%|                                                                                                                                             | 0/13 [00:00<?, ?it/s]"
     ]
    },
    {
     "name": "stdout",
     "output_type": "stream",
     "text": [
      "2\n"
     ]
    },
    {
     "name": "stderr",
     "output_type": "stream",
     "text": [
      "  0%|                                                                                                                                             | 0/13 [00:03<?, ?it/s]\n"
     ]
    },
    {
     "ename": "KeyboardInterrupt",
     "evalue": "",
     "output_type": "error",
     "traceback": [
      "\u001b[1;31m---------------------------------------------------------------------------\u001b[0m",
      "\u001b[1;31mKeyboardInterrupt\u001b[0m                         Traceback (most recent call last)",
      "\u001b[1;32m<ipython-input-15-81e7907214d5>\u001b[0m in \u001b[0;36m<module>\u001b[1;34m\u001b[0m\n\u001b[0;32m     28\u001b[0m \u001b[1;33m\u001b[0m\u001b[0m\n\u001b[0;32m     29\u001b[0m \u001b[1;31m# Can take a long time to run.\u001b[0m\u001b[1;33m\u001b[0m\u001b[1;33m\u001b[0m\u001b[1;33m\u001b[0m\u001b[0m\n\u001b[1;32m---> 30\u001b[1;33m \u001b[0mmodel_list\u001b[0m\u001b[1;33m,\u001b[0m \u001b[0mcoherence_values\u001b[0m \u001b[1;33m=\u001b[0m \u001b[0mcompute_coherence_values\u001b[0m\u001b[1;33m(\u001b[0m\u001b[0mdictionary\u001b[0m\u001b[1;33m=\u001b[0m\u001b[0mdictionary\u001b[0m\u001b[1;33m,\u001b[0m \u001b[0mcorpus\u001b[0m\u001b[1;33m=\u001b[0m\u001b[0mbow_corpus\u001b[0m\u001b[1;33m,\u001b[0m \u001b[0mtexts\u001b[0m\u001b[1;33m=\u001b[0m\u001b[0mprocessed_docs\u001b[0m\u001b[1;33m,\u001b[0m \u001b[0mstart\u001b[0m\u001b[1;33m=\u001b[0m\u001b[1;36m2\u001b[0m\u001b[1;33m,\u001b[0m \u001b[0mlimit\u001b[0m\u001b[1;33m=\u001b[0m\u001b[1;36m15\u001b[0m\u001b[1;33m,\u001b[0m \u001b[0mstep\u001b[0m\u001b[1;33m=\u001b[0m\u001b[1;36m1\u001b[0m\u001b[1;33m)\u001b[0m\u001b[1;33m\u001b[0m\u001b[1;33m\u001b[0m\u001b[0m\n\u001b[0m",
      "\u001b[1;32m<ipython-input-15-81e7907214d5>\u001b[0m in \u001b[0;36mcompute_coherence_values\u001b[1;34m(dictionary, corpus, texts, limit, start, step)\u001b[0m\n\u001b[0;32m     20\u001b[0m     \u001b[1;32mfor\u001b[0m \u001b[0mnum_topics\u001b[0m \u001b[1;32min\u001b[0m \u001b[0mtqdm\u001b[0m\u001b[1;33m(\u001b[0m\u001b[0mrange\u001b[0m\u001b[1;33m(\u001b[0m\u001b[0mstart\u001b[0m\u001b[1;33m,\u001b[0m \u001b[0mlimit\u001b[0m\u001b[1;33m,\u001b[0m \u001b[0mstep\u001b[0m\u001b[1;33m)\u001b[0m\u001b[1;33m)\u001b[0m\u001b[1;33m:\u001b[0m\u001b[1;33m\u001b[0m\u001b[1;33m\u001b[0m\u001b[0m\n\u001b[0;32m     21\u001b[0m         \u001b[0mprint\u001b[0m\u001b[1;33m(\u001b[0m\u001b[0mnum_topics\u001b[0m\u001b[1;33m)\u001b[0m\u001b[1;33m\u001b[0m\u001b[1;33m\u001b[0m\u001b[0m\n\u001b[1;32m---> 22\u001b[1;33m         \u001b[0mmodel\u001b[0m \u001b[1;33m=\u001b[0m \u001b[0mgensim\u001b[0m\u001b[1;33m.\u001b[0m\u001b[0mmodels\u001b[0m\u001b[1;33m.\u001b[0m\u001b[0mLdaMulticore\u001b[0m\u001b[1;33m(\u001b[0m\u001b[0mcorpus\u001b[0m \u001b[1;33m=\u001b[0m \u001b[0mcorpus\u001b[0m\u001b[1;33m,\u001b[0m \u001b[0mnum_topics\u001b[0m \u001b[1;33m=\u001b[0m \u001b[0mnum_topics\u001b[0m\u001b[1;33m,\u001b[0m \u001b[0mid2word\u001b[0m \u001b[1;33m=\u001b[0m \u001b[0mdictionary\u001b[0m\u001b[1;33m,\u001b[0m \u001b[0mpasses\u001b[0m\u001b[1;33m=\u001b[0m\u001b[1;36m2\u001b[0m\u001b[1;33m,\u001b[0m \u001b[0mworkers\u001b[0m\u001b[1;33m=\u001b[0m\u001b[1;36m2\u001b[0m\u001b[1;33m)\u001b[0m\u001b[1;33m\u001b[0m\u001b[1;33m\u001b[0m\u001b[0m\n\u001b[0m\u001b[0;32m     23\u001b[0m         \u001b[0mmodel_list\u001b[0m\u001b[1;33m.\u001b[0m\u001b[0mappend\u001b[0m\u001b[1;33m(\u001b[0m\u001b[0mmodel\u001b[0m\u001b[1;33m)\u001b[0m\u001b[1;33m\u001b[0m\u001b[1;33m\u001b[0m\u001b[0m\n\u001b[0;32m     24\u001b[0m         \u001b[0mcoherencemodel\u001b[0m \u001b[1;33m=\u001b[0m \u001b[0mCoherenceModel\u001b[0m\u001b[1;33m(\u001b[0m\u001b[0mmodel\u001b[0m\u001b[1;33m=\u001b[0m\u001b[0mmodel\u001b[0m\u001b[1;33m,\u001b[0m \u001b[0mtexts\u001b[0m\u001b[1;33m=\u001b[0m\u001b[0mtexts\u001b[0m\u001b[1;33m,\u001b[0m \u001b[0mdictionary\u001b[0m\u001b[1;33m=\u001b[0m\u001b[0mdictionary\u001b[0m\u001b[1;33m,\u001b[0m \u001b[0mcoherence\u001b[0m\u001b[1;33m=\u001b[0m\u001b[1;34m'c_v'\u001b[0m\u001b[1;33m)\u001b[0m\u001b[1;33m\u001b[0m\u001b[1;33m\u001b[0m\u001b[0m\n",
      "\u001b[1;32mc:\\users\\wilmd\\onedrive\\desktop\\python_env\\env\\lib\\site-packages\\gensim\\models\\ldamulticore.py\u001b[0m in \u001b[0;36m__init__\u001b[1;34m(self, corpus, num_topics, id2word, workers, chunksize, passes, batch, alpha, eta, decay, offset, eval_every, iterations, gamma_threshold, random_state, minimum_probability, minimum_phi_value, per_word_topics, dtype)\u001b[0m\n\u001b[0;32m    189\u001b[0m             \u001b[0mdecay\u001b[0m\u001b[1;33m=\u001b[0m\u001b[0mdecay\u001b[0m\u001b[1;33m,\u001b[0m \u001b[0moffset\u001b[0m\u001b[1;33m=\u001b[0m\u001b[0moffset\u001b[0m\u001b[1;33m,\u001b[0m \u001b[0meval_every\u001b[0m\u001b[1;33m=\u001b[0m\u001b[0meval_every\u001b[0m\u001b[1;33m,\u001b[0m \u001b[0miterations\u001b[0m\u001b[1;33m=\u001b[0m\u001b[0miterations\u001b[0m\u001b[1;33m,\u001b[0m\u001b[1;33m\u001b[0m\u001b[1;33m\u001b[0m\u001b[0m\n\u001b[0;32m    190\u001b[0m             \u001b[0mgamma_threshold\u001b[0m\u001b[1;33m=\u001b[0m\u001b[0mgamma_threshold\u001b[0m\u001b[1;33m,\u001b[0m \u001b[0mrandom_state\u001b[0m\u001b[1;33m=\u001b[0m\u001b[0mrandom_state\u001b[0m\u001b[1;33m,\u001b[0m \u001b[0mminimum_probability\u001b[0m\u001b[1;33m=\u001b[0m\u001b[0mminimum_probability\u001b[0m\u001b[1;33m,\u001b[0m\u001b[1;33m\u001b[0m\u001b[1;33m\u001b[0m\u001b[0m\n\u001b[1;32m--> 191\u001b[1;33m             \u001b[0mminimum_phi_value\u001b[0m\u001b[1;33m=\u001b[0m\u001b[0mminimum_phi_value\u001b[0m\u001b[1;33m,\u001b[0m \u001b[0mper_word_topics\u001b[0m\u001b[1;33m=\u001b[0m\u001b[0mper_word_topics\u001b[0m\u001b[1;33m,\u001b[0m \u001b[0mdtype\u001b[0m\u001b[1;33m=\u001b[0m\u001b[0mdtype\u001b[0m\u001b[1;33m,\u001b[0m\u001b[1;33m\u001b[0m\u001b[1;33m\u001b[0m\u001b[0m\n\u001b[0m\u001b[0;32m    192\u001b[0m         )\n\u001b[0;32m    193\u001b[0m \u001b[1;33m\u001b[0m\u001b[0m\n",
      "\u001b[1;32mc:\\users\\wilmd\\onedrive\\desktop\\python_env\\env\\lib\\site-packages\\gensim\\models\\ldamodel.py\u001b[0m in \u001b[0;36m__init__\u001b[1;34m(self, corpus, num_topics, id2word, distributed, chunksize, passes, update_every, alpha, eta, decay, offset, eval_every, iterations, gamma_threshold, minimum_probability, random_state, ns_conf, minimum_phi_value, per_word_topics, callbacks, dtype)\u001b[0m\n\u001b[0;32m    518\u001b[0m             \u001b[0muse_numpy\u001b[0m \u001b[1;33m=\u001b[0m \u001b[0mself\u001b[0m\u001b[1;33m.\u001b[0m\u001b[0mdispatcher\u001b[0m \u001b[1;32mis\u001b[0m \u001b[1;32mnot\u001b[0m \u001b[1;32mNone\u001b[0m\u001b[1;33m\u001b[0m\u001b[1;33m\u001b[0m\u001b[0m\n\u001b[0;32m    519\u001b[0m             \u001b[0mstart\u001b[0m \u001b[1;33m=\u001b[0m \u001b[0mtime\u001b[0m\u001b[1;33m.\u001b[0m\u001b[0mtime\u001b[0m\u001b[1;33m(\u001b[0m\u001b[1;33m)\u001b[0m\u001b[1;33m\u001b[0m\u001b[1;33m\u001b[0m\u001b[0m\n\u001b[1;32m--> 520\u001b[1;33m             \u001b[0mself\u001b[0m\u001b[1;33m.\u001b[0m\u001b[0mupdate\u001b[0m\u001b[1;33m(\u001b[0m\u001b[0mcorpus\u001b[0m\u001b[1;33m,\u001b[0m \u001b[0mchunks_as_numpy\u001b[0m\u001b[1;33m=\u001b[0m\u001b[0muse_numpy\u001b[0m\u001b[1;33m)\u001b[0m\u001b[1;33m\u001b[0m\u001b[1;33m\u001b[0m\u001b[0m\n\u001b[0m\u001b[0;32m    521\u001b[0m             self.add_lifecycle_event(\n\u001b[0;32m    522\u001b[0m                 \u001b[1;34m\"created\"\u001b[0m\u001b[1;33m,\u001b[0m\u001b[1;33m\u001b[0m\u001b[1;33m\u001b[0m\u001b[0m\n",
      "\u001b[1;32mc:\\users\\wilmd\\onedrive\\desktop\\python_env\\env\\lib\\site-packages\\gensim\\models\\ldamulticore.py\u001b[0m in \u001b[0;36mupdate\u001b[1;34m(self, corpus, chunks_as_numpy)\u001b[0m\n\u001b[0;32m    314\u001b[0m             \u001b[1;31m# wait for all outstanding jobs to finish\u001b[0m\u001b[1;33m\u001b[0m\u001b[1;33m\u001b[0m\u001b[1;33m\u001b[0m\u001b[0m\n\u001b[0;32m    315\u001b[0m             \u001b[1;32mwhile\u001b[0m \u001b[0mqueue_size\u001b[0m\u001b[1;33m[\u001b[0m\u001b[1;36m0\u001b[0m\u001b[1;33m]\u001b[0m \u001b[1;33m>\u001b[0m \u001b[1;36m0\u001b[0m\u001b[1;33m:\u001b[0m\u001b[1;33m\u001b[0m\u001b[1;33m\u001b[0m\u001b[0m\n\u001b[1;32m--> 316\u001b[1;33m                 \u001b[0mprocess_result_queue\u001b[0m\u001b[1;33m(\u001b[0m\u001b[0mforce\u001b[0m\u001b[1;33m=\u001b[0m\u001b[1;32mTrue\u001b[0m\u001b[1;33m)\u001b[0m\u001b[1;33m\u001b[0m\u001b[1;33m\u001b[0m\u001b[0m\n\u001b[0m\u001b[0;32m    317\u001b[0m \u001b[1;33m\u001b[0m\u001b[0m\n\u001b[0;32m    318\u001b[0m             \u001b[1;32mif\u001b[0m \u001b[0mreallen\u001b[0m \u001b[1;33m!=\u001b[0m \u001b[0mlencorpus\u001b[0m\u001b[1;33m:\u001b[0m\u001b[1;33m\u001b[0m\u001b[1;33m\u001b[0m\u001b[0m\n",
      "\u001b[1;32mc:\\users\\wilmd\\onedrive\\desktop\\python_env\\env\\lib\\site-packages\\gensim\\models\\ldamulticore.py\u001b[0m in \u001b[0;36mprocess_result_queue\u001b[1;34m(force)\u001b[0m\n\u001b[0;32m    272\u001b[0m             \"\"\"\n\u001b[0;32m    273\u001b[0m             \u001b[0mmerged_new\u001b[0m \u001b[1;33m=\u001b[0m \u001b[1;32mFalse\u001b[0m\u001b[1;33m\u001b[0m\u001b[1;33m\u001b[0m\u001b[0m\n\u001b[1;32m--> 274\u001b[1;33m             \u001b[1;32mwhile\u001b[0m \u001b[1;32mnot\u001b[0m \u001b[0mresult_queue\u001b[0m\u001b[1;33m.\u001b[0m\u001b[0mempty\u001b[0m\u001b[1;33m(\u001b[0m\u001b[1;33m)\u001b[0m\u001b[1;33m:\u001b[0m\u001b[1;33m\u001b[0m\u001b[1;33m\u001b[0m\u001b[0m\n\u001b[0m\u001b[0;32m    275\u001b[0m                 \u001b[0mother\u001b[0m\u001b[1;33m.\u001b[0m\u001b[0mmerge\u001b[0m\u001b[1;33m(\u001b[0m\u001b[0mresult_queue\u001b[0m\u001b[1;33m.\u001b[0m\u001b[0mget\u001b[0m\u001b[1;33m(\u001b[0m\u001b[1;33m)\u001b[0m\u001b[1;33m)\u001b[0m\u001b[1;33m\u001b[0m\u001b[1;33m\u001b[0m\u001b[0m\n\u001b[0;32m    276\u001b[0m                 \u001b[0mqueue_size\u001b[0m\u001b[1;33m[\u001b[0m\u001b[1;36m0\u001b[0m\u001b[1;33m]\u001b[0m \u001b[1;33m-=\u001b[0m \u001b[1;36m1\u001b[0m\u001b[1;33m\u001b[0m\u001b[1;33m\u001b[0m\u001b[0m\n",
      "\u001b[1;32m~\\AppData\\Local\\Programs\\Python\\Python37\\Lib\\multiprocessing\\queues.py\u001b[0m in \u001b[0;36mempty\u001b[1;34m(self)\u001b[0m\n\u001b[0;32m    118\u001b[0m \u001b[1;33m\u001b[0m\u001b[0m\n\u001b[0;32m    119\u001b[0m     \u001b[1;32mdef\u001b[0m \u001b[0mempty\u001b[0m\u001b[1;33m(\u001b[0m\u001b[0mself\u001b[0m\u001b[1;33m)\u001b[0m\u001b[1;33m:\u001b[0m\u001b[1;33m\u001b[0m\u001b[1;33m\u001b[0m\u001b[0m\n\u001b[1;32m--> 120\u001b[1;33m         \u001b[1;32mreturn\u001b[0m \u001b[1;32mnot\u001b[0m \u001b[0mself\u001b[0m\u001b[1;33m.\u001b[0m\u001b[0m_poll\u001b[0m\u001b[1;33m(\u001b[0m\u001b[1;33m)\u001b[0m\u001b[1;33m\u001b[0m\u001b[1;33m\u001b[0m\u001b[0m\n\u001b[0m\u001b[0;32m    121\u001b[0m \u001b[1;33m\u001b[0m\u001b[0m\n\u001b[0;32m    122\u001b[0m     \u001b[1;32mdef\u001b[0m \u001b[0mfull\u001b[0m\u001b[1;33m(\u001b[0m\u001b[0mself\u001b[0m\u001b[1;33m)\u001b[0m\u001b[1;33m:\u001b[0m\u001b[1;33m\u001b[0m\u001b[1;33m\u001b[0m\u001b[0m\n",
      "\u001b[1;32m~\\AppData\\Local\\Programs\\Python\\Python37\\Lib\\multiprocessing\\connection.py\u001b[0m in \u001b[0;36mpoll\u001b[1;34m(self, timeout)\u001b[0m\n\u001b[0;32m    255\u001b[0m         \u001b[0mself\u001b[0m\u001b[1;33m.\u001b[0m\u001b[0m_check_closed\u001b[0m\u001b[1;33m(\u001b[0m\u001b[1;33m)\u001b[0m\u001b[1;33m\u001b[0m\u001b[1;33m\u001b[0m\u001b[0m\n\u001b[0;32m    256\u001b[0m         \u001b[0mself\u001b[0m\u001b[1;33m.\u001b[0m\u001b[0m_check_readable\u001b[0m\u001b[1;33m(\u001b[0m\u001b[1;33m)\u001b[0m\u001b[1;33m\u001b[0m\u001b[1;33m\u001b[0m\u001b[0m\n\u001b[1;32m--> 257\u001b[1;33m         \u001b[1;32mreturn\u001b[0m \u001b[0mself\u001b[0m\u001b[1;33m.\u001b[0m\u001b[0m_poll\u001b[0m\u001b[1;33m(\u001b[0m\u001b[0mtimeout\u001b[0m\u001b[1;33m)\u001b[0m\u001b[1;33m\u001b[0m\u001b[1;33m\u001b[0m\u001b[0m\n\u001b[0m\u001b[0;32m    258\u001b[0m \u001b[1;33m\u001b[0m\u001b[0m\n\u001b[0;32m    259\u001b[0m     \u001b[1;32mdef\u001b[0m \u001b[0m__enter__\u001b[0m\u001b[1;33m(\u001b[0m\u001b[0mself\u001b[0m\u001b[1;33m)\u001b[0m\u001b[1;33m:\u001b[0m\u001b[1;33m\u001b[0m\u001b[1;33m\u001b[0m\u001b[0m\n",
      "\u001b[1;32m~\\AppData\\Local\\Programs\\Python\\Python37\\Lib\\multiprocessing\\connection.py\u001b[0m in \u001b[0;36m_poll\u001b[1;34m(self, timeout)\u001b[0m\n\u001b[0;32m    328\u001b[0m                         _winapi.PeekNamedPipe(self._handle)[0] != 0):\n\u001b[0;32m    329\u001b[0m                 \u001b[1;32mreturn\u001b[0m \u001b[1;32mTrue\u001b[0m\u001b[1;33m\u001b[0m\u001b[1;33m\u001b[0m\u001b[0m\n\u001b[1;32m--> 330\u001b[1;33m             \u001b[1;32mreturn\u001b[0m \u001b[0mbool\u001b[0m\u001b[1;33m(\u001b[0m\u001b[0mwait\u001b[0m\u001b[1;33m(\u001b[0m\u001b[1;33m[\u001b[0m\u001b[0mself\u001b[0m\u001b[1;33m]\u001b[0m\u001b[1;33m,\u001b[0m \u001b[0mtimeout\u001b[0m\u001b[1;33m)\u001b[0m\u001b[1;33m)\u001b[0m\u001b[1;33m\u001b[0m\u001b[1;33m\u001b[0m\u001b[0m\n\u001b[0m\u001b[0;32m    331\u001b[0m \u001b[1;33m\u001b[0m\u001b[0m\n\u001b[0;32m    332\u001b[0m         \u001b[1;32mdef\u001b[0m \u001b[0m_get_more_data\u001b[0m\u001b[1;33m(\u001b[0m\u001b[0mself\u001b[0m\u001b[1;33m,\u001b[0m \u001b[0mov\u001b[0m\u001b[1;33m,\u001b[0m \u001b[0mmaxsize\u001b[0m\u001b[1;33m)\u001b[0m\u001b[1;33m:\u001b[0m\u001b[1;33m\u001b[0m\u001b[1;33m\u001b[0m\u001b[0m\n",
      "\u001b[1;32m~\\AppData\\Local\\Programs\\Python\\Python37\\Lib\\multiprocessing\\connection.py\u001b[0m in \u001b[0;36mwait\u001b[1;34m(object_list, timeout)\u001b[0m\n\u001b[0;32m    842\u001b[0m                     \u001b[1;31m# start an overlapped read of length zero\u001b[0m\u001b[1;33m\u001b[0m\u001b[1;33m\u001b[0m\u001b[1;33m\u001b[0m\u001b[0m\n\u001b[0;32m    843\u001b[0m                     \u001b[1;32mtry\u001b[0m\u001b[1;33m:\u001b[0m\u001b[1;33m\u001b[0m\u001b[1;33m\u001b[0m\u001b[0m\n\u001b[1;32m--> 844\u001b[1;33m                         \u001b[0mov\u001b[0m\u001b[1;33m,\u001b[0m \u001b[0merr\u001b[0m \u001b[1;33m=\u001b[0m \u001b[0m_winapi\u001b[0m\u001b[1;33m.\u001b[0m\u001b[0mReadFile\u001b[0m\u001b[1;33m(\u001b[0m\u001b[0mfileno\u001b[0m\u001b[1;33m(\u001b[0m\u001b[1;33m)\u001b[0m\u001b[1;33m,\u001b[0m \u001b[1;36m0\u001b[0m\u001b[1;33m,\u001b[0m \u001b[1;32mTrue\u001b[0m\u001b[1;33m)\u001b[0m\u001b[1;33m\u001b[0m\u001b[1;33m\u001b[0m\u001b[0m\n\u001b[0m\u001b[0;32m    845\u001b[0m                     \u001b[1;32mexcept\u001b[0m \u001b[0mOSError\u001b[0m \u001b[1;32mas\u001b[0m \u001b[0me\u001b[0m\u001b[1;33m:\u001b[0m\u001b[1;33m\u001b[0m\u001b[1;33m\u001b[0m\u001b[0m\n\u001b[0;32m    846\u001b[0m                         \u001b[0mov\u001b[0m\u001b[1;33m,\u001b[0m \u001b[0merr\u001b[0m \u001b[1;33m=\u001b[0m \u001b[1;32mNone\u001b[0m\u001b[1;33m,\u001b[0m \u001b[0me\u001b[0m\u001b[1;33m.\u001b[0m\u001b[0mwinerror\u001b[0m\u001b[1;33m\u001b[0m\u001b[1;33m\u001b[0m\u001b[0m\n",
      "\u001b[1;31mKeyboardInterrupt\u001b[0m: "
     ]
    }
   ],
   "source": [
    "def compute_coherence_values(dictionary, corpus, texts, limit, start=2, step=3):\n",
    "    \"\"\"\n",
    "    Compute c_v coherence for various number of topics\n",
    "\n",
    "    Parameters:\n",
    "    ----------\n",
    "    dictionary : Gensim dictionary\n",
    "    corpus : Gensim corpus\n",
    "    texts : List of input texts\n",
    "\n",
    "    Returns:\n",
    "    -------\n",
    "    model_list : List of LDA topic models\n",
    "    coherence_values : Coherence values corresponding to the LDA model with respective number of topics\n",
    "    \"\"\"\n",
    "    coherence_values = []\n",
    "    model_list = []\n",
    "    from tqdm import tqdm\n",
    "\n",
    "    for num_topics in tqdm(range(start, limit, step)):\n",
    "        print(num_topics)\n",
    "        model = gensim.models.LdaMulticore(corpus = corpus, num_topics = num_topics, id2word = dictionary, passes=2, workers=2)\n",
    "        model_list.append(model)\n",
    "        coherencemodel = CoherenceModel(model=model, texts=texts, dictionary=dictionary, coherence='c_v')\n",
    "        coherence_values.append(coherencemodel.get_coherence())\n",
    "\n",
    "    return model_list, coherence_values\n",
    "\n",
    "# Can take a long time to run.\n",
    "model_list, coherence_values = compute_coherence_values(dictionary=dictionary, corpus=bow_corpus, texts=processed_docs, start=2, limit=15, step=1)"
   ]
  },
  {
   "cell_type": "code",
   "execution_count": 14,
   "metadata": {},
   "outputs": [
    {
     "data": {
      "text/plain": [
       "[0.3200155663309372,\n",
       " 0.3501589202633249,\n",
       " 0.3710416963143046,\n",
       " 0.3319701142107471,\n",
       " 0.3886366105043175,\n",
       " 0.34575733356444005,\n",
       " 0.3791220873199293,\n",
       " 0.36862315615513125,\n",
       " 0.39069825247853124,\n",
       " 0.39839163422759183,\n",
       " 0.3833009113960846,\n",
       " 0.3628397262538243,\n",
       " 0.3895807344479638]"
      ]
     },
     "execution_count": 14,
     "metadata": {},
     "output_type": "execute_result"
    }
   ],
   "source": [
    "coherence_values"
   ]
  },
  {
   "cell_type": "code",
   "execution_count": 16,
   "metadata": {},
   "outputs": [],
   "source": [
    "lda_model = gensim.models.LdaMulticore(bow_corpus, num_topics=11, id2word=dictionary, passes=2, workers=2)"
   ]
  },
  {
   "cell_type": "code",
   "execution_count": 17,
   "metadata": {},
   "outputs": [
    {
     "name": "stdout",
     "output_type": "stream",
     "text": [
      "Topic: 0 \n",
      "Words: 0.005*\"women\" + 0.005*\"think\" + 0.005*\"right\" + 0.004*\"know\" + 0.004*\"stori\" + 0.004*\"film\" + 0.003*\"trump\" + 0.003*\"want\" + 0.003*\"life\" + 0.003*\"world\"\n",
      "Topic: 1 \n",
      "Words: 0.005*\"campu\" + 0.004*\"work\" + 0.004*\"citi\" + 0.004*\"want\" + 0.004*\"servic\" + 0.004*\"school\" + 0.003*\"night\" + 0.003*\"go\" + 0.003*\"state\" + 0.003*\"offic\"\n",
      "Topic: 2 \n",
      "Words: 0.010*\"campu\" + 0.008*\"work\" + 0.008*\"women\" + 0.006*\"issu\" + 0.005*\"commun\" + 0.005*\"group\" + 0.005*\"violenc\" + 0.005*\"organ\" + 0.005*\"presid\" + 0.005*\"member\"\n",
      "Topic: 3 \n",
      "Words: 0.008*\"campu\" + 0.007*\"commun\" + 0.006*\"school\" + 0.005*\"state\" + 0.005*\"work\" + 0.004*\"issu\" + 0.004*\"educ\" + 0.004*\"member\" + 0.004*\"need\" + 0.004*\"class\"\n",
      "Topic: 4 \n",
      "Words: 0.005*\"state\" + 0.005*\"season\" + 0.005*\"game\" + 0.005*\"team\" + 0.005*\"know\" + 0.005*\"play\" + 0.004*\"think\" + 0.003*\"work\" + 0.003*\"go\" + 0.003*\"love\"\n",
      "Topic: 5 \n",
      "Words: 0.004*\"music\" + 0.004*\"work\" + 0.004*\"think\" + 0.004*\"want\" + 0.003*\"know\" + 0.003*\"go\" + 0.003*\"album\" + 0.003*\"campu\" + 0.003*\"thing\" + 0.003*\"take\"\n",
      "Topic: 6 \n",
      "Words: 0.011*\"state\" + 0.007*\"senat\" + 0.005*\"fund\" + 0.005*\"research\" + 0.005*\"work\" + 0.005*\"health\" + 0.004*\"right\" + 0.004*\"committe\" + 0.004*\"support\" + 0.004*\"offic\"\n",
      "Topic: 7 \n",
      "Words: 0.013*\"report\" + 0.009*\"investig\" + 0.009*\"case\" + 0.007*\"offic\" + 0.007*\"campu\" + 0.007*\"polic\" + 0.006*\"victim\" + 0.006*\"crime\" + 0.005*\"accord\" + 0.005*\"incid\"\n",
      "Topic: 8 \n",
      "Words: 0.014*\"women\" + 0.010*\"violenc\" + 0.010*\"report\" + 0.010*\"campu\" + 0.008*\"victim\" + 0.007*\"rape\" + 0.006*\"commun\" + 0.005*\"stanford\" + 0.004*\"issu\" + 0.004*\"survivor\"\n",
      "Topic: 9 \n",
      "Words: 0.016*\"polic\" + 0.009*\"report\" + 0.007*\"accord\" + 0.006*\"victim\" + 0.006*\"state\" + 0.006*\"madison\" + 0.005*\"crime\" + 0.005*\"offic\" + 0.005*\"charg\" + 0.005*\"woman\"\n",
      "Topic: 10 \n",
      "Words: 0.006*\"drink\" + 0.005*\"alcohol\" + 0.005*\"go\" + 0.005*\"women\" + 0.004*\"think\" + 0.004*\"help\" + 0.004*\"know\" + 0.004*\"need\" + 0.004*\"work\" + 0.004*\"drug\"\n"
     ]
    }
   ],
   "source": [
    "topic_df = []\n",
    "for idx, topic in lda_model.print_topics(-1):\n",
    "    print('Topic: {} \\nWords: {}'.format(idx, topic))\n",
    "    topic_df.append({\"index\": idx, \"topic_info\": topic})\n",
    "    \n",
    "pd.DataFrame(topic_df).to_csv('topics_info.csv')"
   ]
  },
  {
   "cell_type": "code",
   "execution_count": 18,
   "metadata": {},
   "outputs": [
    {
     "name": "stdout",
     "output_type": "stream",
     "text": [
      "\n",
      "Score: 0.3996129035949707\t \n",
      "Topic: 0.004*\"music\" + 0.004*\"work\" + 0.004*\"think\" + 0.004*\"want\" + 0.003*\"know\" + 0.003*\"go\" + 0.003*\"album\" + 0.003*\"campu\" + 0.003*\"thing\" + 0.003*\"take\"\n",
      "\n",
      "Score: 0.29256385564804077\t \n",
      "Topic: 0.005*\"campu\" + 0.004*\"work\" + 0.004*\"citi\" + 0.004*\"want\" + 0.004*\"servic\" + 0.004*\"school\" + 0.003*\"night\" + 0.003*\"go\" + 0.003*\"state\" + 0.003*\"offic\"\n",
      "\n",
      "Score: 0.23568807542324066\t \n",
      "Topic: 0.006*\"drink\" + 0.005*\"alcohol\" + 0.005*\"go\" + 0.005*\"women\" + 0.004*\"think\" + 0.004*\"help\" + 0.004*\"know\" + 0.004*\"need\" + 0.004*\"work\" + 0.004*\"drug\"\n",
      "\n",
      "Score: 0.04497963935136795\t \n",
      "Topic: 0.005*\"women\" + 0.005*\"think\" + 0.005*\"right\" + 0.004*\"know\" + 0.004*\"stori\" + 0.004*\"film\" + 0.003*\"trump\" + 0.003*\"want\" + 0.003*\"life\" + 0.003*\"world\"\n",
      "\n",
      "Score: 0.021929387003183365\t \n",
      "Topic: 0.005*\"state\" + 0.005*\"season\" + 0.005*\"game\" + 0.005*\"team\" + 0.005*\"know\" + 0.005*\"play\" + 0.004*\"think\" + 0.003*\"work\" + 0.003*\"go\" + 0.003*\"love\"\n"
     ]
    }
   ],
   "source": [
    "for index, score in sorted(lda_model[bow_corpus[7]], key=lambda tup: -1*tup[1]):\n",
    "    print(\"\\nScore: {}\\t \\nTopic: {}\".format(score, lda_model.print_topic(index, 10)))"
   ]
  },
  {
   "cell_type": "markdown",
   "metadata": {},
   "source": [
    "Saving results to dataframe\n"
   ]
  },
  {
   "cell_type": "code",
   "execution_count": 30,
   "metadata": {},
   "outputs": [
    {
     "name": "stderr",
     "output_type": "stream",
     "text": [
      "100%|██████████████████████████████████████████████████████████████████████████████████████████████████████████████████████████████| 11768/11768 [04:13<00:00, 46.36it/s]"
     ]
    },
    {
     "name": "stdout",
     "output_type": "stream",
     "text": [
      "8150\n"
     ]
    },
    {
     "name": "stderr",
     "output_type": "stream",
     "text": [
      "\n"
     ]
    }
   ],
   "source": [
    "df_clean = []\n",
    "\n",
    "from tqdm import tqdm\n",
    "\n",
    "for i in tqdm(range(len(df))):\n",
    "    item = df[i]\n",
    "    body = item[\"body\"]\n",
    "    url = item[\"url\"]\n",
    "    title = item[\"title\"]\n",
    "    location = item[\"location\"]\n",
    "    date = item[\"date\"]\n",
    "    processed_body = preprocess(str(body))\n",
    "    bow_index = dictionary.doc2bow(processed_body)\n",
    "    \n",
    "    topic_list = []\n",
    "    j = 0\n",
    "    for index, score in sorted(lda_model[bow_index], key=lambda tup: -1*tup[1]):\n",
    "        topic_list.append({\"Score\": score, \"Topic\": index, \"Topic_terms\": lda_model.print_topic(index, 10)})\n",
    "        if j == 0:\n",
    "            lead_topic = index\n",
    "        j += 1\n",
    "    \n",
    "    if len(str(body)) > 100:\n",
    "        if \" rape \" in body or \" sexual \" in body or \" assault \" in body or \" misconduct \" in body or \" harassment \" in body or \" harass \" in body:\n",
    "            df_clean.append({\"url\": url, \"body\": body, \"title\": title, \"location\": location, \"date\": date, \"topic scores\": topic_list, \"top_topic\": lead_topic})\n",
    "print(len(df_clean))"
   ]
  },
  {
   "cell_type": "code",
   "execution_count": 31,
   "metadata": {},
   "outputs": [],
   "source": [
    "pd.DataFrame(df_clean).to_csv('articles_with_topic.csv')"
   ]
  },
  {
   "cell_type": "markdown",
   "metadata": {},
   "source": [
    "Deriving meaning from topics"
   ]
  },
  {
   "cell_type": "code",
   "execution_count": 32,
   "metadata": {},
   "outputs": [],
   "source": [
    "sorted_articles = []\n",
    "for i in range(len(lda_model.print_topics(-1))):\n",
    "    sorted_articles.append([])\n",
    "\n",
    "for item in df_clean:\n",
    "    topic_id = item[\"topic scores\"][0][\"Topic\"]\n",
    "    sorted_articles[topic_id].append(item[\"url\"])"
   ]
  },
  {
   "cell_type": "code",
   "execution_count": 34,
   "metadata": {},
   "outputs": [
    {
     "name": "stdout",
     "output_type": "stream",
     "text": [
      "Topic: 0 \n",
      "Words: 0.005*\"women\" + 0.005*\"think\" + 0.005*\"right\" + 0.004*\"know\" + 0.004*\"stori\" + 0.004*\"film\" + 0.003*\"trump\" + 0.003*\"want\" + 0.003*\"life\" + 0.003*\"world\"\n",
      "1250\n",
      "['https://www.idsnews.com/article/2018/01/column-carigan-ansarimedia-011818', 'https://dbknews.com/2020/04/17/umd-liberty-university-student-journalism-newspaper-diamondback/', 'https://www.idsnews.com/article/2012/08/stupid-knows-no-bounds', 'https://stanforddaily.com/2019/10/10/music-x-humanity/', 'https://dbknews.com/0999/12/31/arc-dycobmxghzgsrdlc2hcqxzpfyu/', 'https://mndaily.com/187237/arts-entertainment/illustrated-approach-sex/', 'https://stanforddaily.com/2015/05/05/celebrating-female-power-with-the-vagina-monologues/', 'https://dbknews.com/0999/12/31/arc-5rasjpjz3ndp7fgpquhk2llnhi/', 'https://dbknews.com/2021/08/04/public-shaming-olympics-fencing-pink-masks/', 'https://badgerherald.com/artsetc/2017/03/10/student-art-showcases-social-justice-human-rights-issues-prevalent-in-society/', 'https://dbknews.com/2015/08/30/article_92a58a00-4f61-11e5-889b-5b7435ce6289-html/', 'https://www.idsnews.com/article/2014/06/losing-our-virginity', 'https://dbknews.com/2016/05/09/disney-princess-social-awareness/', 'https://www.idsnews.com/article/2016/10/women-support-trump-despite-lewd-comments', 'https://dbknews.com/0999/12/31/arc-weesj4232nf2dhxjsiftop5ji4/', 'https://mndaily.com/257158/uncategorized/revenge-porn-laws-needed/', 'https://stanforddaily.com/2014/02/23/feminism-and-the-goal-of-obsolescence/', 'https://mndaily.com/187273/uncategorized/clintons-scandal-arouses-sex-talk/', 'https://stanforddaily.com/2010/02/24/letter-to-the-editor-91/', 'https://mndaily.com/251262/opinion/opcolumn2-5a7b8e66ced46/']\n",
      "Topic: 1 \n",
      "Words: 0.005*\"campu\" + 0.004*\"work\" + 0.004*\"citi\" + 0.004*\"want\" + 0.004*\"servic\" + 0.004*\"school\" + 0.003*\"night\" + 0.003*\"go\" + 0.003*\"state\" + 0.003*\"offic\"\n",
      "177\n",
      "['https://www.idsnews.com/article/2014/07/tinder-swipes-right-for-sexism', 'https://mndaily.com/224214/uncategorized/inaugural-opera-theatre-performance-underway/', 'https://www.idsnews.com/article/2021/04/iu-defense-against-sexual-assault', 'https://dbknews.com/2016/08/12/article_10864058-4535-53e3-ae92-b6da2e0f45f0-html/', 'https://dbknews.com/2021/12/12/end-exploitive-contracting-economy-independent/', 'https://www.idsnews.com/article/2019/11/sue-sgambelluri-ron-smith-win-bloomington-city-council-elections', 'https://www.dailycardinal.com/article/2019/03/matthew-mitnick-prioritizing-safety-on-campus', 'https://stanforddaily.com/2018/06/28/suspect-in-1974-memchu-murder-kills-himself-before-police-search/', 'https://mndaily.com/186585/opinion/letters-editor-5c102f6784d07/', 'https://stanforddaily.com/2015/10/30/at-full-moon-on-the-quad-rain-doesnt-dampen-spirits/', 'https://stanforddaily.com/2014/10/17/full-moon-on-the-quads-affirmative-consent/', 'https://stanforddaily.com/2016/03/29/scary-path-roped-off-but-students-push-for-improvements/', 'https://badgerherald.com/features/2018/12/04/right-of-way-inaccessible-public-transportation-limits-employment-affordable-housing-options-for-madisons-outskirts/', 'https://mndaily.com/271053/arts-entertainment/man-of-god-questions-the-male-gaze/', 'https://stanforddaily.com/2020/10/08/opinion-a-180-million-dollar-smokescreen-who-is-californias-prop-22-actually-protecting/', 'https://badgerherald.com/artsetc/2017/02/15/hump-day-lock-down-your-love-on-valentines-day/', 'https://www.idsnews.com/article/2021/09/opinion-no-tipping-policies-protect-dignity-in-the-food-service-industry', 'https://mndaily.com/269910/news/students-at-frontier-hall-report-feeling-uneasy-after-unknown-person-was-spotted-attempting-to-film-student-in-shower/', 'https://mndaily.com/206285/uncategorized/week-daily-archives-5c102f07bda7f/', 'https://stanforddaily.com/2015/10/14/initiative-to-light-scary-path-aims-to-prevent-sexual-assault/']\n",
      "Topic: 2 \n",
      "Words: 0.010*\"campu\" + 0.008*\"work\" + 0.008*\"women\" + 0.006*\"issu\" + 0.005*\"commun\" + 0.005*\"group\" + 0.005*\"violenc\" + 0.005*\"organ\" + 0.005*\"presid\" + 0.005*\"member\"\n",
      "1213\n",
      "['https://mndaily.com/189171/news/adfacultyconduct/', 'https://www.idsnews.com/article/2017/04/event-to-honor-former-middle-way-house-director', 'https://stanforddaily.com/2017/02/24/shprcs-magazine-feature/', 'https://stanforddaily.com/2016/04/13/assu-senate-discusses-financial-aid-for-greek-organization-dues/', 'https://www.idsnews.com/article/2015/02/students-dance-in-worldwide-movement', 'https://stanforddaily.com/2016/02/03/sala-backs-janitorial-workers-union-for-contract-negotiations/', 'https://www.idsnews.com/article/2019/10/new-iusg-congress-members-learn-the-ropes-at-saturday-retreat', 'https://mndaily.com/230810/news/brsotu/', 'https://www.idsnews.com/article/2015/02/students-discuss-relationship-between-alcohol-sexual-assault', 'https://dbknews.com/2016/08/12/article_bb934568-f36f-11e4-b0b2-b304b2870c4b-html/', 'https://www.dailycardinal.com/article/2019/09/uw-oshkosh-internalizes-sexual-assault-counseling', 'https://dbknews.com/0999/12/31/arc-ks74lp3ydzg6dfqifms2kas55y/', 'https://www.idsnews.com/article/2015/10/domestic-abuse-victim-advocate-receives-state-recognition', 'https://www.idsnews.com/article/2017/02/safe-sisters-work-to-stop-sexual-assault', 'https://mndaily.com/192739/news/nation/minnesota-student-leaders-team-sexual-assault-prevention/', 'https://dbknews.com/2017/12/07/umd-faculty-work-survey-results-thriving-workplace/', 'https://dbknews.com/2017/09/25/competency-training-faculty-university-of-maryland-students-want-cultural/', 'https://www.idsnews.com/article/2016/10/jesse-eisenberg-to-perform-stand-up-comedy', 'https://dbknews.com/2012/06/12/article_97d255fb-365f-54e1-976a-f75761822fd0-html/', 'https://www.dailycardinal.com/article/2019/02/what-happened-at-uw-whitewater-how-gender-dynamics-structural-inequities-affect-female-leaders']\n",
      "Topic: 3 \n",
      "Words: 0.008*\"campu\" + 0.007*\"commun\" + 0.006*\"school\" + 0.005*\"state\" + 0.005*\"work\" + 0.004*\"issu\" + 0.004*\"educ\" + 0.004*\"member\" + 0.004*\"need\" + 0.004*\"class\"\n",
      "590\n",
      "['https://www.idsnews.com/article/2012/04/my-problem-with-his-problem-with-occupy', 'https://badgerherald.com/news/2021/11/30/gop-members-oppose-uws-violence-prevention-canvas-course/', 'https://www.dailycardinal.com/article/2014/10/rebecca-blank-lori-berquam-discuss-uw-madison-funding-tuition', 'https://mndaily.com/206612/opinion/us-must-take-new-road-africa/', 'https://badgerherald.com/news/2021/05/04/the-semester-that-was-2/', 'https://stanforddaily.com/2015/01/27/civil-disobedience-is-for-the-binary/', 'https://mndaily.com/252268/uncategorized/immigrants-wellstone-discuss-ins-policies-community-concerns/', 'https://www.idsnews.com/article/2016/09/sasv-ratifies-major-demands', 'https://dbknews.com/2005/09/28/article_3e4966d8-354b-5905-9e52-0f2ef92843e2-html/', 'https://stanforddaily.com/2016/06/10/faculty-senate-passes-housing-resolution-says-goodbyes/', 'https://mndaily.com/237719/news/stregents/', 'https://stanforddaily.com/2010/05/18/we-can-legislate-against-beauty-bias/', 'https://mndaily.com/237407/uncategorized/disaster-revisited-darfur/', 'https://stanforddaily.com/2020/08/04/a-day-in-the-step-up-or-step-down-protest-week-to-abolish-campus-police-presence/', 'https://stanforddaily.com/2020/05/20/californias-leonard-law-what-it-means-for-campus-speakers/', 'https://www.dailycardinal.com/article/2020/04/we-have-a-right-to-assemble-protests-against-safer-at-home-order-highlights-growing-conflict-between-public-health-personal-freedoms', 'https://stanforddaily.com/2016/03/30/senate-talks-resolution-on-anti-semitism-sexual-assault-prevention/', 'https://dbknews.com/2015/11/04/article_75cccb0a-835f-11e5-9cc0-9713ebf4d2fd-html/', 'https://www.dailycardinal.com/article/2014/11/whos-who-of-the-november-2014-ballot', 'https://www.idsnews.com/article/2014/10/iu-celebrates-lgbt-history-month']\n",
      "Topic: 4 \n",
      "Words: 0.005*\"state\" + 0.005*\"season\" + 0.005*\"game\" + 0.005*\"team\" + 0.005*\"know\" + 0.005*\"play\" + 0.004*\"think\" + 0.003*\"work\" + 0.003*\"go\" + 0.003*\"love\"\n",
      "379\n",
      "['https://stanforddaily.com/2014/07/17/spotlight-on-nyc-theatre-sam-mendes-brilliant-and-chilling-cabaret-is-back/', 'https://www.idsnews.com/article/2018/06/entlimestonefestival060118', 'https://www.idsnews.com/article/2016/09/pumpkins-and-popcorn-movies-to-look-out-for-this-fallpumpkins-and-popcorn-fall-movie-preview', 'https://dbknews.com/2018/05/22/13-reasons-why-season-two-review-netflix-streaming/', 'https://dbknews.com/0999/12/31/arc-wvp3x2xzy5baxegj4nfkdicjpi/', 'https://www.idsnews.com/article/2011/10/between-the-sheets-ius-hidden-pornographic-past', 'https://www.idsnews.com/article/2015/10/dead-man-walking-portrays-compelling-spiritual-journey', 'https://www.idsnews.com/article/2017/09/don-giovanni-opens-at-the-iu-musical-arts-center', 'https://www.idsnews.com/article/2015/10/column-the-penis-protest', 'https://mndaily.com/232992/uncategorized/state-work-america/', 'https://www.dailycardinal.com/article/2018/09/fall-sports-preview-2018', 'https://badgerherald.com/artsetc/2018/10/01/bucky-on-parade-brings-together-community-local-charities/', 'https://www.dailycardinal.com/article/2013/04/mad-men-returns-for-its-sixth-season', 'https://www.dailycardinal.com/article/2015/02/art-is-the-perfect-valentine-for-singles-this-holiday', 'https://stanforddaily.com/2016/04/15/striving-for-love-stanford-athletics-partners-with-one-love-to-reduce-relationship-abuse/', 'https://stanforddaily.com/2018/04/15/san-jose-stage-companys-sweeney-todd-is-a-demonic-tormented-masterpiece/', 'https://dbknews.com/2019/04/22/umd-vagina-monologues-feminism-women-care-theater-performance/', 'https://badgerherald.com/sports/2018/09/18/football-meet-wisconsins-newest-defensive-star-scott-nelson/', 'https://mndaily.com/253737/sports/spwgy0128r/', 'https://stanforddaily.com/2010/02/16/the-snark-side-of-%e2%80%9cnew-moon%e2%80%9d/']\n",
      "Topic: 5 \n",
      "Words: 0.004*\"music\" + 0.004*\"work\" + 0.004*\"think\" + 0.004*\"want\" + 0.003*\"know\" + 0.003*\"go\" + 0.003*\"album\" + 0.003*\"campu\" + 0.003*\"thing\" + 0.003*\"take\"\n",
      "156\n",
      "['https://badgerherald.com/artsetc/2015/12/07/coldplays-latest-rumored-final-album-shimmers-with-happy-farewell-tracks/', 'https://mndaily.com/270287/arts-entertainment/the-10-best-albums-of-2021-ranked/', 'https://mndaily.com/240768/uncategorized/warehouse-lost-and-seized/', 'https://mndaily.com/219604/uncategorized/sass-th/', 'https://dbknews.com/2018/09/24/brockhampton-iridescence-album-review-kevin-abstract-matt-champion-bearface-ameer-vann/', 'https://www.idsnews.com/article/2011/10/not-another-number-a-personal-definition-of-sexual-assault', 'https://dbknews.com/0999/12/31/arc-cey74u7zynhxrgafj6royvs5b4/', 'https://dbknews.com/0999/12/31/arc-e7es5zb36fcoppzkcvnzxhmlli/', 'https://www.dailycardinal.com/article/2018/09/mom-goes-viral', 'https://mndaily.com/216492/uncategorized/your-cell-phone-weapon/', 'https://dbknews.com/2016/08/12/article_6f57e9ac-2192-11e3-89cb-0019bb30f31a-html/', 'https://dbknews.com/2015/12/12/review-r-kellys-the-buffet-is-undercooked-overwrought-rb/', 'https://mndaily.com/234231/arts-entertainment/music/yoni-yum-sex-positive-punk/', 'https://www.idsnews.com/article/2016/07/return-of-the-rebel-girl', 'https://www.idsnews.com/article/2013/01/tales-of-the-tsa', 'https://mndaily.com/188045/uncategorized/net-if-today/', 'https://dbknews.com/0999/12/31/arc-2353enim6bdofnfbmx6ffyuaoi/', 'https://stanforddaily.com/2017/11/14/a-look-at-brockhampton-a-hip-hop-anti-collective-all-american-boyband/', 'https://mndaily.com/258961/weekend/culture-compass-john-hodgman-ant-civ-showcase-and-ramblin-jack-elliott/', 'https://mndaily.com/248334/opinion/factory-farming-moral-issue/']\n",
      "Topic: 6 \n",
      "Words: 0.011*\"state\" + 0.007*\"senat\" + 0.005*\"fund\" + 0.005*\"research\" + 0.005*\"work\" + 0.005*\"health\" + 0.004*\"right\" + 0.004*\"committe\" + 0.004*\"support\" + 0.004*\"offic\"\n",
      "546\n",
      "['https://www.idsnews.com/article/2012/06/kinsey-institute-brings-radical-sex-research-to-iu', 'https://dbknews.com/2016/10/27/hogan-grant-prince-georges-county-domestic-violence-sexual-assault/', 'https://mndaily.com/255295/news/metro-state/adverse-events-report-says/', 'https://dbknews.com/2016/08/12/article_4e3838e4-72bc-11e5-bbc6-fbf2d25da2a8-html/', 'https://dbknews.com/0999/12/31/arc-5bmdrcdyazgafkvy5rmmfv5svq/', 'https://dbknews.com/2017/05/01/trump-higher-education-umd/', 'https://dbknews.com/2006/11/12/article_6c2539ba-9a4f-5ec9-a146-41cc9ed0a567-html/', 'https://mndaily.com/192377/news/metro-state/abortion-bills-advance-party-lines-state-senate/', 'https://dbknews.com/0999/12/31/arc-kizxppf5kjdmrmpre6wq232ewy/', 'https://www.idsnews.com/article/2012/02/rape-and-pregnancy-are-not-gifts-from-god', 'https://stanforddaily.com/2021/10/26/undergraduate-senate-unanimously-recommends-alcohol-policy-reform/', 'https://mndaily.com/212829/opinion/pharmacy-crusaders/', 'https://dbknews.com/0999/12/31/arc-tbwae2f545fyvmlxvxtbq53ffa/', 'https://dbknews.com/2016/08/12/article_bccbd299-db92-56da-8389-774cf6e7a691-html/', 'https://mndaily.com/238353/opinion/stories-behind-proposed-positive-alternatives-act/', 'https://mndaily.com/257935/news/ctamnestybill/', 'https://mndaily.com/218363/news/metro-state/u-host-discussion-area-sex-trade/', 'https://stanforddaily.com/2017/04/07/amid-election-season-senate-still-struggles-for-visibility/', 'https://dbknews.com/0999/12/31/arc-rnxs5rneuzgajjnfaxms6q22mi/', 'https://dbknews.com/2016/08/12/article_b00cd836-ef47-5205-8a11-a89f4b09fa4e-html/']\n",
      "Topic: 7 \n",
      "Words: 0.013*\"report\" + 0.009*\"investig\" + 0.009*\"case\" + 0.007*\"offic\" + 0.007*\"campu\" + 0.007*\"polic\" + 0.006*\"victim\" + 0.006*\"crime\" + 0.005*\"accord\" + 0.005*\"incid\"\n",
      "1322\n",
      "['https://mndaily.com/203457/uncategorized/star-tribune-goes-through-state-access-withheld-u-sexual-misconduct-reports/', 'https://stanforddaily.com/2012/12/05/culture-of-silence-surrounds-sexual-assault/', 'https://mndaily.com/247011/opinion/innocent-and-loving-every-minute-it/', 'https://dbknews.com/2017/09/25/university-of-maryland-pha-sexual-assault-panel/', 'https://stanforddaily.com/2016/12/10/in-break-from-past-stanford-declines-to-release-early-admissions-data/', 'https://mndaily.com/236360/uncategorized/yudof-divulges-new-witness-academic-fraud-investigation/', 'https://stanforddaily.com/2020/12/14/usa-gymnastics-partners-with-crashcourse-a-concussion-education-program/', 'https://dbknews.com/2017/01/24/university-of-maryland-sexual-violence-investigation/', 'https://dbknews.com/2014/10/14/article_136dd9e2-5410-11e4-9751-0017a43b2370-html/', 'https://stanforddaily.com/2017/11/16/harassment-assault-allegations-against-moretti-span-three-campuses/', 'https://www.dailycardinal.com/article/2017/11/uw-madison-to-add-a-centralized-reporting-and-database-system-for-sexual-harassment', 'https://dbknews.com/0999/12/31/arc-v7zgfwp6pbc2dd2v34nokfo3mq/', 'https://www.idsnews.com/article/2020/12/iu-board-of-trustees-discusses-national-election-results-iu-sexual-misconduct-numbers', 'https://stanforddaily.com/2021/04/14/3-sexual-assaults-occurred-last-month-why-didnt-stanford-send-out-alerts/', 'https://dbknews.com/2016/08/15/article_c63e6086-917d-11e5-99be-ef4ece1e390a-html/', 'https://www.dailycardinal.com/article/2017/03/325-sexual-assaults-reported-at-uw-madison-last-year-a-jump-of-over-100', 'https://www.dailycardinal.com/article/2018/11/he-has-a-special-place-in-hell-middleton-high-school-students-protest-against-sexual-harassment', 'https://stanforddaily.com/2017/09/15/letter-to-the-editor-alumnus-responds-to-assu-statement-on-devos-title-ix/', 'https://www.dailycardinal.com/article/2014/05/university-of-wisconsin-whitewater-placed-on-federal-list-for-possible-sexual-harassment-mismanageme', 'https://mndaily.com/237169/uncategorized/court-orders-us-authorities-stay-execution-paraguayan/']\n",
      "Topic: 8 \n",
      "Words: 0.014*\"women\" + 0.010*\"violenc\" + 0.010*\"report\" + 0.010*\"campu\" + 0.008*\"victim\" + 0.007*\"rape\" + 0.006*\"commun\" + 0.005*\"stanford\" + 0.004*\"issu\" + 0.004*\"survivor\"\n",
      "982\n",
      "['https://stanforddaily.com/2021/02/23/a-case-for-unhousing-why-greek-houses-have-to-go/', 'https://www.dailycardinal.com/article/2014/05/uw-madison-campus-responds-to-report-from-federal-governments-sexual-assault-task-force', 'https://www.idsnews.com/article/2017/09/feminist-student-association-takes-back-the-night', 'https://dbknews.com/0999/12/31/arc-bzlgsjzzwzcvvhmp37b3dbbdpi/', 'https://www.idsnews.com/article/2015/01/men-are-responsible-for-their-thoughts', 'https://stanforddaily.com/2017/03/17/in-solidarity/', 'https://dbknews.com/2005/04/12/article_f86c8495-d2f9-55e4-bac0-7ffbdb530310-html/', 'https://www.idsnews.com/article/2019/02/dozens-of-student-body-presidents-criticize-proposed-title-ix-changes-in-comment', 'https://www.dailycardinal.com/article/2017/03/a-tale-of-two-stories-as-state-federal-entities-work-to-combat-sexual-assault', 'https://www.dailycardinal.com/article/2011/09/students-must-act-to-prevent-sexual-assault', 'https://www.idsnews.com/article/2013/11/re-another-drunken-saturday', 'https://dbknews.com/2014/11/20/article_8601feea-710f-11e4-b6df-ff245c2de89d-html/', 'https://www.idsnews.com/article/2014/11/op-how-to-build-a-safer-campus', 'https://dbknews.com/2016/08/12/article_cf409eb6-8798-11e2-a135-001a4bcf6878-html/', 'https://stanforddaily.com/2019/12/04/sexual-violence-on-campus-just-the-tip-of-the-iceberg/', 'https://www.idsnews.com/article/2012/04/problems-with-slutwalk', 'https://dbknews.com/2015/02/10/article_23fafe9a-b174-11e4-abd8-4b36694e3b0c-html/', 'https://www.dailycardinal.com/article/2015/10/cardinal-view-uw-falls-short-in-clarity-of-sexual-assault-policy', 'https://dbknews.com/2016/08/12/article_c8c6c37a-4030-11e3-8a21-0019bb30f31a-html/', 'https://dbknews.com/0999/12/31/arc-iyxqlarehfflfaoxazrpkt4vg4/']\n",
      "Topic: 9 \n",
      "Words: 0.016*\"polic\" + 0.009*\"report\" + 0.007*\"accord\" + 0.006*\"victim\" + 0.006*\"state\" + 0.006*\"madison\" + 0.005*\"crime\" + 0.005*\"offic\" + 0.005*\"charg\" + 0.005*\"woman\"\n",
      "1242\n",
      "['https://mndaily.com/259910/news/brclaeysfired/', 'https://mndaily.com/251240/news/brfratrape/', 'https://www.idsnews.com/article/2018/10/23-year-old-reports-potential-friday-rape', 'https://mndaily.com/214160/uncategorized/nearly-one-year-later-jones-trial-starts-today/', 'https://www.idsnews.com/article/2014/05/sexual-assault-reported-on-west-side', 'https://www.dailycardinal.com/article/2017/09/body-worn-cameras-could-become-a-part-of-madison-police-uniforms', 'https://www.idsnews.com/article/2015/10/ato-suspension', 'https://www.dailycardinal.com/article/2016/06/uwpd-police-chief-sue-riseling-announces-august-retirement', 'https://www.dailycardinal.com/article/2014/03/ex-assembly-majority-leader-bill-kramer-will-not-run-for-re-election', 'https://dbknews.com/2011/09/24/article_6b81e4f7-095c-5b51-a9ab-85c59e769458-html/', 'https://mndaily.com/198456/uncategorized/violent-crimes-become-downward-trend/', 'https://www.idsnews.com/article/2013/04/woman-reports-sexual-assault', 'https://mndaily.com/194558/uncategorized/sexual-assaults-near-u-warrant-3-year-sentence-local-man/', 'https://www.idsnews.com/article/2011/10/woman-reports-assault-at-bus-stop', 'https://www.idsnews.com/article/2019/08/bloomington-man-arrested-on-child-molestation-and-sexual-misconduct-charges', 'https://mndaily.com/230796/uncategorized/four-vying-top-spot-umpd/', 'https://mndaily.com/232338/uncategorized/us-shadow-prostitutes-trapped-drugs-pimps/', 'https://www.idsnews.com/article/2016/03/ips-counselor-charged-for-having-sex-with-her-students', 'https://www.idsnews.com/article/2013/01/rape-reported-at-ashton', 'https://www.idsnews.com/article/2018/04/bloomington-is-home-to-144-registered-sex-offenders']\n",
      "Topic: 10 \n",
      "Words: 0.006*\"drink\" + 0.005*\"alcohol\" + 0.005*\"go\" + 0.005*\"women\" + 0.004*\"think\" + 0.004*\"help\" + 0.004*\"know\" + 0.004*\"need\" + 0.004*\"work\" + 0.004*\"drug\"\n",
      "293\n",
      "['https://mndaily.com/210220/uncategorized/ama-survey-finds-college-drinking-problem-u-plans-new-programs/', 'https://dbknews.com/2018/10/30/maryland-football-culture-report-scandal-dj-durkin-kevin-anderson-wallace-loh/', 'https://mndaily.com/210722/uncategorized/university-studies-drugs-use-compulsive-sexual-behavior-pyromania-and-kleptomania/', 'https://stanforddaily.com/2016/11/02/mid-quarter-transport-numbers-drop-45-percent-from-five-year-average/', 'https://stanforddaily.com/2010/10/28/be-community-designed-for-young-cancer-patients/', 'https://mndaily.com/238629/uncategorized/goodbye-farewell/', 'https://dbknews.com/0999/12/31/arc-sqlnj6wjbjgurjhaq6f35dovju/', 'https://mndaily.com/242692/uncategorized/u-professor-keeps-job-after-complaints-discipline/', 'https://www.idsnews.com/article/2014/04/what-you-need-to-know-about-sexual-assault', 'https://dbknews.com/2016/08/12/article_d2eebc90-5bbd-11e5-8de6-1321e0ca6e5e-html/', 'https://dbknews.com/0999/12/31/arc-4zabefdhbjb4zjgmt43zeqp5wy/', 'https://mndaily.com/217254/arts-entertainment/theater/play-has-lots-lady-parts/', 'https://mndaily.com/219610/opinion/little-respect-and-recognition-needed/', 'https://dbknews.com/0999/12/31/arc-34pmjxqepnflbhfbp7s42muldm/', 'https://stanforddaily.com/2015/05/08/enjoy-responsibly-alcohol-policies-at-american-universities/', 'https://www.dailycardinal.com/article/2015/09/let-our-student-leaders-pave-the-way-in-personal-growth', 'https://dbknews.com/0999/12/31/arc-yn4ebmpqhvb7dncentuilywfgi/', 'https://dbknews.com/0999/12/31/arc-eb52lvbjhfb6fbka4zuscrzcey/', 'https://mndaily.com/268544/news/new-bill-grants-legal-amnesty-to-reporters-of-sexual-assault-even-if-under-the-illegal-influence-of-drugs-or-alcohol/', 'https://www.idsnews.com/article/2016/02/feminist-student-association-to-debut-vagina-monologues']\n"
     ]
    }
   ],
   "source": [
    "import random\n",
    "for idx, topic in lda_model.print_topics(-1):\n",
    "    print('Topic: {} \\nWords: {}'.format(idx, topic))\n",
    "    print(len(sorted_articles[idx]))\n",
    "    print(random.sample(sorted_articles[idx], 20))"
   ]
  },
  {
   "cell_type": "code",
   "execution_count": null,
   "metadata": {},
   "outputs": [],
   "source": []
  }
 ],
 "metadata": {
  "kernelspec": {
   "display_name": "Python 3",
   "language": "python",
   "name": "python3"
  },
  "language_info": {
   "codemirror_mode": {
    "name": "ipython",
    "version": 3
   },
   "file_extension": ".py",
   "mimetype": "text/x-python",
   "name": "python",
   "nbconvert_exporter": "python",
   "pygments_lexer": "ipython3",
   "version": "3.7.6"
  }
 },
 "nbformat": 4,
 "nbformat_minor": 4
}
