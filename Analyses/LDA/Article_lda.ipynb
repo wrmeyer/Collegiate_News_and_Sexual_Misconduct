{
 "cells": [
  {
   "cell_type": "code",
   "execution_count": 1,
   "metadata": {},
   "outputs": [],
   "source": [
    "import pandas as pd\n",
    "import os\n",
    "location = str(os.getcwd())"
   ]
  },
  {
   "cell_type": "code",
   "execution_count": 20,
   "metadata": {},
   "outputs": [
    {
     "name": "stdout",
     "output_type": "stream",
     "text": [
      "11768\n"
     ]
    }
   ],
   "source": [
    "f = (location[:-12] + \"Articles\\\\articles_cleaned.csv\")\n",
    "df = pd.read_csv(f)\n",
    "df = df.to_dict(\"index\")\n",
    "print(len(df))"
   ]
  },
  {
   "cell_type": "code",
   "execution_count": 5,
   "metadata": {},
   "outputs": [
    {
     "name": "stderr",
     "output_type": "stream",
     "text": [
      "[nltk_data] Downloading package wordnet to\n",
      "[nltk_data]     C:\\Users\\wilmd\\AppData\\Roaming\\nltk_data...\n",
      "[nltk_data]   Package wordnet is already up-to-date!\n"
     ]
    },
    {
     "data": {
      "text/plain": [
       "True"
      ]
     },
     "execution_count": 5,
     "metadata": {},
     "output_type": "execute_result"
    }
   ],
   "source": [
    "import gensim\n",
    "from gensim.utils import simple_preprocess\n",
    "from gensim.models import CoherenceModel\n",
    "from gensim.parsing.preprocessing import STOPWORDS\n",
    "from nltk.stem import WordNetLemmatizer, SnowballStemmer\n",
    "from nltk.stem.porter import *\n",
    "import numpy as np\n",
    "stemmer = PorterStemmer()\n",
    "np.random.seed(2018)\n",
    "import nltk\n",
    "nltk.download('wordnet')"
   ]
  },
  {
   "cell_type": "code",
   "execution_count": 6,
   "metadata": {},
   "outputs": [],
   "source": [
    "def lemmatize_stemming(text):\n",
    "    return stemmer.stem(WordNetLemmatizer().lemmatize(text, pos='v'))\n",
    "\n",
    "def preprocess(text):\n",
    "    result = []\n",
    "    for word in text:\n",
    "        word.replace(\"\\n\", \"\")\n",
    "    for token in gensim.utils.simple_preprocess(text):\n",
    "        if token not in gensim.parsing.preprocessing.STOPWORDS and len(token) > 3:\n",
    "            result.append(lemmatize_stemming(token))\n",
    "    return result"
   ]
  },
  {
   "cell_type": "code",
   "execution_count": 7,
   "metadata": {},
   "outputs": [
    {
     "name": "stdout",
     "output_type": "stream",
     "text": [
      "11768\n",
      "10884\n"
     ]
    }
   ],
   "source": [
    "df_clean = []\n",
    "print(len(df))\n",
    "for i in range(len(df)):\n",
    "    body = df[i][\"body\"]\n",
    "    if len(str(body)) > 100:\n",
    "        if \"rape\" in body or \"sexual\" in body or \"assault\" in body or \"misconduct\" in body or \"harassment\" in body:\n",
    "            df_clean.append(df[i])\n",
    "print(len(df_clean))"
   ]
  },
  {
   "cell_type": "code",
   "execution_count": 8,
   "metadata": {},
   "outputs": [
    {
     "data": {
      "text/plain": [
       "0    [year, offic, women, affair, work, improv, liv...\n",
       "1    [third, time, offic, student, associ, administ...\n",
       "Name: body, dtype: object"
      ]
     },
     "execution_count": 8,
     "metadata": {},
     "output_type": "execute_result"
    }
   ],
   "source": [
    "df = pd.DataFrame(df_clean)\n",
    "processed_docs = df['body'].map(preprocess)\n",
    "processed_docs[:2]"
   ]
  },
  {
   "cell_type": "code",
   "execution_count": 9,
   "metadata": {},
   "outputs": [
    {
     "name": "stdout",
     "output_type": "stream",
     "text": [
      "0 accomplish\n",
      "1 achiev\n",
      "2 addit\n",
      "3 address\n",
      "4 affair\n",
      "5 aim\n",
      "6 alex\n",
      "7 alyc\n",
      "8 anniversari\n",
      "9 assault\n",
      "10 assensoh\n"
     ]
    }
   ],
   "source": [
    "dictionary = gensim.corpora.Dictionary(processed_docs)\n",
    "count = 0\n",
    "for k, v in dictionary.iteritems():\n",
    "    print(k, v)\n",
    "    count += 1\n",
    "    if count > 10:\n",
    "        break"
   ]
  },
  {
   "cell_type": "code",
   "execution_count": 10,
   "metadata": {},
   "outputs": [],
   "source": [
    "dictionary.filter_extremes(no_below=15, no_above=0.5, keep_n=100000)"
   ]
  },
  {
   "cell_type": "code",
   "execution_count": 11,
   "metadata": {},
   "outputs": [],
   "source": [
    "bow_corpus = [dictionary.doc2bow(doc) for doc in processed_docs]"
   ]
  },
  {
   "cell_type": "code",
   "execution_count": 12,
   "metadata": {},
   "outputs": [],
   "source": [
    "from gensim import corpora, models\n",
    "tfidf = models.TfidfModel(bow_corpus)\n",
    "corpus_tfidf = tfidf[bow_corpus]"
   ]
  },
  {
   "cell_type": "code",
   "execution_count": 15,
   "metadata": {
    "collapsed": true,
    "jupyter": {
     "outputs_hidden": true
    }
   },
   "outputs": [
    {
     "name": "stderr",
     "output_type": "stream",
     "text": [
      "  0%|                                                                                                                                             | 0/13 [00:00<?, ?it/s]"
     ]
    },
    {
     "name": "stdout",
     "output_type": "stream",
     "text": [
      "2\n"
     ]
    },
    {
     "name": "stderr",
     "output_type": "stream",
     "text": [
      "  0%|                                                                                                                                             | 0/13 [00:03<?, ?it/s]\n"
     ]
    },
    {
     "ename": "KeyboardInterrupt",
     "evalue": "",
     "output_type": "error",
     "traceback": [
      "\u001b[1;31m---------------------------------------------------------------------------\u001b[0m",
      "\u001b[1;31mKeyboardInterrupt\u001b[0m                         Traceback (most recent call last)",
      "\u001b[1;32m<ipython-input-15-81e7907214d5>\u001b[0m in \u001b[0;36m<module>\u001b[1;34m\u001b[0m\n\u001b[0;32m     28\u001b[0m \u001b[1;33m\u001b[0m\u001b[0m\n\u001b[0;32m     29\u001b[0m \u001b[1;31m# Can take a long time to run.\u001b[0m\u001b[1;33m\u001b[0m\u001b[1;33m\u001b[0m\u001b[1;33m\u001b[0m\u001b[0m\n\u001b[1;32m---> 30\u001b[1;33m \u001b[0mmodel_list\u001b[0m\u001b[1;33m,\u001b[0m \u001b[0mcoherence_values\u001b[0m \u001b[1;33m=\u001b[0m \u001b[0mcompute_coherence_values\u001b[0m\u001b[1;33m(\u001b[0m\u001b[0mdictionary\u001b[0m\u001b[1;33m=\u001b[0m\u001b[0mdictionary\u001b[0m\u001b[1;33m,\u001b[0m \u001b[0mcorpus\u001b[0m\u001b[1;33m=\u001b[0m\u001b[0mbow_corpus\u001b[0m\u001b[1;33m,\u001b[0m \u001b[0mtexts\u001b[0m\u001b[1;33m=\u001b[0m\u001b[0mprocessed_docs\u001b[0m\u001b[1;33m,\u001b[0m \u001b[0mstart\u001b[0m\u001b[1;33m=\u001b[0m\u001b[1;36m2\u001b[0m\u001b[1;33m,\u001b[0m \u001b[0mlimit\u001b[0m\u001b[1;33m=\u001b[0m\u001b[1;36m15\u001b[0m\u001b[1;33m,\u001b[0m \u001b[0mstep\u001b[0m\u001b[1;33m=\u001b[0m\u001b[1;36m1\u001b[0m\u001b[1;33m)\u001b[0m\u001b[1;33m\u001b[0m\u001b[1;33m\u001b[0m\u001b[0m\n\u001b[0m",
      "\u001b[1;32m<ipython-input-15-81e7907214d5>\u001b[0m in \u001b[0;36mcompute_coherence_values\u001b[1;34m(dictionary, corpus, texts, limit, start, step)\u001b[0m\n\u001b[0;32m     20\u001b[0m     \u001b[1;32mfor\u001b[0m \u001b[0mnum_topics\u001b[0m \u001b[1;32min\u001b[0m \u001b[0mtqdm\u001b[0m\u001b[1;33m(\u001b[0m\u001b[0mrange\u001b[0m\u001b[1;33m(\u001b[0m\u001b[0mstart\u001b[0m\u001b[1;33m,\u001b[0m \u001b[0mlimit\u001b[0m\u001b[1;33m,\u001b[0m \u001b[0mstep\u001b[0m\u001b[1;33m)\u001b[0m\u001b[1;33m)\u001b[0m\u001b[1;33m:\u001b[0m\u001b[1;33m\u001b[0m\u001b[1;33m\u001b[0m\u001b[0m\n\u001b[0;32m     21\u001b[0m         \u001b[0mprint\u001b[0m\u001b[1;33m(\u001b[0m\u001b[0mnum_topics\u001b[0m\u001b[1;33m)\u001b[0m\u001b[1;33m\u001b[0m\u001b[1;33m\u001b[0m\u001b[0m\n\u001b[1;32m---> 22\u001b[1;33m         \u001b[0mmodel\u001b[0m \u001b[1;33m=\u001b[0m \u001b[0mgensim\u001b[0m\u001b[1;33m.\u001b[0m\u001b[0mmodels\u001b[0m\u001b[1;33m.\u001b[0m\u001b[0mLdaMulticore\u001b[0m\u001b[1;33m(\u001b[0m\u001b[0mcorpus\u001b[0m \u001b[1;33m=\u001b[0m \u001b[0mcorpus\u001b[0m\u001b[1;33m,\u001b[0m \u001b[0mnum_topics\u001b[0m \u001b[1;33m=\u001b[0m \u001b[0mnum_topics\u001b[0m\u001b[1;33m,\u001b[0m \u001b[0mid2word\u001b[0m \u001b[1;33m=\u001b[0m \u001b[0mdictionary\u001b[0m\u001b[1;33m,\u001b[0m \u001b[0mpasses\u001b[0m\u001b[1;33m=\u001b[0m\u001b[1;36m2\u001b[0m\u001b[1;33m,\u001b[0m \u001b[0mworkers\u001b[0m\u001b[1;33m=\u001b[0m\u001b[1;36m2\u001b[0m\u001b[1;33m)\u001b[0m\u001b[1;33m\u001b[0m\u001b[1;33m\u001b[0m\u001b[0m\n\u001b[0m\u001b[0;32m     23\u001b[0m         \u001b[0mmodel_list\u001b[0m\u001b[1;33m.\u001b[0m\u001b[0mappend\u001b[0m\u001b[1;33m(\u001b[0m\u001b[0mmodel\u001b[0m\u001b[1;33m)\u001b[0m\u001b[1;33m\u001b[0m\u001b[1;33m\u001b[0m\u001b[0m\n\u001b[0;32m     24\u001b[0m         \u001b[0mcoherencemodel\u001b[0m \u001b[1;33m=\u001b[0m \u001b[0mCoherenceModel\u001b[0m\u001b[1;33m(\u001b[0m\u001b[0mmodel\u001b[0m\u001b[1;33m=\u001b[0m\u001b[0mmodel\u001b[0m\u001b[1;33m,\u001b[0m \u001b[0mtexts\u001b[0m\u001b[1;33m=\u001b[0m\u001b[0mtexts\u001b[0m\u001b[1;33m,\u001b[0m \u001b[0mdictionary\u001b[0m\u001b[1;33m=\u001b[0m\u001b[0mdictionary\u001b[0m\u001b[1;33m,\u001b[0m \u001b[0mcoherence\u001b[0m\u001b[1;33m=\u001b[0m\u001b[1;34m'c_v'\u001b[0m\u001b[1;33m)\u001b[0m\u001b[1;33m\u001b[0m\u001b[1;33m\u001b[0m\u001b[0m\n",
      "\u001b[1;32mc:\\users\\wilmd\\onedrive\\desktop\\python_env\\env\\lib\\site-packages\\gensim\\models\\ldamulticore.py\u001b[0m in \u001b[0;36m__init__\u001b[1;34m(self, corpus, num_topics, id2word, workers, chunksize, passes, batch, alpha, eta, decay, offset, eval_every, iterations, gamma_threshold, random_state, minimum_probability, minimum_phi_value, per_word_topics, dtype)\u001b[0m\n\u001b[0;32m    189\u001b[0m             \u001b[0mdecay\u001b[0m\u001b[1;33m=\u001b[0m\u001b[0mdecay\u001b[0m\u001b[1;33m,\u001b[0m \u001b[0moffset\u001b[0m\u001b[1;33m=\u001b[0m\u001b[0moffset\u001b[0m\u001b[1;33m,\u001b[0m \u001b[0meval_every\u001b[0m\u001b[1;33m=\u001b[0m\u001b[0meval_every\u001b[0m\u001b[1;33m,\u001b[0m \u001b[0miterations\u001b[0m\u001b[1;33m=\u001b[0m\u001b[0miterations\u001b[0m\u001b[1;33m,\u001b[0m\u001b[1;33m\u001b[0m\u001b[1;33m\u001b[0m\u001b[0m\n\u001b[0;32m    190\u001b[0m             \u001b[0mgamma_threshold\u001b[0m\u001b[1;33m=\u001b[0m\u001b[0mgamma_threshold\u001b[0m\u001b[1;33m,\u001b[0m \u001b[0mrandom_state\u001b[0m\u001b[1;33m=\u001b[0m\u001b[0mrandom_state\u001b[0m\u001b[1;33m,\u001b[0m \u001b[0mminimum_probability\u001b[0m\u001b[1;33m=\u001b[0m\u001b[0mminimum_probability\u001b[0m\u001b[1;33m,\u001b[0m\u001b[1;33m\u001b[0m\u001b[1;33m\u001b[0m\u001b[0m\n\u001b[1;32m--> 191\u001b[1;33m             \u001b[0mminimum_phi_value\u001b[0m\u001b[1;33m=\u001b[0m\u001b[0mminimum_phi_value\u001b[0m\u001b[1;33m,\u001b[0m \u001b[0mper_word_topics\u001b[0m\u001b[1;33m=\u001b[0m\u001b[0mper_word_topics\u001b[0m\u001b[1;33m,\u001b[0m \u001b[0mdtype\u001b[0m\u001b[1;33m=\u001b[0m\u001b[0mdtype\u001b[0m\u001b[1;33m,\u001b[0m\u001b[1;33m\u001b[0m\u001b[1;33m\u001b[0m\u001b[0m\n\u001b[0m\u001b[0;32m    192\u001b[0m         )\n\u001b[0;32m    193\u001b[0m \u001b[1;33m\u001b[0m\u001b[0m\n",
      "\u001b[1;32mc:\\users\\wilmd\\onedrive\\desktop\\python_env\\env\\lib\\site-packages\\gensim\\models\\ldamodel.py\u001b[0m in \u001b[0;36m__init__\u001b[1;34m(self, corpus, num_topics, id2word, distributed, chunksize, passes, update_every, alpha, eta, decay, offset, eval_every, iterations, gamma_threshold, minimum_probability, random_state, ns_conf, minimum_phi_value, per_word_topics, callbacks, dtype)\u001b[0m\n\u001b[0;32m    518\u001b[0m             \u001b[0muse_numpy\u001b[0m \u001b[1;33m=\u001b[0m \u001b[0mself\u001b[0m\u001b[1;33m.\u001b[0m\u001b[0mdispatcher\u001b[0m \u001b[1;32mis\u001b[0m \u001b[1;32mnot\u001b[0m \u001b[1;32mNone\u001b[0m\u001b[1;33m\u001b[0m\u001b[1;33m\u001b[0m\u001b[0m\n\u001b[0;32m    519\u001b[0m             \u001b[0mstart\u001b[0m \u001b[1;33m=\u001b[0m \u001b[0mtime\u001b[0m\u001b[1;33m.\u001b[0m\u001b[0mtime\u001b[0m\u001b[1;33m(\u001b[0m\u001b[1;33m)\u001b[0m\u001b[1;33m\u001b[0m\u001b[1;33m\u001b[0m\u001b[0m\n\u001b[1;32m--> 520\u001b[1;33m             \u001b[0mself\u001b[0m\u001b[1;33m.\u001b[0m\u001b[0mupdate\u001b[0m\u001b[1;33m(\u001b[0m\u001b[0mcorpus\u001b[0m\u001b[1;33m,\u001b[0m \u001b[0mchunks_as_numpy\u001b[0m\u001b[1;33m=\u001b[0m\u001b[0muse_numpy\u001b[0m\u001b[1;33m)\u001b[0m\u001b[1;33m\u001b[0m\u001b[1;33m\u001b[0m\u001b[0m\n\u001b[0m\u001b[0;32m    521\u001b[0m             self.add_lifecycle_event(\n\u001b[0;32m    522\u001b[0m                 \u001b[1;34m\"created\"\u001b[0m\u001b[1;33m,\u001b[0m\u001b[1;33m\u001b[0m\u001b[1;33m\u001b[0m\u001b[0m\n",
      "\u001b[1;32mc:\\users\\wilmd\\onedrive\\desktop\\python_env\\env\\lib\\site-packages\\gensim\\models\\ldamulticore.py\u001b[0m in \u001b[0;36mupdate\u001b[1;34m(self, corpus, chunks_as_numpy)\u001b[0m\n\u001b[0;32m    314\u001b[0m             \u001b[1;31m# wait for all outstanding jobs to finish\u001b[0m\u001b[1;33m\u001b[0m\u001b[1;33m\u001b[0m\u001b[1;33m\u001b[0m\u001b[0m\n\u001b[0;32m    315\u001b[0m             \u001b[1;32mwhile\u001b[0m \u001b[0mqueue_size\u001b[0m\u001b[1;33m[\u001b[0m\u001b[1;36m0\u001b[0m\u001b[1;33m]\u001b[0m \u001b[1;33m>\u001b[0m \u001b[1;36m0\u001b[0m\u001b[1;33m:\u001b[0m\u001b[1;33m\u001b[0m\u001b[1;33m\u001b[0m\u001b[0m\n\u001b[1;32m--> 316\u001b[1;33m                 \u001b[0mprocess_result_queue\u001b[0m\u001b[1;33m(\u001b[0m\u001b[0mforce\u001b[0m\u001b[1;33m=\u001b[0m\u001b[1;32mTrue\u001b[0m\u001b[1;33m)\u001b[0m\u001b[1;33m\u001b[0m\u001b[1;33m\u001b[0m\u001b[0m\n\u001b[0m\u001b[0;32m    317\u001b[0m \u001b[1;33m\u001b[0m\u001b[0m\n\u001b[0;32m    318\u001b[0m             \u001b[1;32mif\u001b[0m \u001b[0mreallen\u001b[0m \u001b[1;33m!=\u001b[0m \u001b[0mlencorpus\u001b[0m\u001b[1;33m:\u001b[0m\u001b[1;33m\u001b[0m\u001b[1;33m\u001b[0m\u001b[0m\n",
      "\u001b[1;32mc:\\users\\wilmd\\onedrive\\desktop\\python_env\\env\\lib\\site-packages\\gensim\\models\\ldamulticore.py\u001b[0m in \u001b[0;36mprocess_result_queue\u001b[1;34m(force)\u001b[0m\n\u001b[0;32m    272\u001b[0m             \"\"\"\n\u001b[0;32m    273\u001b[0m             \u001b[0mmerged_new\u001b[0m \u001b[1;33m=\u001b[0m \u001b[1;32mFalse\u001b[0m\u001b[1;33m\u001b[0m\u001b[1;33m\u001b[0m\u001b[0m\n\u001b[1;32m--> 274\u001b[1;33m             \u001b[1;32mwhile\u001b[0m \u001b[1;32mnot\u001b[0m \u001b[0mresult_queue\u001b[0m\u001b[1;33m.\u001b[0m\u001b[0mempty\u001b[0m\u001b[1;33m(\u001b[0m\u001b[1;33m)\u001b[0m\u001b[1;33m:\u001b[0m\u001b[1;33m\u001b[0m\u001b[1;33m\u001b[0m\u001b[0m\n\u001b[0m\u001b[0;32m    275\u001b[0m                 \u001b[0mother\u001b[0m\u001b[1;33m.\u001b[0m\u001b[0mmerge\u001b[0m\u001b[1;33m(\u001b[0m\u001b[0mresult_queue\u001b[0m\u001b[1;33m.\u001b[0m\u001b[0mget\u001b[0m\u001b[1;33m(\u001b[0m\u001b[1;33m)\u001b[0m\u001b[1;33m)\u001b[0m\u001b[1;33m\u001b[0m\u001b[1;33m\u001b[0m\u001b[0m\n\u001b[0;32m    276\u001b[0m                 \u001b[0mqueue_size\u001b[0m\u001b[1;33m[\u001b[0m\u001b[1;36m0\u001b[0m\u001b[1;33m]\u001b[0m \u001b[1;33m-=\u001b[0m \u001b[1;36m1\u001b[0m\u001b[1;33m\u001b[0m\u001b[1;33m\u001b[0m\u001b[0m\n",
      "\u001b[1;32m~\\AppData\\Local\\Programs\\Python\\Python37\\Lib\\multiprocessing\\queues.py\u001b[0m in \u001b[0;36mempty\u001b[1;34m(self)\u001b[0m\n\u001b[0;32m    118\u001b[0m \u001b[1;33m\u001b[0m\u001b[0m\n\u001b[0;32m    119\u001b[0m     \u001b[1;32mdef\u001b[0m \u001b[0mempty\u001b[0m\u001b[1;33m(\u001b[0m\u001b[0mself\u001b[0m\u001b[1;33m)\u001b[0m\u001b[1;33m:\u001b[0m\u001b[1;33m\u001b[0m\u001b[1;33m\u001b[0m\u001b[0m\n\u001b[1;32m--> 120\u001b[1;33m         \u001b[1;32mreturn\u001b[0m \u001b[1;32mnot\u001b[0m \u001b[0mself\u001b[0m\u001b[1;33m.\u001b[0m\u001b[0m_poll\u001b[0m\u001b[1;33m(\u001b[0m\u001b[1;33m)\u001b[0m\u001b[1;33m\u001b[0m\u001b[1;33m\u001b[0m\u001b[0m\n\u001b[0m\u001b[0;32m    121\u001b[0m \u001b[1;33m\u001b[0m\u001b[0m\n\u001b[0;32m    122\u001b[0m     \u001b[1;32mdef\u001b[0m \u001b[0mfull\u001b[0m\u001b[1;33m(\u001b[0m\u001b[0mself\u001b[0m\u001b[1;33m)\u001b[0m\u001b[1;33m:\u001b[0m\u001b[1;33m\u001b[0m\u001b[1;33m\u001b[0m\u001b[0m\n",
      "\u001b[1;32m~\\AppData\\Local\\Programs\\Python\\Python37\\Lib\\multiprocessing\\connection.py\u001b[0m in \u001b[0;36mpoll\u001b[1;34m(self, timeout)\u001b[0m\n\u001b[0;32m    255\u001b[0m         \u001b[0mself\u001b[0m\u001b[1;33m.\u001b[0m\u001b[0m_check_closed\u001b[0m\u001b[1;33m(\u001b[0m\u001b[1;33m)\u001b[0m\u001b[1;33m\u001b[0m\u001b[1;33m\u001b[0m\u001b[0m\n\u001b[0;32m    256\u001b[0m         \u001b[0mself\u001b[0m\u001b[1;33m.\u001b[0m\u001b[0m_check_readable\u001b[0m\u001b[1;33m(\u001b[0m\u001b[1;33m)\u001b[0m\u001b[1;33m\u001b[0m\u001b[1;33m\u001b[0m\u001b[0m\n\u001b[1;32m--> 257\u001b[1;33m         \u001b[1;32mreturn\u001b[0m \u001b[0mself\u001b[0m\u001b[1;33m.\u001b[0m\u001b[0m_poll\u001b[0m\u001b[1;33m(\u001b[0m\u001b[0mtimeout\u001b[0m\u001b[1;33m)\u001b[0m\u001b[1;33m\u001b[0m\u001b[1;33m\u001b[0m\u001b[0m\n\u001b[0m\u001b[0;32m    258\u001b[0m \u001b[1;33m\u001b[0m\u001b[0m\n\u001b[0;32m    259\u001b[0m     \u001b[1;32mdef\u001b[0m \u001b[0m__enter__\u001b[0m\u001b[1;33m(\u001b[0m\u001b[0mself\u001b[0m\u001b[1;33m)\u001b[0m\u001b[1;33m:\u001b[0m\u001b[1;33m\u001b[0m\u001b[1;33m\u001b[0m\u001b[0m\n",
      "\u001b[1;32m~\\AppData\\Local\\Programs\\Python\\Python37\\Lib\\multiprocessing\\connection.py\u001b[0m in \u001b[0;36m_poll\u001b[1;34m(self, timeout)\u001b[0m\n\u001b[0;32m    328\u001b[0m                         _winapi.PeekNamedPipe(self._handle)[0] != 0):\n\u001b[0;32m    329\u001b[0m                 \u001b[1;32mreturn\u001b[0m \u001b[1;32mTrue\u001b[0m\u001b[1;33m\u001b[0m\u001b[1;33m\u001b[0m\u001b[0m\n\u001b[1;32m--> 330\u001b[1;33m             \u001b[1;32mreturn\u001b[0m \u001b[0mbool\u001b[0m\u001b[1;33m(\u001b[0m\u001b[0mwait\u001b[0m\u001b[1;33m(\u001b[0m\u001b[1;33m[\u001b[0m\u001b[0mself\u001b[0m\u001b[1;33m]\u001b[0m\u001b[1;33m,\u001b[0m \u001b[0mtimeout\u001b[0m\u001b[1;33m)\u001b[0m\u001b[1;33m)\u001b[0m\u001b[1;33m\u001b[0m\u001b[1;33m\u001b[0m\u001b[0m\n\u001b[0m\u001b[0;32m    331\u001b[0m \u001b[1;33m\u001b[0m\u001b[0m\n\u001b[0;32m    332\u001b[0m         \u001b[1;32mdef\u001b[0m \u001b[0m_get_more_data\u001b[0m\u001b[1;33m(\u001b[0m\u001b[0mself\u001b[0m\u001b[1;33m,\u001b[0m \u001b[0mov\u001b[0m\u001b[1;33m,\u001b[0m \u001b[0mmaxsize\u001b[0m\u001b[1;33m)\u001b[0m\u001b[1;33m:\u001b[0m\u001b[1;33m\u001b[0m\u001b[1;33m\u001b[0m\u001b[0m\n",
      "\u001b[1;32m~\\AppData\\Local\\Programs\\Python\\Python37\\Lib\\multiprocessing\\connection.py\u001b[0m in \u001b[0;36mwait\u001b[1;34m(object_list, timeout)\u001b[0m\n\u001b[0;32m    842\u001b[0m                     \u001b[1;31m# start an overlapped read of length zero\u001b[0m\u001b[1;33m\u001b[0m\u001b[1;33m\u001b[0m\u001b[1;33m\u001b[0m\u001b[0m\n\u001b[0;32m    843\u001b[0m                     \u001b[1;32mtry\u001b[0m\u001b[1;33m:\u001b[0m\u001b[1;33m\u001b[0m\u001b[1;33m\u001b[0m\u001b[0m\n\u001b[1;32m--> 844\u001b[1;33m                         \u001b[0mov\u001b[0m\u001b[1;33m,\u001b[0m \u001b[0merr\u001b[0m \u001b[1;33m=\u001b[0m \u001b[0m_winapi\u001b[0m\u001b[1;33m.\u001b[0m\u001b[0mReadFile\u001b[0m\u001b[1;33m(\u001b[0m\u001b[0mfileno\u001b[0m\u001b[1;33m(\u001b[0m\u001b[1;33m)\u001b[0m\u001b[1;33m,\u001b[0m \u001b[1;36m0\u001b[0m\u001b[1;33m,\u001b[0m \u001b[1;32mTrue\u001b[0m\u001b[1;33m)\u001b[0m\u001b[1;33m\u001b[0m\u001b[1;33m\u001b[0m\u001b[0m\n\u001b[0m\u001b[0;32m    845\u001b[0m                     \u001b[1;32mexcept\u001b[0m \u001b[0mOSError\u001b[0m \u001b[1;32mas\u001b[0m \u001b[0me\u001b[0m\u001b[1;33m:\u001b[0m\u001b[1;33m\u001b[0m\u001b[1;33m\u001b[0m\u001b[0m\n\u001b[0;32m    846\u001b[0m                         \u001b[0mov\u001b[0m\u001b[1;33m,\u001b[0m \u001b[0merr\u001b[0m \u001b[1;33m=\u001b[0m \u001b[1;32mNone\u001b[0m\u001b[1;33m,\u001b[0m \u001b[0me\u001b[0m\u001b[1;33m.\u001b[0m\u001b[0mwinerror\u001b[0m\u001b[1;33m\u001b[0m\u001b[1;33m\u001b[0m\u001b[0m\n",
      "\u001b[1;31mKeyboardInterrupt\u001b[0m: "
     ]
    }
   ],
   "source": [
    "def compute_coherence_values(dictionary, corpus, texts, limit, start=2, step=3):\n",
    "    \"\"\"\n",
    "    Compute c_v coherence for various number of topics\n",
    "\n",
    "    Parameters:\n",
    "    ----------\n",
    "    dictionary : Gensim dictionary\n",
    "    corpus : Gensim corpus\n",
    "    texts : List of input texts\n",
    "\n",
    "    Returns:\n",
    "    -------\n",
    "    model_list : List of LDA topic models\n",
    "    coherence_values : Coherence values corresponding to the LDA model with respective number of topics\n",
    "    \"\"\"\n",
    "    coherence_values = []\n",
    "    model_list = []\n",
    "    from tqdm import tqdm\n",
    "\n",
    "    for num_topics in tqdm(range(start, limit, step)):\n",
    "        print(num_topics)\n",
    "        model = gensim.models.LdaMulticore(corpus = corpus, num_topics = num_topics, id2word = dictionary, passes=2, workers=2)\n",
    "        model_list.append(model)\n",
    "        coherencemodel = CoherenceModel(model=model, texts=texts, dictionary=dictionary, coherence='c_v')\n",
    "        coherence_values.append(coherencemodel.get_coherence())\n",
    "\n",
    "    return model_list, coherence_values\n",
    "\n",
    "# Can take a long time to run.\n",
    "model_list, coherence_values = compute_coherence_values(dictionary=dictionary, corpus=bow_corpus, texts=processed_docs, start=2, limit=15, step=1)"
   ]
  },
  {
   "cell_type": "code",
   "execution_count": 14,
   "metadata": {},
   "outputs": [
    {
     "data": {
      "text/plain": [
       "[0.3200155663309372,\n",
       " 0.3501589202633249,\n",
       " 0.3710416963143046,\n",
       " 0.3319701142107471,\n",
       " 0.3886366105043175,\n",
       " 0.34575733356444005,\n",
       " 0.3791220873199293,\n",
       " 0.36862315615513125,\n",
       " 0.39069825247853124,\n",
       " 0.39839163422759183,\n",
       " 0.3833009113960846,\n",
       " 0.3628397262538243,\n",
       " 0.3895807344479638]"
      ]
     },
     "execution_count": 14,
     "metadata": {},
     "output_type": "execute_result"
    }
   ],
   "source": [
    "coherence_values"
   ]
  },
  {
   "cell_type": "code",
   "execution_count": 16,
   "metadata": {},
   "outputs": [],
   "source": [
    "lda_model = gensim.models.LdaMulticore(bow_corpus, num_topics=11, id2word=dictionary, passes=2, workers=2)"
   ]
  },
  {
   "cell_type": "code",
   "execution_count": 17,
   "metadata": {},
   "outputs": [
    {
     "name": "stdout",
     "output_type": "stream",
     "text": [
      "Topic: 0 \n",
      "Words: 0.005*\"women\" + 0.005*\"think\" + 0.005*\"right\" + 0.004*\"know\" + 0.004*\"stori\" + 0.004*\"film\" + 0.003*\"trump\" + 0.003*\"want\" + 0.003*\"life\" + 0.003*\"world\"\n",
      "Topic: 1 \n",
      "Words: 0.005*\"campu\" + 0.004*\"work\" + 0.004*\"citi\" + 0.004*\"want\" + 0.004*\"servic\" + 0.004*\"school\" + 0.003*\"night\" + 0.003*\"go\" + 0.003*\"state\" + 0.003*\"offic\"\n",
      "Topic: 2 \n",
      "Words: 0.010*\"campu\" + 0.008*\"work\" + 0.008*\"women\" + 0.006*\"issu\" + 0.005*\"commun\" + 0.005*\"group\" + 0.005*\"violenc\" + 0.005*\"organ\" + 0.005*\"presid\" + 0.005*\"member\"\n",
      "Topic: 3 \n",
      "Words: 0.008*\"campu\" + 0.007*\"commun\" + 0.006*\"school\" + 0.005*\"state\" + 0.005*\"work\" + 0.004*\"issu\" + 0.004*\"educ\" + 0.004*\"member\" + 0.004*\"need\" + 0.004*\"class\"\n",
      "Topic: 4 \n",
      "Words: 0.005*\"state\" + 0.005*\"season\" + 0.005*\"game\" + 0.005*\"team\" + 0.005*\"know\" + 0.005*\"play\" + 0.004*\"think\" + 0.003*\"work\" + 0.003*\"go\" + 0.003*\"love\"\n",
      "Topic: 5 \n",
      "Words: 0.004*\"music\" + 0.004*\"work\" + 0.004*\"think\" + 0.004*\"want\" + 0.003*\"know\" + 0.003*\"go\" + 0.003*\"album\" + 0.003*\"campu\" + 0.003*\"thing\" + 0.003*\"take\"\n",
      "Topic: 6 \n",
      "Words: 0.011*\"state\" + 0.007*\"senat\" + 0.005*\"fund\" + 0.005*\"research\" + 0.005*\"work\" + 0.005*\"health\" + 0.004*\"right\" + 0.004*\"committe\" + 0.004*\"support\" + 0.004*\"offic\"\n",
      "Topic: 7 \n",
      "Words: 0.013*\"report\" + 0.009*\"investig\" + 0.009*\"case\" + 0.007*\"offic\" + 0.007*\"campu\" + 0.007*\"polic\" + 0.006*\"victim\" + 0.006*\"crime\" + 0.005*\"accord\" + 0.005*\"incid\"\n",
      "Topic: 8 \n",
      "Words: 0.014*\"women\" + 0.010*\"violenc\" + 0.010*\"report\" + 0.010*\"campu\" + 0.008*\"victim\" + 0.007*\"rape\" + 0.006*\"commun\" + 0.005*\"stanford\" + 0.004*\"issu\" + 0.004*\"survivor\"\n",
      "Topic: 9 \n",
      "Words: 0.016*\"polic\" + 0.009*\"report\" + 0.007*\"accord\" + 0.006*\"victim\" + 0.006*\"state\" + 0.006*\"madison\" + 0.005*\"crime\" + 0.005*\"offic\" + 0.005*\"charg\" + 0.005*\"woman\"\n",
      "Topic: 10 \n",
      "Words: 0.006*\"drink\" + 0.005*\"alcohol\" + 0.005*\"go\" + 0.005*\"women\" + 0.004*\"think\" + 0.004*\"help\" + 0.004*\"know\" + 0.004*\"need\" + 0.004*\"work\" + 0.004*\"drug\"\n"
     ]
    }
   ],
   "source": [
    "topic_df = []\n",
    "for idx, topic in lda_model.print_topics(-1):\n",
    "    print('Topic: {} \\nWords: {}'.format(idx, topic))\n",
    "    topic_df.append({\"index\": idx, \"topic_info\": topic})\n",
    "    \n",
    "pd.DataFrame(topic_df).to_csv('topics_info.csv')"
   ]
  },
  {
   "cell_type": "code",
   "execution_count": 18,
   "metadata": {},
   "outputs": [
    {
     "name": "stdout",
     "output_type": "stream",
     "text": [
      "\n",
      "Score: 0.3996129035949707\t \n",
      "Topic: 0.004*\"music\" + 0.004*\"work\" + 0.004*\"think\" + 0.004*\"want\" + 0.003*\"know\" + 0.003*\"go\" + 0.003*\"album\" + 0.003*\"campu\" + 0.003*\"thing\" + 0.003*\"take\"\n",
      "\n",
      "Score: 0.29256385564804077\t \n",
      "Topic: 0.005*\"campu\" + 0.004*\"work\" + 0.004*\"citi\" + 0.004*\"want\" + 0.004*\"servic\" + 0.004*\"school\" + 0.003*\"night\" + 0.003*\"go\" + 0.003*\"state\" + 0.003*\"offic\"\n",
      "\n",
      "Score: 0.23568807542324066\t \n",
      "Topic: 0.006*\"drink\" + 0.005*\"alcohol\" + 0.005*\"go\" + 0.005*\"women\" + 0.004*\"think\" + 0.004*\"help\" + 0.004*\"know\" + 0.004*\"need\" + 0.004*\"work\" + 0.004*\"drug\"\n",
      "\n",
      "Score: 0.04497963935136795\t \n",
      "Topic: 0.005*\"women\" + 0.005*\"think\" + 0.005*\"right\" + 0.004*\"know\" + 0.004*\"stori\" + 0.004*\"film\" + 0.003*\"trump\" + 0.003*\"want\" + 0.003*\"life\" + 0.003*\"world\"\n",
      "\n",
      "Score: 0.021929387003183365\t \n",
      "Topic: 0.005*\"state\" + 0.005*\"season\" + 0.005*\"game\" + 0.005*\"team\" + 0.005*\"know\" + 0.005*\"play\" + 0.004*\"think\" + 0.003*\"work\" + 0.003*\"go\" + 0.003*\"love\"\n"
     ]
    }
   ],
   "source": [
    "for index, score in sorted(lda_model[bow_corpus[7]], key=lambda tup: -1*tup[1]):\n",
    "    print(\"\\nScore: {}\\t \\nTopic: {}\".format(score, lda_model.print_topic(index, 10)))"
   ]
  },
  {
   "cell_type": "markdown",
   "metadata": {},
   "source": [
    "Saving results to dataframe\n"
   ]
  },
  {
   "cell_type": "code",
   "execution_count": 30,
   "metadata": {},
   "outputs": [
    {
     "name": "stderr",
     "output_type": "stream",
     "text": [
      "100%|██████████████████████████████████████████████████████████████████████████████████████████████████████████████████████████████| 11768/11768 [04:13<00:00, 46.36it/s]"
     ]
    },
    {
     "name": "stdout",
     "output_type": "stream",
     "text": [
      "8150\n"
     ]
    },
    {
     "name": "stderr",
     "output_type": "stream",
     "text": [
      "\n"
     ]
    }
   ],
   "source": [
    "df_clean = []\n",
    "\n",
    "from tqdm import tqdm\n",
    "\n",
    "for i in tqdm(range(len(df))):\n",
    "    item = df[i]\n",
    "    body = item[\"body\"]\n",
    "    url = item[\"url\"]\n",
    "    title = item[\"title\"]\n",
    "    location = item[\"location\"]\n",
    "    date = item[\"date\"]\n",
    "    processed_body = preprocess(str(body))\n",
    "    bow_index = dictionary.doc2bow(processed_body)\n",
    "    \n",
    "    topic_list = []\n",
    "    j = 0\n",
    "    for index, score in sorted(lda_model[bow_index], key=lambda tup: -1*tup[1]):\n",
    "        topic_list.append({\"Score\": score, \"Topic\": index, \"Topic_terms\": lda_model.print_topic(index, 10)})\n",
    "        if j == 0:\n",
    "            lead_topic = index\n",
    "        j += 1\n",
    "    \n",
    "    if len(str(body)) > 100:\n",
    "        if \" rape \" in body or \" sexual \" in body or \" assault \" in body or \" misconduct \" in body or \" harassment \" in body or \" harass \" in body:\n",
    "            df_clean.append({\"url\": url, \"body\": body, \"title\": title, \"location\": location, \"date\": date, \"topic scores\": topic_list, \"top_topic\": lead_topic})\n",
    "print(len(df_clean))"
   ]
  },
  {
   "cell_type": "code",
   "execution_count": 3,
   "metadata": {},
   "outputs": [
    {
     "ename": "NameError",
     "evalue": "name 'df_clean' is not defined",
     "output_type": "error",
     "traceback": [
      "\u001b[1;31m---------------------------------------------------------------------------\u001b[0m",
      "\u001b[1;31mNameError\u001b[0m                                 Traceback (most recent call last)",
      "\u001b[1;32m<ipython-input-3-41a1df67e615>\u001b[0m in \u001b[0;36m<module>\u001b[1;34m\u001b[0m\n\u001b[1;32m----> 1\u001b[1;33m \u001b[0mpd\u001b[0m\u001b[1;33m.\u001b[0m\u001b[0mDataFrame\u001b[0m\u001b[1;33m(\u001b[0m\u001b[0mdf_clean\u001b[0m\u001b[1;33m)\u001b[0m\u001b[1;33m.\u001b[0m\u001b[0mto_csv\u001b[0m\u001b[1;33m(\u001b[0m\u001b[1;34m'\\\\articles_with_topic.csv'\u001b[0m\u001b[1;33m)\u001b[0m\u001b[1;33m\u001b[0m\u001b[1;33m\u001b[0m\u001b[0m\n\u001b[0m",
      "\u001b[1;31mNameError\u001b[0m: name 'df_clean' is not defined"
     ]
    }
   ],
   "source": [
    "pd.DataFrame(df_clean).to_csv('articles_with_topic.csv')"
   ]
  },
  {
   "cell_type": "markdown",
   "metadata": {},
   "source": [
    "Deriving meaning from topics"
   ]
  },
  {
   "cell_type": "code",
   "execution_count": 4,
   "metadata": {},
   "outputs": [
    {
     "name": "stdout",
     "output_type": "stream",
     "text": [
      "8150\n"
     ]
    }
   ],
   "source": [
    "f = (location + \"\\\\articles_with_topic.csv\")\n",
    "df_clean = pd.read_csv(f)\n",
    "df_clean = df_clean.to_dict(\"index\")\n",
    "print(len(df_clean))"
   ]
  },
  {
   "cell_type": "code",
   "execution_count": 27,
   "metadata": {},
   "outputs": [],
   "source": [
    "import ast\n",
    "\n",
    "sorted_articles = []\n",
    "for i in range(0,11):\n",
    "    sorted_articles.append([])\n",
    "\n",
    "for j in range(len(df_clean)):\n",
    "    item = df_clean[j]\n",
    "    topic_scores = ast.literal_eval(item[\"topic scores\"])\n",
    "    topic_id = topic_scores[0][\"Topic\"]\n",
    "    sorted_articles[topic_id].append(item[\"url\"])"
   ]
  },
  {
   "cell_type": "code",
   "execution_count": 28,
   "metadata": {},
   "outputs": [
    {
     "ename": "NameError",
     "evalue": "name 'lda_model' is not defined",
     "output_type": "error",
     "traceback": [
      "\u001b[1;31m---------------------------------------------------------------------------\u001b[0m",
      "\u001b[1;31mNameError\u001b[0m                                 Traceback (most recent call last)",
      "\u001b[1;32m<ipython-input-28-83d53cb88d22>\u001b[0m in \u001b[0;36m<module>\u001b[1;34m\u001b[0m\n\u001b[0;32m      1\u001b[0m \u001b[1;32mimport\u001b[0m \u001b[0mrandom\u001b[0m\u001b[1;33m\u001b[0m\u001b[1;33m\u001b[0m\u001b[0m\n\u001b[1;32m----> 2\u001b[1;33m \u001b[1;32mfor\u001b[0m \u001b[0midx\u001b[0m\u001b[1;33m,\u001b[0m \u001b[0mtopic\u001b[0m \u001b[1;32min\u001b[0m \u001b[0mlda_model\u001b[0m\u001b[1;33m.\u001b[0m\u001b[0mprint_topics\u001b[0m\u001b[1;33m(\u001b[0m\u001b[1;33m-\u001b[0m\u001b[1;36m1\u001b[0m\u001b[1;33m)\u001b[0m\u001b[1;33m:\u001b[0m\u001b[1;33m\u001b[0m\u001b[1;33m\u001b[0m\u001b[0m\n\u001b[0m\u001b[0;32m      3\u001b[0m     \u001b[0mprint\u001b[0m\u001b[1;33m(\u001b[0m\u001b[1;34m'Topic: {} \\nWords: {}'\u001b[0m\u001b[1;33m.\u001b[0m\u001b[0mformat\u001b[0m\u001b[1;33m(\u001b[0m\u001b[0midx\u001b[0m\u001b[1;33m,\u001b[0m \u001b[0mtopic\u001b[0m\u001b[1;33m)\u001b[0m\u001b[1;33m)\u001b[0m\u001b[1;33m\u001b[0m\u001b[1;33m\u001b[0m\u001b[0m\n\u001b[0;32m      4\u001b[0m     \u001b[0mprint\u001b[0m\u001b[1;33m(\u001b[0m\u001b[0mlen\u001b[0m\u001b[1;33m(\u001b[0m\u001b[0msorted_articles\u001b[0m\u001b[1;33m[\u001b[0m\u001b[0midx\u001b[0m\u001b[1;33m]\u001b[0m\u001b[1;33m)\u001b[0m\u001b[1;33m)\u001b[0m\u001b[1;33m\u001b[0m\u001b[1;33m\u001b[0m\u001b[0m\n\u001b[0;32m      5\u001b[0m     \u001b[0mprint\u001b[0m\u001b[1;33m(\u001b[0m\u001b[0mrandom\u001b[0m\u001b[1;33m.\u001b[0m\u001b[0msample\u001b[0m\u001b[1;33m(\u001b[0m\u001b[0msorted_articles\u001b[0m\u001b[1;33m[\u001b[0m\u001b[0midx\u001b[0m\u001b[1;33m]\u001b[0m\u001b[1;33m,\u001b[0m \u001b[1;36m20\u001b[0m\u001b[1;33m)\u001b[0m\u001b[1;33m)\u001b[0m\u001b[1;33m\u001b[0m\u001b[1;33m\u001b[0m\u001b[0m\n",
      "\u001b[1;31mNameError\u001b[0m: name 'lda_model' is not defined"
     ]
    }
   ],
   "source": [
    "import random\n",
    "for idx, topic in lda_model.print_topics(-1):\n",
    "    print('Topic: {} \\nWords: {}'.format(idx, topic))\n",
    "    print(len(sorted_articles[idx]))\n",
    "    print(random.sample(sorted_articles[idx], 20))"
   ]
  },
  {
   "cell_type": "code",
   "execution_count": 30,
   "metadata": {},
   "outputs": [
    {
     "name": "stdout",
     "output_type": "stream",
     "text": [
      "0\n",
      "1250\n",
      "['https://stanforddaily.com/2019/11/19/the-foho-a-queer-startup-and-the-twisting-of-truth/', 'https://dbknews.com/0999/12/31/arc-ucfo4hjrpbapfe544pi27nj7rm/', 'https://stanforddaily.com/2015/04/22/indias-daughter-as-seen-by-americas-daughter/', 'https://stanforddaily.com/2017/10/30/the-vietnam-war-revisited-books-to-counteract-historical-narratives/', 'https://www.dailycardinal.com/article/2018/02/grammys-2018-recap-powerful-performances-are-marred-by-predictability', 'https://stanforddaily.com/2017/04/20/taking-delight-in-what-is-offensive/', 'https://www.dailycardinal.com/article/2013/04/minimalistic-speech-and-debate-wows', 'https://www.dailycardinal.com/article/2014/10/looking-at-celebrities-nudes-is-callous', 'https://dbknews.com/2016/08/12/article_a101d464-7109-11e4-bec8-d7a5e9493f7e-html/', 'https://www.idsnews.com/article/2016/04/editorial-clock-runs-out-for-kesha-in-new-york', 'https://dbknews.com/2014/12/07/article_7fa796a2-7e72-11e4-b727-9f4247b59907-html/', 'https://dbknews.com/0999/12/31/arc-qi3ogo6wuremrlx7ayxedl7ya4/', 'https://www.idsnews.com/article/2016/04/letter-james-benedicts-photo-erica-gibsons-story-re-slut-walk-feminism-matters', 'https://www.idsnews.com/article/2015/07/column-its-not-over-til-the-assaulted-lady-sings', 'https://dbknews.com/2016/08/12/article_471be9c1-d509-5a76-86ff-4182e69713d2-html/', 'https://dbknews.com/0999/12/31/arc-3qlt5om7wfb23atksgxtizdna4/', 'https://dbknews.com/2015/11/05/article_768f0fb8-8417-11e5-9736-0f0af27fe4e0-html/', 'https://www.dailycardinal.com/article/2012/09/navigating-rack-city-implications-of-tygas-new-ventures', 'https://www.idsnews.com/article/2016/10/column-just-words', 'https://dbknews.com/0999/12/31/arc-cf2lurfu6rgdhlh354mvtkvliu/']\n",
      "1\n",
      "177\n",
      "['https://dbknews.com/2015/02/15/article_c495ad84-b578-11e4-9aa6-47971c1dab83-html/', 'https://mndaily.com/222373/uncategorized/interactive-newseum-tells-story-journalism/', 'https://stanforddaily.com/2018/06/28/suspect-in-1974-memchu-murder-kills-himself-before-police-search/', 'https://www.idsnews.com/article/2013/08/saferide-returns-after-pilot-program-launch', 'https://stanforddaily.com/2014/10/17/full-moon-on-the-quads-affirmative-consent/', 'https://mndaily.com/202656/uncategorized/lyrical-harassmen/', 'https://mndaily.com/188469/news/world/facebook-announces-new-open-membership-policy/', 'https://dbknews.com/2021/12/12/end-exploitive-contracting-economy-independent/', 'https://www.idsnews.com/article/2019/05/three-city-council-members-unseated-following-low-turnout-in-bloomington-primary', 'https://mndaily.com/219389/uncategorized/syrian-revolution-hits-close-home/', 'https://dbknews.com/0999/12/31/arc-dkrw5fittjhzzlfdcgzihhpv6a/', 'https://mndaily.com/236211/uncategorized/former-u-cop-found-liable-sex-abuse/', 'https://mndaily.com/260633/uncategorized/pride-parade-brings-out-full-spectrum-communities/', 'https://www.idsnews.com/article/2020/02/celebrate-love-middle-way-house-to-organize-valentines-day-benefit-concert', 'https://mndaily.com/203401/uncategorized/man-exposes-himself-walter-library-0/', 'https://mndaily.com/260191/uncategorized/u-not-liable-assault-student-mexico/', 'https://mndaily.com/206391/uncategorized/visuals-important-facts-tv/', 'https://www.idsnews.com/article/2019/01/editorial-ius-poor-public-safety-policies-put-students-at-risk', 'https://mndaily.com/229708/news/st-prostitution/', 'https://stanforddaily.com/2020/01/09/university-bans-kissing-at-full-moon-on-the-quad-allows-only-long-furtive-glances/']\n",
      "2\n",
      "1213\n",
      "['https://mndaily.com/200022/uncategorized/acjulyregents/', 'https://www.idsnews.com/article/2016/04/funding-focuses-on-prevention-to-change-culture', 'https://dbknews.com/2021/09/16/umd-sga-bills-mental-health-sexual-assault-awareness/', 'https://dbknews.com/0999/12/31/arc-p3kytkyzbnaihhaihqoycos6hy/', 'https://www.idsnews.com/article/2014/09/ifc-group-addresses-sexual-assault', 'https://mndaily.com/227799/uncategorized/u-set-participate-sexual-assault-climate-survey/', 'https://www.idsnews.com/article/2015/03/iusa-tickets-talk-sexual-assault-student-involvement', 'https://www.idsnews.com/article/2014/03/lets-talk-about-boys', 'https://dbknews.com/2016/08/12/article_4cec78e8-6f48-51f2-b5ff-8c6e5c5b9b02-html/', 'https://dbknews.com/2016/08/12/article_c12edeae-f13a-11e1-be34-001a4bcf6878-html/', 'https://dbknews.com/2012/07/10/article_c8a5c2f2-19cd-58ed-b9c6-f01c9e08fe8d-html/', 'https://badgerherald.com/news/2021/12/07/increasing-survivor-advocacy-at-state-legislature-uw-but-expanded-services-needed/', 'https://stanforddaily.com/2018/05/09/senate-sets-goals-for-2018-2019/', 'https://stanforddaily.com/2015/04/13/confronting-baseless-allegations-the-socc-endorsement-process/', 'https://www.dailycardinal.com/article/2017/04/sexual-assault-awareness-month-sparks-creative-events-from-student-organizations', 'https://www.dailycardinal.com/article/2021/10/asm-passes-legislation-intended-to-restore-shared-governance-for-uw-students-and-faculty', 'https://mndaily.com/194210/news/acgradelections/', 'https://mndaily.com/213220/opinion/fwcgkf19ghutdni/', 'https://stanforddaily.com/2019/03/13/a-toxic-culture-of-overwork-inside-the-graduate-student-mental-health-crisis/', 'https://www.idsnews.com/article/2017/03/panel-to-explore-violence-against-women-of-color']\n",
      "3\n",
      "590\n",
      "['https://dbknews.com/0999/12/31/arc-gigay4yjhrcblg7hdksdqmwsrm/', 'https://mndaily.com/212814/news/stdemocrats/', 'https://mndaily.com/240851/uncategorized/forum-discusses-use-theater-african-aids-education-campaigns/', 'https://www.idsnews.com/article/2018/10/jordan-hall-renaming-discussed-at-pace-event', 'https://stanforddaily.com/2016/02/07/a-new-president-for-an-expired-status-quo/', 'https://www.dailycardinal.com/article/2016/12/reflecting-on-a-historic-semester-in-madison', 'https://badgerherald.com/news/2021/05/04/the-semester-that-was-2/', 'https://stanforddaily.com/2015/02/12/assu-doesnt-pass-divestment-mens-basketball-to-face-no-11-utah/', 'https://www.dailycardinal.com/article/2015/05/our-editorial-board-staff-looks-ahead', 'https://mndaily.com/244300/uncategorized/reporters-notebook-liberia-untold-stories/', 'https://dbknews.com/0999/12/31/arc-5bck5kq56beqbiuquflyti6oae/', 'https://mndaily.com/201379/uncategorized/let-s-talk-about-sex-all-it/', 'https://stanforddaily.com/2016/02/08/editorial-board-an-open-letter-to-stanfords-incoming-president-marc-tessier-lavigne/', 'https://www.dailycardinal.com/article/2016/11/faculty-senate-discusses-noose-costume-alec-cook-faculty-tenure', 'https://stanforddaily.com/2016/01/10/the-failed-praxis-of-positive-intent/', 'https://dbknews.com/0999/12/31/arc-nibmgrcxcrgdlo5dgfcnnzdy5u/', 'https://mndaily.com/230806/news/st-senatehearing/', 'https://badgerherald.com/opinion/2021/10/12/restrictive-sex-education-bills-create-unnecessary-divisions/', 'https://dbknews.com/2020/01/30/umd-graduate-students-advisers-collective-bargaining-part-1/', 'https://dbknews.com/0999/12/31/arc-ux56ojut75at7anu4mkd6utjum/']\n",
      "4\n",
      "379\n",
      "['https://www.idsnews.com/article/2011/11/showtime-comedy-still-red-hot-in-fourth-season', 'https://www.idsnews.com/article/2014/10/sp-column', 'https://www.idsnews.com/article/2014/03/iu-theatre-opens-3-plays', 'https://mndaily.com/219742/arts-entertainment/aezinefest/', 'https://dbknews.com/0999/12/31/arc-7q4um3krezcw5dosxkswm2zsmu/', 'https://mndaily.com/250601/uncategorized/university-could-lose-money-bowl-game/', 'https://dbknews.com/0999/12/31/arc-r65xrxludbfmjosuni3x2un3xq/', 'https://www.dailycardinal.com/article/2014/10/all-hail-the-sexual-ambiguity-of-kalinda-sharma', 'https://dbknews.com/0999/12/31/arc-32e3u5kkfred3erl53ghupruhy/', 'https://stanforddaily.com/2015/05/01/venkataraman-mariota-or-winston/', 'https://dbknews.com/0999/12/31/arc-m3fbue33eneotk7pmnsmdcvyiy/', 'https://dbknews.com/2018/01/18/maryland-basketball-minnesota-big-ten-preview-game-watch/', 'https://www.dailycardinal.com/article/2018/09/former-walk-on-dunn-stepping-up-with-starters-sidelined', 'https://stanforddaily.com/2017/11/16/golub-an-irrational-fear-of-european-big-men/', 'https://mndaily.com/228999/sports/spfb1122fp/', 'https://mndaily.com/214892/news/nation/ncaa-reinstates-penn-state-s-postseason-eligibility/', 'https://www.idsnews.com/article/2016/02/hannibal-buress-brings', 'https://badgerherald.com/sports/2020/02/11/football-look-at-quintez-cephus-draft-stock-before-nfl-draft/', 'https://www.idsnews.com/article/2013/07/netflix-gems', 'https://dbknews.com/0999/12/31/arc-jqv3ng6jcndz3lhmtefx7mnwiu/']\n",
      "5\n",
      "156\n",
      "['https://stanforddaily.com/2017/02/24/house/', 'https://www.dailycardinal.com/article/2013/01/beef-its-whats-for-twitter', 'https://stanforddaily.com/2019/02/20/razing-the-bar/', 'https://mndaily.com/194166/uncategorized/you-are-walking-plasma-factory/', 'https://dbknews.com/2013/05/01/article_665017a8-b2e8-11e2-979b-001a4bcf6878-html/', 'https://mndaily.com/226906/arts-entertainment/natasha-hour/', 'https://mndaily.com/213360/arts-entertainment/frances-dilorinzo-real-housewife-orange-county/', 'https://www.dailycardinal.com/article/2013/04/tyler-the-creator-snarls-on-wolf', 'https://mndaily.com/259192/arts-entertainment/divided-self/', 'https://stanforddaily.com/2010/09/21/prep-to-pep/', 'https://mndaily.com/240339/uncategorized/dr-seuss-footloose-and-obtuse/', 'https://www.idsnews.com/article/2021/11/coffee-lady-bloomington-woman-helps-the-unhoused-community', 'https://www.dailycardinal.com/article/2017/01/talking_date', 'https://mndaily.com/248334/opinion/factory-farming-moral-issue/', 'https://mndaily.com/206836/uncategorized/growing-more-haircut/', 'https://dbknews.com/2016/08/12/article_6f57e9ac-2192-11e3-89cb-0019bb30f31a-html/', 'https://dbknews.com/0999/12/31/arc-ktykcfidf5aovc7oqmwdkd4dzm/', 'https://www.dailycardinal.com/article/2011/11/fake-news-friday-cain-apologizes-with-pizza', 'https://mndaily.com/187650/uncategorized/geologists-challenge-widely-held-theory/', 'https://mndaily.com/253700/arts-entertainment/food/feelin-surly/']\n",
      "6\n",
      "546\n",
      "['https://www.idsnews.com/article/2019/10/opinion-legalize-prostitution-in-the-u-s', 'https://www.dailycardinal.com/article/2019/01/evers-takes-first-step-toward-bridging-partisan-divide-during-inauguration', 'https://dbknews.com/0999/12/31/arc-qqueqtosebhfdjnmutdfm753qe/', 'https://www.dailycardinal.com/article/2014/10/foreign-surrogacy-births-problems-not-solutions', 'https://mndaily.com/238095/uncategorized/internet-porn-focus-policy/', 'https://dbknews.com/0999/12/31/arc-42uupxhpbzby7pvgadhxxkuhfa/', 'https://stanforddaily.com/2017/04/07/amid-election-season-senate-still-struggles-for-visibility/', 'https://mndaily.com/223987/uncategorized/civil-rights-stolen-us-prison-system/', 'https://dbknews.com/0999/12/31/arc-e3wqcel2yrdzllbb7muqinugoa/', 'https://www.dailycardinal.com/article/2015/04/students-ensure-their-voices-are-heard-in-nations-legislative-process', 'https://dbknews.com/0999/12/31/arc-ebmkh4t5nndbjelhhxrhnsh2gy/', 'https://www.dailycardinal.com/article/2016/04/st-norbert-pollfeingold-holds-10-point-lead-in-senate-race', 'https://www.idsnews.com/article/2015/07/column-gop-candidates-grasp-at-planned-parenthood-straws', 'https://www.idsnews.com/article/2019/08/kinsey-institue-rewarded-in-2-million-donation', 'https://stanforddaily.com/2022/01/27/faculty-senate-votes-in-support-of-amendment-to-establish-anti-doxxing-policies/', 'https://dbknews.com/2016/08/12/article_01d42b1f-9b29-5d9d-bd58-d6c75d7a3e25-html/', 'https://dbknews.com/0999/12/31/arc-qwz66eh6cnh77opoxvkuwpyb3a/', 'https://dbknews.com/0999/12/31/arc-mtea6skgwfhp7no6sp5xcfpohm/', 'https://stanforddaily.com/2015/10/21/assu-senate-discusses-mausoleum-and-a-sustainable-dining-hall/', 'https://dbknews.com/2008/03/10/article_9f3a60bb-b1b6-56ba-abba-25e7169fee81-html/']\n",
      "7\n",
      "1322\n",
      "['https://stanforddaily.com/2017/02/24/faculty-senate-hears-updates-on-title-ix-process/', 'https://mndaily.com/246066/uncategorized/porter-places-andersen-crime-scene/', 'https://www.idsnews.com/article/2015/02/rape-report-confirmed-by-iupd', 'https://stanforddaily.com/2015/04/01/optimism-for-the-ellen-pao-case/', 'https://stanforddaily.com/2016/02/12/new-leaders-appointed-to-title-ix-sara-offices/', 'https://stanforddaily.com/2016/10/05/new-details-emerge-in-two-rape-reports-on-campus/', 'https://mndaily.com/190182/news/metro-state/catholic-leaders-dont-want-priest-list-released/', 'https://stanforddaily.com/2021/02/17/in-meeting-with-administration-survivor-advocates-call-upon-stanford-to-revise-share-investigation-procedure/', 'https://badgerherald.com/news/2010/04/06/victim-seeking-milli/', 'https://stanforddaily.com/2020/08/09/student-advocates-presented-25-title-ix-recommendations-to-stanford-the-university-took-two-of-them/', 'https://dbknews.com/2017/09/07/betsy-devos-change-title-ix/', 'https://dbknews.com/2017/02/23/pg-county-schools-kevin-maxwell/', 'https://www.idsnews.com/article/2021/11/rape-and-sexual-assault-reported-at-phi-kappa-psi-iupd-says', 'https://stanforddaily.com/2019/09/29/cs-lecturer-marty-stepp-resigns-amid-sexual-misconduct-investigation/', 'https://mndaily.com/191203/uncategorized/anoka-hennepin-changes-course/', 'https://mndaily.com/202031/uncategorized/findings-sexual-misconduct-cases-released-public/', 'https://stanforddaily.com/2020/06/10/destroyed-my-career-faculty-report-unchecked-sexual-harassment-in-school-of-medicine/', 'https://mndaily.com/220517/uncategorized/fifty-five-schools-face-federal-sex-assault-investigations/', 'https://mndaily.com/256330/opinion/opeds-5c5b5e49874ae/', 'https://stanforddaily.com/2019/10/12/drugging-reported-at-thursday-party-on-the-row/']\n",
      "8\n",
      "982\n",
      "['https://www.dailycardinal.com/article/2013/04/sexual-assault-researcher-david-lisak-speaks-with-uw-madison-students', 'https://www.idsnews.com/article/2014/01/re-share-the-blame', 'https://dbknews.com/0999/12/31/arc-mckbdb6nrnfq5jgqf2tfm5fi24/', 'https://mndaily.com/210934/uncategorized/summit-stresses-need-tolerance/', 'https://dbknews.com/0999/12/31/arc-yr75xkzeozcwpabwey6f3fv24a/', 'https://www.idsnews.com/article/2021/11/iu-students-march-to-support-sexual-assault-survivors-friday', 'https://www.idsnews.com/article/2016/01/column-tired-of-offhand-sexism', 'https://dbknews.com/0999/12/31/arc-r7o65tie4vccxie7naiu5nnxze/', 'https://www.idsnews.com/article/2014/01/rape-isnt-just-a-womens-issue', 'https://mndaily.com/213323/uncategorized/now-under-ifc-control-greek-self-policing-system-launches/', 'https://dbknews.com/2016/08/12/article_81f9bcca-75dd-51b4-952b-bcb6f041b2c2-html/', 'https://dbknews.com/0999/12/31/arc-ijif6hlagfabvkgzpigl5ilfke/', 'https://mndaily.com/201415/uncategorized/speaker-u-stresses-mens-roles-reducing-gender-violence/', 'https://www.idsnews.com/article/2018/02/joe-biden-calls-on-fraternity-sorority-members-to-stop-sexual-violence', 'https://www.dailycardinal.com/article/2013/04/pave-to-host-sexual-assault-panel-wednesday', 'https://dbknews.com/2016/08/12/article_7144d2a9-4144-5ab2-bbdc-136e2947cfc1-html/', 'https://mndaily.com/218935/uncategorized/clothing-style-doesnt-indicatepromiscuity-profs-study-says/', 'https://mndaily.com/188493/news/st-trans/', 'https://www.dailycardinal.com/article/2018/11/blank-joins-other-higher-education-leadership-to-oppose-transgender-memo', 'https://dbknews.com/0999/12/31/arc-5ek6ymphuvay7gnook6zikxzlu/']\n",
      "9\n",
      "1242\n",
      "['https://www.idsnews.com/article/2012/12/sudden-heat', 'https://badgerherald.com/news/2015/04/13/reported-sexual-assault-occurred-saturday/', 'https://www.idsnews.com/article/2014/01/woman-reports-sexual-assault', 'https://mndaily.com/236956/uncategorized/u-officials-suggest-ways-stay-safe/', 'https://www.dailycardinal.com/article/2021/01/no-charges-against-officer-who-shot-jacob-blake', 'https://www.idsnews.com/article/2021/11/iu-students-walkout-zeta-beta-tau-protest-sexual-violence', 'https://mndaily.com/203392/news/nation/vt-may-set-aside-harshest-penalties-sexting/', 'https://mndaily.com/228377/uncategorized/weekend-round-new-way-approach-assault-senate-race-update/', 'https://www.idsnews.com/article/2017/02/iu-student-arrested-on-rape-charges', 'https://dbknews.com/0999/12/31/arc-b2p5do3mwfhodanp7zqhgplicq/', 'https://www.idsnews.com/article/2018/02/trial-of-man-accused-of-raping-iu-students-to-begin-monday', 'https://www.dailycardinal.com/article/2011/11/freakfest-2011-trend-persists-arrests-down', 'https://dbknews.com/2016/08/12/article_0ec9c4c7-5cf5-52e3-8631-b3fc2b04f00f-html/', 'https://mndaily.com/213663/uncategorized/semester-was/', 'https://mndaily.com/233878/uncategorized/police-arrest-morrill-hall-shot-suspect/', 'https://dbknews.com/2011/01/29/article_663d4156-8ffc-5eac-a63d-7bae1bd6720c-html/', 'https://www.idsnews.com/article/2013/04/man-arrested-on-charges-of-child-molestation', 'https://mndaily.com/190775/uncategorized/rising-temperatures-give-rise-crime/', 'https://mndaily.com/238117/news/nation/sex-offender-who-posed-boy-12-gets-70-years/', 'https://mndaily.com/222560/uncategorized/residence-halls-raided/']\n",
      "10\n",
      "293\n",
      "['https://dbknews.com/2011/12/05/article_9a29a178-aeff-57bb-a570-f71202a40328-html/', 'https://dbknews.com/0999/12/31/arc-eb52lvbjhfb6fbka4zuscrzcey/', 'https://dbknews.com/0999/12/31/arc-yjh4pnecv5aozoofmwiwhmewru/', 'https://dbknews.com/0999/12/31/arc-45aykdsvyfadtlk6lgiuy3et4e/', 'https://dbknews.com/0999/12/31/arc-zkurcxtq2bafbiiywiha6j53d4/', 'https://dbknews.com/2016/08/12/article_5f48bc96-63e5-53e8-bef8-5d1a55d64bda-html/', 'https://www.idsnews.com/article/2017/02/feminist-student-association-puts-on-performance-of-the-vagina-monologues', 'https://mndaily.com/254601/uncategorized/new-social-drinking/', 'https://badgerherald.com/opinion/2019/11/25/why-the-legal-drinking-age-should-be-lowered-to-18/', 'https://badgerherald.com/artsetc/2015/02/04/hump-day-explores-misunderstood-l-word-libido/', 'https://dbknews.com/0999/12/31/arc-s2rde45dpjh33bbakg4iizap6a/', 'https://stanforddaily.com/2019/10/23/building-a-reality-that-honors-chanel-miller/', 'https://www.idsnews.com/article/2018/09/struggling-with-addiction-students-can-seek-help-with-these-resources', 'https://mndaily.com/200225/uncategorized/health-expert-talks-binge-drinking-just-time-spring-jam/', 'https://dbknews.com/0999/12/31/arc-h446pja46fgx7kgk5l3npjrhyy/', 'https://www.idsnews.com/article/2016/10/column-iu-should-reinvigorate-mental-health-programs', 'https://dbknews.com/2012/05/30/article_43f73831-e27a-5010-8168-f38ccd09cd32-html/', 'https://mndaily.com/242958/uncategorized/30-5c1031a058d7f/', 'https://stanforddaily.com/2021/08/27/university-expands-addiction-recovery-program-substance-use-peer-advising/', 'https://dbknews.com/2016/08/12/article_fdf5b7e6-8ba5-5390-9f92-8b4d0bbd377b-html/']\n"
     ]
    }
   ],
   "source": [
    "for i in range(0,11):\n",
    "    print(i)\n",
    "    print(len(sorted_articles[i]))\n",
    "    print(random.sample(sorted_articles[i], 20))"
   ]
  },
  {
   "cell_type": "code",
   "execution_count": null,
   "metadata": {},
   "outputs": [],
   "source": []
  }
 ],
 "metadata": {
  "kernelspec": {
   "display_name": "Python 3",
   "language": "python",
   "name": "python3"
  },
  "language_info": {
   "codemirror_mode": {
    "name": "ipython",
    "version": 3
   },
   "file_extension": ".py",
   "mimetype": "text/x-python",
   "name": "python",
   "nbconvert_exporter": "python",
   "pygments_lexer": "ipython3",
   "version": "3.7.6"
  }
 },
 "nbformat": 4,
 "nbformat_minor": 4
}
