{
 "cells": [
  {
   "cell_type": "code",
   "execution_count": 28,
   "metadata": {},
   "outputs": [],
   "source": [
    "import pandas as pd\n",
    "import os\n",
    "location = str(os.getcwd())"
   ]
  },
  {
   "cell_type": "code",
   "execution_count": 23,
   "metadata": {},
   "outputs": [
    {
     "name": "stdout",
     "output_type": "stream",
     "text": [
      "11768\n"
     ]
    }
   ],
   "source": [
    "f = (location[:-12] + \"Articles\\\\articles_cleaned.csv\")\n",
    "df = pd.read_csv(f)\n",
    "df = df.to_dict(\"index\")\n",
    "print(len(df))"
   ]
  },
  {
   "cell_type": "code",
   "execution_count": 7,
   "metadata": {},
   "outputs": [
    {
     "name": "stderr",
     "output_type": "stream",
     "text": [
      "[nltk_data] Downloading package wordnet to\n",
      "[nltk_data]     C:\\Users\\wilmd\\AppData\\Roaming\\nltk_data...\n",
      "[nltk_data]   Package wordnet is already up-to-date!\n"
     ]
    },
    {
     "data": {
      "text/plain": [
       "True"
      ]
     },
     "execution_count": 7,
     "metadata": {},
     "output_type": "execute_result"
    }
   ],
   "source": [
    "import gensim\n",
    "from gensim.utils import simple_preprocess\n",
    "from gensim.models import CoherenceModel\n",
    "from gensim.parsing.preprocessing import STOPWORDS\n",
    "from nltk.stem import WordNetLemmatizer, SnowballStemmer\n",
    "from nltk.stem.porter import *\n",
    "import numpy as np\n",
    "stemmer = PorterStemmer()\n",
    "np.random.seed(2018)\n",
    "import nltk\n",
    "nltk.download('wordnet')"
   ]
  },
  {
   "cell_type": "code",
   "execution_count": 8,
   "metadata": {},
   "outputs": [],
   "source": [
    "def lemmatize_stemming(text):\n",
    "    return stemmer.stem(WordNetLemmatizer().lemmatize(text, pos='v'))\n",
    "\n",
    "def preprocess(text):\n",
    "    result = []\n",
    "    for word in text:\n",
    "        word.replace(\"\\n\", \"\")\n",
    "    for token in gensim.utils.simple_preprocess(text):\n",
    "        if token not in gensim.parsing.preprocessing.STOPWORDS and len(token) > 3:\n",
    "            result.append(lemmatize_stemming(token))\n",
    "    return result"
   ]
  },
  {
   "cell_type": "code",
   "execution_count": 9,
   "metadata": {},
   "outputs": [
    {
     "name": "stdout",
     "output_type": "stream",
     "text": [
      "11768\n",
      "10884\n"
     ]
    }
   ],
   "source": [
    "df_clean = []\n",
    "print(len(df))\n",
    "for i in range(len(df)):\n",
    "    body = df[i][\"body\"]\n",
    "    if len(str(body)) > 100:\n",
    "        if \"rape\" in body or \"sexual\" in body or \"assault\" in body or \"misconduct\" in body or \"harassment\" in body:\n",
    "            df_clean.append(df[i])\n",
    "print(len(df_clean))"
   ]
  },
  {
   "cell_type": "code",
   "execution_count": 10,
   "metadata": {},
   "outputs": [
    {
     "data": {
      "text/plain": [
       "0    [year, offic, women, affair, work, improv, liv...\n",
       "1    [third, time, offic, student, associ, administ...\n",
       "Name: body, dtype: object"
      ]
     },
     "execution_count": 10,
     "metadata": {},
     "output_type": "execute_result"
    }
   ],
   "source": [
    "df = pd.DataFrame(df_clean)\n",
    "processed_docs = df['body'].map(preprocess)\n",
    "processed_docs[:2]"
   ]
  },
  {
   "cell_type": "code",
   "execution_count": 11,
   "metadata": {},
   "outputs": [
    {
     "name": "stdout",
     "output_type": "stream",
     "text": [
      "0 accomplish\n",
      "1 achiev\n",
      "2 addit\n",
      "3 address\n",
      "4 affair\n",
      "5 aim\n",
      "6 alex\n",
      "7 alyc\n",
      "8 anniversari\n",
      "9 assault\n",
      "10 assensoh\n"
     ]
    }
   ],
   "source": [
    "dictionary = gensim.corpora.Dictionary(processed_docs)\n",
    "count = 0\n",
    "for k, v in dictionary.iteritems():\n",
    "    print(k, v)\n",
    "    count += 1\n",
    "    if count > 10:\n",
    "        break"
   ]
  },
  {
   "cell_type": "code",
   "execution_count": 12,
   "metadata": {},
   "outputs": [],
   "source": [
    "dictionary.filter_extremes(no_below=15, no_above=0.5, keep_n=100000)"
   ]
  },
  {
   "cell_type": "code",
   "execution_count": 13,
   "metadata": {},
   "outputs": [],
   "source": [
    "bow_corpus = [dictionary.doc2bow(doc) for doc in processed_docs]"
   ]
  },
  {
   "cell_type": "code",
   "execution_count": 14,
   "metadata": {},
   "outputs": [],
   "source": [
    "from gensim import corpora, models\n",
    "tfidf = models.TfidfModel(bow_corpus)\n",
    "corpus_tfidf = tfidf[bow_corpus]"
   ]
  },
  {
   "cell_type": "code",
   "execution_count": 15,
   "metadata": {
    "collapsed": true,
    "jupyter": {
     "outputs_hidden": true
    }
   },
   "outputs": [
    {
     "name": "stderr",
     "output_type": "stream",
     "text": [
      "  0%|                                                                                                                                             | 0/38 [00:00<?, ?it/s]"
     ]
    },
    {
     "name": "stdout",
     "output_type": "stream",
     "text": [
      "2\n"
     ]
    },
    {
     "name": "stderr",
     "output_type": "stream",
     "text": [
      "  3%|███▌                                                                                                                                 | 1/38 [01:19<48:52, 79.27s/it]"
     ]
    },
    {
     "name": "stdout",
     "output_type": "stream",
     "text": [
      "3\n"
     ]
    },
    {
     "name": "stderr",
     "output_type": "stream",
     "text": [
      "  5%|███████                                                                                                                              | 2/38 [02:40<48:23, 80.64s/it]"
     ]
    },
    {
     "name": "stdout",
     "output_type": "stream",
     "text": [
      "4\n"
     ]
    },
    {
     "name": "stderr",
     "output_type": "stream",
     "text": [
      "  8%|██████████▌                                                                                                                          | 3/38 [04:07<48:37, 83.36s/it]"
     ]
    },
    {
     "name": "stdout",
     "output_type": "stream",
     "text": [
      "5\n"
     ]
    },
    {
     "name": "stderr",
     "output_type": "stream",
     "text": [
      " 11%|██████████████                                                                                                                       | 4/38 [05:38<48:50, 86.20s/it]"
     ]
    },
    {
     "name": "stdout",
     "output_type": "stream",
     "text": [
      "6\n"
     ]
    },
    {
     "name": "stderr",
     "output_type": "stream",
     "text": [
      " 13%|█████████████████▌                                                                                                                   | 5/38 [07:10<48:44, 88.63s/it]"
     ]
    },
    {
     "name": "stdout",
     "output_type": "stream",
     "text": [
      "7\n"
     ]
    },
    {
     "name": "stderr",
     "output_type": "stream",
     "text": [
      " 16%|█████████████████████                                                                                                                | 6/38 [08:24<44:33, 83.53s/it]"
     ]
    },
    {
     "name": "stdout",
     "output_type": "stream",
     "text": [
      "8\n"
     ]
    },
    {
     "name": "stderr",
     "output_type": "stream",
     "text": [
      " 18%|████████████████████████▌                                                                                                            | 7/38 [09:10<36:51, 71.34s/it]"
     ]
    },
    {
     "name": "stdout",
     "output_type": "stream",
     "text": [
      "9\n"
     ]
    },
    {
     "name": "stderr",
     "output_type": "stream",
     "text": [
      " 21%|████████████████████████████                                                                                                         | 8/38 [09:54<31:13, 62.45s/it]"
     ]
    },
    {
     "name": "stdout",
     "output_type": "stream",
     "text": [
      "10\n"
     ]
    },
    {
     "name": "stderr",
     "output_type": "stream",
     "text": [
      " 24%|███████████████████████████████▌                                                                                                     | 9/38 [10:44<28:17, 58.55s/it]"
     ]
    },
    {
     "name": "stdout",
     "output_type": "stream",
     "text": [
      "11\n"
     ]
    },
    {
     "name": "stderr",
     "output_type": "stream",
     "text": [
      " 26%|██████████████████████████████████▋                                                                                                 | 10/38 [11:47<28:03, 60.12s/it]"
     ]
    },
    {
     "name": "stdout",
     "output_type": "stream",
     "text": [
      "12\n"
     ]
    },
    {
     "name": "stderr",
     "output_type": "stream",
     "text": [
      " 29%|██████████████████████████████████████▏                                                                                             | 11/38 [12:51<27:32, 61.21s/it]"
     ]
    },
    {
     "name": "stdout",
     "output_type": "stream",
     "text": [
      "13\n"
     ]
    },
    {
     "name": "stderr",
     "output_type": "stream",
     "text": [
      " 32%|█████████████████████████████████████████▋                                                                                          | 12/38 [13:57<27:07, 62.58s/it]"
     ]
    },
    {
     "name": "stdout",
     "output_type": "stream",
     "text": [
      "14\n"
     ]
    },
    {
     "name": "stderr",
     "output_type": "stream",
     "text": [
      " 34%|█████████████████████████████████████████████▏                                                                                      | 13/38 [15:04<26:41, 64.06s/it]"
     ]
    },
    {
     "name": "stdout",
     "output_type": "stream",
     "text": [
      "15\n"
     ]
    },
    {
     "name": "stderr",
     "output_type": "stream",
     "text": [
      " 37%|████████████████████████████████████████████████▋                                                                                   | 14/38 [16:08<25:32, 63.87s/it]"
     ]
    },
    {
     "name": "stdout",
     "output_type": "stream",
     "text": [
      "16\n"
     ]
    },
    {
     "name": "stderr",
     "output_type": "stream",
     "text": [
      " 39%|████████████████████████████████████████████████████                                                                                | 15/38 [17:22<25:44, 67.14s/it]"
     ]
    },
    {
     "name": "stdout",
     "output_type": "stream",
     "text": [
      "17\n"
     ]
    },
    {
     "name": "stderr",
     "output_type": "stream",
     "text": [
      " 42%|███████████████████████████████████████████████████████▌                                                                            | 16/38 [18:30<24:42, 67.41s/it]"
     ]
    },
    {
     "name": "stdout",
     "output_type": "stream",
     "text": [
      "18\n"
     ]
    },
    {
     "name": "stderr",
     "output_type": "stream",
     "text": [
      " 45%|███████████████████████████████████████████████████████████                                                                         | 17/38 [19:44<24:11, 69.13s/it]"
     ]
    },
    {
     "name": "stdout",
     "output_type": "stream",
     "text": [
      "19\n"
     ]
    },
    {
     "name": "stderr",
     "output_type": "stream",
     "text": [
      " 47%|██████████████████████████████████████████████████████████████▌                                                                     | 18/38 [21:00<23:44, 71.24s/it]"
     ]
    },
    {
     "name": "stdout",
     "output_type": "stream",
     "text": [
      "20\n"
     ]
    },
    {
     "name": "stderr",
     "output_type": "stream",
     "text": [
      " 50%|██████████████████████████████████████████████████████████████████                                                                  | 19/38 [22:13<22:47, 71.95s/it]"
     ]
    },
    {
     "name": "stdout",
     "output_type": "stream",
     "text": [
      "21\n"
     ]
    },
    {
     "name": "stderr",
     "output_type": "stream",
     "text": [
      " 53%|█████████████████████████████████████████████████████████████████████▍                                                              | 20/38 [23:39<22:49, 76.08s/it]"
     ]
    },
    {
     "name": "stdout",
     "output_type": "stream",
     "text": [
      "22\n"
     ]
    },
    {
     "name": "stderr",
     "output_type": "stream",
     "text": [
      " 55%|████████████████████████████████████████████████████████████████████████▉                                                           | 21/38 [25:00<21:58, 77.57s/it]"
     ]
    },
    {
     "name": "stdout",
     "output_type": "stream",
     "text": [
      "23\n"
     ]
    },
    {
     "name": "stderr",
     "output_type": "stream",
     "text": [
      " 58%|████████████████████████████████████████████████████████████████████████████▍                                                       | 22/38 [26:21<20:56, 78.56s/it]"
     ]
    },
    {
     "name": "stdout",
     "output_type": "stream",
     "text": [
      "24\n"
     ]
    },
    {
     "name": "stderr",
     "output_type": "stream",
     "text": [
      " 61%|███████████████████████████████████████████████████████████████████████████████▉                                                    | 23/38 [27:47<20:11, 80.75s/it]"
     ]
    },
    {
     "name": "stdout",
     "output_type": "stream",
     "text": [
      "25\n"
     ]
    },
    {
     "name": "stderr",
     "output_type": "stream",
     "text": [
      " 63%|███████████████████████████████████████████████████████████████████████████████████▎                                                | 24/38 [29:15<19:24, 83.15s/it]"
     ]
    },
    {
     "name": "stdout",
     "output_type": "stream",
     "text": [
      "26\n"
     ]
    },
    {
     "name": "stderr",
     "output_type": "stream",
     "text": [
      " 66%|██████████████████████████████████████████████████████████████████████████████████████▊                                             | 25/38 [30:41<18:11, 83.93s/it]"
     ]
    },
    {
     "name": "stdout",
     "output_type": "stream",
     "text": [
      "27\n"
     ]
    },
    {
     "name": "stderr",
     "output_type": "stream",
     "text": [
      " 68%|██████████████████████████████████████████████████████████████████████████████████████████▎                                         | 26/38 [32:11<17:08, 85.68s/it]"
     ]
    },
    {
     "name": "stdout",
     "output_type": "stream",
     "text": [
      "28\n"
     ]
    },
    {
     "name": "stderr",
     "output_type": "stream",
     "text": [
      " 71%|█████████████████████████████████████████████████████████████████████████████████████████████▊                                      | 27/38 [33:45<16:09, 88.14s/it]"
     ]
    },
    {
     "name": "stdout",
     "output_type": "stream",
     "text": [
      "29\n"
     ]
    },
    {
     "name": "stderr",
     "output_type": "stream",
     "text": [
      " 74%|█████████████████████████████████████████████████████████████████████████████████████████████████▎                                  | 28/38 [35:30<15:32, 93.22s/it]"
     ]
    },
    {
     "name": "stdout",
     "output_type": "stream",
     "text": [
      "30\n"
     ]
    },
    {
     "name": "stderr",
     "output_type": "stream",
     "text": [
      " 76%|████████████████████████████████████████████████████████████████████████████████████████████████████▋                               | 29/38 [37:12<14:21, 95.75s/it]"
     ]
    },
    {
     "name": "stdout",
     "output_type": "stream",
     "text": [
      "31\n"
     ]
    },
    {
     "name": "stderr",
     "output_type": "stream",
     "text": [
      " 79%|████████████████████████████████████████████████████████████████████████████████████████████████████████▏                           | 30/38 [38:53<12:59, 97.42s/it]"
     ]
    },
    {
     "name": "stdout",
     "output_type": "stream",
     "text": [
      "32\n"
     ]
    },
    {
     "name": "stderr",
     "output_type": "stream",
     "text": [
      " 82%|███████████████████████████████████████████████████████████████████████████████████████████████████████████▋                        | 31/38 [40:37<11:35, 99.32s/it]"
     ]
    },
    {
     "name": "stdout",
     "output_type": "stream",
     "text": [
      "33\n"
     ]
    },
    {
     "name": "stderr",
     "output_type": "stream",
     "text": [
      " 84%|██████████████████████████████████████████████████████████████████████████████████████████████████████████████▎                    | 32/38 [42:19<10:01, 100.31s/it]"
     ]
    },
    {
     "name": "stdout",
     "output_type": "stream",
     "text": [
      "34\n"
     ]
    },
    {
     "name": "stderr",
     "output_type": "stream",
     "text": [
      " 87%|█████████████████████████████████████████████████████████████████████████████████████████████████████████████████▊                 | 33/38 [44:09<08:36, 103.21s/it]"
     ]
    },
    {
     "name": "stdout",
     "output_type": "stream",
     "text": [
      "35\n"
     ]
    },
    {
     "name": "stderr",
     "output_type": "stream",
     "text": [
      " 89%|█████████████████████████████████████████████████████████████████████████████████████████████████████████████████████▏             | 34/38 [46:04<07:06, 106.68s/it]"
     ]
    },
    {
     "name": "stdout",
     "output_type": "stream",
     "text": [
      "36\n"
     ]
    },
    {
     "name": "stderr",
     "output_type": "stream",
     "text": [
      " 92%|████████████████████████████████████████████████████████████████████████████████████████████████████████████████████████▋          | 35/38 [48:03<05:31, 110.44s/it]"
     ]
    },
    {
     "name": "stdout",
     "output_type": "stream",
     "text": [
      "37\n"
     ]
    },
    {
     "name": "stderr",
     "output_type": "stream",
     "text": [
      " 95%|████████████████████████████████████████████████████████████████████████████████████████████████████████████████████████████       | 36/38 [50:02<03:46, 113.04s/it]"
     ]
    },
    {
     "name": "stdout",
     "output_type": "stream",
     "text": [
      "38\n"
     ]
    },
    {
     "name": "stderr",
     "output_type": "stream",
     "text": [
      " 97%|███████████████████████████████████████████████████████████████████████████████████████████████████████████████████████████████▌   | 37/38 [52:06<01:56, 116.18s/it]"
     ]
    },
    {
     "name": "stdout",
     "output_type": "stream",
     "text": [
      "39\n"
     ]
    },
    {
     "name": "stderr",
     "output_type": "stream",
     "text": [
      "100%|████████████████████████████████████████████████████████████████████████████████████████████████████████████████████████████████████| 38/38 [54:16<00:00, 85.69s/it]\n"
     ]
    }
   ],
   "source": [
    "def compute_coherence_values(dictionary, corpus, texts, limit, start=2, step=3):\n",
    "    \"\"\"\n",
    "    Compute c_v coherence for various number of topics\n",
    "\n",
    "    Parameters:\n",
    "    ----------\n",
    "    dictionary : Gensim dictionary\n",
    "    corpus : Gensim corpus\n",
    "    texts : List of input texts\n",
    "\n",
    "    Returns:\n",
    "    -------\n",
    "    model_list : List of LDA topic models\n",
    "    coherence_values : Coherence values corresponding to the LDA model with respective number of topics\n",
    "    \"\"\"\n",
    "    coherence_values = []\n",
    "    model_list = []\n",
    "    from tqdm import tqdm\n",
    "\n",
    "    for num_topics in tqdm(range(start, limit, step)):\n",
    "        model = gensim.models.LdaMulticore(corpus = corpus, num_topics = num_topics, id2word = dictionary, passes=2, workers=2)\n",
    "        model_list.append(model)\n",
    "        coherencemodel = CoherenceModel(model=model, texts=texts, dictionary=dictionary, coherence='c_v')\n",
    "        coherence_values.append(coherencemodel.get_coherence())\n",
    "\n",
    "    return model_list, coherence_values\n",
    "\n",
    "# Can take a long time to run.\n",
    "model_list, coherence_values = compute_coherence_values(dictionary=dictionary, corpus=bow_corpus, texts=processed_docs, start=2, limit=40, step=1)"
   ]
  },
  {
   "cell_type": "code",
   "execution_count": 16,
   "metadata": {
    "collapsed": true,
    "jupyter": {
     "outputs_hidden": true
    }
   },
   "outputs": [
    {
     "data": {
      "text/plain": [
       "[0.3201158182889358,\n",
       " 0.3790325209874615,\n",
       " 0.3710416963143046,\n",
       " 0.33374569238383345,\n",
       " 0.3886366105043175,\n",
       " 0.36453820412799137,\n",
       " 0.3791220873199293,\n",
       " 0.3727714668031806,\n",
       " 0.39832114734486596,\n",
       " 0.39839163422759183,\n",
       " 0.3833009113960846,\n",
       " 0.37289709096124596,\n",
       " 0.3895807344479638,\n",
       " 0.37447219440319135,\n",
       " 0.38517280895149847,\n",
       " 0.37923962117280074,\n",
       " 0.3775245456317511,\n",
       " 0.38245670411852667,\n",
       " 0.3938980780542207,\n",
       " 0.3724035519617704,\n",
       " 0.360581829142865,\n",
       " 0.38022464229826364,\n",
       " 0.3717927295253379,\n",
       " 0.3791448077910565,\n",
       " 0.38967152753394063,\n",
       " 0.3840436454085743,\n",
       " 0.3565104272238512,\n",
       " 0.3688240014413574,\n",
       " 0.37116555702081894,\n",
       " 0.37012673063418744,\n",
       " 0.37524578020969535,\n",
       " 0.38077108822202443,\n",
       " 0.3727897799178545,\n",
       " 0.36828127253793586,\n",
       " 0.3943330241410956,\n",
       " 0.3705832790683772,\n",
       " 0.3973410374835486,\n",
       " 0.38100953705536345]"
      ]
     },
     "execution_count": 16,
     "metadata": {},
     "output_type": "execute_result"
    }
   ],
   "source": [
    "coherence_values"
   ]
  },
  {
   "cell_type": "code",
   "execution_count": 18,
   "metadata": {},
   "outputs": [],
   "source": [
    "lda_model = gensim.models.LdaMulticore(bow_corpus, num_topics=12, id2word=dictionary, passes=2, workers=2)"
   ]
  },
  {
   "cell_type": "code",
   "execution_count": 20,
   "metadata": {},
   "outputs": [
    {
     "name": "stdout",
     "output_type": "stream",
     "text": [
      "Topic: 0 \n",
      "Words: 0.007*\"state\" + 0.006*\"right\" + 0.005*\"unit\" + 0.004*\"american\" + 0.004*\"group\" + 0.004*\"work\" + 0.004*\"countri\" + 0.004*\"nation\" + 0.003*\"citi\" + 0.003*\"campu\"\n",
      "Topic: 1 \n",
      "Words: 0.010*\"state\" + 0.006*\"madison\" + 0.006*\"campu\" + 0.005*\"wisconsin\" + 0.004*\"senat\" + 0.004*\"health\" + 0.004*\"report\" + 0.004*\"team\" + 0.003*\"vote\" + 0.003*\"includ\"\n",
      "Topic: 2 \n",
      "Words: 0.016*\"athlet\" + 0.008*\"coach\" + 0.008*\"team\" + 0.007*\"minnesota\" + 0.006*\"player\" + 0.006*\"report\" + 0.005*\"footbal\" + 0.004*\"school\" + 0.004*\"state\" + 0.004*\"presid\"\n",
      "Topic: 3 \n",
      "Words: 0.005*\"work\" + 0.005*\"hous\" + 0.005*\"colleg\" + 0.005*\"think\" + 0.004*\"go\" + 0.004*\"member\" + 0.004*\"school\" + 0.004*\"commun\" + 0.004*\"campu\" + 0.004*\"know\"\n",
      "Topic: 4 \n",
      "Words: 0.007*\"work\" + 0.007*\"campu\" + 0.006*\"faculti\" + 0.006*\"polici\" + 0.006*\"school\" + 0.005*\"report\" + 0.005*\"research\" + 0.005*\"depart\" + 0.005*\"offic\" + 0.005*\"commun\"\n",
      "Topic: 5 \n",
      "Words: 0.017*\"women\" + 0.006*\"commun\" + 0.006*\"violenc\" + 0.005*\"cultur\" + 0.005*\"think\" + 0.005*\"abus\" + 0.004*\"campu\" + 0.004*\"right\" + 0.004*\"know\" + 0.004*\"experi\"\n",
      "Topic: 6 \n",
      "Words: 0.005*\"play\" + 0.005*\"film\" + 0.005*\"know\" + 0.004*\"go\" + 0.004*\"think\" + 0.004*\"music\" + 0.003*\"work\" + 0.003*\"game\" + 0.003*\"want\" + 0.003*\"love\"\n",
      "Topic: 7 \n",
      "Words: 0.010*\"stanford\" + 0.006*\"violenc\" + 0.006*\"trump\" + 0.005*\"campu\" + 0.005*\"case\" + 0.005*\"presid\" + 0.004*\"senat\" + 0.004*\"right\" + 0.004*\"report\" + 0.004*\"think\"\n",
      "Topic: 8 \n",
      "Words: 0.021*\"report\" + 0.016*\"polic\" + 0.012*\"campu\" + 0.010*\"crime\" + 0.007*\"accord\" + 0.007*\"incid\" + 0.006*\"victim\" + 0.006*\"commun\" + 0.006*\"offic\" + 0.005*\"depart\"\n",
      "Topic: 9 \n",
      "Words: 0.008*\"women\" + 0.008*\"think\" + 0.005*\"want\" + 0.004*\"know\" + 0.004*\"work\" + 0.004*\"thing\" + 0.003*\"go\" + 0.003*\"issu\" + 0.003*\"world\" + 0.003*\"right\"\n",
      "Topic: 10 \n",
      "Words: 0.011*\"polic\" + 0.011*\"victim\" + 0.008*\"crime\" + 0.007*\"case\" + 0.007*\"charg\" + 0.007*\"report\" + 0.007*\"state\" + 0.006*\"accord\" + 0.005*\"court\" + 0.005*\"offic\"\n",
      "Topic: 11 \n",
      "Words: 0.010*\"campu\" + 0.008*\"educ\" + 0.007*\"issu\" + 0.006*\"women\" + 0.006*\"offic\" + 0.005*\"program\" + 0.005*\"rape\" + 0.005*\"prevent\" + 0.005*\"health\" + 0.005*\"polici\"\n"
     ]
    }
   ],
   "source": [
    "topic_df = []\n",
    "for idx, topic in lda_model.print_topics(-1):\n",
    "    print('Topic: {} \\nWords: {}'.format(idx, topic))\n",
    "    topic_df.append({\"index\": idx, \"topic_info\": topic})\n",
    "    \n",
    "pd.DataFrame(topic_df).to_csv('topics_info.csv')"
   ]
  },
  {
   "cell_type": "code",
   "execution_count": 21,
   "metadata": {},
   "outputs": [
    {
     "name": "stdout",
     "output_type": "stream",
     "text": [
      "\n",
      "Score: 0.6442173719406128\t \n",
      "Topic: 0.005*\"play\" + 0.005*\"film\" + 0.005*\"know\" + 0.004*\"go\" + 0.004*\"think\" + 0.004*\"music\" + 0.003*\"work\" + 0.003*\"game\" + 0.003*\"want\" + 0.003*\"love\"\n",
      "\n",
      "Score: 0.170234814286232\t \n",
      "Topic: 0.008*\"women\" + 0.008*\"think\" + 0.005*\"want\" + 0.004*\"know\" + 0.004*\"work\" + 0.004*\"thing\" + 0.003*\"go\" + 0.003*\"issu\" + 0.003*\"world\" + 0.003*\"right\"\n",
      "\n",
      "Score: 0.13471761345863342\t \n",
      "Topic: 0.005*\"work\" + 0.005*\"hous\" + 0.005*\"colleg\" + 0.005*\"think\" + 0.004*\"go\" + 0.004*\"member\" + 0.004*\"school\" + 0.004*\"commun\" + 0.004*\"campu\" + 0.004*\"know\"\n",
      "\n",
      "Score: 0.018177516758441925\t \n",
      "Topic: 0.017*\"women\" + 0.006*\"commun\" + 0.006*\"violenc\" + 0.005*\"cultur\" + 0.005*\"think\" + 0.005*\"abus\" + 0.004*\"campu\" + 0.004*\"right\" + 0.004*\"know\" + 0.004*\"experi\"\n",
      "\n",
      "Score: 0.01671760529279709\t \n",
      "Topic: 0.021*\"report\" + 0.016*\"polic\" + 0.012*\"campu\" + 0.010*\"crime\" + 0.007*\"accord\" + 0.007*\"incid\" + 0.006*\"victim\" + 0.006*\"commun\" + 0.006*\"offic\" + 0.005*\"depart\"\n",
      "\n",
      "Score: 0.01534430030733347\t \n",
      "Topic: 0.011*\"polic\" + 0.011*\"victim\" + 0.008*\"crime\" + 0.007*\"case\" + 0.007*\"charg\" + 0.007*\"report\" + 0.007*\"state\" + 0.006*\"accord\" + 0.005*\"court\" + 0.005*\"offic\"\n"
     ]
    }
   ],
   "source": [
    "for index, score in sorted(lda_model[bow_corpus[7]], key=lambda tup: -1*tup[1]):\n",
    "    print(\"\\nScore: {}\\t \\nTopic: {}\".format(score, lda_model.print_topic(index, 10)))"
   ]
  },
  {
   "cell_type": "markdown",
   "metadata": {},
   "source": [
    "Saving results to dataframe\n"
   ]
  },
  {
   "cell_type": "code",
   "execution_count": 24,
   "metadata": {},
   "outputs": [
    {
     "name": "stderr",
     "output_type": "stream",
     "text": [
      "100%|██████████████████████████████████████████████████████████████████████████████████████████████████████████████████████████████| 11768/11768 [02:40<00:00, 73.38it/s]"
     ]
    },
    {
     "name": "stdout",
     "output_type": "stream",
     "text": [
      "8150\n"
     ]
    },
    {
     "name": "stderr",
     "output_type": "stream",
     "text": [
      "\n"
     ]
    }
   ],
   "source": [
    "df_clean = []\n",
    "\n",
    "from tqdm import tqdm\n",
    "\n",
    "for i in tqdm(range(len(df))):\n",
    "    item = df[i]\n",
    "    body = item[\"body\"]\n",
    "    url = item[\"url\"]\n",
    "    title = item[\"title\"]\n",
    "    location = item[\"location\"]\n",
    "    date = item[\"date\"]\n",
    "    processed_body = preprocess(str(body))\n",
    "    bow_index = dictionary.doc2bow(processed_body)\n",
    "    \n",
    "    topic_list = []\n",
    "    j = 0\n",
    "    for index, score in sorted(lda_model[bow_index], key=lambda tup: -1*tup[1]):\n",
    "        topic_list.append({\"Score\": score, \"Topic\": index, \"Topic_terms\": lda_model.print_topic(index, 10)})\n",
    "        if j == 0:\n",
    "            lead_topic = index\n",
    "        j += 1\n",
    "    \n",
    "    if len(str(body)) > 100:\n",
    "        if \" rape \" in body or \" sexual \" in body or \" assault \" in body or \" misconduct \" in body or \" harassment \" in body or \" harass \" in body:\n",
    "            df_clean.append({\"url\": url, \"body\": body, \"title\": title, \"location\": location, \"date\": date, \"topic scores\": topic_list, \"top_topic\": lead_topic})\n",
    "print(len(df_clean))"
   ]
  },
  {
   "cell_type": "code",
   "execution_count": 25,
   "metadata": {},
   "outputs": [],
   "source": [
    "pd.DataFrame(df_clean).to_csv('articles_with_topic.csv')"
   ]
  },
  {
   "cell_type": "markdown",
   "metadata": {},
   "source": [
    "Deriving meaning from topics"
   ]
  },
  {
   "cell_type": "code",
   "execution_count": 30,
   "metadata": {},
   "outputs": [
    {
     "name": "stdout",
     "output_type": "stream",
     "text": [
      "8150\n"
     ]
    }
   ],
   "source": [
    "f = (location + \"\\\\articles_with_topic.csv\")\n",
    "df_clean = pd.read_csv(f)\n",
    "df_clean = df_clean.to_dict(\"index\")\n",
    "print(len(df_clean))"
   ]
  },
  {
   "cell_type": "code",
   "execution_count": 32,
   "metadata": {},
   "outputs": [],
   "source": [
    "import ast\n",
    "\n",
    "sorted_articles = []\n",
    "for i in range(0,12):\n",
    "    sorted_articles.append([])\n",
    "\n",
    "for j in range(len(df_clean)):\n",
    "    item = df_clean[j]\n",
    "    topic_scores = ast.literal_eval(item[\"topic scores\"])\n",
    "    topic_id = topic_scores[0][\"Topic\"]\n",
    "    sorted_articles[topic_id].append(item[\"url\"])"
   ]
  },
  {
   "cell_type": "code",
   "execution_count": 35,
   "metadata": {},
   "outputs": [
    {
     "name": "stdout",
     "output_type": "stream",
     "text": [
      "Topic: 0 \n",
      "Words: 0.007*\"state\" + 0.006*\"right\" + 0.005*\"unit\" + 0.004*\"american\" + 0.004*\"group\" + 0.004*\"work\" + 0.004*\"countri\" + 0.004*\"nation\" + 0.003*\"citi\" + 0.003*\"campu\"\n",
      "258\n",
      "https://mndaily.com/199316/opinion/gfaktfgvwuc2ijy/\n",
      "https://mndaily.com/237407/uncategorized/disaster-revisited-darfur/\n",
      "https://dbknews.com/2017/09/19/harvey-irma-foreign-crises-racism/\n",
      "https://mndaily.com/186785/uncategorized/net-our-mailbox-ke/\n",
      "https://www.idsnews.com/article/2013/01/tales-of-the-tsa\n",
      "https://dbknews.com/2016/08/12/article_aade80ae-9312-58f7-8fc5-27d066f363b5-html/\n",
      "https://dbknews.com/2016/08/12/article_323d55e2-87e5-5179-9337-0f0b028696df-html/\n",
      "https://stanforddaily.com/2011/12/07/op-ed-wake-up-the-case-for-abolishing-the-death-penalty/\n",
      "https://stanforddaily.com/2018/03/15/prison-labor-modern-slavery/\n",
      "https://dbknews.com/0999/12/31/arc-aq6rhx66krbdfccwupxjjv6ozy/\n",
      "https://dbknews.com/2006/04/25/article_2ab3b1b9-de44-5162-b959-68dba5b2239b-html/\n",
      "https://dbknews.com/2017/05/02/north-korea-poland-slave-labor/\n",
      "https://mndaily.com/193606/uncategorized/us-policies-assist-human-rights-abusers-0/\n",
      "https://stanforddaily.com/2019/11/13/kashmiri-panel-blasts-human-rights-violations-in-india-calls-for-kashmiri-self-determination/\n",
      "https://mndaily.com/230777/uncategorized/nike-profits-worlds-vulnerable/\n",
      "https://stanforddaily.com/2010/11/10/op-ed-no-it%e2%80%99s-bad-news-for-africa/\n",
      "https://www.dailycardinal.com/article/2012/12/stories-that-went-under-the-radar\n",
      "https://mndaily.com/204022/uncategorized/kqrs-morning-show-host/\n",
      "https://dbknews.com/0999/12/31/arc-f6edzqgpyzcm5botqekwkjiuka/\n",
      "https://www.idsnews.com/article/2020/04/opinion-stay-vigilant-of-trump-exploiting-the-pandemic-for-his-agenda\n",
      "==============================\n",
      "Topic: 1 \n",
      "Words: 0.010*\"state\" + 0.006*\"madison\" + 0.006*\"campu\" + 0.005*\"wisconsin\" + 0.004*\"senat\" + 0.004*\"health\" + 0.004*\"report\" + 0.004*\"team\" + 0.003*\"vote\" + 0.003*\"includ\"\n",
      "326\n",
      "https://dbknews.com/2018/11/07/angela-alsobrooks-prince-georges-county-executive-midterm-election-maryland/\n",
      "https://www.dailycardinal.com/article/2017/02/cardinal-view-good-samaritan-laws-should-go-further\n",
      "https://mndaily.com/222799/news/metro-state/public-health-and-safety-committee-passes-social-host-ordinance/\n",
      "https://www.dailycardinal.com/article/2016/04/walker-signs-bills-designed-to-combat-sexual-assault\n",
      "https://www.dailycardinal.com/article/2011/02/hintz-charged-with-sexual-misconduct-at-massage-parlor\n",
      "https://www.dailycardinal.com/article/2013/02/asm-makes-changes-to-funding-bylaws\n",
      "https://www.idsnews.com/article/2014/03/lifeline-update-to-grant-increased-immunities\n",
      "https://stanforddaily.com/2018/01/07/stanford-medicine-professor-lost-federal-nomination-after-advocating-gun-control/\n",
      "https://www.idsnews.com/article/2020/03/opinion-indiana-attorney-general-curtis-hill-must-face-clear-consequences\n",
      "https://www.idsnews.com/article/2018/11/columnvoting111318\n",
      "https://badgerherald.com/news/2021/04/15/despite-increase-in-cases-sexual-assault-harassment-military-laws-remain-relatively-unchanged/\n",
      "https://dbknews.com/0999/12/31/arc-6i4k27bxa5gfpoqacjtu74hq5e/\n",
      "https://www.idsnews.com/article/2015/02/iusa-and-iupd-team-up\n",
      "https://badgerherald.com/news/2016/11/09/trump-johnson-sweep-wisconsin-in-historic-night-for-republicans/\n",
      "https://dbknews.com/2020/05/08/covid-19-pandemic-governor-hogan-maryland-economic-fallout-coronavirus/\n",
      "https://www.dailycardinal.com/article/2018/08/your-primer-for-tuesdays-statewide-primaries\n",
      "https://mndaily.com/190297/news/metro-state/students-petition-spurs-bill-proposal-capitol/\n",
      "https://dbknews.com/2018/09/28/brett-kavanaugh-supreme-court-nominee-maryland-governor-larry-hogan-sexual-misconduct-investigation-hearing-vote/\n",
      "https://badgerherald.com/news/2015/12/08/the-fall-semester-that-was/\n",
      "https://www.idsnews.com/article/2018/09/competency-hearing-for-bloomington-rape-case-set-to-conclude-tuesday\n",
      "==============================\n",
      "Topic: 2 \n",
      "Words: 0.016*\"athlet\" + 0.008*\"coach\" + 0.008*\"team\" + 0.007*\"minnesota\" + 0.006*\"player\" + 0.006*\"report\" + 0.005*\"footbal\" + 0.004*\"school\" + 0.004*\"state\" + 0.004*\"presid\"\n",
      "379\n",
      "https://mndaily.com/203029/uncategorized/march-madness-different/\n",
      "https://www.dailycardinal.com/article/2018/02/ward-to-the-wise-nassar-scandal-must-inspire-schools-around-country-to-be-more-proactive\n",
      "https://mndaily.com/207913/uncategorized/green-vikings-revamp-images-together/\n",
      "https://dbknews.com/2018/10/30/maryland-football-culture-report-scandal-dj-durkin-kevin-anderson-wallace-loh/\n",
      "https://dbknews.com/0999/12/31/arc-ivblvglcwrb35ouoa5fvwbxmnu/\n",
      "https://mndaily.com/242542/news/prpjfleckprofile/\n",
      "https://mndaily.com/186756/uncategorized/iowa-advisor-faces-sexual-harassment-allegations/\n",
      "https://dbknews.com/0999/12/31/arc-wj2zc52ztbggzm5zr6tb3htu5i/\n",
      "https://dbknews.com/0999/12/31/arc-57mry4g6yzf5fdrjwrd37irqca/\n",
      "https://stanforddaily.com/2021/06/03/changing-the-culture-stanford-band-one-year-later/\n",
      "https://dbknews.com/0999/12/31/arc-jsooawx6dzg6vhveg6enrp5lrm/\n",
      "https://stanforddaily.com/2019/04/12/a-more-fiery-cory-booker/\n",
      "https://www.idsnews.com/article/2011/11/penn-state-football-stretches-beyond-field\n",
      "https://mndaily.com/244933/uncategorized/penn-state-scandal-hurts-students/\n",
      "https://stanforddaily.com/2012/07/26/beyda-despite-penn-states-failure-stanford-has-protections-in-place/\n",
      "https://mndaily.com/220665/sports/university-will-undergo-investigation-alleged-title-ix-violations/\n",
      "https://dbknews.com/0999/12/31/arc-adobbd4jprahhchzwrpr233vmi/\n",
      "https://dbknews.com/0999/12/31/arc-hb7ovrkh7jf2jgpc73yyzoekjy/\n",
      "https://mndaily.com/251803/sports/stfb0907p/\n",
      "https://dbknews.com/0999/12/31/arc-ocpugn5765csnjjspcnau54w5m/\n",
      "==============================\n",
      "Topic: 3 \n",
      "Words: 0.005*\"work\" + 0.005*\"hous\" + 0.005*\"colleg\" + 0.005*\"think\" + 0.004*\"go\" + 0.004*\"member\" + 0.004*\"school\" + 0.004*\"commun\" + 0.004*\"campu\" + 0.004*\"know\"\n",
      "334\n",
      "https://mndaily.com/233329/uncategorized/drinking-and-dying/\n",
      "https://dbknews.com/0999/12/31/arc-sakb2gvznfehvn34xx3feivz6y/\n",
      "https://badgerherald.com/opinion/2015/04/30/letter-to-the-editor-elitism-of-greek-life-excuses-atrocities/\n",
      "https://dbknews.com/0999/12/31/arc-kozcprxrafatfnzkzwyblmppzy/\n",
      "https://dbknews.com/2014/09/01/article_0500f61e-3156-11e4-9037-0017a43b2370-html/\n",
      "https://mndaily.com/208376/uncategorized/u-launches-violence-awareness-initiative/\n",
      "https://www.idsnews.com/article/2011/06/kinsey-institute-brings-ground-breaking-sex-research-to-iu\n",
      "https://dbknews.com/2016/08/12/article_5f48bc96-63e5-53e8-bef8-5d1a55d64bda-html/\n",
      "https://dbknews.com/2016/08/12/article_6f57e9ac-2192-11e3-89cb-0019bb30f31a-html/\n",
      "https://mndaily.com/219243/uncategorized/health-travel-officials-offer-advice-avoid-spring-break-pitfalls/\n",
      "https://mndaily.com/232338/uncategorized/us-shadow-prostitutes-trapped-drugs-pimps/\n",
      "https://www.idsnews.com/article/2013/06/what-you-need-to-know-before-picking-up-a-red-party-cup\n",
      "https://www.idsnews.com/article/2020/04/local-nonprofits-create-amazon-wish-lists-amid-shortages-of-supplies-due-to-covid-19\n",
      "https://badgerherald.com/artsetc/2018/10/01/bucky-on-parade-brings-together-community-local-charities/\n",
      "https://www.idsnews.com/article/2015/11/letter-iu-wants-students-to-forfeit-constitutional-rights\n",
      "https://dbknews.com/2016/08/12/article_c6cd8eb2-c67e-11e3-a0f6-001a4bcf6878-html/\n",
      "https://www.dailycardinal.com/article/2019/02/new-nonprofit-at-uw-seeks-to-unite-rescue-animals-with-survivors-of-assault\n",
      "https://mndaily.com/260633/uncategorized/pride-parade-brings-out-full-spectrum-communities/\n",
      "https://mndaily.com/196675/uncategorized/parents-study-student-drinking-habits-course/\n",
      "https://www.idsnews.com/article/2015/06/op-column-a-call-for-structure\n",
      "==============================\n",
      "Topic: 4 \n",
      "Words: 0.007*\"work\" + 0.007*\"campu\" + 0.006*\"faculti\" + 0.006*\"polici\" + 0.006*\"school\" + 0.005*\"report\" + 0.005*\"research\" + 0.005*\"depart\" + 0.005*\"offic\" + 0.005*\"commun\"\n",
      "870\n",
      "https://www.idsnews.com/article/2020/10/associate-professor-murray-mcgibbon-leaves-iu-following-ids-investigation-into-sexual-harassment-allegations\n",
      "https://dbknews.com/0999/12/31/arc-ohpe6d4f5bdchjp65qfkpgasuq/\n",
      "https://www.idsnews.com/article/2018/11/student-working-group-advocates-for-sexual-misconduct-policy-changes\n",
      "https://www.dailycardinal.com/article/2016/02/ssfc-spotlight-uhs-receives-million-dollar-budget-increase-for-mental-health-sexual-assault-prevention-services\n",
      "https://dbknews.com/2016/05/09/university-senate-gender-marker-legislation-deliberation/\n",
      "https://www.dailycardinal.com/article/2019/03/uw-health-female-anesthesiologist-cites-abuse-gender-based-inequity-in-legal-suit\n",
      "https://mndaily.com/260440/news/politics/regents-talk-campus-safety/\n",
      "https://dbknews.com/0999/12/31/arc-mw3344ppazc5jofl7jtbqgegcy/\n",
      "https://www.idsnews.com/article/2016/03/student-organizations-share-experiences-with-office-of-student-ethics\n",
      "https://stanforddaily.com/2018/09/07/residential-staff-training-analyzes-high-risk-behavior-surrounding-alcohol-and-drug-use/\n",
      "https://dbknews.com/2018/08/30/umd-ocrsm-staff-resignations/\n",
      "https://www.idsnews.com/article/2017/11/letter\n",
      "https://mndaily.com/249655/news/adgabelactober/\n",
      "https://stanforddaily.com/2016/05/19/graduate-student-council-discusses-budget-funding-requests/\n",
      "https://mndaily.com/221910/news/accogsharassment/\n",
      "https://dbknews.com/2020/07/01/darryll-pines-umd-president-mental-health-community-policing/\n",
      "https://dbknews.com/0999/12/31/arc-45idbacspfa27lro355c2bmr7q/\n",
      "https://www.dailycardinal.com/article/2019/01/asm-blank-oppose-title-ix-changes-encourage-survivor-empowerment\n",
      "https://stanforddaily.com/2018/02/07/senate-introduces-resolutions-to-improve-campus-climate-survey-support-disability-studies/\n",
      "https://www.idsnews.com/article/2020/04/professors-required-to-report-students-who-attend-zoom-calls-naked\n",
      "==============================\n",
      "Topic: 5 \n",
      "Words: 0.017*\"women\" + 0.006*\"commun\" + 0.006*\"violenc\" + 0.005*\"cultur\" + 0.005*\"think\" + 0.005*\"abus\" + 0.004*\"campu\" + 0.004*\"right\" + 0.004*\"know\" + 0.004*\"experi\"\n",
      "1173\n",
      "https://dbknews.com/0999/12/31/arc-igtbba7frnbl3nwn7n252ukvga/\n",
      "https://www.dailycardinal.com/article/2012/09/student-group-to-raise-awareness-on-lgbtq-health-care\n",
      "https://stanforddaily.com/2015/09/16/a-warm-welcome/\n",
      "https://www.idsnews.com/article/2015/02/a-bad-shot-in-the-dark\n",
      "https://mndaily.com/233264/uncategorized/conviction-and-day-silence/\n",
      "https://www.idsnews.com/article/2014/04/pay-attention-to-slutwalk\n",
      "https://www.idsnews.com/article/2016/03/summit-raises-awareness-of-sexual-assault-prevention\n",
      "https://dbknews.com/0999/12/31/arc-eu6nboznibcsbh22mkc36zwefm/\n",
      "https://dbknews.com/2016/08/12/article_7a8a8e4f-dce0-54a3-add6-be31e52b6636-html/\n",
      "https://stanforddaily.com/2015/04/29/students-wear-jeans-to-protest-sexual-violence/\n",
      "https://www.idsnews.com/article/2015/07/institute-provides-insight-into-intimacy\n",
      "https://dbknews.com/0999/12/31/arc-ueadgwvh5rcpdjg75unjyqrtkq/\n",
      "https://dbknews.com/2016/08/12/article_c38a0d2d-2a86-57d8-9940-05d9c0f50e83-html/\n",
      "https://www.idsnews.com/article/2018/04/slut-walk-marches-down-kirkwood-on-wednesday\n",
      "https://dbknews.com/2017/09/27/juggalo-march-insane-clown-posse-icp-protest-fbi-gang-economy-culture-fbi-trump/\n",
      "https://mndaily.com/225467/opinion/men-and-women-must-work-together/\n",
      "https://www.idsnews.com/article/2014/04/changing-the-culture\n",
      "https://badgerherald.com/artsetc/2016/10/12/hump-day-sex-positive-therapist-wants-you-to-talk-about-anything-everything/\n",
      "https://dbknews.com/2007/09/29/article_5f430def-681e-5e99-a7f6-39b1c3a82876-html/\n",
      "https://www.dailycardinal.com/article/2015/10/activist-promotes-creating-a-welcoming-environment-for-sexual-assault-victims\n",
      "==============================\n",
      "Topic: 6 \n",
      "Words: 0.005*\"play\" + 0.005*\"film\" + 0.005*\"know\" + 0.004*\"go\" + 0.004*\"think\" + 0.004*\"music\" + 0.003*\"work\" + 0.003*\"game\" + 0.003*\"want\" + 0.003*\"love\"\n",
      "714\n",
      "https://www.dailycardinal.com/article/2013/04/mad-men-returns-for-its-sixth-season\n",
      "https://www.idsnews.com/article/2015/11/scouts-guide\n",
      "https://www.idsnews.com/article/2018/01/ent12818\n",
      "https://www.dailycardinal.com/article/2015/03/record-routine-marina-and-the-diamonds-stands-out-from-homogeneous-pop-on-froot\n",
      "https://dbknews.com/2007/02/28/article_0fd5504f-0cf0-5fc0-bd48-c023dd93ecba-html/\n",
      "https://www.idsnews.com/article/2015/04/iudance\n",
      "https://dbknews.com/0999/12/31/arc-puzupvfvfffj3b64ybk4xyunfy/\n",
      "https://www.idsnews.com/article/2015/04/sexual-assault-documentary-calls-for-action\n",
      "https://www.dailycardinal.com/article/2015/02/art-is-the-perfect-valentine-for-singles-this-holiday\n",
      "https://www.idsnews.com/article/2012/07/comedians-face-heckling-free-speech-issues\n",
      "https://dbknews.com/2016/08/12/article_5b734522-55bc-5ea3-89a3-9ac062b58fa0-html/\n",
      "https://mndaily.com/240339/uncategorized/dr-seuss-footloose-and-obtuse/\n",
      "https://dbknews.com/0999/12/31/arc-7h6i5cbdkvaqjcnvsqwamozeeu/\n",
      "https://www.idsnews.com/article/2018/09/am-i-a-bad-person-for-loving-bachelor-in-paradise\n",
      "https://dbknews.com/2006/10/31/article_55dffa70-b7ed-51a0-9fd2-5524b41e597f-html/\n",
      "https://www.idsnews.com/article/2016/08/the-innocents-premiere\n",
      "https://dbknews.com/0999/12/31/arc-4ywf6s2c6jczngzvzjothjv534/\n",
      "https://mndaily.com/258580/uncategorized/stayin-alive-fr/\n",
      "https://dbknews.com/0999/12/31/arc-ikpmpt7uezei7jidmu3q4q6i2q/\n",
      "https://dbknews.com/2013/04/04/article_9193f0b4-9d77-11e2-a8cf-0019bb30f31a-html/\n",
      "==============================\n",
      "Topic: 7 \n",
      "Words: 0.010*\"stanford\" + 0.006*\"violenc\" + 0.006*\"trump\" + 0.005*\"campu\" + 0.005*\"case\" + 0.005*\"presid\" + 0.004*\"senat\" + 0.004*\"right\" + 0.004*\"report\" + 0.004*\"think\"\n",
      "731\n",
      "https://stanforddaily.com/2015/12/02/sae-uncovered/\n",
      "https://stanforddaily.com/2013/05/13/case-study-finds-flawed-slanted-university-judicial-process/\n",
      "https://www.idsnews.com/article/2015/07/op-editorial-lessons-from-the-cosby-assault-allegations\n",
      "https://dbknews.com/2018/06/27/bill-cosby-umd-honorary-degree-sexual-assault/\n",
      "https://stanforddaily.com/2019/10/30/jill-thomas-resigns-as-title-ix-coordinator-cathy-glaze-appointed-interim/\n",
      "https://www.idsnews.com/article/2020/09/nomination-of-amy-coney-barrett-bad-title-ix-abortion-rights-obamacare-gun-control-iu\n",
      "https://dbknews.com/2018/10/07/dont-make-the-legitimacy-of-sexual-abuse-a-classroom-debate/\n",
      "https://www.idsnews.com/article/2016/10/bloomington-women-discuss-possible-female-president\n",
      "https://www.dailycardinal.com/article/2021/04/the-minnesota-supreme-court-didnt-fail-unjust-laws-succeeded\n",
      "https://stanforddaily.com/2020/07/30/stanford-missed-connections-starts-dialogue-about-sexual-assault-on-campus/\n",
      "https://stanforddaily.com/2020/01/14/senate-drops-schimmel-impeachment-effort-strikes-discussion-from-last-weeks-minutes/\n",
      "https://stanforddaily.com/2017/09/07/provost-drell-responds-to-devos-promise-of-title-ix-reform-assures-stanford-will-move-forward-on-sexual-assault/\n",
      "https://dbknews.com/2016/08/12/article_4ff410bc-6c42-5a49-9f12-ae87d87ed127-html/\n",
      "https://stanforddaily.com/2021/07/09/stanford-removes-library-collection-brick/\n",
      "https://mndaily.com/208851/opinion/op-sandersbiden/\n",
      "https://dbknews.com/0999/12/31/arc-vr6freh4dnbsbpnna52myejapu/\n",
      "https://stanforddaily.com/2017/11/13/english-faculty-told-to-redirect-press-questions-on-sexual-assault-allegations-to-university-communications/\n",
      "https://mndaily.com/199825/uncategorized/media-and-public-both-should-cool-down/\n",
      "https://mndaily.com/209028/uncategorized/censorship-america-may-be-rise/\n",
      "https://stanforddaily.com/2017/07/11/an-open-letter-to-president-marc-tessier-lavigne/\n",
      "==============================\n",
      "Topic: 8 \n",
      "Words: 0.021*\"report\" + 0.016*\"polic\" + 0.012*\"campu\" + 0.010*\"crime\" + 0.007*\"accord\" + 0.007*\"incid\" + 0.006*\"victim\" + 0.006*\"commun\" + 0.006*\"offic\" + 0.005*\"depart\"\n",
      "1037\n",
      "https://mndaily.com/227122/uncategorized/candidates-offer-fixes-local-crime-problem/\n",
      "https://mndaily.com/221248/uncategorized/university-alters-its-crime-alert-protocol/\n",
      "https://www.dailycardinal.com/article/2017/07/woman-assaulted-on-north-henry-street-suspect-at-large\n",
      "https://www.idsnews.com/article/2021/11/kilroys-sports-free-sexual-assault-bystander-trainings-sunday-afternoon\n",
      "https://www.idsnews.com/article/2019/04/black-lives-matter-activists-call-for-amanda-barge-to-resign-as-county-commissioner\n",
      "https://www.dailycardinal.com/article/2012/03/police-blackout-assault-over-st-pattys-weekend\n",
      "https://dbknews.com/0999/12/31/arc-ytko4drnivhfheogkd3id4l3ka/\n",
      "https://dbknews.com/0999/12/31/arc-gsyck7odgvfyzguy3xdmv7s2hu/\n",
      "https://mndaily.com/196516/uncategorized/u-area-sees-assault-increase/\n",
      "https://dbknews.com/2019/09/16/college-park-off-campus-assault-prince-georges-county-police-investigation/\n",
      "https://www.dailycardinal.com/article/2017/01/sigma-chi-chant-encouraging-sexual-assault-not-considered-violation\n",
      "https://dbknews.com/2016/08/12/article_dd428ec6-e2be-5b6f-bb70-6865cf869141-html/\n",
      "https://mndaily.com/244456/uncategorized/frats-alert-after-3rd-sexual-assault-report/\n",
      "https://www.dailycardinal.com/article/2016/03/uw-madison-student-assaulted-in-student-activity-center-wednesday-night\n",
      "https://www.dailycardinal.com/article/2016/11/cole-officially-resigns-from-asm-amid-sexual-assault-allegations\n",
      "https://www.idsnews.com/article/2016/04/greeks-speak-out-against-sexual-violence\n",
      "https://dbknews.com/2016/08/12/article_ccd32b01-48fb-5367-87cf-16ff570ce1c1-html/\n",
      "https://www.idsnews.com/article/2013/09/sexual-assault-reported-saturday-morning\n",
      "https://www.idsnews.com/article/2019/03/a-rape-at-forest-quadrangle-on-march-16-reported-monday\n",
      "https://www.idsnews.com/article/2019/03/posted-iu-basketball-fourth-street-parking-garage-little-500-amanda-barge\n",
      "==============================\n",
      "Topic: 9 \n",
      "Words: 0.008*\"women\" + 0.008*\"think\" + 0.005*\"want\" + 0.004*\"know\" + 0.004*\"work\" + 0.004*\"thing\" + 0.003*\"go\" + 0.003*\"issu\" + 0.003*\"world\" + 0.003*\"right\"\n",
      "213\n",
      "https://mndaily.com/222373/uncategorized/interactive-newseum-tells-story-journalism/\n",
      "https://dbknews.com/2016/08/12/article_685e5692-2668-11e3-8bb3-0019bb30f31a-html/\n",
      "https://dbknews.com/2013/09/11/article_b6a45e42-1b4a-11e3-8259-0019bb30f31a-html/\n",
      "https://mndaily.com/200701/uncategorized/cut-divides/\n",
      "https://dbknews.com/2016/08/12/article_81b27a40-bb7a-11e3-9e87-001a4bcf6878-html/\n",
      "https://stanforddaily.com/2019/04/11/qa-allison-tielking-20-on-reforming-sexual-misconduct-reporting-mechanisms-on-lyft-rideshare-app/\n",
      "https://mndaily.com/216105/uncategorized/conservative-mood/\n",
      "https://www.dailycardinal.com/article/2016/04/sexual-orientation-is-not-grounds-for-discrimination\n",
      "https://www.idsnews.com/article/2014/09/op-whos-really-to-blame\n",
      "https://stanforddaily.com/2014/10/29/1090980/\n",
      "https://www.idsnews.com/article/2019/11/opcancel110319-5dc0968b3456d\n",
      "https://www.idsnews.com/article/2018/03/rundown033018\n",
      "https://mndaily.com/253264/opinion/opcolumn1-5a80c17358935/\n",
      "https://stanforddaily.com/2017/10/16/fantasies-of-a-female-hugh-hefner/\n",
      "https://dbknews.com/2017/04/17/terp-talks-immigration-bees/\n",
      "https://mndaily.com/231639/uncategorized/sarah-gore-jenna-bush-spar-hot-exclusive/\n",
      "https://stanforddaily.com/2011/05/23/speaking-out/\n",
      "https://stanforddaily.com/2021/05/31/opinion-our-columnists-on-ego-and-narratives/\n",
      "https://stanforddaily.com/2017/10/23/grace-hopper-inspires-reflection-about-diversity-in-tech-at-stanford/\n",
      "https://www.dailycardinal.com/article/2012/10/alumna-recounts-sexual-assault-at-uw\n",
      "==============================\n",
      "Topic: 10 \n",
      "Words: 0.011*\"polic\" + 0.011*\"victim\" + 0.008*\"crime\" + 0.007*\"case\" + 0.007*\"charg\" + 0.007*\"report\" + 0.007*\"state\" + 0.006*\"accord\" + 0.005*\"court\" + 0.005*\"offic\"\n",
      "883\n",
      "https://mndaily.com/186850/news/metro-state/growing-crime-exceeds-arrests/\n",
      "https://www.dailycardinal.com/article/2011/01/man-arrested-now-facing-sexual-assault-charges\n",
      "https://www.dailycardinal.com/article/2018/08/cephus-lawyers-file-motion-to-dismiss-sexual-assault-charge\n",
      "https://dbknews.com/0999/12/31/arc-nudxf5ckgfhkrivqhvmomkcm5e/\n",
      "https://www.dailycardinal.com/article/2016/12/alec-shiva-preliminary-hearing-date-set-for-late-december\n",
      "https://mndaily.com/209699/uncategorized/mass-dna/\n",
      "https://www.idsnews.com/article/2016/10/woman-reports-attempted-rape\n",
      "https://mndaily.com/247310/uncategorized/lawyer-exposes-his-situational-ethics/\n",
      "https://www.dailycardinal.com/article/2018/03/man-charged-in-sexual-assault-of-student-near-gordon\n",
      "https://mndaily.com/238095/uncategorized/internet-porn-focus-policy/\n",
      "https://mndaily.com/207077/uncategorized/trial-scheduled-suspect-burglary/\n",
      "https://www.idsnews.com/article/2012/11/column-with-penn-state-football-doesnt-seem-to-matter-as-much\n",
      "https://dbknews.com/0999/12/31/arc-kizxppf5kjdmrmpre6wq232ewy/\n",
      "https://www.idsnews.com/article/2011/06/ind-ill-campuses-rank-poorly-on-rape-convictions\n",
      "https://www.dailycardinal.com/article/2018/08/cephus-suspended-felony-charges\n",
      "https://dbknews.com/2007/04/01/article_d177e1cb-2b11-53d6-9d8d-0b5f568a0c4b-html/\n",
      "https://www.idsnews.com/article/2016/01/two-unrelated-sexual-assaults-were-reported-to-bpd\n",
      "https://mndaily.com/207327/arts-entertainment/no-one-here-gets-out-alive/\n",
      "https://mndaily.com/209091/news/brprosecutor/\n",
      "https://www.dailycardinal.com/article/2014/05/university-police-arrest-uw-madison-student-for-sexual-assault-false-imprisonment\n",
      "==============================\n",
      "Topic: 11 \n",
      "Words: 0.010*\"campu\" + 0.008*\"educ\" + 0.007*\"issu\" + 0.006*\"women\" + 0.006*\"offic\" + 0.005*\"program\" + 0.005*\"rape\" + 0.005*\"prevent\" + 0.005*\"health\" + 0.005*\"polici\"\n",
      "1232\n",
      "https://www.dailycardinal.com/article/2011/10/new-bill-promotes-abstinence-education\n",
      "https://www.idsnews.com/article/2013/03/culture-of-care-factor-in-iusa\n",
      "https://stanforddaily.com/2018/04/09/in-assu-executive-debate-slates-disagree-on-undergraduate-representation-on-title-ix-panels-methods-of-enacting-change/\n",
      "https://www.dailycardinal.com/article/2013/09/student-council-approves-college-affordability-campaign\n",
      "https://dbknews.com/2017/12/28/umd-sexual-misconduct-title-ix-harvey-weinstein-campus/\n",
      "https://stanforddaily.com/2015/02/18/a-womans-place-is-in-the-house-and-senate/\n",
      "https://dbknews.com/2019/03/29/umd-fraternity-sorority-sexual-assault-prevention-training-greek-life-dfsl/\n",
      "https://dbknews.com/0999/12/31/arc-bze6kvlcizb5rkifkqvlwxxp6i/\n",
      "https://dbknews.com/0999/12/31/arc-5wr3x6dp6bf3vpdt4uu6dtewsu/\n",
      "https://mndaily.com/192210/opinion/putting-politics-above-womens-well-being/\n",
      "https://dbknews.com/2016/08/12/article_1264b126-b2e8-11e2-94c1-0019bb30f31a-html/\n",
      "https://dbknews.com/2019/10/20/umd-sexual-assault-prevention-sga-care/\n",
      "https://dbknews.com/2016/12/12/student-government-association-women-university-of-maryland/\n",
      "https://dbknews.com/2016/08/12/article_b862654e-6242-11e5-998c-dfe78fad60ea-html/\n",
      "https://dbknews.com/0999/12/31/arc-wobalem4zbfrllrwaiyh6z6ibu/\n",
      "https://mndaily.com/187897/opinion/women-have-right-know/\n",
      "https://www.idsnews.com/article/2014/02/step-up-iu-trains-students-in-intervention\n",
      "https://www.dailycardinal.com/article/2017/07/uhs-to-replace-tonight-program-for-first-year-and-transfer-students\n",
      "https://mndaily.com/257188/uncategorized/sex-assault-policy-may-get-stricter/\n",
      "https://dbknews.com/0999/12/31/arc-ag6g7uappnbodncmkni7v6a2mm/\n",
      "==============================\n"
     ]
    }
   ],
   "source": [
    "import random\n",
    "for idx, topic in lda_model.print_topics(-1):\n",
    "    print('Topic: {} \\nWords: {}'.format(idx, topic))\n",
    "    print(len(sorted_articles[idx]))\n",
    "    for item in random.sample(sorted_articles[idx], 20):\n",
    "        print(item)\n",
    "    print(\"==============================\")"
   ]
  },
  {
   "cell_type": "code",
   "execution_count": 5,
   "metadata": {
    "collapsed": true,
    "jupyter": {
     "outputs_hidden": true
    }
   },
   "outputs": [
    {
     "name": "stdout",
     "output_type": "stream",
     "text": [
      "0\n",
      "1250\n",
      "https://mndaily.com/209121/arts-entertainment/comedy/book-review-hilarity-ensues-tucker-max/\n",
      "https://dbknews.com/2016/09/21/are-songs-the-next-target-in-the-fight-for-political-correctness/\n",
      "https://dbknews.com/2020/12/02/diego-maradona-human-rights-sexual-assault/\n",
      "https://mndaily.com/238813/uncategorized/playboy-representatives-arent-fazed-protests/\n",
      "https://www.idsnews.com/article/2012/03/reform-not-discipline-and-punish\n",
      "https://www.idsnews.com/article/2015/12/editorial-porn-star-james-deen-accused-of-raping-stoya-and-others\n",
      "https://stanforddaily.com/2018/10/05/me-asl-a-moral-member-for-the-highest-court/\n",
      "https://www.dailycardinal.com/article/2018/01/stars-use-golden-globes-platform-to-further-equality-movement\n",
      "https://dbknews.com/0999/12/31/arc-7cthjydgtncmjdy74skpqwpsda/\n",
      "https://www.idsnews.com/article/2018/04/column-getz-bush-042418\n",
      "https://www.idsnews.com/article/2016/02/kanye-west-tweeter-extrodinaire\n",
      "https://mndaily.com/232831/uncategorized/sergeant-convicted-raping-six-trainees/\n",
      "https://mndaily.com/258505/news/politics/cain-campaign-comes-end/\n",
      "https://dbknews.com/0999/12/31/arc-zvhn5mryf5a5vmwevnnctwezhe/\n",
      "https://stanforddaily.com/2015/03/04/photoshop-an-unchecked-evil/\n",
      "https://www.idsnews.com/article/2019/01/homophobia-in-hip-hop-is-normalized-discrimination\n",
      "https://www.idsnews.com/article/2016/04/column-femme-feels\n",
      "https://stanforddaily.com/2015/04/01/humor-and-responsibility/\n",
      "https://dbknews.com/0999/12/31/arc-m7robfnvuvaj7b3oywuigki2ti/\n",
      "https://www.idsnews.com/article/2015/10/column-free-us-from-the-hatred\n",
      "1\n",
      "177\n",
      "https://dbknews.com/2019/12/30/umd-college-park-photo-year-in-review-2019/\n",
      "https://mndaily.com/230777/uncategorized/nike-profits-worlds-vulnerable/\n",
      "https://dbknews.com/2013/04/21/article_e9caddfa-ab06-11e2-b4d0-001a4bcf6878-html/\n",
      "https://www.idsnews.com/article/2018/04/entwhoopi041418\n",
      "https://mndaily.com/219389/uncategorized/syrian-revolution-hits-close-home/\n",
      "https://mndaily.com/257544/uncategorized/campus-not-safe-night-class-students/\n",
      "https://dbknews.com/2013/10/07/article_91e4f3fe-2f78-11e3-b0e3-0019bb30f31a-html/\n",
      "https://www.idsnews.com/article/2018/07/orienteriupdq-a\n",
      "https://www.idsnews.com/article/2012/06/gallery-addresses-workplace-violence\n",
      "https://mndaily.com/214882/news/neighborhoods/students-could-be-left-out-toxin-tests/\n",
      "https://stanforddaily.com/2016/02/25/theater-review-the-telling-project/\n",
      "https://www.idsnews.com/article/2015/03/explore-the-kinsey-institute\n",
      "https://dbknews.com/0999/12/31/arc-akp5xw5o4bhdxerzuqvsgae26a/\n",
      "https://www.idsnews.com/article/2015/04/call-for-consent\n",
      "https://www.idsnews.com/article/2018/03/rundown033018\n",
      "https://www.idsnews.com/article/2021/04/iu-defense-against-sexual-assault\n",
      "https://www.idsnews.com/article/2017/01/root-cellar-hosts-benefit-show-for-middle-way-house\n",
      "https://www.idsnews.com/article/2012/03/more-than-80-new-bills-signed-by-gov-daniels\n",
      "https://mndaily.com/236118/uncategorized/daily-digest-assange-making-lists-dadt-survey-koreas/\n",
      "https://www.idsnews.com/article/2018/04/the-deal-with-kilroys\n",
      "2\n",
      "1213\n",
      "https://dbknews.com/2012/07/10/article_c8a5c2f2-19cd-58ed-b9c6-f01c9e08fe8d-html/\n",
      "https://stanforddaily.com/2017/07/13/president-and-provosts-response-to-the-letter-on-sexual-assault-from-the-assu/\n",
      "https://dbknews.com/0999/12/31/arc-c4jjeuyndvdzhlh7hjgzmpc7dm/\n",
      "https://dbknews.com/2014/09/22/article_6026fbea-42ba-11e4-9e20-001a4bcf6878-html/\n",
      "https://www.idsnews.com/article/2014/02/step-up-iu-trains-students-in-intervention\n",
      "https://stanforddaily.com/2020/09/22/letter-to-the-community-assu-vp-candidate-public-comment-period/\n",
      "https://www.dailycardinal.com/article/2019/10/help-in-crisis-asm-proposes-adding-emergency-phone-numbers-to-wiscards\n",
      "https://www.idsnews.com/article/2014/10/iu-board-of-trustees-to-meet-at-iupui\n",
      "https://www.idsnews.com/article/2017/03/former-middle-way-house-director-dies-at-71\n",
      "https://mndaily.com/268184/news/incoming-fcc-leadership-highlights-priorities-and-goals-for-the-committees-future/\n",
      "https://dbknews.com/0999/12/31/arc-e7fqw7kzs5ddjchhbgoag7eweq/\n",
      "https://stanforddaily.com/2019/10/21/are-you-skin-hungry-a-review-of-beyond-sex-ed/\n",
      "https://www.dailycardinal.com/article/2016/10/nps-director-talks-centennial-goals-sexual-harassment-claims\n",
      "https://mndaily.com/241504/uncategorized/it-s-us-finds-support-us/\n",
      "https://www.dailycardinal.com/article/2015/04/financial-aid-seen-as-key-issue-for-next-years-legislative-affairs-committee\n",
      "https://dbknews.com/2016/08/12/article_7f02a865-fa14-5453-83a6-31fddc61c951-html/\n",
      "https://dbknews.com/0999/12/31/arc-kt7tedssfnh7lncopb2njerrwu/\n",
      "https://mndaily.com/247505/uncategorized/three-new-reps-add-msa-gender-gap/\n",
      "https://www.dailycardinal.com/article/2017/03/segregated-fees-cut-endangers-resources\n",
      "https://mndaily.com/189496/news/st-aurora/\n",
      "3\n",
      "590\n",
      "https://stanforddaily.com/2021/05/12/r-lanier-anderson-vincent-barletta-enrique-chagoya-awarded-guggenheim-fellowships/\n",
      "https://www.idsnews.com/article/2013/03/iusa-ticket-changes-its-platform\n",
      "https://dbknews.com/2016/08/12/article_aade80ae-9312-58f7-8fc5-27d066f363b5-html/\n",
      "https://www.idsnews.com/article/2015/03/robel-delivers-state-of-campus-address\n",
      "https://dbknews.com/2005/11/29/article_6d7f756a-0e40-559c-bb37-7fc7ceaa8d02-html/\n",
      "https://mndaily.com/248570/news/adhumphrey3/\n",
      "https://badgerherald.com/news/2016/03/09/47-percent-of-female-native-american-uw-students-reported-being-sexually-assaulted/\n",
      "https://dbknews.com/0999/12/31/arc-zwqh2zqz3fc2lhq7xokkylnnl4/\n",
      "https://www.dailycardinal.com/article/2017/11/walker-urged-to-oppose-controversial-immigration-bill-as-he-embarks-on-re-election-bid\n",
      "https://mndaily.com/224163/news/ctmmiwmarch/\n",
      "https://mndaily.com/253569/news/acveglia/\n",
      "https://dbknews.com/2007/11/12/article_9cd44a6d-d17b-597d-9f12-d82346dce17c-html/\n",
      "https://www.dailycardinal.com/article/2020/02/repairing-harm-reducing-risk-uw-madison-restorative-justice-project-facilitates-victim-offender-dialogues\n",
      "https://dbknews.com/2013/02/14/article_68f07988-7712-11e2-aab0-0019bb30f31a-html/\n",
      "https://stanforddaily.com/2020/06/14/the-class-of-2020-by-the-numbers/\n",
      "https://stanforddaily.com/2019/06/27/op-ed-letter-of-unqualified-support-for-dr-jose-g-montoya/\n",
      "https://stanforddaily.com/2015/01/27/civil-disobedience-is-for-the-binary/\n",
      "https://stanforddaily.com/2015/03/03/watsonville-immigrant-identity/\n",
      "https://mndaily.com/194049/uncategorized/students-aim-end-trafficking/\n",
      "https://www.idsnews.com/article/2016/01/students-against-state-violence-continues-programs-plans-new-ones\n",
      "4\n",
      "379\n",
      "https://stanforddaily.com/2014/01/31/goliath-makes-historic-return-to-farm/\n",
      "https://mndaily.com/216161/sports/spfb1119football/\n",
      "https://mndaily.com/227379/arts-entertainment/californication-series-finale-grace/\n",
      "https://dbknews.com/2019/12/02/umd-documentary-immigration-border-humano-virtual-reality-experience/\n",
      "https://stanforddaily.com/2016/02/19/venkataraman-judge-players-on-actual-merits-not-perceived-ones/\n",
      "https://www.idsnews.com/article/2014/12/sequel-is-a-solid-success\n",
      "https://dbknews.com/2012/08/30/article_6d68ad32-f2fb-11e1-9f76-0019bb30f31a-html/\n",
      "https://www.idsnews.com/article/2018/04/rundown041318\n",
      "https://dbknews.com/2018/01/18/maryland-basketball-minnesota-big-ten-preview-game-watch/\n",
      "https://dbknews.com/0999/12/31/arc-pujy5kvn6vf45cqzyiup4bm4mm/\n",
      "https://stanforddaily.com/2017/05/30/on-this-day-in-stanford-history-3/\n",
      "https://www.idsnews.com/article/2011/11/showtime-comedy-still-red-hot-in-fourth-season-5b9c42a731da5\n",
      "https://mndaily.com/243327/uncategorized/gophers-football-loses-three-athletics-scholarships/\n",
      "https://dbknews.com/2016/08/12/article_049334e0-248c-11e2-a6c6-001a4bcf6878-html/\n",
      "https://stanforddaily.com/2017/11/16/golub-an-irrational-fear-of-european-big-men/\n",
      "https://stanforddaily.com/2012/05/25/reviews-the-color-purple/\n",
      "https://dbknews.com/0999/12/31/arc-qgigzftdd5bpnlx3sms2m65zou/\n",
      "https://stanforddaily.com/2018/04/15/san-jose-stage-companys-sweeney-todd-is-a-demonic-tormented-masterpiece/\n",
      "https://mndaily.com/193909/sports/penn-state-sanctions-ripple-through-big-ten/\n",
      "https://dbknews.com/0999/12/31/arc-zcm2coy6njgytoat3ckecqd5qa/\n",
      "5\n",
      "156\n",
      "https://stanforddaily.com/2010/09/21/prep-to-pep/\n",
      "https://mndaily.com/247186/uncategorized/black-flies-and/\n",
      "https://stanforddaily.com/2021/04/14/my-bolt-cutter-year-on-harm-trust-and-fiona-apple/\n",
      "https://mndaily.com/212982/arts-entertainment/music/golden-bubbles-horizon/\n",
      "https://dbknews.com/0999/12/31/arc-lanka67jmbcu5dntgp4nj43esi/\n",
      "https://www.idsnews.com/article/2011/04/if-and-when-your-little-500-party-gets-busted\n",
      "https://mndaily.com/258793/uncategorized/you-re-loco-if-you-enjoy-four-loko/\n",
      "https://mndaily.com/207159/arts-entertainment/music/lady-gagas-fame-monster-will-eat-your-heart-and-your-brain/\n",
      "https://mndaily.com/248334/opinion/factory-farming-moral-issue/\n",
      "https://dbknews.com/2016/08/12/article_671ebcf3-1398-5deb-9611-eafe47ba7f95-html/\n",
      "https://mndaily.com/235431/arts-entertainment/aevalentines/\n",
      "https://www.dailycardinal.com/article/2017/10/marilyn-mansons-new-album-invokes-previous-work-yet-lacks-maturity\n",
      "https://stanforddaily.com/2019/02/20/razing-the-bar/\n",
      "https://dbknews.com/2016/08/12/article_6f57e9ac-2192-11e3-89cb-0019bb30f31a-html/\n",
      "https://stanforddaily.com/2011/06/30/seeing-green-superfund-me/\n",
      "https://www.idsnews.com/article/2016/12/family-moves-from-shanghai-to-find-restaurant-bike-team\n",
      "https://mndaily.com/240339/uncategorized/dr-seuss-footloose-and-obtuse/\n",
      "https://badgerherald.com/artsetc/2017/09/07/the-badger-herald-reacts-to-taylor-swifts-new-singles/\n",
      "https://www.dailycardinal.com/article/2016/09/snake-on-the-lake-2016-venue-lacks-inclusivity-of-past-performances\n",
      "https://dbknews.com/2016/08/12/article_691de163-09b4-5677-99f0-da76678a27ae-html/\n",
      "6\n",
      "546\n",
      "https://www.idsnews.com/article/2015/10/editorial-mind-the-age-gap\n",
      "https://www.dailycardinal.com/article/2016/02/sexual-assault-amnesty-bill-clears-assembly\n",
      "https://mndaily.com/193712/news/world/afghan-spokesman-marital-law-under-review/\n",
      "https://mndaily.com/192855/news/world/mexican-founder-conservative-order-dies-was-disciplined-pope/\n",
      "https://www.dailycardinal.com/article/2021/11/wisconsins-assembly-approves-package-of-anti-abortion-bills\n",
      "https://www.idsnews.com/article/2011/04/controversial-ind-bill-tightens-abortion-regulations\n",
      "https://mndaily.com/211958/news/nation/msa-takes-stand-mich-harassment/\n",
      "https://www.dailycardinal.com/article/2011/02/heel-the-love\n",
      "https://dbknews.com/2013/12/15/article_b97b07f4-65c5-11e3-be85-001a4bcf6878-html/\n",
      "https://dbknews.com/2015/05/13/article_b4c9e406-f9d4-11e4-9d1c-cb4ee165e9b9-html/\n",
      "https://www.dailycardinal.com/article/2018/01/uw-madison-employees-one-step-away-from-pay-increase-after-years-of-retention-woes\n",
      "https://www.dailycardinal.com/article/2011/04/what-does-sti-awareness-mean\n",
      "https://mndaily.com/224007/uncategorized/womens-rights-exist-national-level/\n",
      "https://mndaily.com/258661/news/metro-state/higher-education-bill-roundup/\n",
      "https://stanforddaily.com/2016/05/12/assu-senate-discusses-funding-and-projects/\n",
      "https://dbknews.com/2016/08/12/article_b00cd836-ef47-5205-8a11-a89f4b09fa4e-html/\n",
      "https://dbknews.com/2016/08/12/article_def4769e-fd40-11e1-b2da-0019bb30f31a-html/\n",
      "https://dbknews.com/2012/03/24/article_73c71a1d-c61b-51c6-a484-7d0f70facb32-html/\n",
      "https://mndaily.com/187244/news/ctsessionkaler/\n",
      "https://stanforddaily.com/2012/11/11/editorial-dissolve-the-assu-senate/\n",
      "7\n",
      "1322\n",
      "https://dbknews.com/2018/11/09/umd-football-tox-culture-title-ix-ocrsm-civil-rights-lgbtq/\n",
      "https://dbknews.com/2016/08/12/article_b7abfd08-d960-11e2-9b8d-0019bb30f31a-html/\n",
      "https://stanforddaily.com/2019/02/12/vanessa-tyson-calls-for-individual-and-institutional-change-at-symposium-on-metoo-movement/\n",
      "https://mndaily.com/256980/uncategorized/another/\n",
      "https://www.idsnews.com/article/2015/05/iupd-officer-resigns-following-alleged-rapeiupd-officer-resigns-following-alleged-rape-no-charges-filed\n",
      "https://www.idsnews.com/article/2015/02/iu-student-reports-rape-by-force\n",
      "https://stanforddaily.com/2021/09/22/title-ix-advocates-raise-concerns-about-new-alcohol-policy/\n",
      "https://www.idsnews.com/article/2017/09/u-s-department-of-education-rescinds-sexual-assault-guidance\n",
      "https://stanforddaily.com/2019/09/11/lynbrook-high-school-fires-former-judge-aaron-persky-from-new-job-as-jv-tennis-coach-after-backlash/\n",
      "https://stanforddaily.com/2018/01/02/year-in-review-through-daily-articles/\n",
      "https://stanforddaily.com/2019/02/17/sexual-assaults-attempted-assault-reported/\n",
      "https://www.dailycardinal.com/article/2013/09/uw-madison-to-send-more-frequent-crime-alert-emails\n",
      "https://www.dailycardinal.com/article/2018/10/cephus-sues-university-for-mishandling-title-ix-investigation\n",
      "https://mndaily.com/219498/uncategorized/u-sports-scandals-date-1970s/\n",
      "https://dbknews.com/2017/02/04/university-of-maryland-lawsuit-sexual-assault/\n",
      "https://stanforddaily.com/2014/10/17/town-hall-offer-forum-for-title-ix-discussion/\n",
      "https://www.idsnews.com/article/2014/05/iu-on-doe-list-for-title-ix-investigation\n",
      "https://mndaily.com/222369/uncategorized/classifying-hateful-criminal-acts/\n",
      "https://www.dailycardinal.com/article/2014/04/assembly-democrats-ask-kramer-to-resign-and-inquire-about-ethics-committee\n",
      "https://www.idsnews.com/article/2016/02/column-new-bill-stands-up-for-sexual-assault-survivors\n",
      "8\n",
      "982\n",
      "https://dbknews.com/2014/07/02/article_318237fa-025a-11e4-807f-001a4bcf6878-html/\n",
      "https://dbknews.com/2013/09/19/article_3bb496f8-218e-11e3-8423-0019bb30f31a-html/\n",
      "https://mndaily.com/190447/news/stiam/\n",
      "https://www.dailycardinal.com/article/2016/04/dane-county-executive-joe-parisi-highlights-denim-day\n",
      "https://dbknews.com/0999/12/31/arc-k7xujaciazgphlvux2yhq22lsm/\n",
      "https://dbknews.com/0999/12/31/arc-e6qjmm7kj5ag3i6vzmcwkt6l3a/\n",
      "https://badgerherald.com/news/2021/09/16/female-athletes-academics-discuss-title-ix-near-its-50th-anniversary/\n",
      "https://stanforddaily.com/2019/12/04/sexual-violence-on-campus-just-the-tip-of-the-iceberg/\n",
      "https://dbknews.com/2016/08/12/article_1ef841b8-fa47-11e2-a1d9-001a4bcf6878-html/\n",
      "https://dbknews.com/2018/04/11/umd-occupy-mckeldin-sexual-assault/\n",
      "https://mndaily.com/258086/uncategorized/advocates-work-end-domestic-violence/\n",
      "https://mndaily.com/231916/uncategorized/sexual-assault-awareness-during-april-0/\n",
      "https://www.dailycardinal.com/article/2015/10/sexual-assault-dialogue-demands-inclusivity\n",
      "https://mndaily.com/249145/uncategorized/consent-law-offers-freedom-not-limits/\n",
      "https://dbknews.com/2016/08/12/article_cf409eb6-8798-11e2-a135-001a4bcf6878-html/\n",
      "https://mndaily.com/236646/uncategorized/survey-aims-help-bisexual-u-students/\n",
      "https://stanforddaily.com/2016/02/21/the-intersectional-slutwalk/\n",
      "https://www.idsnews.com/article/2015/05/op-column-genders-dress-code\n",
      "https://stanforddaily.com/2019/02/14/end-rape-on-campus-interim-executive-director-urges-students-to-submit-comments-on-title-ix-changes/\n",
      "https://stanforddaily.com/2014/06/21/stanford-drops-the-ball-on-sexual-assault-case/\n",
      "9\n",
      "1242\n",
      "https://www.idsnews.com/article/2017/04/iupd-anticipates-upcoming-summer-academy\n",
      "https://www.idsnews.com/article/2012/11/student-reports-rape-at-teter\n",
      "https://dbknews.com/2010/02/24/article_c6eaa801-1a90-51eb-8b60-b1ea4bdde83f-html/\n",
      "https://mndaily.com/209699/uncategorized/mass-dna/\n",
      "https://dbknews.com/2016/08/12/article_fa6af1eb-0a6a-5ebd-b528-daae374af4db-html/\n",
      "https://dbknews.com/2011/04/19/article_118be122-aec5-5cc6-a7f5-ac570c7c5bc7-html/\n",
      "https://mndaily.com/222925/uncategorized/vampire-rapist-paroled-prison/\n",
      "https://mndaily.com/216880/news/umnlawprof/\n",
      "https://www.idsnews.com/article/2013/03/man-arrested-suspect-of-molesting-5-year-old-girl\n",
      "https://www.idsnews.com/article/2015/10/woman-passed-out-at-party-reports-rape\n",
      "https://www.idsnews.com/article/2015/09/former-pinnacle-school-tutor-pleads-guilty-to-child-molestation-rape\n",
      "https://mndaily.com/229662/uncategorized/crime-down-sharply-especially-suburbs/\n",
      "https://dbknews.com/0999/12/31/arc-q4oohg2nrjad3cwektpal6qcva/\n",
      "https://badgerherald.com/news/2017/01/17/sigma-chi-fraternity-officially-placed-on-suspension/\n",
      "https://dbknews.com/0999/12/31/arc-apykd7s2rnfe3hw5k32q7isive/\n",
      "https://mndaily.com/239437/uncategorized/student-5c103237674af/\n",
      "https://stanforddaily.com/2019/05/07/palo-alto-police-sued-for-excessive-force-in-2018-arrest/\n",
      "https://dbknews.com/0999/12/31/arc-op4pxprovzew7fv5ijjpi2qfdi/\n",
      "https://mndaily.com/231759/uncategorized/rape-robbery-suspects-held-wisconsin/\n",
      "https://mndaily.com/186884/opinion/op-rodneyreed/\n",
      "10\n",
      "293\n",
      "https://dbknews.com/0999/12/31/arc-ld6xeizb35g4fnuwdv362n7hja/\n",
      "https://stanforddaily.com/2016/11/02/mid-quarter-transport-numbers-drop-45-percent-from-five-year-average/\n",
      "https://dbknews.com/0999/12/31/arc-67zedruoyfcnhe4l23kupfkllm/\n",
      "https://mndaily.com/216289/opinion/value-religion/\n",
      "https://stanforddaily.com/2015/06/04/value-your-dreams-a-qa-with-dr-hans-steiner/\n",
      "https://dbknews.com/2015/03/03/article_f8fefe5e-c216-11e4-90a6-872d8e70de47-html/\n",
      "https://mndaily.com/259928/news/stprison/\n",
      "https://dbknews.com/0999/12/31/arc-yp5gvgustja2hia5frtpw37b6m/\n",
      "https://dbknews.com/0999/12/31/arc-6ccescoxljeqzhwu2jozverahq/\n",
      "https://mndaily.com/258114/uncategorized/u-professor-links-youth-drinking-adult-problems/\n",
      "https://dbknews.com/2016/08/12/article_940d06d1-d633-5735-820c-13a843effb72-html/\n",
      "https://dbknews.com/0999/12/31/arc-34pmjxqepnflbhfbp7s42muldm/\n",
      "https://mndaily.com/197443/uncategorized/better-safe-sorry/\n",
      "https://stanforddaily.com/2016/09/30/alcohol-policy-a-step-in-the-right-direction/\n",
      "https://www.idsnews.com/article/2017/02/feminist-student-association-puts-on-performance-of-the-vagina-monologues\n",
      "https://www.idsnews.com/article/2017/10/column-new-technology-can-greatly-improve-sexual-assault-prosecutions\n",
      "https://dbknews.com/0999/12/31/arc-jq4g3fzsyrenldhfhemy4c3hqy/\n",
      "https://dbknews.com/2013/11/11/article_8b859320-4b5b-11e3-a841-0019bb30f31a-html/\n",
      "https://mndaily.com/228226/uncategorized/study-links-female-alcohol-use-victimization/\n",
      "https://dbknews.com/2018/10/26/damon-evans-maryland-football-report-abuse-toxic-culture-investigation-dj-durkin-jordan-mcnair/\n"
     ]
    }
   ],
   "source": [
    "import random\n",
    "for i in range(0,12):\n",
    "    print(i)\n",
    "    print(len(sorted_articles[i]))\n",
    "    for link in random.sample(sorted_articles[i], 20):\n",
    "        print(link)"
   ]
  },
  {
   "cell_type": "code",
   "execution_count": null,
   "metadata": {},
   "outputs": [],
   "source": []
  }
 ],
 "metadata": {
  "kernelspec": {
   "display_name": "Python 3",
   "language": "python",
   "name": "python3"
  },
  "language_info": {
   "codemirror_mode": {
    "name": "ipython",
    "version": 3
   },
   "file_extension": ".py",
   "mimetype": "text/x-python",
   "name": "python",
   "nbconvert_exporter": "python",
   "pygments_lexer": "ipython3",
   "version": "3.7.6"
  }
 },
 "nbformat": 4,
 "nbformat_minor": 4
}
