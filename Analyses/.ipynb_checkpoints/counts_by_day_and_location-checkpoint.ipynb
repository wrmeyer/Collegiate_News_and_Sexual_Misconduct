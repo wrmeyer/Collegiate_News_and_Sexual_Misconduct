{
 "cells": [
  {
   "cell_type": "code",
   "execution_count": 1,
   "metadata": {},
   "outputs": [],
   "source": [
    "import pandas as pd\n",
    "import os\n",
    "location = str(os.getcwd())"
   ]
  },
  {
   "cell_type": "code",
   "execution_count": 2,
   "metadata": {},
   "outputs": [],
   "source": [
    "f = (location[:-8] + \"Articles\\\\articles_cleaned.csv\")\n",
    "articles = pd.read_csv(f)\n",
    "articles = articles.to_dict(\"index\")"
   ]
  },
  {
   "cell_type": "code",
   "execution_count": 3,
   "metadata": {},
   "outputs": [],
   "source": [
    "f = (location[:-8] + \"Tweets\\\\tweets_cleaned.csv\")\n",
    "tweets = pd.read_csv(f)\n",
    "tweets = tweets.to_dict(\"index\")"
   ]
  },
  {
   "cell_type": "code",
   "execution_count": 4,
   "metadata": {},
   "outputs": [
    {
     "name": "stdout",
     "output_type": "stream",
     "text": [
      "6333\n"
     ]
    }
   ],
   "source": [
    "locations = [\"IUB\", \"UMD\", \"UMN\", \"Stanford\", \"Wisconsin\"]\n",
    "dates = []\n",
    "for i in range(len(tweets)):\n",
    "    tweet = tweets[i]\n",
    "    if tweet[\"created_at\"] not in dates:\n",
    "        dates.append(tweet[\"created_at\"])\n",
    "for i in range(len(articles)):\n",
    "    article = articles[i]\n",
    "    if article[\"date\"] not in dates:\n",
    "        dates.append(article[\"date\"])\n",
    "print(len(dates))"
   ]
  },
  {
   "cell_type": "code",
   "execution_count": 5,
   "metadata": {},
   "outputs": [],
   "source": [
    "by_date = []\n",
    "\n",
    "for location in locations:\n",
    "    for date in dates:\n",
    "        date_dict = {}\n",
    "        date_dict[\"location\"] = location\n",
    "        date_dict[\"date\"] = date\n",
    "        tweet_count = 0\n",
    "        article_count = 0\n",
    "\n",
    "        for i in range(len(tweets)):\n",
    "            tweet = tweets[i]\n",
    "            if date == tweet[\"created_at\"] and tweet[\"location\"] == location:\n",
    "                tweet_count += 1\n",
    "\n",
    "        for j in range(len(articles)):\n",
    "            article = articles[j]\n",
    "            if date == article[\"date\"] and article[\"location\"] == location:\n",
    "                article_count += 1\n",
    "\n",
    "        date_dict[\"tweet_count\"] = tweet_count\n",
    "        date_dict[\"article_count\"] = article_count\n",
    "\n",
    "        by_date.append(date_dict)"
   ]
  },
  {
   "cell_type": "code",
   "execution_count": 6,
   "metadata": {},
   "outputs": [],
   "source": [
    "pd.DataFrame(by_date).to_csv('counts_by_day.csv')"
   ]
  },
  {
   "cell_type": "markdown",
   "metadata": {},
   "source": [
    "Average for each day across all years to check for seasonality (Average between 2011 and end of 2021)"
   ]
  },
  {
   "cell_type": "code",
   "execution_count": 58,
   "metadata": {},
   "outputs": [],
   "source": [
    "location = str(os.getcwd())\n",
    "f = (location + \"\\counts_by_day.csv\")\n",
    "by_dates = pd.read_csv(f)\n",
    "by_dates = by_dates.to_dict(\"recirds\") "
   ]
  },
  {
   "cell_type": "code",
   "execution_count": 64,
   "metadata": {},
   "outputs": [
    {
     "data": {
      "text/plain": [
       "365"
      ]
     },
     "execution_count": 64,
     "metadata": {},
     "output_type": "execute_result"
    }
   ],
   "source": [
    "from datetime import date, timedelta\n",
    "\n",
    "start_date = date(1999, 1, 1) \n",
    "end_date = date(1999, 12, 31)    # perhaps date.now()\n",
    "\n",
    "delta = end_date - start_date   # returns timedelta\n",
    "dates = []\n",
    "for i in range(delta.days + 1):\n",
    "    day = start_date + timedelta(days=i)\n",
    "    dates.append(day)\n",
    "len(dates)"
   ]
  },
  {
   "cell_type": "code",
   "execution_count": 66,
   "metadata": {},
   "outputs": [],
   "source": [
    "df = []\n",
    "locations = [\"IUB\", \"UMD\", \"UMN\", \"Stanford\", \"Wisconsin\"]\n",
    "for location in locations:\n",
    "    for date in dates:\n",
    "        date = str(date)\n",
    "        comp_day = date.split(\"-\")[1] + \"/\" +  date.split(\"-\")[2]\n",
    "\n",
    "        total_tweets = 0\n",
    "        total_articles = 0\n",
    "        for day in by_dates:\n",
    "            full = str(day[\"date\"])\n",
    "            if str(full) != \"nan\" and int(full.split(\"/\")[2]) > 2010 and int(full.split(\"/\")[2]) < 2022:\n",
    "                m = full.split(\"/\")[0]\n",
    "                if int(m) < 10:\n",
    "                    m = \"0\"+m\n",
    "                d = full.split(\"/\")[1]\n",
    "                if int(d) < 10:\n",
    "                    d = \"0\"+d\n",
    "                md = m + \"/\" + d\n",
    "                if comp_day == md and location == day[\"location\"]:\n",
    "                    total_articles += day[\"tweet_count\"]\n",
    "                    total_tweets += day[\"article_count\"]\n",
    "        average_tweets = total_tweets/11\n",
    "        average_articles = total_articles/11\n",
    "        df.append({\"date\":date, \"average_tweets\": average_tweets, \"average_articles\": average_articles, \"location\": location})"
   ]
  },
  {
   "cell_type": "code",
   "execution_count": 67,
   "metadata": {},
   "outputs": [],
   "source": [
    "pd.DataFrame(df).to_csv('yearly_averages.csv')"
   ]
  },
  {
   "cell_type": "code",
   "execution_count": null,
   "metadata": {},
   "outputs": [],
   "source": []
  }
 ],
 "metadata": {
  "kernelspec": {
   "display_name": "Python 3",
   "language": "python",
   "name": "python3"
  },
  "language_info": {
   "codemirror_mode": {
    "name": "ipython",
    "version": 3
   },
   "file_extension": ".py",
   "mimetype": "text/x-python",
   "name": "python",
   "nbconvert_exporter": "python",
   "pygments_lexer": "ipython3",
   "version": "3.8.10"
  }
 },
 "nbformat": 4,
 "nbformat_minor": 4
}
