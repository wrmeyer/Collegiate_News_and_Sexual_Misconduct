{
 "cells": [
  {
   "cell_type": "code",
   "execution_count": 45,
   "metadata": {},
   "outputs": [],
   "source": [
    "import searchtweets\n",
    "from searchtweets import load_credentials\n",
    "from searchtweets import gen_request_parameters\n",
    "import os"
   ]
  },
  {
   "cell_type": "code",
   "execution_count": 46,
   "metadata": {},
   "outputs": [],
   "source": [
    "premium_search_args = load_credentials(filename=\"./creds.yaml\", yaml_key=\"search_tweets_v2\", env_overwrite = False)"
   ]
  },
  {
   "cell_type": "code",
   "execution_count": 81,
   "metadata": {},
   "outputs": [
    {
     "name": "stdout",
     "output_type": "stream",
     "text": [
      "\"sexual assault\" bounding_box:[-86.615353 39.121804 -86.464291 39.190223]\n",
      "\"sexual misconduct\" bounding_box:[-86.615353 39.121804 -86.464291 39.190223]\n",
      "\"rape\" bounding_box:[-86.615353 39.121804 -86.464291 39.190223]\n"
     ]
    },
    {
     "name": "stderr",
     "output_type": "stream",
     "text": [
      " HTTP Error code: 429: {\"title\":\"Too Many Requests\",\"detail\":\"Too Many Requests\",\"type\":\"about:blank\",\"status\":429} | Too Many Requests\n",
      " Request payload: {'query': '\"rape\" bounding_box:[-86.554585 39.141178 -86.481285 39.193083]', 'start_time': '2011-01-01T00:00:00Z', 'end_time': '2022-01-01T00:00:00Z', 'granularity': 'day', 'next_token': '1jzu9lk96azp0b3x7888hrpurasp7jcoxl72lx20n8fx'}\n",
      "Rate limit hit... Will retry...\n",
      "Will retry in 4 seconds...\n",
      " HTTP Error code: 429: {\"title\":\"Too Many Requests\",\"detail\":\"Too Many Requests\",\"type\":\"about:blank\",\"status\":429} | Too Many Requests\n",
      " Request payload: {'query': '\"rape\" bounding_box:[-86.554585 39.141178 -86.481285 39.193083]', 'start_time': '2011-01-01T00:00:00Z', 'end_time': '2022-01-01T00:00:00Z', 'granularity': 'day', 'next_token': '1jzu9lk96azp0b3x7888hrpurasp7jcoxl72lx20n8fx'}\n",
      "Rate limit hit... Will retry...\n",
      "Will retry in 16 seconds...\n",
      " HTTP Error code: 429: {\"title\":\"Too Many Requests\",\"detail\":\"Too Many Requests\",\"type\":\"about:blank\",\"status\":429} | Too Many Requests\n",
      " Request payload: {'query': '\"rape\" bounding_box:[-86.554585 39.141178 -86.481285 39.193083]', 'start_time': '2011-01-01T00:00:00Z', 'end_time': '2022-01-01T00:00:00Z', 'granularity': 'day', 'next_token': '1jzu9lk96azp0b3x7888hrpurasp7jcoxl72lx20n8fx'}\n",
      "Rate limit hit... Will retry...\n",
      "Will retry in 36 seconds...\n",
      " HTTP Error code: 429: {\"title\":\"Too Many Requests\",\"detail\":\"Too Many Requests\",\"type\":\"about:blank\",\"status\":429} | Too Many Requests\n",
      " Request payload: {'query': '\"rape\" bounding_box:[-86.554585 39.141178 -86.481285 39.193083]', 'start_time': '2011-01-01T00:00:00Z', 'end_time': '2022-01-01T00:00:00Z', 'granularity': 'day', 'next_token': '1jzu9lk96azp0b3x7888hrpurasp7jcoxl72lx20n8fx'}\n",
      "Rate limit hit... Will retry...\n",
      "Will retry in 64 seconds...\n",
      " HTTP Error code: 429: {\"title\":\"Too Many Requests\",\"detail\":\"Too Many Requests\",\"type\":\"about:blank\",\"status\":429} | Too Many Requests\n",
      " Request payload: {'query': '\"rape\" bounding_box:[-86.554585 39.141178 -86.481285 39.193083]', 'start_time': '2011-01-01T00:00:00Z', 'end_time': '2022-01-01T00:00:00Z', 'granularity': 'day', 'next_token': '1jzu9lk96azp0b3x7888hrpurasp7jcoxl72lx20n8fx'}\n",
      "Rate limit hit... Will retry...\n",
      "Will retry in 100 seconds...\n",
      " HTTP Error code: 429: {\"title\":\"Too Many Requests\",\"detail\":\"Too Many Requests\",\"type\":\"about:blank\",\"status\":429} | Too Many Requests\n",
      " Request payload: {'query': '\"rape\" bounding_box:[-86.554585 39.141178 -86.481285 39.193083]', 'start_time': '2011-01-01T00:00:00Z', 'end_time': '2022-01-01T00:00:00Z', 'granularity': 'day', 'next_token': '1jzu9lk96azp0b3x7888hrpurasp7jcoxl72lx20n8fx'}\n",
      "Rate limit hit... Will retry...\n",
      "Will retry in 144 seconds...\n",
      " HTTP Error code: 429: {\"title\":\"Too Many Requests\",\"detail\":\"Too Many Requests\",\"type\":\"about:blank\",\"status\":429} | Too Many Requests\n",
      " Request payload: {'query': '\"rape\" bounding_box:[-86.554585 39.141178 -86.481285 39.193083]', 'start_time': '2011-01-01T00:00:00Z', 'end_time': '2022-01-01T00:00:00Z', 'granularity': 'day', 'next_token': '1jzu9lk96azp0b3x7888hrpurasp7jcoxl72lx20n8fx'}\n",
      "Rate limit hit... Will retry...\n",
      "Will retry in 196 seconds...\n",
      " HTTP Error code: 429: {\"title\":\"Too Many Requests\",\"detail\":\"Too Many Requests\",\"type\":\"about:blank\",\"status\":429} | Too Many Requests\n",
      " Request payload: {'query': '\"rape\" bounding_box:[-86.554585 39.141178 -86.481285 39.193083]', 'start_time': '2011-01-01T00:00:00Z', 'end_time': '2022-01-01T00:00:00Z', 'granularity': 'day', 'next_token': '1jzu9lk96azp0b3x7888hrpurasp7jcoxl72lx20n8fx'}\n",
      "Rate limit hit... Will retry...\n",
      "Will retry in 256 seconds...\n",
      " HTTP Error code: 429: {\"title\":\"Too Many Requests\",\"detail\":\"Too Many Requests\",\"type\":\"about:blank\",\"status\":429} | Too Many Requests\n",
      " Request payload: {'query': '\"rape\" bounding_box:[-86.554585 39.141178 -86.481285 39.193083]', 'start_time': '2011-01-01T00:00:00Z', 'end_time': '2022-01-01T00:00:00Z', 'granularity': 'day', 'next_token': '1jzu9lk96azp0b3x7888hrpurasp7jcoxl72lx20n8fx'}\n",
      "Rate limit hit... Will retry...\n",
      "Will retry in 84 seconds...\n"
     ]
    },
    {
     "name": "stdout",
     "output_type": "stream",
     "text": [
      "\"sexual abuse\" bounding_box:[-86.615353 39.121804 -86.464291 39.190223]\n",
      "\"sexual harassment\" bounding_box:[-86.615353 39.121804 -86.464291 39.190223]\n"
     ]
    },
    {
     "name": "stderr",
     "output_type": "stream",
     "text": [
      " HTTP Error code: 429: {\"title\":\"Too Many Requests\",\"detail\":\"Too Many Requests\",\"type\":\"about:blank\",\"status\":429} | Too Many Requests\n",
      " Request payload: {'query': '\"sexual harassment\" bounding_box:[-86.554585 39.141178 -86.481285 39.193083]', 'start_time': '2011-01-01T00:00:00Z', 'end_time': '2022-01-01T00:00:00Z', 'granularity': 'day', 'next_token': '1jzu9lk96azp0b3x7888hrpuqnr3kdxq97yje4y263r1'}\n",
      "Rate limit hit... Will retry...\n",
      "Will retry in 4 seconds...\n",
      " HTTP Error code: 429: {\"title\":\"Too Many Requests\",\"detail\":\"Too Many Requests\",\"type\":\"about:blank\",\"status\":429} | Too Many Requests\n",
      " Request payload: {'query': '\"sexual harassment\" bounding_box:[-86.554585 39.141178 -86.481285 39.193083]', 'start_time': '2011-01-01T00:00:00Z', 'end_time': '2022-01-01T00:00:00Z', 'granularity': 'day', 'next_token': '1jzu9lk96azp0b3x7888hrpuqnr3kdxq97yje4y263r1'}\n",
      "Rate limit hit... Will retry...\n",
      "Will retry in 16 seconds...\n",
      " HTTP Error code: 429: {\"title\":\"Too Many Requests\",\"detail\":\"Too Many Requests\",\"type\":\"about:blank\",\"status\":429} | Too Many Requests\n",
      " Request payload: {'query': '\"sexual harassment\" bounding_box:[-86.554585 39.141178 -86.481285 39.193083]', 'start_time': '2011-01-01T00:00:00Z', 'end_time': '2022-01-01T00:00:00Z', 'granularity': 'day', 'next_token': '1jzu9lk96azp0b3x7888hrpuqnr3kdxq97yje4y263r1'}\n",
      "Rate limit hit... Will retry...\n",
      "Will retry in 36 seconds...\n",
      " HTTP Error code: 429: {\"title\":\"Too Many Requests\",\"detail\":\"Too Many Requests\",\"type\":\"about:blank\",\"status\":429} | Too Many Requests\n",
      " Request payload: {'query': '\"sexual harassment\" bounding_box:[-86.554585 39.141178 -86.481285 39.193083]', 'start_time': '2011-01-01T00:00:00Z', 'end_time': '2022-01-01T00:00:00Z', 'granularity': 'day', 'next_token': '1jzu9lk96azp0b3x7888hrpuqnr3kdxq97yje4y263r1'}\n",
      "Rate limit hit... Will retry...\n",
      "Will retry in 64 seconds...\n",
      " HTTP Error code: 429: {\"title\":\"Too Many Requests\",\"detail\":\"Too Many Requests\",\"type\":\"about:blank\",\"status\":429} | Too Many Requests\n",
      " Request payload: {'query': '\"sexual harassment\" bounding_box:[-86.554585 39.141178 -86.481285 39.193083]', 'start_time': '2011-01-01T00:00:00Z', 'end_time': '2022-01-01T00:00:00Z', 'granularity': 'day', 'next_token': '1jzu9lk96azp0b3x7888hrpuqnr3kdxq97yje4y263r1'}\n",
      "Rate limit hit... Will retry...\n",
      "Will retry in 100 seconds...\n",
      " HTTP Error code: 429: {\"title\":\"Too Many Requests\",\"detail\":\"Too Many Requests\",\"type\":\"about:blank\",\"status\":429} | Too Many Requests\n",
      " Request payload: {'query': '\"sexual harassment\" bounding_box:[-86.554585 39.141178 -86.481285 39.193083]', 'start_time': '2011-01-01T00:00:00Z', 'end_time': '2022-01-01T00:00:00Z', 'granularity': 'day', 'next_token': '1jzu9lk96azp0b3x7888hrpuqnr3kdxq97yje4y263r1'}\n",
      "Rate limit hit... Will retry...\n",
      "Will retry in 144 seconds...\n",
      " HTTP Error code: 429: {\"title\":\"Too Many Requests\",\"detail\":\"Too Many Requests\",\"type\":\"about:blank\",\"status\":429} | Too Many Requests\n",
      " Request payload: {'query': '\"sexual harassment\" bounding_box:[-86.554585 39.141178 -86.481285 39.193083]', 'start_time': '2011-01-01T00:00:00Z', 'end_time': '2022-01-01T00:00:00Z', 'granularity': 'day', 'next_token': '1jzu9lk96azp0b3x7888hrpuqnr3kdxq97yje4y263r1'}\n",
      "Rate limit hit... Will retry...\n",
      "Will retry in 196 seconds...\n",
      " HTTP Error code: 429: {\"title\":\"Too Many Requests\",\"detail\":\"Too Many Requests\",\"type\":\"about:blank\",\"status\":429} | Too Many Requests\n",
      " Request payload: {'query': '\"sexual harassment\" bounding_box:[-86.554585 39.141178 -86.481285 39.193083]', 'start_time': '2011-01-01T00:00:00Z', 'end_time': '2022-01-01T00:00:00Z', 'granularity': 'day', 'next_token': '1jzu9lk96azp0b3x7888hrpuqnr3kdxq97yje4y263r1'}\n",
      "Rate limit hit... Will retry...\n",
      "Will retry in 256 seconds...\n",
      " HTTP Error code: 429: {\"title\":\"Too Many Requests\",\"detail\":\"Too Many Requests\",\"type\":\"about:blank\",\"status\":429} | Too Many Requests\n",
      " Request payload: {'query': '\"sexual harassment\" bounding_box:[-86.554585 39.141178 -86.481285 39.193083]', 'start_time': '2011-01-01T00:00:00Z', 'end_time': '2022-01-01T00:00:00Z', 'granularity': 'day', 'next_token': '1jzu9lk96azp0b3x7888hrpuqnr3kdxq97yje4y263r1'}\n",
      "Rate limit hit... Will retry...\n",
      "Will retry in 84 seconds...\n"
     ]
    }
   ],
   "source": [
    "#bloomington coords\n",
    "search_terms = [\"sexual assault\", \"sexual misconduct\", \"rape\", \"sexual abuse\", \"sexual harassment\"]\n",
    "\n",
    "tweet_storage = []\n",
    "for term in search_terms:\n",
    "    print('\"' + term + '\" bounding_box:[-86.615353 39.121804 -86.464291 39.190223]')\n",
    "    rule = gen_request_parameters('\"' + term + '\" bounding_box:[-86.554585 39.141178 -86.481285 39.193083]', \n",
    "                                  granularity = \"day\", \n",
    "                                  start_time = \"2011-01-01\", \n",
    "                                  end_time = \"2022-01-01\")\n",
    "    tweet_storage.append(searchtweets.collect_results(rule, result_stream_args=premium_search_args))"
   ]
  },
  {
   "cell_type": "code",
   "execution_count": 82,
   "metadata": {},
   "outputs": [
    {
     "name": "stdout",
     "output_type": "stream",
     "text": [
      "203\n"
     ]
    }
   ],
   "source": [
    "x = 0\n",
    "for thing in tweet_storage:\n",
    "    for group in thing:\n",
    "        for i in group[\"data\"]:\n",
    "            x = x + i[\"tweet_count\"]\n",
    "print(x)"
   ]
  },
  {
   "cell_type": "code",
   "execution_count": 76,
   "metadata": {},
   "outputs": [
    {
     "name": "stdout",
     "output_type": "stream",
     "text": [
      "total_tweet_count\n"
     ]
    }
   ],
   "source": [
    "for tweet in tweets1[0][\"meta\"]:\n",
    "    print(tweet)"
   ]
  },
  {
   "cell_type": "code",
   "execution_count": 80,
   "metadata": {},
   "outputs": [
    {
     "name": "stdout",
     "output_type": "stream",
     "text": [
      "0\n"
     ]
    }
   ],
   "source": [
    "print(tweet_storage[0][0][\"meta\"][\"total_tweet_count\"])"
   ]
  },
  {
   "cell_type": "code",
   "execution_count": null,
   "metadata": {},
   "outputs": [],
   "source": []
  }
 ],
 "metadata": {
  "kernelspec": {
   "display_name": "Python 3",
   "language": "python",
   "name": "python3"
  },
  "language_info": {
   "codemirror_mode": {
    "name": "ipython",
    "version": 3
   },
   "file_extension": ".py",
   "mimetype": "text/x-python",
   "name": "python",
   "nbconvert_exporter": "python",
   "pygments_lexer": "ipython3",
   "version": "3.7.6"
  }
 },
 "nbformat": 4,
 "nbformat_minor": 4
}
