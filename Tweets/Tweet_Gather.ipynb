{
 "cells": [
  {
   "cell_type": "code",
   "execution_count": 1,
   "metadata": {},
   "outputs": [
    {
     "name": "stdout",
     "output_type": "stream",
     "text": [
      "1.1.1\n"
     ]
    }
   ],
   "source": [
    "import searchtweets\n",
    "from searchtweets import load_credentials\n",
    "from searchtweets import gen_request_parameters\n",
    "import os\n",
    "import pandas as pd\n",
    "print(searchtweets.__version__)"
   ]
  },
  {
   "cell_type": "code",
   "execution_count": 2,
   "metadata": {},
   "outputs": [],
   "source": [
    "premium_search_args = load_credentials(filename=\"./creds.yaml\", yaml_key=\"search_tweets_v2\", env_overwrite = False)"
   ]
  },
  {
   "cell_type": "code",
   "execution_count": 12,
   "metadata": {
    "collapsed": true,
    "jupyter": {
     "outputs_hidden": true
    }
   },
   "outputs": [
    {
     "name": "stdout",
     "output_type": "stream",
     "text": [
      "\n",
      "2011\n",
      "\"sexual assault\" bounding_box:[-86.615353 39.121804 -86.464291 39.190223]\n",
      "\"sexual misconduct\" bounding_box:[-86.615353 39.121804 -86.464291 39.190223]\n"
     ]
    },
    {
     "name": "stderr",
     "output_type": "stream",
     "text": [
      " HTTP Error code: 429: {\"title\":\"Too Many Requests\",\"detail\":\"Too Many Requests\",\"type\":\"about:blank\",\"status\":429} | Too Many Requests\n",
      " Request payload: {'query': '\"sexual misconduct\" bounding_box:[-86.615353 39.121804 -86.464291 39.190223]', 'start_time': '2011-01-01T00:00:00Z', 'end_time': '2012-01-01T00:00:00Z', 'tweet.fields': 'attachments,author_id,context_annotations,conversation_id,created_at,entities,geo,in_reply_to_user_id,lang,public_metrics,possibly_sensitive,referenced_tweets,reply_settings,source', 'expansions': 'author_id,geo.place_id'}\n",
      "Rate limit hit... Will retry...\n",
      "Will retry in 4 seconds...\n"
     ]
    },
    {
     "name": "stdout",
     "output_type": "stream",
     "text": [
      "\"rape\" bounding_box:[-86.615353 39.121804 -86.464291 39.190223]\n"
     ]
    },
    {
     "name": "stderr",
     "output_type": "stream",
     "text": [
      " HTTP Error code: 429: {\"title\":\"Too Many Requests\",\"detail\":\"Too Many Requests\",\"type\":\"about:blank\",\"status\":429} | Too Many Requests\n",
      " Request payload: {'query': '\"sexual abuse\" bounding_box:[-86.615353 39.121804 -86.464291 39.190223]', 'start_time': '2011-01-01T00:00:00Z', 'end_time': '2012-01-01T00:00:00Z', 'tweet.fields': 'attachments,author_id,context_annotations,conversation_id,created_at,entities,geo,in_reply_to_user_id,lang,public_metrics,possibly_sensitive,referenced_tweets,reply_settings,source', 'expansions': 'author_id,geo.place_id'}\n",
      "Rate limit hit... Will retry...\n",
      "Will retry in 4 seconds...\n"
     ]
    },
    {
     "name": "stdout",
     "output_type": "stream",
     "text": [
      "\"sexual abuse\" bounding_box:[-86.615353 39.121804 -86.464291 39.190223]\n",
      "\"sexual harassment\" bounding_box:[-86.615353 39.121804 -86.464291 39.190223]\n"
     ]
    },
    {
     "name": "stderr",
     "output_type": "stream",
     "text": [
      " HTTP Error code: 429: {\"title\":\"Too Many Requests\",\"detail\":\"Too Many Requests\",\"type\":\"about:blank\",\"status\":429} | Too Many Requests\n",
      " Request payload: {'query': '\"sexual assault\" bounding_box:[-86.615353 39.121804 -86.464291 39.190223]', 'start_time': '2012-01-01T00:00:00Z', 'end_time': '2013-01-01T00:00:00Z', 'tweet.fields': 'attachments,author_id,context_annotations,conversation_id,created_at,entities,geo,in_reply_to_user_id,lang,public_metrics,possibly_sensitive,referenced_tweets,reply_settings,source', 'expansions': 'author_id,geo.place_id'}\n",
      "Rate limit hit... Will retry...\n",
      "Will retry in 4 seconds...\n"
     ]
    },
    {
     "name": "stdout",
     "output_type": "stream",
     "text": [
      "\n",
      "2012\n",
      "\"sexual assault\" bounding_box:[-86.615353 39.121804 -86.464291 39.190223]\n",
      "\"sexual misconduct\" bounding_box:[-86.615353 39.121804 -86.464291 39.190223]\n"
     ]
    },
    {
     "name": "stderr",
     "output_type": "stream",
     "text": [
      " HTTP Error code: 429: {\"title\":\"Too Many Requests\",\"detail\":\"Too Many Requests\",\"type\":\"about:blank\",\"status\":429} | Too Many Requests\n",
      " Request payload: {'query': '\"sexual misconduct\" bounding_box:[-86.615353 39.121804 -86.464291 39.190223]', 'start_time': '2012-01-01T00:00:00Z', 'end_time': '2013-01-01T00:00:00Z', 'tweet.fields': 'attachments,author_id,context_annotations,conversation_id,created_at,entities,geo,in_reply_to_user_id,lang,public_metrics,possibly_sensitive,referenced_tweets,reply_settings,source', 'expansions': 'author_id,geo.place_id'}\n",
      "Rate limit hit... Will retry...\n",
      "Will retry in 4 seconds...\n",
      " HTTP Error code: 429: {\"title\":\"Too Many Requests\",\"detail\":\"Too Many Requests\",\"type\":\"about:blank\",\"status\":429} | Too Many Requests\n",
      " Request payload: {'query': '\"rape\" bounding_box:[-86.615353 39.121804 -86.464291 39.190223]', 'start_time': '2012-01-01T00:00:00Z', 'end_time': '2013-01-01T00:00:00Z', 'tweet.fields': 'attachments,author_id,context_annotations,conversation_id,created_at,entities,geo,in_reply_to_user_id,lang,public_metrics,possibly_sensitive,referenced_tweets,reply_settings,source', 'expansions': 'author_id,geo.place_id'}\n",
      "Rate limit hit... Will retry...\n",
      "Will retry in 4 seconds...\n"
     ]
    },
    {
     "name": "stdout",
     "output_type": "stream",
     "text": [
      "\"rape\" bounding_box:[-86.615353 39.121804 -86.464291 39.190223]\n"
     ]
    },
    {
     "name": "stderr",
     "output_type": "stream",
     "text": [
      " HTTP Error code: 429: {\"title\":\"Too Many Requests\",\"detail\":\"Too Many Requests\",\"type\":\"about:blank\",\"status\":429} | Too Many Requests\n",
      " Request payload: {'query': '\"sexual abuse\" bounding_box:[-86.615353 39.121804 -86.464291 39.190223]', 'start_time': '2012-01-01T00:00:00Z', 'end_time': '2013-01-01T00:00:00Z', 'tweet.fields': 'attachments,author_id,context_annotations,conversation_id,created_at,entities,geo,in_reply_to_user_id,lang,public_metrics,possibly_sensitive,referenced_tweets,reply_settings,source', 'expansions': 'author_id,geo.place_id'}\n",
      "Rate limit hit... Will retry...\n",
      "Will retry in 4 seconds...\n"
     ]
    },
    {
     "name": "stdout",
     "output_type": "stream",
     "text": [
      "\"sexual abuse\" bounding_box:[-86.615353 39.121804 -86.464291 39.190223]\n"
     ]
    },
    {
     "name": "stderr",
     "output_type": "stream",
     "text": [
      " HTTP Error code: 429: {\"title\":\"Too Many Requests\",\"detail\":\"Too Many Requests\",\"type\":\"about:blank\",\"status\":429} | Too Many Requests\n",
      " Request payload: {'query': '\"sexual harassment\" bounding_box:[-86.615353 39.121804 -86.464291 39.190223]', 'start_time': '2012-01-01T00:00:00Z', 'end_time': '2013-01-01T00:00:00Z', 'tweet.fields': 'attachments,author_id,context_annotations,conversation_id,created_at,entities,geo,in_reply_to_user_id,lang,public_metrics,possibly_sensitive,referenced_tweets,reply_settings,source', 'expansions': 'author_id,geo.place_id'}\n",
      "Rate limit hit... Will retry...\n",
      "Will retry in 4 seconds...\n"
     ]
    },
    {
     "name": "stdout",
     "output_type": "stream",
     "text": [
      "\"sexual harassment\" bounding_box:[-86.615353 39.121804 -86.464291 39.190223]\n",
      "\n",
      "2013\n",
      "\"sexual assault\" bounding_box:[-86.615353 39.121804 -86.464291 39.190223]\n"
     ]
    },
    {
     "name": "stderr",
     "output_type": "stream",
     "text": [
      " HTTP Error code: 429: {\"title\":\"Too Many Requests\",\"detail\":\"Too Many Requests\",\"type\":\"about:blank\",\"status\":429} | Too Many Requests\n",
      " Request payload: {'query': '\"sexual assault\" bounding_box:[-86.615353 39.121804 -86.464291 39.190223]', 'start_time': '2013-01-01T00:00:00Z', 'end_time': '2014-01-01T00:00:00Z', 'tweet.fields': 'attachments,author_id,context_annotations,conversation_id,created_at,entities,geo,in_reply_to_user_id,lang,public_metrics,possibly_sensitive,referenced_tweets,reply_settings,source', 'expansions': 'author_id,geo.place_id'}\n",
      "Rate limit hit... Will retry...\n",
      "Will retry in 4 seconds...\n"
     ]
    },
    {
     "name": "stdout",
     "output_type": "stream",
     "text": [
      "\"sexual misconduct\" bounding_box:[-86.615353 39.121804 -86.464291 39.190223]\n",
      "\"rape\" bounding_box:[-86.615353 39.121804 -86.464291 39.190223]\n"
     ]
    },
    {
     "name": "stderr",
     "output_type": "stream",
     "text": [
      " HTTP Error code: 429: {\"title\":\"Too Many Requests\",\"detail\":\"Too Many Requests\",\"type\":\"about:blank\",\"status\":429} | Too Many Requests\n",
      " Request payload: {'query': '\"rape\" bounding_box:[-86.615353 39.121804 -86.464291 39.190223]', 'start_time': '2013-01-01T00:00:00Z', 'end_time': '2014-01-01T00:00:00Z', 'tweet.fields': 'attachments,author_id,context_annotations,conversation_id,created_at,entities,geo,in_reply_to_user_id,lang,public_metrics,possibly_sensitive,referenced_tweets,reply_settings,source', 'expansions': 'author_id,geo.place_id'}\n",
      "Rate limit hit... Will retry...\n",
      "Will retry in 4 seconds...\n"
     ]
    },
    {
     "name": "stdout",
     "output_type": "stream",
     "text": [
      "\"sexual abuse\" bounding_box:[-86.615353 39.121804 -86.464291 39.190223]\n"
     ]
    },
    {
     "name": "stderr",
     "output_type": "stream",
     "text": [
      " HTTP Error code: 429: {\"title\":\"Too Many Requests\",\"detail\":\"Too Many Requests\",\"type\":\"about:blank\",\"status\":429} | Too Many Requests\n",
      " Request payload: {'query': '\"sexual harassment\" bounding_box:[-86.615353 39.121804 -86.464291 39.190223]', 'start_time': '2013-01-01T00:00:00Z', 'end_time': '2014-01-01T00:00:00Z', 'tweet.fields': 'attachments,author_id,context_annotations,conversation_id,created_at,entities,geo,in_reply_to_user_id,lang,public_metrics,possibly_sensitive,referenced_tweets,reply_settings,source', 'expansions': 'author_id,geo.place_id'}\n",
      "Rate limit hit... Will retry...\n",
      "Will retry in 4 seconds...\n"
     ]
    },
    {
     "name": "stdout",
     "output_type": "stream",
     "text": [
      "\"sexual harassment\" bounding_box:[-86.615353 39.121804 -86.464291 39.190223]\n"
     ]
    },
    {
     "name": "stderr",
     "output_type": "stream",
     "text": [
      " HTTP Error code: 429: {\"title\":\"Too Many Requests\",\"detail\":\"Too Many Requests\",\"type\":\"about:blank\",\"status\":429} | Too Many Requests\n"
     ]
    },
    {
     "name": "stdout",
     "output_type": "stream",
     "text": [
      "\n",
      "2014\n",
      "\"sexual assault\" bounding_box:[-86.615353 39.121804 -86.464291 39.190223]\n"
     ]
    },
    {
     "name": "stderr",
     "output_type": "stream",
     "text": [
      " Request payload: {'query': '\"sexual assault\" bounding_box:[-86.615353 39.121804 -86.464291 39.190223]', 'start_time': '2014-01-01T00:00:00Z', 'end_time': '2015-01-01T00:00:00Z', 'tweet.fields': 'attachments,author_id,context_annotations,conversation_id,created_at,entities,geo,in_reply_to_user_id,lang,public_metrics,possibly_sensitive,referenced_tweets,reply_settings,source', 'expansions': 'author_id,geo.place_id'}\n",
      "Rate limit hit... Will retry...\n",
      "Will retry in 4 seconds...\n",
      " HTTP Error code: 429: {\"title\":\"Too Many Requests\",\"detail\":\"Too Many Requests\",\"type\":\"about:blank\",\"status\":429} | Too Many Requests\n",
      " Request payload: {'query': '\"sexual misconduct\" bounding_box:[-86.615353 39.121804 -86.464291 39.190223]', 'start_time': '2014-01-01T00:00:00Z', 'end_time': '2015-01-01T00:00:00Z', 'tweet.fields': 'attachments,author_id,context_annotations,conversation_id,created_at,entities,geo,in_reply_to_user_id,lang,public_metrics,possibly_sensitive,referenced_tweets,reply_settings,source', 'expansions': 'author_id,geo.place_id'}\n",
      "Rate limit hit... Will retry...\n",
      "Will retry in 4 seconds...\n"
     ]
    },
    {
     "name": "stdout",
     "output_type": "stream",
     "text": [
      "\"sexual misconduct\" bounding_box:[-86.615353 39.121804 -86.464291 39.190223]\n",
      "\"rape\" bounding_box:[-86.615353 39.121804 -86.464291 39.190223]\n"
     ]
    },
    {
     "name": "stderr",
     "output_type": "stream",
     "text": [
      " HTTP Error code: 429: {\"title\":\"Too Many Requests\",\"detail\":\"Too Many Requests\",\"type\":\"about:blank\",\"status\":429} | Too Many Requests\n",
      " Request payload: {'query': '\"rape\" bounding_box:[-86.615353 39.121804 -86.464291 39.190223]', 'start_time': '2014-01-01T00:00:00Z', 'end_time': '2015-01-01T00:00:00Z', 'tweet.fields': 'attachments,author_id,context_annotations,conversation_id,created_at,entities,geo,in_reply_to_user_id,lang,public_metrics,possibly_sensitive,referenced_tweets,reply_settings,source', 'expansions': 'author_id,geo.place_id'}\n",
      "Rate limit hit... Will retry...\n",
      "Will retry in 4 seconds...\n",
      " HTTP Error code: 429: {\"title\":\"Too Many Requests\",\"detail\":\"Too Many Requests\",\"type\":\"about:blank\",\"status\":429} | Too Many Requests\n"
     ]
    },
    {
     "name": "stdout",
     "output_type": "stream",
     "text": [
      "\"sexual abuse\" bounding_box:[-86.615353 39.121804 -86.464291 39.190223]\n"
     ]
    },
    {
     "name": "stderr",
     "output_type": "stream",
     "text": [
      " Request payload: {'query': '\"sexual abuse\" bounding_box:[-86.615353 39.121804 -86.464291 39.190223]', 'start_time': '2014-01-01T00:00:00Z', 'end_time': '2015-01-01T00:00:00Z', 'tweet.fields': 'attachments,author_id,context_annotations,conversation_id,created_at,entities,geo,in_reply_to_user_id,lang,public_metrics,possibly_sensitive,referenced_tweets,reply_settings,source', 'expansions': 'author_id,geo.place_id'}\n",
      "Rate limit hit... Will retry...\n",
      "Will retry in 4 seconds...\n"
     ]
    },
    {
     "name": "stdout",
     "output_type": "stream",
     "text": [
      "\"sexual harassment\" bounding_box:[-86.615353 39.121804 -86.464291 39.190223]\n",
      "\n",
      "2015\n",
      "\"sexual assault\" bounding_box:[-86.615353 39.121804 -86.464291 39.190223]\n"
     ]
    },
    {
     "name": "stderr",
     "output_type": "stream",
     "text": [
      " HTTP Error code: 429: {\"title\":\"Too Many Requests\",\"detail\":\"Too Many Requests\",\"type\":\"about:blank\",\"status\":429} | Too Many Requests\n",
      " Request payload: {'query': '\"sexual assault\" bounding_box:[-86.615353 39.121804 -86.464291 39.190223]', 'start_time': '2015-01-01T00:00:00Z', 'end_time': '2016-01-01T00:00:00Z', 'tweet.fields': 'attachments,author_id,context_annotations,conversation_id,created_at,entities,geo,in_reply_to_user_id,lang,public_metrics,possibly_sensitive,referenced_tweets,reply_settings,source', 'expansions': 'author_id,geo.place_id'}\n",
      "Rate limit hit... Will retry...\n",
      "Will retry in 4 seconds...\n"
     ]
    },
    {
     "name": "stdout",
     "output_type": "stream",
     "text": [
      "\"sexual misconduct\" bounding_box:[-86.615353 39.121804 -86.464291 39.190223]\n",
      "\"rape\" bounding_box:[-86.615353 39.121804 -86.464291 39.190223]\n"
     ]
    },
    {
     "name": "stderr",
     "output_type": "stream",
     "text": [
      " HTTP Error code: 429: {\"title\":\"Too Many Requests\",\"detail\":\"Too Many Requests\",\"type\":\"about:blank\",\"status\":429} | Too Many Requests\n",
      " Request payload: {'query': '\"rape\" bounding_box:[-86.615353 39.121804 -86.464291 39.190223]', 'start_time': '2015-01-01T00:00:00Z', 'end_time': '2016-01-01T00:00:00Z', 'tweet.fields': 'attachments,author_id,context_annotations,conversation_id,created_at,entities,geo,in_reply_to_user_id,lang,public_metrics,possibly_sensitive,referenced_tweets,reply_settings,source', 'expansions': 'author_id,geo.place_id'}\n",
      "Rate limit hit... Will retry...\n",
      "Will retry in 4 seconds...\n",
      " HTTP Error code: 429: {\"title\":\"Too Many Requests\",\"detail\":\"Too Many Requests\",\"type\":\"about:blank\",\"status\":429} | Too Many Requests\n",
      " Request payload: {'query': '\"sexual abuse\" bounding_box:[-86.615353 39.121804 -86.464291 39.190223]', 'start_time': '2015-01-01T00:00:00Z', 'end_time': '2016-01-01T00:00:00Z', 'tweet.fields': 'attachments,author_id,context_annotations,conversation_id,created_at,entities,geo,in_reply_to_user_id,lang,public_metrics,possibly_sensitive,referenced_tweets,reply_settings,source', 'expansions': 'author_id,geo.place_id'}\n"
     ]
    },
    {
     "name": "stdout",
     "output_type": "stream",
     "text": [
      "\"sexual abuse\" bounding_box:[-86.615353 39.121804 -86.464291 39.190223]\n"
     ]
    },
    {
     "name": "stderr",
     "output_type": "stream",
     "text": [
      "Rate limit hit... Will retry...\n",
      "Will retry in 4 seconds...\n",
      " HTTP Error code: 429: {\"title\":\"Too Many Requests\",\"detail\":\"Too Many Requests\",\"type\":\"about:blank\",\"status\":429} | Too Many Requests\n",
      " Request payload: {'query': '\"sexual harassment\" bounding_box:[-86.615353 39.121804 -86.464291 39.190223]', 'start_time': '2015-01-01T00:00:00Z', 'end_time': '2016-01-01T00:00:00Z', 'tweet.fields': 'attachments,author_id,context_annotations,conversation_id,created_at,entities,geo,in_reply_to_user_id,lang,public_metrics,possibly_sensitive,referenced_tweets,reply_settings,source', 'expansions': 'author_id,geo.place_id'}\n",
      "Rate limit hit... Will retry...\n",
      "Will retry in 4 seconds...\n"
     ]
    },
    {
     "name": "stdout",
     "output_type": "stream",
     "text": [
      "\"sexual harassment\" bounding_box:[-86.615353 39.121804 -86.464291 39.190223]\n",
      "\n",
      "2016\n",
      "\"sexual assault\" bounding_box:[-86.615353 39.121804 -86.464291 39.190223]\n"
     ]
    },
    {
     "name": "stderr",
     "output_type": "stream",
     "text": [
      " HTTP Error code: 429: {\"title\":\"Too Many Requests\",\"detail\":\"Too Many Requests\",\"type\":\"about:blank\",\"status\":429} | Too Many Requests\n",
      " Request payload: {'query': '\"sexual misconduct\" bounding_box:[-86.615353 39.121804 -86.464291 39.190223]', 'start_time': '2016-01-01T00:00:00Z', 'end_time': '2017-01-01T00:00:00Z', 'tweet.fields': 'attachments,author_id,context_annotations,conversation_id,created_at,entities,geo,in_reply_to_user_id,lang,public_metrics,possibly_sensitive,referenced_tweets,reply_settings,source', 'expansions': 'author_id,geo.place_id'}\n",
      "Rate limit hit... Will retry...\n",
      "Will retry in 4 seconds...\n"
     ]
    },
    {
     "name": "stdout",
     "output_type": "stream",
     "text": [
      "\"sexual misconduct\" bounding_box:[-86.615353 39.121804 -86.464291 39.190223]\n",
      "\"rape\" bounding_box:[-86.615353 39.121804 -86.464291 39.190223]\n",
      "\"sexual abuse\" bounding_box:[-86.615353 39.121804 -86.464291 39.190223]\n"
     ]
    },
    {
     "name": "stderr",
     "output_type": "stream",
     "text": [
      " HTTP Error code: 429: {\"title\":\"Too Many Requests\",\"detail\":\"Too Many Requests\",\"type\":\"about:blank\",\"status\":429} | Too Many Requests\n",
      " Request payload: {'query': '\"sexual abuse\" bounding_box:[-86.615353 39.121804 -86.464291 39.190223]', 'start_time': '2016-01-01T00:00:00Z', 'end_time': '2017-01-01T00:00:00Z', 'tweet.fields': 'attachments,author_id,context_annotations,conversation_id,created_at,entities,geo,in_reply_to_user_id,lang,public_metrics,possibly_sensitive,referenced_tweets,reply_settings,source', 'expansions': 'author_id,geo.place_id'}\n",
      "Rate limit hit... Will retry...\n",
      "Will retry in 4 seconds...\n"
     ]
    },
    {
     "name": "stdout",
     "output_type": "stream",
     "text": [
      "\"sexual harassment\" bounding_box:[-86.615353 39.121804 -86.464291 39.190223]\n"
     ]
    },
    {
     "name": "stderr",
     "output_type": "stream",
     "text": [
      " HTTP Error code: 429: {\"title\":\"Too Many Requests\",\"detail\":\"Too Many Requests\",\"type\":\"about:blank\",\"status\":429} | Too Many Requests\n",
      " Request payload: {'query': '\"sexual harassment\" bounding_box:[-86.615353 39.121804 -86.464291 39.190223]', 'start_time': '2016-01-01T00:00:00Z', 'end_time': '2017-01-01T00:00:00Z', 'tweet.fields': 'attachments,author_id,context_annotations,conversation_id,created_at,entities,geo,in_reply_to_user_id,lang,public_metrics,possibly_sensitive,referenced_tweets,reply_settings,source', 'expansions': 'author_id,geo.place_id'}\n",
      "Rate limit hit... Will retry...\n",
      "Will retry in 4 seconds...\n",
      " HTTP Error code: 429: {\"title\":\"Too Many Requests\",\"detail\":\"Too Many Requests\",\"type\":\"about:blank\",\"status\":429} | Too Many Requests\n"
     ]
    },
    {
     "name": "stdout",
     "output_type": "stream",
     "text": [
      "\n",
      "2017\n",
      "\"sexual assault\" bounding_box:[-86.615353 39.121804 -86.464291 39.190223]\n"
     ]
    },
    {
     "name": "stderr",
     "output_type": "stream",
     "text": [
      " Request payload: {'query': '\"sexual assault\" bounding_box:[-86.615353 39.121804 -86.464291 39.190223]', 'start_time': '2017-01-01T00:00:00Z', 'end_time': '2018-01-01T00:00:00Z', 'tweet.fields': 'attachments,author_id,context_annotations,conversation_id,created_at,entities,geo,in_reply_to_user_id,lang,public_metrics,possibly_sensitive,referenced_tweets,reply_settings,source', 'expansions': 'author_id,geo.place_id'}\n",
      "Rate limit hit... Will retry...\n",
      "Will retry in 4 seconds...\n"
     ]
    },
    {
     "name": "stdout",
     "output_type": "stream",
     "text": [
      "\"sexual misconduct\" bounding_box:[-86.615353 39.121804 -86.464291 39.190223]\n"
     ]
    },
    {
     "name": "stderr",
     "output_type": "stream",
     "text": [
      " HTTP Error code: 429: {\"title\":\"Too Many Requests\",\"detail\":\"Too Many Requests\",\"type\":\"about:blank\",\"status\":429} | Too Many Requests\n",
      " Request payload: {'query': '\"sexual misconduct\" bounding_box:[-86.615353 39.121804 -86.464291 39.190223]', 'start_time': '2017-01-01T00:00:00Z', 'end_time': '2018-01-01T00:00:00Z', 'tweet.fields': 'attachments,author_id,context_annotations,conversation_id,created_at,entities,geo,in_reply_to_user_id,lang,public_metrics,possibly_sensitive,referenced_tweets,reply_settings,source', 'expansions': 'author_id,geo.place_id'}\n",
      "Rate limit hit... Will retry...\n",
      "Will retry in 4 seconds...\n"
     ]
    },
    {
     "name": "stdout",
     "output_type": "stream",
     "text": [
      "\"rape\" bounding_box:[-86.615353 39.121804 -86.464291 39.190223]\n",
      "\"sexual abuse\" bounding_box:[-86.615353 39.121804 -86.464291 39.190223]\n"
     ]
    },
    {
     "name": "stderr",
     "output_type": "stream",
     "text": [
      " HTTP Error code: 429: {\"title\":\"Too Many Requests\",\"detail\":\"Too Many Requests\",\"type\":\"about:blank\",\"status\":429} | Too Many Requests\n",
      " Request payload: {'query': '\"sexual abuse\" bounding_box:[-86.615353 39.121804 -86.464291 39.190223]', 'start_time': '2017-01-01T00:00:00Z', 'end_time': '2018-01-01T00:00:00Z', 'tweet.fields': 'attachments,author_id,context_annotations,conversation_id,created_at,entities,geo,in_reply_to_user_id,lang,public_metrics,possibly_sensitive,referenced_tweets,reply_settings,source', 'expansions': 'author_id,geo.place_id'}\n",
      "Rate limit hit... Will retry...\n",
      "Will retry in 4 seconds...\n"
     ]
    },
    {
     "name": "stdout",
     "output_type": "stream",
     "text": [
      "\"sexual harassment\" bounding_box:[-86.615353 39.121804 -86.464291 39.190223]\n"
     ]
    },
    {
     "name": "stderr",
     "output_type": "stream",
     "text": [
      " HTTP Error code: 429: {\"title\":\"Too Many Requests\",\"detail\":\"Too Many Requests\",\"type\":\"about:blank\",\"status\":429} | Too Many Requests\n",
      " Request payload: {'query': '\"sexual harassment\" bounding_box:[-86.615353 39.121804 -86.464291 39.190223]', 'start_time': '2017-01-01T00:00:00Z', 'end_time': '2018-01-01T00:00:00Z', 'tweet.fields': 'attachments,author_id,context_annotations,conversation_id,created_at,entities,geo,in_reply_to_user_id,lang,public_metrics,possibly_sensitive,referenced_tweets,reply_settings,source', 'expansions': 'author_id,geo.place_id'}\n",
      "Rate limit hit... Will retry...\n",
      "Will retry in 4 seconds...\n"
     ]
    },
    {
     "name": "stdout",
     "output_type": "stream",
     "text": [
      "\n",
      "2018\n",
      "\"sexual assault\" bounding_box:[-86.615353 39.121804 -86.464291 39.190223]\n"
     ]
    },
    {
     "name": "stderr",
     "output_type": "stream",
     "text": [
      " HTTP Error code: 429: {\"title\":\"Too Many Requests\",\"detail\":\"Too Many Requests\",\"type\":\"about:blank\",\"status\":429} | Too Many Requests\n",
      " Request payload: {'query': '\"sexual misconduct\" bounding_box:[-86.615353 39.121804 -86.464291 39.190223]', 'start_time': '2018-01-01T00:00:00Z', 'end_time': '2019-01-01T00:00:00Z', 'tweet.fields': 'attachments,author_id,context_annotations,conversation_id,created_at,entities,geo,in_reply_to_user_id,lang,public_metrics,possibly_sensitive,referenced_tweets,reply_settings,source', 'expansions': 'author_id,geo.place_id'}\n",
      "Rate limit hit... Will retry...\n",
      "Will retry in 4 seconds...\n"
     ]
    },
    {
     "name": "stdout",
     "output_type": "stream",
     "text": [
      "\"sexual misconduct\" bounding_box:[-86.615353 39.121804 -86.464291 39.190223]\n"
     ]
    },
    {
     "name": "stderr",
     "output_type": "stream",
     "text": [
      " HTTP Error code: 429: {\"title\":\"Too Many Requests\",\"detail\":\"Too Many Requests\",\"type\":\"about:blank\",\"status\":429} | Too Many Requests\n"
     ]
    },
    {
     "name": "stdout",
     "output_type": "stream",
     "text": [
      "\"rape\" bounding_box:[-86.615353 39.121804 -86.464291 39.190223]\n"
     ]
    },
    {
     "name": "stderr",
     "output_type": "stream",
     "text": [
      " Request payload: {'query': '\"rape\" bounding_box:[-86.615353 39.121804 -86.464291 39.190223]', 'start_time': '2018-01-01T00:00:00Z', 'end_time': '2019-01-01T00:00:00Z', 'tweet.fields': 'attachments,author_id,context_annotations,conversation_id,created_at,entities,geo,in_reply_to_user_id,lang,public_metrics,possibly_sensitive,referenced_tweets,reply_settings,source', 'expansions': 'author_id,geo.place_id'}\n",
      "Rate limit hit... Will retry...\n",
      "Will retry in 4 seconds...\n",
      " HTTP Error code: 429: {\"title\":\"Too Many Requests\",\"detail\":\"Too Many Requests\",\"type\":\"about:blank\",\"status\":429} | Too Many Requests\n",
      " Request payload: {'query': '\"sexual abuse\" bounding_box:[-86.615353 39.121804 -86.464291 39.190223]', 'start_time': '2018-01-01T00:00:00Z', 'end_time': '2019-01-01T00:00:00Z', 'tweet.fields': 'attachments,author_id,context_annotations,conversation_id,created_at,entities,geo,in_reply_to_user_id,lang,public_metrics,possibly_sensitive,referenced_tweets,reply_settings,source', 'expansions': 'author_id,geo.place_id'}\n",
      "Rate limit hit... Will retry...\n",
      "Will retry in 4 seconds...\n"
     ]
    },
    {
     "name": "stdout",
     "output_type": "stream",
     "text": [
      "\"sexual abuse\" bounding_box:[-86.615353 39.121804 -86.464291 39.190223]\n",
      "\"sexual harassment\" bounding_box:[-86.615353 39.121804 -86.464291 39.190223]\n"
     ]
    },
    {
     "name": "stderr",
     "output_type": "stream",
     "text": [
      " HTTP Error code: 429: {\"title\":\"Too Many Requests\",\"detail\":\"Too Many Requests\",\"type\":\"about:blank\",\"status\":429} | Too Many Requests\n",
      " Request payload: {'query': '\"sexual harassment\" bounding_box:[-86.615353 39.121804 -86.464291 39.190223]', 'start_time': '2018-01-01T00:00:00Z', 'end_time': '2019-01-01T00:00:00Z', 'tweet.fields': 'attachments,author_id,context_annotations,conversation_id,created_at,entities,geo,in_reply_to_user_id,lang,public_metrics,possibly_sensitive,referenced_tweets,reply_settings,source', 'expansions': 'author_id,geo.place_id'}\n",
      "Rate limit hit... Will retry...\n",
      "Will retry in 4 seconds...\n",
      " HTTP Error code: 429: {\"title\":\"Too Many Requests\",\"detail\":\"Too Many Requests\",\"type\":\"about:blank\",\"status\":429} | Too Many Requests\n",
      " Request payload: {'query': '\"sexual assault\" bounding_box:[-86.615353 39.121804 -86.464291 39.190223]', 'start_time': '2019-01-01T00:00:00Z', 'end_time': '2020-01-01T00:00:00Z', 'tweet.fields': 'attachments,author_id,context_annotations,conversation_id,created_at,entities,geo,in_reply_to_user_id,lang,public_metrics,possibly_sensitive,referenced_tweets,reply_settings,source', 'expansions': 'author_id,geo.place_id'}\n",
      "Rate limit hit... Will retry...\n",
      "Will retry in 4 seconds...\n"
     ]
    },
    {
     "name": "stdout",
     "output_type": "stream",
     "text": [
      "\n",
      "2019\n",
      "\"sexual assault\" bounding_box:[-86.615353 39.121804 -86.464291 39.190223]\n",
      "\"sexual misconduct\" bounding_box:[-86.615353 39.121804 -86.464291 39.190223]\n"
     ]
    },
    {
     "name": "stderr",
     "output_type": "stream",
     "text": [
      " HTTP Error code: 429: {\"title\":\"Too Many Requests\",\"detail\":\"Too Many Requests\",\"type\":\"about:blank\",\"status\":429} | Too Many Requests\n",
      " Request payload: {'query': '\"sexual misconduct\" bounding_box:[-86.615353 39.121804 -86.464291 39.190223]', 'start_time': '2019-01-01T00:00:00Z', 'end_time': '2020-01-01T00:00:00Z', 'tweet.fields': 'attachments,author_id,context_annotations,conversation_id,created_at,entities,geo,in_reply_to_user_id,lang,public_metrics,possibly_sensitive,referenced_tweets,reply_settings,source', 'expansions': 'author_id,geo.place_id'}\n",
      "Rate limit hit... Will retry...\n",
      "Will retry in 4 seconds...\n"
     ]
    },
    {
     "name": "stdout",
     "output_type": "stream",
     "text": [
      "\"rape\" bounding_box:[-86.615353 39.121804 -86.464291 39.190223]\n"
     ]
    },
    {
     "name": "stderr",
     "output_type": "stream",
     "text": [
      " HTTP Error code: 429: {\"title\":\"Too Many Requests\",\"detail\":\"Too Many Requests\",\"type\":\"about:blank\",\"status\":429} | Too Many Requests\n",
      " Request payload: {'query': '\"rape\" bounding_box:[-86.615353 39.121804 -86.464291 39.190223]', 'start_time': '2019-01-01T00:00:00Z', 'end_time': '2020-01-01T00:00:00Z', 'tweet.fields': 'attachments,author_id,context_annotations,conversation_id,created_at,entities,geo,in_reply_to_user_id,lang,public_metrics,possibly_sensitive,referenced_tweets,reply_settings,source', 'expansions': 'author_id,geo.place_id'}\n",
      "Rate limit hit... Will retry...\n",
      "Will retry in 4 seconds...\n"
     ]
    },
    {
     "name": "stdout",
     "output_type": "stream",
     "text": [
      "\"sexual abuse\" bounding_box:[-86.615353 39.121804 -86.464291 39.190223]\n",
      "\"sexual harassment\" bounding_box:[-86.615353 39.121804 -86.464291 39.190223]\n"
     ]
    },
    {
     "name": "stderr",
     "output_type": "stream",
     "text": [
      " HTTP Error code: 429: {\"title\":\"Too Many Requests\",\"detail\":\"Too Many Requests\",\"type\":\"about:blank\",\"status\":429} | Too Many Requests\n",
      " Request payload: {'query': '\"sexual harassment\" bounding_box:[-86.615353 39.121804 -86.464291 39.190223]', 'start_time': '2019-01-01T00:00:00Z', 'end_time': '2020-01-01T00:00:00Z', 'tweet.fields': 'attachments,author_id,context_annotations,conversation_id,created_at,entities,geo,in_reply_to_user_id,lang,public_metrics,possibly_sensitive,referenced_tweets,reply_settings,source', 'expansions': 'author_id,geo.place_id'}\n",
      "Rate limit hit... Will retry...\n",
      "Will retry in 4 seconds...\n"
     ]
    },
    {
     "name": "stdout",
     "output_type": "stream",
     "text": [
      "\n",
      "2020\n",
      "\"sexual assault\" bounding_box:[-86.615353 39.121804 -86.464291 39.190223]\n"
     ]
    },
    {
     "name": "stderr",
     "output_type": "stream",
     "text": [
      " HTTP Error code: 429: {\"title\":\"Too Many Requests\",\"detail\":\"Too Many Requests\",\"type\":\"about:blank\",\"status\":429} | Too Many Requests\n",
      " Request payload: {'query': '\"sexual assault\" bounding_box:[-86.615353 39.121804 -86.464291 39.190223]', 'start_time': '2020-01-01T00:00:00Z', 'end_time': '2021-01-01T00:00:00Z', 'tweet.fields': 'attachments,author_id,context_annotations,conversation_id,created_at,entities,geo,in_reply_to_user_id,lang,public_metrics,possibly_sensitive,referenced_tweets,reply_settings,source', 'expansions': 'author_id,geo.place_id'}\n",
      "Rate limit hit... Will retry...\n",
      "Will retry in 4 seconds...\n",
      " HTTP Error code: 429: {\"title\":\"Too Many Requests\",\"detail\":\"Too Many Requests\",\"type\":\"about:blank\",\"status\":429} | Too Many Requests\n",
      " Request payload: {'query': '\"sexual misconduct\" bounding_box:[-86.615353 39.121804 -86.464291 39.190223]', 'start_time': '2020-01-01T00:00:00Z', 'end_time': '2021-01-01T00:00:00Z', 'tweet.fields': 'attachments,author_id,context_annotations,conversation_id,created_at,entities,geo,in_reply_to_user_id,lang,public_metrics,possibly_sensitive,referenced_tweets,reply_settings,source', 'expansions': 'author_id,geo.place_id'}\n",
      "Rate limit hit... Will retry...\n",
      "Will retry in 4 seconds...\n"
     ]
    },
    {
     "name": "stdout",
     "output_type": "stream",
     "text": [
      "\"sexual misconduct\" bounding_box:[-86.615353 39.121804 -86.464291 39.190223]\n",
      "\"rape\" bounding_box:[-86.615353 39.121804 -86.464291 39.190223]\n",
      "\"sexual abuse\" bounding_box:[-86.615353 39.121804 -86.464291 39.190223]\n"
     ]
    },
    {
     "name": "stderr",
     "output_type": "stream",
     "text": [
      " HTTP Error code: 429: {\"title\":\"Too Many Requests\",\"detail\":\"Too Many Requests\",\"type\":\"about:blank\",\"status\":429} | Too Many Requests\n",
      " Request payload: {'query': '\"sexual abuse\" bounding_box:[-86.615353 39.121804 -86.464291 39.190223]', 'start_time': '2020-01-01T00:00:00Z', 'end_time': '2021-01-01T00:00:00Z', 'tweet.fields': 'attachments,author_id,context_annotations,conversation_id,created_at,entities,geo,in_reply_to_user_id,lang,public_metrics,possibly_sensitive,referenced_tweets,reply_settings,source', 'expansions': 'author_id,geo.place_id'}\n",
      "Rate limit hit... Will retry...\n",
      "Will retry in 4 seconds...\n",
      " HTTP Error code: 429: {\"title\":\"Too Many Requests\",\"detail\":\"Too Many Requests\",\"type\":\"about:blank\",\"status\":429} | Too Many Requests\n",
      " Request payload: {'query': '\"sexual harassment\" bounding_box:[-86.615353 39.121804 -86.464291 39.190223]', 'start_time': '2020-01-01T00:00:00Z', 'end_time': '2021-01-01T00:00:00Z', 'tweet.fields': 'attachments,author_id,context_annotations,conversation_id,created_at,entities,geo,in_reply_to_user_id,lang,public_metrics,possibly_sensitive,referenced_tweets,reply_settings,source', 'expansions': 'author_id,geo.place_id'}\n",
      "Rate limit hit... Will retry...\n",
      "Will retry in 4 seconds...\n"
     ]
    },
    {
     "name": "stdout",
     "output_type": "stream",
     "text": [
      "\"sexual harassment\" bounding_box:[-86.615353 39.121804 -86.464291 39.190223]\n"
     ]
    },
    {
     "name": "stderr",
     "output_type": "stream",
     "text": [
      " HTTP Error code: 429: {\"title\":\"Too Many Requests\",\"detail\":\"Too Many Requests\",\"type\":\"about:blank\",\"status\":429} | Too Many Requests\n"
     ]
    },
    {
     "name": "stdout",
     "output_type": "stream",
     "text": [
      "\n",
      "2021\n",
      "\"sexual assault\" bounding_box:[-86.615353 39.121804 -86.464291 39.190223]\n"
     ]
    },
    {
     "name": "stderr",
     "output_type": "stream",
     "text": [
      " Request payload: {'query': '\"sexual assault\" bounding_box:[-86.615353 39.121804 -86.464291 39.190223]', 'start_time': '2021-01-01T00:00:00Z', 'end_time': '2022-01-01T00:00:00Z', 'tweet.fields': 'attachments,author_id,context_annotations,conversation_id,created_at,entities,geo,in_reply_to_user_id,lang,public_metrics,possibly_sensitive,referenced_tweets,reply_settings,source', 'expansions': 'author_id,geo.place_id'}\n",
      "Rate limit hit... Will retry...\n",
      "Will retry in 4 seconds...\n",
      " HTTP Error code: 429: {\"title\":\"Too Many Requests\",\"detail\":\"Too Many Requests\",\"type\":\"about:blank\",\"status\":429} | Too Many Requests\n"
     ]
    },
    {
     "name": "stdout",
     "output_type": "stream",
     "text": [
      "\"sexual misconduct\" bounding_box:[-86.615353 39.121804 -86.464291 39.190223]\n"
     ]
    },
    {
     "name": "stderr",
     "output_type": "stream",
     "text": [
      " Request payload: {'query': '\"sexual misconduct\" bounding_box:[-86.615353 39.121804 -86.464291 39.190223]', 'start_time': '2021-01-01T00:00:00Z', 'end_time': '2022-01-01T00:00:00Z', 'tweet.fields': 'attachments,author_id,context_annotations,conversation_id,created_at,entities,geo,in_reply_to_user_id,lang,public_metrics,possibly_sensitive,referenced_tweets,reply_settings,source', 'expansions': 'author_id,geo.place_id'}\n",
      "Rate limit hit... Will retry...\n",
      "Will retry in 4 seconds...\n"
     ]
    },
    {
     "name": "stdout",
     "output_type": "stream",
     "text": [
      "\"rape\" bounding_box:[-86.615353 39.121804 -86.464291 39.190223]\n"
     ]
    },
    {
     "name": "stderr",
     "output_type": "stream",
     "text": [
      " HTTP Error code: 429: {\"title\":\"Too Many Requests\",\"detail\":\"Too Many Requests\",\"type\":\"about:blank\",\"status\":429} | Too Many Requests\n",
      " Request payload: {'query': '\"rape\" bounding_box:[-86.615353 39.121804 -86.464291 39.190223]', 'start_time': '2021-01-01T00:00:00Z', 'end_time': '2022-01-01T00:00:00Z', 'tweet.fields': 'attachments,author_id,context_annotations,conversation_id,created_at,entities,geo,in_reply_to_user_id,lang,public_metrics,possibly_sensitive,referenced_tweets,reply_settings,source', 'expansions': 'author_id,geo.place_id'}\n",
      "Rate limit hit... Will retry...\n",
      "Will retry in 4 seconds...\n"
     ]
    },
    {
     "name": "stdout",
     "output_type": "stream",
     "text": [
      "\"sexual abuse\" bounding_box:[-86.615353 39.121804 -86.464291 39.190223]\n",
      "\"sexual harassment\" bounding_box:[-86.615353 39.121804 -86.464291 39.190223]\n"
     ]
    },
    {
     "name": "stderr",
     "output_type": "stream",
     "text": [
      " HTTP Error code: 429: {\"title\":\"Too Many Requests\",\"detail\":\"Too Many Requests\",\"type\":\"about:blank\",\"status\":429} | Too Many Requests\n",
      " Request payload: {'query': '\"sexual harassment\" bounding_box:[-86.615353 39.121804 -86.464291 39.190223]', 'start_time': '2021-01-01T00:00:00Z', 'end_time': '2022-01-01T00:00:00Z', 'tweet.fields': 'attachments,author_id,context_annotations,conversation_id,created_at,entities,geo,in_reply_to_user_id,lang,public_metrics,possibly_sensitive,referenced_tweets,reply_settings,source', 'expansions': 'author_id,geo.place_id'}\n",
      "Rate limit hit... Will retry...\n",
      "Will retry in 4 seconds...\n"
     ]
    }
   ],
   "source": [
    "#####COORDS HERE\n",
    "#Madison: [-89.538231 43.030000 -89.247093 43.172635]\n",
    "#IUB: [-86.615353 39.121804 -86.464291 39.190223]\n",
    "#UMN: [-93.294525 44.916681 -93.076859 45.028406]\n",
    "#Stanford: [-122.264786 37.382025 -122.086945 37.498831]\n",
    "#U of Maryland: [-76.983862 38.957940 -76.893568 39.009780]\n",
    "#############\n",
    "tweet_storage = []\n",
    "\n",
    "search_terms = [\"sexual assault\", \"sexual misconduct\", \"rape\", \"sexual abuse\", \"sexual harassment\"]\n",
    "for year in range(2011, 2022):\n",
    "    start_date = (str(year) + \"-01-01\")\n",
    "    end_date = (str(year + 1) + \"-01-01\")\n",
    "    print(\"\\n\" + str(year))\n",
    "    for term in search_terms:\n",
    "        query = ('\"' + term + '\" bounding_box:[-86.615353 39.121804 -86.464291 39.190223]')\n",
    "        print(query)\n",
    "\n",
    "\n",
    "        rule = gen_request_parameters(query, \n",
    "                                      granularity = False, \n",
    "                                      start_time = start_date, \n",
    "                                      end_time = end_date,\n",
    "                                      expansions = \"author_id,geo.place_id\",\n",
    "                                      tweet_fields='attachments,author_id,context_annotations,conversation_id,created_at,entities,geo,in_reply_to_user_id,lang,public_metrics,possibly_sensitive,referenced_tweets,reply_settings,source'\n",
    "                                     )\n",
    "\n",
    "        tweet_storage.append(\n",
    "            searchtweets.collect_results(rule,\n",
    "                                         max_tweets = 100000,\n",
    "                                         result_stream_args=premium_search_args)\n",
    "        )"
   ]
  },
  {
   "cell_type": "code",
   "execution_count": 13,
   "metadata": {},
   "outputs": [
    {
     "data": {
      "text/plain": [
       "225"
      ]
     },
     "execution_count": 13,
     "metadata": {},
     "output_type": "execute_result"
    }
   ],
   "source": [
    "x = 0\n",
    "for i in tweet_storage:\n",
    "    for j in i:\n",
    "        if j.get('data'):\n",
    "            x += len(j['data'])\n",
    "\n",
    "x"
   ]
  },
  {
   "cell_type": "code",
   "execution_count": 14,
   "metadata": {},
   "outputs": [],
   "source": [
    "tweet_flat = []\n",
    "for i in tweet_storage:\n",
    "    for j in i:\n",
    "        if j.get('data'):\n",
    "            for k in j['data']:\n",
    "                tweet_flat.append(k)\n"
   ]
  },
  {
   "cell_type": "code",
   "execution_count": 15,
   "metadata": {},
   "outputs": [],
   "source": [
    "import pandas as pd"
   ]
  },
  {
   "cell_type": "code",
   "execution_count": 16,
   "metadata": {},
   "outputs": [
    {
     "data": {
      "text/plain": [
       "225"
      ]
     },
     "execution_count": 16,
     "metadata": {},
     "output_type": "execute_result"
    }
   ],
   "source": [
    "len(tweet_flat)"
   ]
  },
  {
   "cell_type": "code",
   "execution_count": 17,
   "metadata": {},
   "outputs": [],
   "source": [
    "pd.DataFrame(tweet_flat).to_csv('iu_tweets.csv')"
   ]
  },
  {
   "cell_type": "code",
   "execution_count": null,
   "metadata": {},
   "outputs": [],
   "source": []
  }
 ],
 "metadata": {
  "kernelspec": {
   "display_name": "Python 3",
   "language": "python",
   "name": "python3"
  },
  "language_info": {
   "codemirror_mode": {
    "name": "ipython",
    "version": 3
   },
   "file_extension": ".py",
   "mimetype": "text/x-python",
   "name": "python",
   "nbconvert_exporter": "python",
   "pygments_lexer": "ipython3",
   "version": "3.8.10"
  }
 },
 "nbformat": 4,
 "nbformat_minor": 4
}
