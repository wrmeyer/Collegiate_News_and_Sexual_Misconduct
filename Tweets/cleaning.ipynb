{
 "cells": [
  {
   "cell_type": "code",
   "execution_count": 8,
   "metadata": {},
   "outputs": [],
   "source": [
    "import os\n",
    "import csv\n",
    "import pandas as pd\n",
    "location = str(os.getcwd())\n",
    "location += \"\\Raw_output\"\n",
    "import json"
   ]
  },
  {
   "cell_type": "code",
   "execution_count": 13,
   "metadata": {},
   "outputs": [
    {
     "name": "stdout",
     "output_type": "stream",
     "text": [
      "202\n",
      "310\n",
      "301\n",
      "234\n",
      "593\n"
     ]
    }
   ],
   "source": [
    "tweets_list = []\n",
    "for filename in os.listdir(location):\n",
    "    f = os.path.join(location, filename)\n",
    "    # checking if it is a file\n",
    "    if os.path.isfile(f):\n",
    "        tweet_frame = pd.read_csv(f)\n",
    "        print(len(tweet_frame.to_dict(\"records\")))\n",
    "        for item in tweet_frame.to_dict(\"records\"):\n",
    "            \n",
    "            if \"iu_tweets\" in f:\n",
    "                item[\"location\"] = \"IUB\"\n",
    "            elif \"maryland\" in f:\n",
    "                item[\"location\"] = \"Maryland\"\n",
    "            elif \"minnesota\" in f:\n",
    "                item[\"location\"] = \"Minnesota\"\n",
    "            elif \"stanford\" in f:\n",
    "                item[\"location\"] = \"Stanford\"\n",
    "            elif \"uwmadison\" in f:\n",
    "                item[\"location\"] = \"Wisconsin\"\n",
    "            \n",
    "            \n",
    "            tweets_list.append(item)"
   ]
  },
  {
   "cell_type": "code",
   "execution_count": 14,
   "metadata": {},
   "outputs": [],
   "source": [
    "#date should be in mm/dd/yyyy\n",
    "for item in tweets_list:\n",
    "    input_date = item[\"created_at\"]\n",
    "    y = input_date.split(\"-\")[0]\n",
    "    m = input_date.split(\"-\")[1]\n",
    "    d = input_date.split(\"-\")[2][:2]\n",
    "    output_date = m+\"/\"+d+\"/\"+y\n",
    "    item[\"created_at\"] = output_date"
   ]
  },
  {
   "cell_type": "code",
   "execution_count": 15,
   "metadata": {},
   "outputs": [],
   "source": [
    "#Separating Metrics\n",
    "for item in tweets_list:\n",
    "    metrics = item[\"public_metrics\"]\n",
    "    metrics = metrics.replace(\"'\", '\"')\n",
    "    metrics = json.loads(metrics)\n",
    "    item[\"likes\"] = metrics[\"like_count\"]\n",
    "    item[\"retweets\"] = metrics[\"retweet_count\"]\n",
    "    item[\"replies\"] = metrics[\"reply_count\"]\n",
    "    item[\"quotes\"]  = metrics[\"quote_count\"]"
   ]
  },
  {
   "cell_type": "code",
   "execution_count": 16,
   "metadata": {},
   "outputs": [],
   "source": [
    "pd.DataFrame(tweets_list).to_csv('tweets_cleaned.csv')"
   ]
  }
 ],
 "metadata": {
  "kernelspec": {
   "display_name": "Python 3",
   "language": "python",
   "name": "python3"
  },
  "language_info": {
   "codemirror_mode": {
    "name": "ipython",
    "version": 3
   },
   "file_extension": ".py",
   "mimetype": "text/x-python",
   "name": "python",
   "nbconvert_exporter": "python",
   "pygments_lexer": "ipython3",
   "version": "3.7.6"
  }
 },
 "nbformat": 4,
 "nbformat_minor": 4
}
