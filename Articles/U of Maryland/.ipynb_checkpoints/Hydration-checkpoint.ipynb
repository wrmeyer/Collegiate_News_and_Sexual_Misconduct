{
 "cells": [
  {
   "cell_type": "code",
   "execution_count": 4,
   "metadata": {},
   "outputs": [],
   "source": [
    "import os\n",
    "location = str(os.getcwd())\n",
    "from selenium import webdriver\n",
    "import json\n",
    "import csv"
   ]
  },
  {
   "cell_type": "code",
   "execution_count": 5,
   "metadata": {},
   "outputs": [],
   "source": [
    "with open(location + '/links.json') as f:\n",
    "    article_links = json.load(f)"
   ]
  },
  {
   "cell_type": "code",
   "execution_count": 6,
   "metadata": {},
   "outputs": [
    {
     "ename": "AttributeError",
     "evalue": "'NoneType' object has no attribute 'text'",
     "output_type": "error",
     "traceback": [
      "\u001b[1;31m---------------------------------------------------------------------------\u001b[0m",
      "\u001b[1;31mAttributeError\u001b[0m                            Traceback (most recent call last)",
      "\u001b[1;32m<ipython-input-6-686f449ede27>\u001b[0m in \u001b[0;36m<module>\u001b[1;34m\u001b[0m\n\u001b[0;32m     11\u001b[0m \u001b[1;33m\u001b[0m\u001b[0m\n\u001b[0;32m     12\u001b[0m     \u001b[1;31m#date\u001b[0m\u001b[1;33m\u001b[0m\u001b[1;33m\u001b[0m\u001b[1;33m\u001b[0m\u001b[0m\n\u001b[1;32m---> 13\u001b[1;33m     \u001b[0mdate\u001b[0m \u001b[1;33m=\u001b[0m \u001b[0mdriver\u001b[0m\u001b[1;33m.\u001b[0m\u001b[0mfind_element_by_class_name\u001b[0m\u001b[1;33m(\u001b[0m\u001b[1;34m\"can-localize\"\u001b[0m\u001b[1;33m)\u001b[0m\u001b[1;33m.\u001b[0m\u001b[0mtext\u001b[0m\u001b[1;33m\u001b[0m\u001b[1;33m\u001b[0m\u001b[0m\n\u001b[0m\u001b[0;32m     14\u001b[0m     \u001b[0marticle_dict\u001b[0m\u001b[1;33m[\u001b[0m\u001b[1;34m\"date\"\u001b[0m\u001b[1;33m]\u001b[0m \u001b[1;33m=\u001b[0m \u001b[0mdate\u001b[0m\u001b[1;33m\u001b[0m\u001b[1;33m\u001b[0m\u001b[0m\n\u001b[0;32m     15\u001b[0m \u001b[1;33m\u001b[0m\u001b[0m\n",
      "\u001b[1;31mAttributeError\u001b[0m: 'NoneType' object has no attribute 'text'"
     ]
    }
   ],
   "source": [
    "options = webdriver.ChromeOptions()\n",
    "driver = webdriver.Chrome(location + \"\\chromedriver\", options=options)\n",
    "\n",
    "data = []\n",
    "\n",
    "for url in article_links:\n",
    "    article_dict = {}\n",
    "    driver.get(url)\n",
    "    \n",
    "    article_dict[\"url\"] = url\n",
    "    \n",
    "    #date\n",
    "    date = driver.find_element_by_class_name(\"can-localize\").text\n",
    "    article_dict[\"date\"] = date\n",
    "    \n",
    "    #body\n",
    "    body = \"\"\n",
    "    text = driver.find_element_by_class_name(\"article-content\")\n",
    "    for item in text.find_elements_by_tag_name(\"p\"):\n",
    "        body = body + item.text\n",
    "    article_dict[\"body\"] = body\n",
    "    \n",
    "    #title\n",
    "    title = driver.find_element_by_tag_name(\"h1\").text\n",
    "    article_dict[\"title\"] = title\n",
    "    \n",
    "    #location\n",
    "    article_dict[\"location\"] = \"IUB\"\n",
    "\n",
    "    data.append(article_dict)"
   ]
  },
  {
   "cell_type": "code",
   "execution_count": 7,
   "metadata": {},
   "outputs": [
    {
     "name": "stdout",
     "output_type": "stream",
     "text": [
      "{'url': 'https://www.idsnews.com/article/2011/12/office-for-womens-affairs-works-to-educate-empower', 'date': 'Published Dec 11, 2011 9:57 pm', 'body': 'For almost 40 years, the Office for Women’s Affairs has worked to improve the lives of female students, faculty and staff at IU.\\n\\nOWA was established in 1972 as part of an effort to fight policies and programs that were discriminating against women.\\n\\n“You really can’t have a university environment where students are discriminated against for another student’s benefit,” OWA Dean Yvette Alex-Assensoh said.\\n\\nOWA works with several campus offices and organizations, including the Gay, Lesbian, Bisexual and Transgender Student Support Services, the Office of International Services and various culture centers to promote a diverse educational environment.\\n\\nIn addition, OWA is involved in the Bloomington community through their work with Middle Way House, the Monroe County Prosecutor’s Office and My Sister’s Closet. They also work with local childcare facilities to provide childcare to students who are also parents.\\n\\n“We are the coordination body that has served to connect people that may not have been working together before, but do so now,” Alex-Assensoh said.\\n\\nOn campus, one of OWA’s most popular programs is the Women in Science Program, which provides resources and professional development opportunities for female scientists at IU to get together and talk about their work on a monthly basis.\\n\\n“This really helps undergraduate female scientists understand what the profession is like,” Alex-Assensoh said.\\n\\nAs part of OWA’s efforts to promote female scientists on campus, they are sponsoring the new Thematic Community for Women in Science, Technology and Mathematics, which will debut in the residence halls in the fall of 2012.\\n\\nAnother recent project of OWA, in conjunction with the Office of the Dean of Students and the Office of the Provost, was a mandatory online session about sexual assault education that was taken by all freshmen and transfer students this past fall.\\n\\n“I’ve heard that the participants really did learn a lot,” Alex-Assensoh said. “It was a not a burden for them, and they said it was a pleasure to learn how to build healthy relationships and how to keep oneself safe on campus.”\\n\\nAnother OWA program is Savant, which is made up of peer educators who raise awareness about empowerment, gender equity, ethical living and social justice. In addition, OWA serves as an entry point for people to express concern about things that are going on in the workplace.\\n\\nAlyce D. Fly, Associate Professor of Dietetics and Nutrition Science, is one of the many faculty members involved with OWA. She said she shares many of the same beliefs as OWA and aims to accomplish many of the same goals in her own work.\\n\\n“My programs in HPER serve predominantly female students, and so I have a special interest in having my students successfully navigate the university and move on to make important contributions to their professional fields,” she said.\\n\\nAs OWA gets ready to celebrate its fortieth anniversary in the spring, they remain focused on the organization’s original goals of helping women achieve greatness, lead effectively and make a positive difference on the global stage.\\n\\n“OWA has always been an incubator of ideas on campus and has been the conscience of the university in terms of how it addresses issues of inclusion and equity,” Alex-Assensoh said.', 'title': 'Office for Women’s Affairs works to educate, empower', 'location': 'IUB'}\n"
     ]
    }
   ],
   "source": [
    "print(data[0])"
   ]
  },
  {
   "cell_type": "code",
   "execution_count": 8,
   "metadata": {},
   "outputs": [
    {
     "name": "stdout",
     "output_type": "stream",
     "text": [
      "https://www.idsnews.com/article/2011/12/office-for-womens-affairs-works-to-educate-empower\n"
     ]
    }
   ],
   "source": [
    "print(article_links[0])"
   ]
  },
  {
   "cell_type": "code",
   "execution_count": null,
   "metadata": {},
   "outputs": [],
   "source": []
  }
 ],
 "metadata": {
  "kernelspec": {
   "display_name": "Python 3",
   "language": "python",
   "name": "python3"
  },
  "language_info": {
   "codemirror_mode": {
    "name": "ipython",
    "version": 3
   },
   "file_extension": ".py",
   "mimetype": "text/x-python",
   "name": "python",
   "nbconvert_exporter": "python",
   "pygments_lexer": "ipython3",
   "version": "3.7.6"
  }
 },
 "nbformat": 4,
 "nbformat_minor": 4
}
