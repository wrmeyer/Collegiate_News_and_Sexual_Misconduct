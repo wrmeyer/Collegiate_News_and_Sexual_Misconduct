{
 "cells": [
  {
   "cell_type": "code",
   "execution_count": 65,
   "metadata": {},
   "outputs": [],
   "source": [
    "import pandas as pd\n",
    "import csv\n",
    "import os\n",
    "location = str(os.getcwd())\n",
    "import datetime"
   ]
  },
  {
   "cell_type": "code",
   "execution_count": 111,
   "metadata": {},
   "outputs": [
    {
     "name": "stdout",
     "output_type": "stream",
     "text": [
      "C:\\Users\\wilmd\\OneDrive\\Desktop\\python_env\\env\\Collegiate_News_and_Sexual_Misconduct\\Articles//IU Bloomington//articles.csv\n",
      "C:\\Users\\wilmd\\OneDrive\\Desktop\\python_env\\env\\Collegiate_News_and_Sexual_Misconduct\\Articles//Stanford//stanford_articles.csv\n",
      "C:\\Users\\wilmd\\OneDrive\\Desktop\\python_env\\env\\Collegiate_News_and_Sexual_Misconduct\\Articles//U of Maryland//maryland_articles.csv\n",
      "C:\\Users\\wilmd\\OneDrive\\Desktop\\python_env\\env\\Collegiate_News_and_Sexual_Misconduct\\Articles//U of Minnesota//minnesota_articles.csv\n",
      "C:\\Users\\wilmd\\OneDrive\\Desktop\\python_env\\env\\Collegiate_News_and_Sexual_Misconduct\\Articles//Wisconsin//badger_herald.csv\n",
      "C:\\Users\\wilmd\\OneDrive\\Desktop\\python_env\\env\\Collegiate_News_and_Sexual_Misconduct\\Articles//Wisconsin//daily_cardinal.csv\n"
     ]
    }
   ],
   "source": [
    "article_list = []\n",
    "\n",
    "for folder in os.listdir(location):\n",
    "    if os.path.isdir(folder) and \"checkpoints\" not in str(folder):\n",
    "        for file in os.listdir(folder):\n",
    "            f = location + '//' + folder + '//'+ file\n",
    "            if os.path.isfile(f) and ( str(f).split(\".\")[-1] == \"csv\"):\n",
    "                print(f)\n",
    "                df= pd.read_csv(f)\n",
    "                df = df.to_dict(\"index\")\n",
    "                \n",
    "                x = 0\n",
    "                for item in df:\n",
    "                    article_list.append(df[x])\n",
    "                    x+=1"
   ]
  },
  {
   "cell_type": "code",
   "execution_count": 113,
   "metadata": {},
   "outputs": [
    {
     "data": {
      "text/plain": [
       "11768"
      ]
     },
     "execution_count": 113,
     "metadata": {},
     "output_type": "execute_result"
    }
   ],
   "source": [
    "len(article_list)"
   ]
  },
  {
   "cell_type": "code",
   "execution_count": 120,
   "metadata": {},
   "outputs": [
    {
     "name": "stdout",
     "output_type": "stream",
     "text": [
      "Published Dec 11, 2011 9:54 pm\n",
      "Published Dec 1, 2011 10:51 pm\n",
      "Published Nov 7, 2011 10:03 pm\n",
      "nan\n",
      "Published Nov 2, 2011 6:24 pm\n",
      "Published Nov 1, 2011 10:35 pm\n",
      "Published Oct 27, 2011 12:10 am\n",
      "nan\n",
      "nan\n",
      "Published Oct 13, 2011 11:07 pm\n",
      "nan\n"
     ]
    }
   ],
   "source": [
    "#format date\n",
    "#NOT DONE\n",
    "for article in article_list[1:12]:\n",
    "    \n",
    "    if article[\"location\"] == \"IUB\":\n",
    "        date = article[\"date\"]\n",
    "        date = date.split(\"0\")\n",
    "        print(date)"
   ]
  },
  {
   "cell_type": "code",
   "execution_count": 64,
   "metadata": {},
   "outputs": [],
   "source": [
    "pd.DataFrame(article_list).to_csv('articles_cleaned.csv')"
   ]
  },
  {
   "cell_type": "code",
   "execution_count": null,
   "metadata": {},
   "outputs": [],
   "source": []
  }
 ],
 "metadata": {
  "kernelspec": {
   "display_name": "Python 3",
   "language": "python",
   "name": "python3"
  },
  "language_info": {
   "codemirror_mode": {
    "name": "ipython",
    "version": 3
   },
   "file_extension": ".py",
   "mimetype": "text/x-python",
   "name": "python",
   "nbconvert_exporter": "python",
   "pygments_lexer": "ipython3",
   "version": "3.7.6"
  }
 },
 "nbformat": 4,
 "nbformat_minor": 4
}
