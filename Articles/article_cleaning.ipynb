{
 "cells": [
  {
   "cell_type": "code",
   "execution_count": 32,
   "metadata": {},
   "outputs": [],
   "source": [
    "import pandas as pd\n",
    "import csv\n",
    "import os\n",
    "location = str(os.getcwd())\n",
    "import datetime\n",
    "import calendar"
   ]
  },
  {
   "cell_type": "code",
   "execution_count": 33,
   "metadata": {},
   "outputs": [
    {
     "name": "stdout",
     "output_type": "stream",
     "text": [
      "C:\\Users\\wilmd\\OneDrive\\Desktop\\python_env\\env\\Collegiate_News_and_Sexual_Misconduct\\Articles//IU Bloomington//articles.csv\n",
      "C:\\Users\\wilmd\\OneDrive\\Desktop\\python_env\\env\\Collegiate_News_and_Sexual_Misconduct\\Articles//Stanford//stanford_articles.csv\n",
      "C:\\Users\\wilmd\\OneDrive\\Desktop\\python_env\\env\\Collegiate_News_and_Sexual_Misconduct\\Articles//U of Maryland//maryland_articles.csv\n",
      "C:\\Users\\wilmd\\OneDrive\\Desktop\\python_env\\env\\Collegiate_News_and_Sexual_Misconduct\\Articles//U of Minnesota//minnesota_articles.csv\n",
      "C:\\Users\\wilmd\\OneDrive\\Desktop\\python_env\\env\\Collegiate_News_and_Sexual_Misconduct\\Articles//Wisconsin//badger_herald.csv\n",
      "C:\\Users\\wilmd\\OneDrive\\Desktop\\python_env\\env\\Collegiate_News_and_Sexual_Misconduct\\Articles//Wisconsin//daily_cardinal.csv\n"
     ]
    }
   ],
   "source": [
    "article_list = []\n",
    "\n",
    "for folder in os.listdir(location):\n",
    "    if os.path.isdir(folder) and \"checkpoints\" not in str(folder):\n",
    "        for file in os.listdir(folder):\n",
    "            f = location + '//' + folder + '//'+ file\n",
    "            if os.path.isfile(f) and ( str(f).split(\".\")[-1] == \"csv\"):\n",
    "                print(f)\n",
    "                df= pd.read_csv(f)\n",
    "                df = df.to_dict(\"index\")\n",
    "                \n",
    "                x = 0\n",
    "                for item in df:\n",
    "                    article_list.append(df[x])\n",
    "                    x+=1"
   ]
  },
  {
   "cell_type": "code",
   "execution_count": 34,
   "metadata": {},
   "outputs": [
    {
     "data": {
      "text/plain": [
       "11768"
      ]
     },
     "execution_count": 34,
     "metadata": {},
     "output_type": "execute_result"
    }
   ],
   "source": [
    "len(article_list)"
   ]
  },
  {
   "cell_type": "code",
   "execution_count": 35,
   "metadata": {},
   "outputs": [],
   "source": [
    "#FIXING LOCATION ERROR\n",
    "all_loca = []\n",
    "for article in article_list:\n",
    "    domain = article[\"url\"].split(\"/\")[2]\n",
    "    if domain == \"idsnews.com\":\n",
    "        article[\"location\"] = \"IUB\"\n",
    "    elif domain == 'stanforddaily.com':\n",
    "        article[\"location\"] = \"Stanford\"\n",
    "    elif domain == 'dbknews.com':\n",
    "        article[\"location\"] = \"UMD\"\n",
    "    elif domain == 'mndaily.com':\n",
    "        article[\"location\"] = \"UMN\"\n",
    "    elif domain == 'badgerherald.com':\n",
    "        article[\"location\"] = \"Wisconsin\"\n",
    "    elif domain == 'www.dailycardinal.com':\n",
    "        article[\"location\"] = \"Wisconsin\""
   ]
  },
  {
   "cell_type": "code",
   "execution_count": 51,
   "metadata": {},
   "outputs": [],
   "source": [
    "#format date\n",
    "for article in article_list:\n",
    "    date = article[\"date\"]\n",
    "    date = str(date)\n",
    "    \n",
    "    #IUB\n",
    "    if article[\"location\"] == \"IUB\":\n",
    "        if \"Published\" in date:\n",
    "            m = date.split(\" \")[1]\n",
    "            m = list(calendar.month_abbr).index(m)\n",
    "            d = date.split(\" \")[2][:-1]\n",
    "            y = date.split(\" \")[3]\n",
    "            date = str(m)+\"/\"+d+\"/\"+y\n",
    "        else:\n",
    "            date = 'N/A'\n",
    "    \n",
    "    #STANFORD\n",
    "    elif article[\"location\"] == \"Stanford\":\n",
    "        try:\n",
    "            m = date.split(\" \")[0]\n",
    "            try:\n",
    "                m = list(calendar.month_name).index(m)\n",
    "            except:\n",
    "                m = m[:-1]\n",
    "                m = list(calendar.month_abbr).index(m)                \n",
    "            d = date.split(\" \")[1][:-1]\n",
    "            y = date.split(\" \")[2][:-1]\n",
    "            date = str(m)+\"/\"+d+\"/\"+y\n",
    "        except:\n",
    "            date = 'N/A'\n",
    "        \n",
    "    #UMD\n",
    "    elif article[\"location\"] == \"UMD\":\n",
    "        try:\n",
    "            m = date.split(\" \")[0]\n",
    "            m = list(calendar.month_name).index(m)               \n",
    "            d = date.split(\" \")[1][:-1]\n",
    "            y = date.split(\" \")[2]\n",
    "            date = str(m)+\"/\"+d+\"/\"+y\n",
    "        except:\n",
    "            date = 'N/A'\n",
    "            \n",
    "    elif article[\"location\"] == \"UMN\":\n",
    "        try:\n",
    "            m = date.split(\" \")[1]\n",
    "            m = list(calendar.month_name).index(m)\n",
    "            d = date.split(\" \")[2][:-1]\n",
    "            y = date.split(\" \")[3]\n",
    "            date = str(m)+\"/\"+d+\"/\"+y\n",
    "        except:\n",
    "            date = 'N/A'\n",
    "    \n",
    "    elif article[\"location\"] == \"Wisconsin\" and \"badger\" in article[\"url\"]:\n",
    "        m = date.split(\" \")[0]\n",
    "        try:\n",
    "            m = list(calendar.month_name).index(m)\n",
    "        except:\n",
    "            m = list(calendar.month_abbr).index(m)\n",
    "        d = date.split(\" \")[1][:-1]\n",
    "        y = date.split(\" \")[2]\n",
    "        date = str(m)+\"/\"+d+\"/\"+y\n",
    "        \n",
    "    elif article[\"location\"] == \"Wisconsin\" and \"cardinal\" in article[\"url\"]:\n",
    "        try:\n",
    "            m = date.split(\" \")[0]\n",
    "            m = list(calendar.month_name).index(m)\n",
    "            d = date.split(\" \")[1][:-1]\n",
    "            y = date.split(\" \")[2]\n",
    "            date = str(m)+\"/\"+d+\"/\"+y\n",
    "        except:\n",
    "            date = \"N/A\"\n",
    "    article[\"date\"] = date"
   ]
  },
  {
   "cell_type": "code",
   "execution_count": 52,
   "metadata": {},
   "outputs": [],
   "source": [
    "pd.DataFrame(article_list).to_csv('articles_cleaned.csv')"
   ]
  },
  {
   "cell_type": "code",
   "execution_count": null,
   "metadata": {},
   "outputs": [],
   "source": []
  }
 ],
 "metadata": {
  "kernelspec": {
   "display_name": "Python 3",
   "language": "python",
   "name": "python3"
  },
  "language_info": {
   "codemirror_mode": {
    "name": "ipython",
    "version": 3
   },
   "file_extension": ".py",
   "mimetype": "text/x-python",
   "name": "python",
   "nbconvert_exporter": "python",
   "pygments_lexer": "ipython3",
   "version": "3.7.6"
  }
 },
 "nbformat": 4,
 "nbformat_minor": 4
}
