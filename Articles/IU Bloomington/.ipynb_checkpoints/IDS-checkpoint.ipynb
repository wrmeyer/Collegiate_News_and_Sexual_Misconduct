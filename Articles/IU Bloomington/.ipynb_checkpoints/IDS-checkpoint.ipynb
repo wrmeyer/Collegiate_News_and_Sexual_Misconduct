{
 "cells": [
  {
   "cell_type": "code",
   "execution_count": 1,
   "metadata": {},
   "outputs": [],
   "source": [
    "import time\n",
    "import os\n",
    "location = str(os.getcwd())\n",
    "from selenium import webdriver\n",
    "import json\n",
    "import csv\n",
    "from datetime import timedelta, date\n",
    "import time\n",
    "\n",
    "options = webdriver.ChromeOptions()\n",
    "driver = webdriver.Chrome(location + \"\\chromedriver\", options=options)"
   ]
  },
  {
   "cell_type": "code",
   "execution_count": 2,
   "metadata": {},
   "outputs": [],
   "source": [
    "search_terms = [\"sexual assault\", \"sexual misconduct\", \"rape\", \"sexual abuse\", \"sexual harassment\"]\n",
    "home = \"https://www.idsnews.com/search?keywords=\"\n",
    "date_chunks = [[20110101, 20111231],[20120101, 20121231],[20130101, 20131231],[20140101, 20141231],[20150101, 20151231],[20160101, 20161231],[20170101, 20171231],[20180101, 20181231],[20190101, 20191231],[20200101, 20201231],[20210101, 20211231]]"
   ]
  },
  {
   "cell_type": "code",
   "execution_count": 3,
   "metadata": {},
   "outputs": [],
   "source": [
    "def next_page():\n",
    "    global driver\n",
    "    global x\n",
    "    x += 1\n",
    "    new_link = destination + \"&page=\"+ str(x) + \"&per_page=20\"\n",
    "    driver.get(new_link)"
   ]
  },
  {
   "cell_type": "code",
   "execution_count": 4,
   "metadata": {},
   "outputs": [],
   "source": [
    "links = []\n",
    "\n",
    "for term in search_terms:\n",
    "    for chunk in date_chunks:\n",
    "        x = 1\n",
    "        destination = str(home + term) + \"&order=date&direction=desc&begin=\" + str(chunk[0]) + \"&end=\" + str(chunk[1])\n",
    "        driver.get(destination)\n",
    "        while True:\n",
    "            if len(driver.find_elements_by_tag_name('article')) >= 6:\n",
    "                for article in driver.find_elements_by_tag_name('article')[:-5]:\n",
    "                    links.append(article.find_element_by_tag_name(\"a\").get_attribute(\"href\"))\n",
    "                next_page()\n",
    "            else:\n",
    "                break"
   ]
  },
  {
   "cell_type": "code",
   "execution_count": 5,
   "metadata": {},
   "outputs": [],
   "source": [
    "with open('links.json', 'w') as outfile:\n",
    "    json.dump(links, outfile)"
   ]
  },
  {
   "cell_type": "code",
   "execution_count": null,
   "metadata": {},
   "outputs": [],
   "source": []
  }
 ],
 "metadata": {
  "kernelspec": {
   "display_name": "Python 3",
   "language": "python",
   "name": "python3"
  },
  "language_info": {
   "codemirror_mode": {
    "name": "ipython",
    "version": 3
   },
   "file_extension": ".py",
   "mimetype": "text/x-python",
   "name": "python",
   "nbconvert_exporter": "python",
   "pygments_lexer": "ipython3",
   "version": "3.7.6"
  }
 },
 "nbformat": 4,
 "nbformat_minor": 4
}
