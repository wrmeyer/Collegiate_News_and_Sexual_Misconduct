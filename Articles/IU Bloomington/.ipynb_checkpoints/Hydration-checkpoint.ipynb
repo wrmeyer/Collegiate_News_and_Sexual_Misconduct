{
 "cells": [
  {
   "cell_type": "code",
   "execution_count": 7,
   "metadata": {},
   "outputs": [],
   "source": [
    "import os\n",
    "location = str(os.getcwd())\n",
    "from selenium import webdriver\n",
    "import json\n",
    "import csv"
   ]
  },
  {
   "cell_type": "code",
   "execution_count": 8,
   "metadata": {},
   "outputs": [],
   "source": [
    "with open(location + '/Daily_Cardinal_Links.json') as f:\n",
    "    article_links = json.load(f)"
   ]
  },
  {
   "cell_type": "code",
   "execution_count": 10,
   "metadata": {},
   "outputs": [
    {
     "ename": "AttributeError",
     "evalue": "'NoneType' object has no attribute 'text'",
     "output_type": "error",
     "traceback": [
      "\u001b[1;31m---------------------------------------------------------------------------\u001b[0m",
      "\u001b[1;31mAttributeError\u001b[0m                            Traceback (most recent call last)",
      "\u001b[1;32m<ipython-input-10-4f011403cca4>\u001b[0m in \u001b[0;36m<module>\u001b[1;34m\u001b[0m\n\u001b[0;32m     11\u001b[0m \u001b[1;33m\u001b[0m\u001b[0m\n\u001b[0;32m     12\u001b[0m     \u001b[1;31m#date\u001b[0m\u001b[1;33m\u001b[0m\u001b[1;33m\u001b[0m\u001b[1;33m\u001b[0m\u001b[0m\n\u001b[1;32m---> 13\u001b[1;33m     \u001b[0mdate\u001b[0m \u001b[1;33m=\u001b[0m \u001b[0mdriver\u001b[0m\u001b[1;33m.\u001b[0m\u001b[0mfind_element_by_class_name\u001b[0m\u001b[1;33m(\u001b[0m\u001b[1;34m\"can-localize\"\u001b[0m\u001b[1;33m)\u001b[0m\u001b[1;33m.\u001b[0m\u001b[0mtext\u001b[0m\u001b[1;33m\u001b[0m\u001b[1;33m\u001b[0m\u001b[0m\n\u001b[0m\u001b[0;32m     14\u001b[0m     \u001b[0marticle_dict\u001b[0m\u001b[1;33m[\u001b[0m\u001b[1;34m\"date\"\u001b[0m\u001b[1;33m]\u001b[0m \u001b[1;33m=\u001b[0m \u001b[0mdate\u001b[0m\u001b[1;33m\u001b[0m\u001b[1;33m\u001b[0m\u001b[0m\n\u001b[0;32m     15\u001b[0m \u001b[1;33m\u001b[0m\u001b[0m\n",
      "\u001b[1;31mAttributeError\u001b[0m: 'NoneType' object has no attribute 'text'"
     ]
    }
   ],
   "source": [
    "options = webdriver.ChromeOptions()\n",
    "driver = webdriver.Chrome(location + \"\\chromedriver\", options=options)\n",
    "\n",
    "data = []\n",
    "\n",
    "for url in article_links:\n",
    "    article_dict = {}\n",
    "    driver.get(url)\n",
    "    \n",
    "    article_dict[\"url\"] = url\n",
    "    \n",
    "    #date\n",
    "    date = driver.find_element_by_class_name(\"can-localize\").text\n",
    "    article_dict[\"date\"] = date\n",
    "    \n",
    "    #body\n",
    "    body = \"\"\n",
    "    text = driver.find_element_by_class_name(\"article-content\")\n",
    "    for item in text.find_elements_by_tag_name(\"p\"):\n",
    "        body = body + item.text\n",
    "    article_dict[\"body\"] = body\n",
    "    \n",
    "    #title\n",
    "    title = driver.find_element_by_tag_name(\"h1\").text\n",
    "    article_dict[\"title\"] = title\n",
    "    \n",
    "    #location\n",
    "    article_dict[\"location\"] = \"UWM\"\n",
    "\n",
    "    data.append(article_dict)"
   ]
  },
  {
   "cell_type": "code",
   "execution_count": 11,
   "metadata": {},
   "outputs": [
    {
     "name": "stdout",
     "output_type": "stream",
     "text": [
      "{'url': 'https://www.dailycardinal.com/article/2011/12/student-allegedly-attacked-downtown', 'date': 'December 21, 2011 | 8:01pm CST', 'body': 'A man attempted to mug a 19-year-old female UW-Madison student early Wednesday morning as she was returning home alone from studying at library on campus, reminiscent of two attacks that occurred in July.The attack was reported at 4:05 a.m. on North Carroll Street near Langdon Street, police said in a release.According to the Wisconsin State Journal, the victim said she suffered facial injuries after the attacker punched her in the face two or three times. Madison Fire Department paramedics examined her at the scene.\"The victim was able to get away from the suspect when she screamed as a car approached them, distracting the suspect just enough so she could run away,\" Madison Police Spokesman Joel DeSpain said in the release.The suspect was described as a possibly Hispanic male in his 20s, 5 feet, 7 inches tall, clean-shaven with a buzz cut haircut, wearing a black wool coat and dark jeans.In two attacks last July, victims reported similar attacks and gave comparable descriptions of their attacker.Early in the morning on July 1, a 22-year-old woman was attacked while walking alone near University Avenue. The suspect fled after a bicyclist approached the scene.Similarly, on July 2, a woman was walking home alone early in the morning when she was struck in the head. The victim was able to fight off her attacker, causing him to run. Police said the attack was most likely an attempted sexual assault.\"There are similarities as far as the suspect\\'s description and that the women were all walking alone,\" DeSpain told madison.com (http://bit.ly/sisIc0).Police are encouraging anyone with information about Wednesday\\'s attack or the two in July to call Madison Area Crime Stoppers at (608) 266-6014.', 'title': 'Student allegedly attacked Downtown', 'location': 'UWM'}\n"
     ]
    }
   ],
   "source": [
    "print(data[0])"
   ]
  },
  {
   "cell_type": "code",
   "execution_count": 3,
   "metadata": {},
   "outputs": [
    {
     "name": "stdout",
     "output_type": "stream",
     "text": [
      "https://www.dailycardinal.com/article/2011/12/student-allegedly-attacked-downtown\n"
     ]
    }
   ],
   "source": [
    "print(article_links[0])"
   ]
  },
  {
   "cell_type": "code",
   "execution_count": null,
   "metadata": {},
   "outputs": [],
   "source": []
  }
 ],
 "metadata": {
  "kernelspec": {
   "display_name": "Python 3",
   "language": "python",
   "name": "python3"
  },
  "language_info": {
   "codemirror_mode": {
    "name": "ipython",
    "version": 3
   },
   "file_extension": ".py",
   "mimetype": "text/x-python",
   "name": "python",
   "nbconvert_exporter": "python",
   "pygments_lexer": "ipython3",
   "version": "3.7.6"
  }
 },
 "nbformat": 4,
 "nbformat_minor": 4
}
