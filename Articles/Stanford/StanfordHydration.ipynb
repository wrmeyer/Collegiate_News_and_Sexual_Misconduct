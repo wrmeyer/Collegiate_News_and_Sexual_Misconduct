{
 "cells": [
  {
   "cell_type": "code",
   "execution_count": 9,
   "metadata": {},
   "outputs": [],
   "source": [
    "import os\n",
    "location = str(os.getcwd())\n",
    "from selenium import webdriver\n",
    "import json\n",
    "import csv\n",
    "import time"
   ]
  },
  {
   "cell_type": "code",
   "execution_count": 12,
   "metadata": {},
   "outputs": [
    {
     "name": "stdout",
     "output_type": "stream",
     "text": [
      "5288\n",
      "1844\n"
     ]
    }
   ],
   "source": [
    "with open(location + '/links.json') as f:\n",
    "    article_links = json.load(f)\n",
    "    \n",
    "articles_cleaned = []\n",
    "for link in article_links:\n",
    "    if link not in articles_cleaned:\n",
    "        articles_cleaned.append(link)\n",
    "print(len(article_links))\n",
    "print(len(articles_cleaned))\n",
    "data = []"
   ]
  },
  {
   "cell_type": "code",
   "execution_count": 30,
   "metadata": {},
   "outputs": [],
   "source": [
    "options = webdriver.ChromeOptions()\n",
    "driver = webdriver.Chrome(location + \"\\chromedriver\", options=options)\n",
    "\n",
    "for i in range(len(articles_cleaned)):\n",
    "    url = articles_cleaned[0]\n",
    "    article_dict = {}\n",
    "    driver.get(url)\n",
    "    time.sleep(1)\n",
    "    \n",
    "    article_dict[\"url\"] = url\n",
    "    \n",
    "    #date\n",
    "    date = driver.find_element_by_id(\"date\").find_element_by_class_name(\"elementor-heading-title\").text\n",
    "    article_dict[\"date\"] = date\n",
    "    \n",
    "    #body\n",
    "    body = \"\"\n",
    "    text = driver.find_element_by_id(\"single-content\")\n",
    "    for item in text.find_elements_by_tag_name(\"p\"):\n",
    "        body = body + item.text\n",
    "    article_dict[\"body\"] = body\n",
    "    \n",
    "    #title\n",
    "    title = driver.find_element_by_tag_name(\"h1\").text\n",
    "    article_dict[\"title\"] = title\n",
    "    \n",
    "    #location\n",
    "    article_dict[\"location\"] = \"Stanford\"\n",
    "\n",
    "    data.append(article_dict)\n",
    "    articles_cleaned.pop(0)"
   ]
  },
  {
   "cell_type": "code",
   "execution_count": 31,
   "metadata": {
    "collapsed": true,
    "jupyter": {
     "outputs_hidden": true,
     "source_hidden": true
    }
   },
   "outputs": [
    {
     "name": "stdout",
     "output_type": "stream",
     "text": [
      "{'url': 'https://stanforddaily.com/2021/04/14/3-sexual-assaults-occurred-last-month-why-didnt-stanford-send-out-alerts/', 'date': 'April 14, 2021, 1:10 a.m.', 'body': 'Between March 9 and March 28, three sexual assaults were reported on campus. However, the University issued no timely warnings nor AlertSUs, leaving some survivor advocates concerned.The assaults occurred on March 9, between March 25 and 26 and between March 27 and 28. All three were committed by acquaintances of the survivors, according to Stanford Department of Public Safety (SUDPS) spokesperson Bill Larson. In both of the latter cases, the survivor and perpetrator were students. Advocates like Sexual Violence Free Stanford — organized by the Associated Students of Stanford University’s sexual violence prevention leads — have criticized SUDPS for not sending out alerts for any of the assaults.Larson did not answer when The Daily asked why SUDPS sent out no AlertSUs in any of these three cases. Instead, Larson told The Daily that multiple factors go into a case-by-case decision on whether SUDPS alerts the community to a sexual assault.“Whether individuals knew each other and the nature of their relationship is just one consideration,” Larson wrote.Other factors that may be considered include if force or drugs were used to perpetrate the assault, the time between the assault and when it was reported, the information provided and if any similar assaults occurred in a close period of time. There is no concrete formula used to determine if an AlertSU should be issued. “Our priority is to ensure we conduct a fair and impartial investigation to gather relevant facts from all involved parties,” Larson wrote. According to Larson, two of the investigations are currently ongoing, while one has been completed and is undergoing review by the District Attorney’s Office.This article has been corrected to reflect that only two investigations are currently ongoing. The Daily regrets this error. It has also been updated to reflect an error on the SUDPS police blotter; one assault occurred on March 9, not March 10.', 'title': '3 sexual assaults occurred last month. Why didn’t Stanford send out alerts?', 'location': 'Stanford'}\n"
     ]
    }
   ],
   "source": [
    "print(data[0])"
   ]
  },
  {
   "cell_type": "code",
   "execution_count": 32,
   "metadata": {},
   "outputs": [],
   "source": [
    "rows = []\n",
    "fields = data[0].keys()\n",
    "\n",
    "for author in data:\n",
    "    row = []\n",
    "    for item in fields:\n",
    "        row.append(author[item])\n",
    "    rows.append(row)"
   ]
  },
  {
   "cell_type": "code",
   "execution_count": 33,
   "metadata": {},
   "outputs": [],
   "source": [
    "filename = \"stanford_articles.csv\"\n",
    "with open(filename, 'w', newline='', encoding = \"Utf-8\") as csvfile: \n",
    "    csvwriter = csv.writer(csvfile) \n",
    "    csvwriter.writerow(fields) \n",
    "    csvwriter.writerows(rows)"
   ]
  },
  {
   "cell_type": "code",
   "execution_count": 34,
   "metadata": {},
   "outputs": [
    {
     "ename": "IndexError",
     "evalue": "pop from empty list",
     "output_type": "error",
     "traceback": [
      "\u001b[1;31m---------------------------------------------------------------------------\u001b[0m",
      "\u001b[1;31mIndexError\u001b[0m                                Traceback (most recent call last)",
      "\u001b[1;32m<ipython-input-34-ff2782c97f67>\u001b[0m in \u001b[0;36m<module>\u001b[1;34m\u001b[0m\n\u001b[1;32m----> 1\u001b[1;33m \u001b[0marticles_cleaned\u001b[0m\u001b[1;33m.\u001b[0m\u001b[0mpop\u001b[0m\u001b[1;33m(\u001b[0m\u001b[1;36m0\u001b[0m\u001b[1;33m)\u001b[0m\u001b[1;33m\u001b[0m\u001b[1;33m\u001b[0m\u001b[0m\n\u001b[0m",
      "\u001b[1;31mIndexError\u001b[0m: pop from empty list"
     ]
    }
   ],
   "source": [
    "articles_cleaned.pop(0)"
   ]
  },
  {
   "cell_type": "code",
   "execution_count": null,
   "metadata": {},
   "outputs": [],
   "source": []
  }
 ],
 "metadata": {
  "kernelspec": {
   "display_name": "Python 3",
   "language": "python",
   "name": "python3"
  },
  "language_info": {
   "codemirror_mode": {
    "name": "ipython",
    "version": 3
   },
   "file_extension": ".py",
   "mimetype": "text/x-python",
   "name": "python",
   "nbconvert_exporter": "python",
   "pygments_lexer": "ipython3",
   "version": "3.7.6"
  }
 },
 "nbformat": 4,
 "nbformat_minor": 4
}
