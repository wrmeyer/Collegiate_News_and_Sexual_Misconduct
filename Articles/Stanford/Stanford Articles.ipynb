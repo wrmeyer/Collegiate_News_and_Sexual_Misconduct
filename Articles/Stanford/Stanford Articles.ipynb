{
 "cells": [
  {
   "cell_type": "code",
   "execution_count": 1,
   "metadata": {},
   "outputs": [],
   "source": [
    "import time\n",
    "import os\n",
    "location = str(os.getcwd())\n",
    "from selenium import webdriver\n",
    "import json\n",
    "import csv\n",
    "import time\n",
    "from selenium.webdriver.common.keys import Keys\n",
    "\n",
    "\n",
    "options = webdriver.ChromeOptions()\n",
    "driver = webdriver.Chrome(location + \"\\chromedriver\", options=options)"
   ]
  },
  {
   "cell_type": "code",
   "execution_count": 2,
   "metadata": {},
   "outputs": [],
   "source": [
    "search_terms = [\"sexual assault\", \"sexual misconduct\", \"rape\", \"sexual harassment\", \"sexual abuse\"]\n",
    "home = \"https://stanforddaily.com/?s=\""
   ]
  },
  {
   "cell_type": "code",
   "execution_count": 3,
   "metadata": {},
   "outputs": [],
   "source": [
    "def max_expand():\n",
    "    global driver\n",
    "    while True:\n",
    "        try:\n",
    "            time.sleep(4)\n",
    "            driver.find_element_by_id(\"load-more\").send_keys(Keys.RETURN)\n",
    "        except Exception as e:\n",
    "            print(e)\n",
    "            break"
   ]
  },
  {
   "cell_type": "code",
   "execution_count": 4,
   "metadata": {},
   "outputs": [
    {
     "name": "stdout",
     "output_type": "stream",
     "text": [
      "Message: element not interactable\n",
      "  (Session info: chrome=98.0.4758.82)\n",
      "\n",
      "1768\n",
      "Message: element not interactable\n",
      "  (Session info: chrome=98.0.4758.82)\n",
      "\n",
      "500\n",
      "Message: element not interactable\n",
      "  (Session info: chrome=98.0.4758.82)\n",
      "\n",
      "1538\n",
      "Message: element not interactable\n",
      "  (Session info: chrome=98.0.4758.82)\n",
      "\n",
      "708\n",
      "Message: element not interactable\n",
      "  (Session info: chrome=98.0.4758.82)\n",
      "\n",
      "774\n"
     ]
    }
   ],
   "source": [
    "links=[]\n",
    "for item in search_terms:\n",
    "    driver.get(home + item)\n",
    "    max_expand()\n",
    "    time.sleep(5)\n",
    "    print(len(driver.find_elements_by_class_name(\"jet-listing-grid__item\")))\n",
    "    for item in driver.find_elements_by_class_name(\"jet-listing-grid__item\")[0:]:\n",
    "        for subitem in item.find_elements_by_class_name(\"archive-headline\"):\n",
    "            links.append(subitem.find_element_by_tag_name(\"a\").get_attribute(\"href\"))"
   ]
  },
  {
   "cell_type": "code",
   "execution_count": 5,
   "metadata": {},
   "outputs": [],
   "source": [
    "with open('links.json', 'w') as outfile:\n",
    "    json.dump(links, outfile)"
   ]
  },
  {
   "cell_type": "markdown",
   "metadata": {},
   "source": []
  }
 ],
 "metadata": {
  "kernelspec": {
   "display_name": "Python 3",
   "language": "python",
   "name": "python3"
  },
  "language_info": {
   "codemirror_mode": {
    "name": "ipython",
    "version": 3
   },
   "file_extension": ".py",
   "mimetype": "text/x-python",
   "name": "python",
   "nbconvert_exporter": "python",
   "pygments_lexer": "ipython3",
   "version": "3.7.6"
  }
 },
 "nbformat": 4,
 "nbformat_minor": 4
}
