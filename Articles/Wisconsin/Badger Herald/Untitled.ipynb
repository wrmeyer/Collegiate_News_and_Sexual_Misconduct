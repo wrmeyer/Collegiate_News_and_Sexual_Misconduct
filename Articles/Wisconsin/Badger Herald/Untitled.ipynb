{
 "cells": [
  {
   "cell_type": "code",
   "execution_count": 1,
   "metadata": {},
   "outputs": [
    {
     "name": "stdout",
     "output_type": "stream",
     "text": [
      "Processing https://badgerherald.com/tag/rape-kit/\n",
      "ping\n",
      "ping\n",
      "ping\n",
      "Processing https://badgerherald.com/features/2022/02/01/not-enough-not-yet-uw-makes-progress-on-sexual-assault-response-but-shortcomings-persist/\n"
     ]
    },
    {
     "ename": "KeyboardInterrupt",
     "evalue": "",
     "output_type": "error",
     "traceback": [
      "\u001b[1;31m---------------------------------------------------------------------------\u001b[0m",
      "\u001b[1;31mKeyboardInterrupt\u001b[0m                         Traceback (most recent call last)",
      "\u001b[1;32m<ipython-input-1-59937fa605a0>\u001b[0m in \u001b[0;36m<module>\u001b[1;34m\u001b[0m\n\u001b[0;32m     37\u001b[0m         \u001b[0mbroken_urls\u001b[0m\u001b[1;33m.\u001b[0m\u001b[0madd\u001b[0m\u001b[1;33m(\u001b[0m\u001b[0murl\u001b[0m\u001b[1;33m)\u001b[0m\u001b[1;33m\u001b[0m\u001b[1;33m\u001b[0m\u001b[0m\n\u001b[0;32m     38\u001b[0m         \u001b[1;32mcontinue\u001b[0m\u001b[1;33m\u001b[0m\u001b[1;33m\u001b[0m\u001b[0m\n\u001b[1;32m---> 39\u001b[1;33m     \u001b[0mtime\u001b[0m\u001b[1;33m.\u001b[0m\u001b[0msleep\u001b[0m\u001b[1;33m(\u001b[0m\u001b[1;36m1\u001b[0m\u001b[1;33m)\u001b[0m\u001b[1;33m\u001b[0m\u001b[1;33m\u001b[0m\u001b[0m\n\u001b[0m\u001b[0;32m     40\u001b[0m     \u001b[1;31m# extract base url to resolve relative links\u001b[0m\u001b[1;33m\u001b[0m\u001b[1;33m\u001b[0m\u001b[1;33m\u001b[0m\u001b[0m\n\u001b[0;32m     41\u001b[0m     \u001b[0mparts\u001b[0m \u001b[1;33m=\u001b[0m \u001b[0murlsplit\u001b[0m\u001b[1;33m(\u001b[0m\u001b[0murl\u001b[0m\u001b[1;33m)\u001b[0m\u001b[1;33m\u001b[0m\u001b[1;33m\u001b[0m\u001b[0m\n",
      "\u001b[1;31mKeyboardInterrupt\u001b[0m: "
     ]
    }
   ],
   "source": [
    "#credit for most of this code: https://medium.com/swlh/how-to-build-a-url-crawler-to-map-a-website-using-python-3e7db83feb7a\n",
    "from bs4 import BeautifulSoup\n",
    "import requests\n",
    "import requests.exceptions\n",
    "from urllib.parse import urlsplit\n",
    "from urllib.parse import urlparse\n",
    "from collections import deque\n",
    "import re\n",
    "import lxml\n",
    "import time\n",
    "research_articles = []\n",
    "\n",
    "url = \"https://badgerherald.com/tag/rape-kit/\"\n",
    "# a queue of urls to be crawled\n",
    "new_urls = deque([url])\n",
    "\n",
    "# a set of urls that we have already been processed \n",
    "processed_urls = set()\n",
    "# a set of domains inside the target website\n",
    "local_urls = set()\n",
    "# a set of domains outside the target website\n",
    "foreign_urls = set()\n",
    "# a set of broken urls\n",
    "broken_urls = set()\n",
    "\n",
    "# process urls one by one until we exhaust the queue\n",
    "while len(new_urls):\n",
    "    # move next url from the queue to the set of processed urls\n",
    "    url = new_urls.popleft()\n",
    "    processed_urls.add(url)\n",
    "    # get url's content\n",
    "    print(\"Processing %s\" % url)\n",
    "    try:\n",
    "        response = requests.get(url)\n",
    "    except (requests.exceptions.MissingSchema, requests.exceptions.ConnectionError, requests.exceptions.InvalidURL, requests.exceptions.InvalidSchema):\n",
    "        # add broken urls to it's own set, then continue\n",
    "        broken_urls.add(url)\n",
    "        continue\n",
    "    time.sleep(1)\n",
    "    # extract base url to resolve relative links\n",
    "    parts = urlsplit(url)\n",
    "    base = \"{0.netloc}\".format(parts)\n",
    "    strip_base = base.replace(\"www.\", \"\")\n",
    "    base_url = \"{0.scheme}://{0.netloc}\".format(parts)\n",
    "    path = url[:url.rfind('/')+1] if '/' in parts.path else url\n",
    "\n",
    "    # create a beutiful soup for the html document\n",
    "    soup = BeautifulSoup(response.text, \"lxml\")\n",
    "    \n",
    "    ###########origingla code#############\n",
    "    key_words = [\"sexual assault\", \"sexual misconduct\", \"rape\", \"sexual harassment\", \"sexual abuse\"]\n",
    "    for phrase in key_words:\n",
    "        for element in soup.find_all(\"p\"):\n",
    "            if phrase in element.text and url not in resear:\n",
    "                research_articles.append(url)\n",
    "                print(\"ping\")\n",
    "        for element in soup.find_all(\"h2\"):\n",
    "            if phrase in element.text:\n",
    "                research_articles.append(url)\n",
    "                print(\"ping\")\n",
    "        for element in soup.find_all(\"h1\"):\n",
    "            if phrase in element.text:\n",
    "                research_articles.append(url)\n",
    "                print(\"ping\")\n",
    "\n",
    "    ######################################\n",
    "    for link in soup.find_all('a'):\n",
    "        # extract link url from the anchor\n",
    "        anchor = link.attrs[\"href\"] if \"href\" in link.attrs else ''\n",
    "        if anchor.startswith('/'):\n",
    "            local_link = base_url + anchor\n",
    "            local_urls.add(local_link)\n",
    "        elif strip_base in anchor:\n",
    "            local_urls.add(anchor)\n",
    "        elif not anchor.startswith('http'):\n",
    "            local_link = path + anchor\n",
    "            local_urls.add(local_link)\n",
    "        else:\n",
    "            foreign_urls.add(anchor)\n",
    "\n",
    "        for i in local_urls:\n",
    "            if not i in new_urls and not i in processed_urls:\n",
    "                if \"banter\" not in i:\n",
    "                    new_urls.append(i)\n",
    "\n",
    "print(\"finished: \" + str(len(processed_urls)))"
   ]
  },
  {
   "cell_type": "code",
   "execution_count": 2,
   "metadata": {},
   "outputs": [
    {
     "name": "stdout",
     "output_type": "stream",
     "text": [
      "3\n"
     ]
    }
   ],
   "source": [
    "print(len(research_articles))"
   ]
  },
  {
   "cell_type": "code",
   "execution_count": null,
   "metadata": {},
   "outputs": [],
   "source": []
  }
 ],
 "metadata": {
  "kernelspec": {
   "display_name": "Python 3",
   "language": "python",
   "name": "python3"
  },
  "language_info": {
   "codemirror_mode": {
    "name": "ipython",
    "version": 3
   },
   "file_extension": ".py",
   "mimetype": "text/x-python",
   "name": "python",
   "nbconvert_exporter": "python",
   "pygments_lexer": "ipython3",
   "version": "3.7.6"
  }
 },
 "nbformat": 4,
 "nbformat_minor": 4
}
