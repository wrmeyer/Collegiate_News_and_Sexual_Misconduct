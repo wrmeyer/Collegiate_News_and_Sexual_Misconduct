{
 "cells": [
  {
   "cell_type": "code",
   "execution_count": 3,
   "metadata": {},
   "outputs": [],
   "source": [
    "import os\n",
    "location = str(os.getcwd())\n",
    "from selenium import webdriver\n",
    "import json\n",
    "import csv"
   ]
  },
  {
   "cell_type": "code",
   "execution_count": 4,
   "metadata": {},
   "outputs": [
    {
     "name": "stdout",
     "output_type": "stream",
     "text": [
      "864\n",
      "304\n"
     ]
    }
   ],
   "source": [
    "with open(location + '/links.json') as f:\n",
    "    article_links = json.load(f)\n",
    "    \n",
    "articles_cleaned = []\n",
    "for link in article_links:\n",
    "    if link not in articles_cleaned:\n",
    "        articles_cleaned.append(link)\n",
    "print(len(article_links))\n",
    "print(len(articles_cleaned))\n",
    "data = []"
   ]
  },
  {
   "cell_type": "code",
   "execution_count": 9,
   "metadata": {},
   "outputs": [],
   "source": [
    "options = webdriver.ChromeOptions()\n",
    "driver = webdriver.Chrome(location + \"\\chromedriver\", options=options)\n",
    "x = 0\n",
    "while len(articles_cleaned) > 0:\n",
    "    try:\n",
    "        url = articles_cleaned[0]\n",
    "        article_dict = {}\n",
    "        driver.get(url)\n",
    "\n",
    "        article_dict[\"url\"] = url\n",
    "\n",
    "        #date\n",
    "        date = driver.find_element_by_class_name(\"meta-time\").text\n",
    "        article_dict[\"date\"] = date\n",
    "\n",
    "        #body\n",
    "        body = \"\"\n",
    "        text = driver.find_element_by_class_name(\"article-text\")\n",
    "        for item in text.find_elements_by_tag_name(\"p\"):\n",
    "            body = body + item.text\n",
    "        article_dict[\"body\"] = body\n",
    "\n",
    "        #title\n",
    "        title = driver.find_element_by_class_name(\"title\").text\n",
    "        article_dict[\"title\"] = title\n",
    "\n",
    "        #location\n",
    "        article_dict[\"location\"] = \"UWM\"\n",
    "\n",
    "        data.append(article_dict)\n",
    "        articles_cleaned.pop(0)\n",
    "        x = 0\n",
    "    except:\n",
    "        driver.quit()\n",
    "        options = webdriver.ChromeOptions()\n",
    "        driver = webdriver.Chrome(location + \"\\chromedriver\", options=options)\n",
    "        x = x+1\n",
    "        if x > 5:\n",
    "            articles_cleaned.pop(0)"
   ]
  },
  {
   "cell_type": "code",
   "execution_count": 10,
   "metadata": {},
   "outputs": [],
   "source": [
    "rows = []\n",
    "fields = data[0].keys()\n",
    "\n",
    "for author in data:\n",
    "    row = []\n",
    "    for item in fields:\n",
    "        row.append(author[item])\n",
    "    rows.append(row)"
   ]
  },
  {
   "cell_type": "code",
   "execution_count": 11,
   "metadata": {},
   "outputs": [],
   "source": [
    "filename = \"badger_herald.csv\"\n",
    "with open(filename, 'w', newline='', encoding = \"Utf-8\") as csvfile: \n",
    "    csvwriter = csv.writer(csvfile) \n",
    "    csvwriter.writerow(fields) \n",
    "    csvwriter.writerows(rows)"
   ]
  },
  {
   "cell_type": "code",
   "execution_count": 14,
   "metadata": {},
   "outputs": [
    {
     "name": "stdout",
     "output_type": "stream",
     "text": [
      "https://badgerherald.com/sports/2015/10/12/uw-madison-athletic-department-announce-partnership-with-its-on-us-campaign-to-stop-sexual-assault/\n"
     ]
    }
   ],
   "source": [
    "print(article_links[0])"
   ]
  },
  {
   "cell_type": "code",
   "execution_count": null,
   "metadata": {},
   "outputs": [],
   "source": []
  }
 ],
 "metadata": {
  "kernelspec": {
   "display_name": "Python 3",
   "language": "python",
   "name": "python3"
  },
  "language_info": {
   "codemirror_mode": {
    "name": "ipython",
    "version": 3
   },
   "file_extension": ".py",
   "mimetype": "text/x-python",
   "name": "python",
   "nbconvert_exporter": "python",
   "pygments_lexer": "ipython3",
   "version": "3.8.10"
  }
 },
 "nbformat": 4,
 "nbformat_minor": 4
}
