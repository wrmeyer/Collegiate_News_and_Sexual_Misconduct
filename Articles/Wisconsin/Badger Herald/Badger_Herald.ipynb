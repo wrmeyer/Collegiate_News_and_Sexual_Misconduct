{
 "cells": [
  {
   "cell_type": "code",
   "execution_count": 60,
   "metadata": {},
   "outputs": [],
   "source": [
    "import time\n",
    "import os\n",
    "location = str(os.getcwd())\n",
    "from selenium import webdriver\n",
    "import json\n",
    "\n",
    "options = webdriver.ChromeOptions()\n",
    "driver = webdriver.Chrome(location + \"\\chromedriver\", options=options)"
   ]
  },
  {
   "cell_type": "code",
   "execution_count": 61,
   "metadata": {},
   "outputs": [],
   "source": [
    "search_terms = [\"sexual assault\", \"sexual misconduct\", \"rape\", \"sexual harassment\", \"sexual abuse\"]\n",
    "home = \"https://www.google.com/search?q=\"\n",
    "links = []"
   ]
  },
  {
   "cell_type": "code",
   "execution_count": 62,
   "metadata": {},
   "outputs": [
    {
     "name": "stdout",
     "output_type": "stream",
     "text": [
      "0\n",
      "236\n",
      "303\n",
      "402\n",
      "620\n"
     ]
    }
   ],
   "source": [
    "for term in search_terms:\n",
    "    url = home + term + \" site:badgerherald.com&tbm=nws\"\n",
    "    driver.get(url)\n",
    "    \n",
    "    print(len(links))\n",
    "    \n",
    "    while True:\n",
    "        #get articles\n",
    "        for item in driver.find_elements_by_class_name(\"WlydOe\"):\n",
    "            links.append(item.get_attribute(\"href\")) \n",
    "            \n",
    "        #Loop until no more pages\n",
    "        try:\n",
    "            url = driver.find_element_by_id(\"pnnext\").get_attribute(\"href\")\n",
    "            driver.get(url)\n",
    "            time.sleep(1)\n",
    "        except:\n",
    "            if len(driver.find_elements_by_id(\"captcha-form\")) > 0:\n",
    "                time.sleep(15)\n",
    "            else:\n",
    "                break"
   ]
  },
  {
   "cell_type": "code",
   "execution_count": 63,
   "metadata": {},
   "outputs": [],
   "source": [
    "with open('Badger_Herald_links.json', 'w') as outfile:\n",
    "    json.dump(links, outfile)"
   ]
  },
  {
   "cell_type": "code",
   "execution_count": null,
   "metadata": {},
   "outputs": [],
   "source": []
  }
 ],
 "metadata": {
  "kernelspec": {
   "display_name": "Python 3",
   "language": "python",
   "name": "python3"
  },
  "language_info": {
   "codemirror_mode": {
    "name": "ipython",
    "version": 3
   },
   "file_extension": ".py",
   "mimetype": "text/x-python",
   "name": "python",
   "nbconvert_exporter": "python",
   "pygments_lexer": "ipython3",
   "version": "3.7.6"
  }
 },
 "nbformat": 4,
 "nbformat_minor": 4
}
