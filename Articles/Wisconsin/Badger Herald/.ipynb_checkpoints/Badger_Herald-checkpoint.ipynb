{
 "cells": [
  {
   "cell_type": "code",
   "execution_count": null,
   "metadata": {},
   "outputs": [],
   "source": [
    "import time\n",
    "import os\n",
    "location = str(os.getcwd())\n",
    "from selenium import webdriver\n",
    "import json\n",
    "import csv\n",
    "from datetime import timedelta, date\n",
    "import time\n",
    "\n",
    "options = webdriver.ChromeOptions()\n",
    "driver = webdriver.Chrome(location + \"\\chromedriver\", options=options)"
   ]
  },
  {
   "cell_type": "code",
   "execution_count": null,
   "metadata": {},
   "outputs": [],
   "source": [
    "search_terms = [\"sexual assault\", \"sexual misconduct\", \"rape\", \"sexual harassment\", \"sexual abuse\"]\n",
    "home = \"https://badgerherald.com/?s=\"\n",
    "links = []\n",
    "date_chunks = [[20110101, 20111231],[20120101, 20121231],[20130101, 20131231],[20140101, 20141231],[20150101, 20151231],[20160101, 20161231],[20170101, 20171231],[20180101, 20181231],[20190101, 20191231],[20200101, 20201231],[20210101, 20211231]]"
   ]
  },
  {
   "cell_type": "code",
   "execution_count": null,
   "metadata": {},
   "outputs": [],
   "source": [
    "for term in search_terms:"
   ]
  },
  {
   "cell_type": "code",
   "execution_count": null,
   "metadata": {},
   "outputs": [],
   "source": [
    "with open('Badger_Herald_links.json', 'w') as outfile:\n",
    "    json.dump(links, outfile)"
   ]
  },
  {
   "cell_type": "code",
   "execution_count": null,
   "metadata": {},
   "outputs": [],
   "source": []
  }
 ],
 "metadata": {
  "kernelspec": {
   "display_name": "Python 3",
   "language": "python",
   "name": "python3"
  },
  "language_info": {
   "codemirror_mode": {
    "name": "ipython",
    "version": 3
   },
   "file_extension": ".py",
   "mimetype": "text/x-python",
   "name": "python",
   "nbconvert_exporter": "python",
   "pygments_lexer": "ipython3",
   "version": "3.8.10"
  }
 },
 "nbformat": 4,
 "nbformat_minor": 4
}
