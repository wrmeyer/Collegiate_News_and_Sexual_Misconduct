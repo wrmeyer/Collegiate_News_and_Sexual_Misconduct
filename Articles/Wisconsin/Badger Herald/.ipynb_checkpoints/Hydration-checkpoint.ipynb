{
 "cells": [
  {
   "cell_type": "code",
   "execution_count": 10,
   "metadata": {},
   "outputs": [],
   "source": [
    "import os\n",
    "location = str(os.getcwd())\n",
    "from selenium import webdriver\n",
    "import json\n",
    "import csv"
   ]
  },
  {
   "cell_type": "code",
   "execution_count": 11,
   "metadata": {},
   "outputs": [],
   "source": [
    "with open(location + '/Badger_Herald_links.json') as f:\n",
    "    article_links = json.load(f)"
   ]
  },
  {
   "cell_type": "code",
   "execution_count": 12,
   "metadata": {},
   "outputs": [
    {
     "ename": "TypeError",
     "evalue": "can only concatenate str (not \"NoneType\") to str",
     "output_type": "error",
     "traceback": [
      "\u001b[1;31m---------------------------------------------------------------------------\u001b[0m",
      "\u001b[1;31mTypeError\u001b[0m                                 Traceback (most recent call last)",
      "\u001b[1;32m<ipython-input-12-507f688d6b90>\u001b[0m in \u001b[0;36m<module>\u001b[1;34m\u001b[0m\n\u001b[0;32m     16\u001b[0m     \u001b[0mtext\u001b[0m \u001b[1;33m=\u001b[0m \u001b[0mdriver\u001b[0m\u001b[1;33m.\u001b[0m\u001b[0mfind_element_by_class_name\u001b[0m\u001b[1;33m(\u001b[0m\u001b[1;34m\"article-text\"\u001b[0m\u001b[1;33m)\u001b[0m\u001b[1;33m\u001b[0m\u001b[1;33m\u001b[0m\u001b[0m\n\u001b[0;32m     17\u001b[0m     \u001b[1;32mfor\u001b[0m \u001b[0mitem\u001b[0m \u001b[1;32min\u001b[0m \u001b[0mtext\u001b[0m\u001b[1;33m.\u001b[0m\u001b[0mfind_elements_by_tag_name\u001b[0m\u001b[1;33m(\u001b[0m\u001b[1;34m\"p\"\u001b[0m\u001b[1;33m)\u001b[0m\u001b[1;33m:\u001b[0m\u001b[1;33m\u001b[0m\u001b[1;33m\u001b[0m\u001b[0m\n\u001b[1;32m---> 18\u001b[1;33m         \u001b[0mbody\u001b[0m \u001b[1;33m=\u001b[0m \u001b[0mbody\u001b[0m \u001b[1;33m+\u001b[0m \u001b[0mitem\u001b[0m\u001b[1;33m.\u001b[0m\u001b[0mtext\u001b[0m\u001b[1;33m\u001b[0m\u001b[1;33m\u001b[0m\u001b[0m\n\u001b[0m\u001b[0;32m     19\u001b[0m     \u001b[0marticle_dict\u001b[0m\u001b[1;33m[\u001b[0m\u001b[1;34m\"body\"\u001b[0m\u001b[1;33m]\u001b[0m \u001b[1;33m=\u001b[0m \u001b[0mbody\u001b[0m\u001b[1;33m\u001b[0m\u001b[1;33m\u001b[0m\u001b[0m\n\u001b[0;32m     20\u001b[0m \u001b[1;33m\u001b[0m\u001b[0m\n",
      "\u001b[1;31mTypeError\u001b[0m: can only concatenate str (not \"NoneType\") to str"
     ]
    }
   ],
   "source": [
    "options = webdriver.ChromeOptions()\n",
    "driver = webdriver.Chrome(location + \"\\chromedriver\", options=options)\n",
    "\n",
    "data = []\n",
    "\n",
    "for url in article_links:\n",
    "    article_dict = {}\n",
    "    driver.get(url)\n",
    "    \n",
    "    article_dict[\"url\"] = url\n",
    "    \n",
    "    #date\n",
    "    date = driver.find_element_by_class_name(\"meta-time\").text\n",
    "    article_dict[\"date\"] = date\n",
    "    \n",
    "    #body\n",
    "    body = \"\"\n",
    "    text = driver.find_element_by_class_name(\"article-text\")\n",
    "    for item in text.find_elements_by_tag_name(\"p\"):\n",
    "        body = body + item.text\n",
    "    article_dict[\"body\"] = body\n",
    "    \n",
    "    #title\n",
    "    title = driver.find_element_by_class_name(\"title\").text\n",
    "    article_dict[\"title\"] = title\n",
    "    \n",
    "    #location\n",
    "    article_dict[\"location\"] = \"UWM\"\n",
    "\n",
    "    data.append(article_dict)"
   ]
  },
  {
   "cell_type": "code",
   "execution_count": 13,
   "metadata": {},
   "outputs": [
    {
     "name": "stdout",
     "output_type": "stream",
     "text": [
      "{'date': 'Oct 12, 2015', 'body': 'University of Wisconsin men’s basketball junior forward Vitto Brown, Jeanette Kowalik from University Health Services and Director of Student Athlete Development Bridget Woodruff announced UW Athletics’ initiative to team up with a campus-wide campaign to stop sexual assault Monday afternoon.The campaign “It’s On Us” was a measure started by President Barack Obama as a call to action to get students on college campuses across the country to become more involved with stopping acts of sexual assault.“It’s On Us shares a message to our fans across the country that we can create an environment that supports survivors,” Wisconsin Athletic Director Barry Alvarez said in a statement. “We feel it is important to communicate to our student-athletes, staff and fans our support of this mission.”Report: More than one in four women sexually assaulted at UW\\nUniversity of Wisconsin released data Monday, Sept. 21, showing nearly 28 percent of undergraduate females reported experiencing sexual assault involving force or Read…Kowalik echoed recent revelations that one out of every four women at Wisconsin will find themselves victims of sexual assault. That number, which is taken from a survey conducted by the university, does not represent all forms of assault, such as stalking and harassment.It’s On Us plans on helping students be more aware of sexual assault on campus through a series of short films. These feature films will be played at Wisconsin’s homecoming game this Saturday and will also be made available on social media.UW athletes take stand against sexual assault\\nIn a two minute YouTube video, four University of Wisconsin varsity athletes took a stand and raised their voice against Read…Athletes like Brown are joining Kowalik to help raise awareness to the issue. Kowalik said using role models such as Brown will help people to see the seriousness of the issue.Brown said he’s happy to join the cause and believes it’s a good way to help give visibility to the issue.The issue is also something that is close to Brown, who revealed he has friends that have been victims of sexual assault.“It’s just not OK to take advantage of women in that way,” Brown said.One of the other goals of It’s On Us is to educate students on the process of reporting sexual assault on campus. National studies have shown only 12 percent of assaults on college campuses are reported, and Kowalik believes one of the reasons so many cases go unreported is due to the stigma that comes with the reporting process for sexual assault.Kowalik said even something as simple as bringing awareness to this cause will help reduce the number of sexual assaults on campus.There are numerous resources available to students on campus if they have been the victim of sexual assault, including confidential reporting services, counseling and the National Sexual Assault Hotline that is open 24 hours. The number for the hotline is 800-656-4673.', 'title': 'UW-Madison, Athletic Department announce partnership with “It’s On Us” campaign to stop sexual assault', 'location': 'UWM'}\n"
     ]
    }
   ],
   "source": [
    "print(data[0])"
   ]
  },
  {
   "cell_type": "code",
   "execution_count": 14,
   "metadata": {},
   "outputs": [
    {
     "name": "stdout",
     "output_type": "stream",
     "text": [
      "https://badgerherald.com/sports/2015/10/12/uw-madison-athletic-department-announce-partnership-with-its-on-us-campaign-to-stop-sexual-assault/\n"
     ]
    }
   ],
   "source": [
    "print(article_links[0])"
   ]
  },
  {
   "cell_type": "code",
   "execution_count": null,
   "metadata": {},
   "outputs": [],
   "source": []
  }
 ],
 "metadata": {
  "kernelspec": {
   "display_name": "Python 3",
   "language": "python",
   "name": "python3"
  },
  "language_info": {
   "codemirror_mode": {
    "name": "ipython",
    "version": 3
   },
   "file_extension": ".py",
   "mimetype": "text/x-python",
   "name": "python",
   "nbconvert_exporter": "python",
   "pygments_lexer": "ipython3",
   "version": "3.7.6"
  }
 },
 "nbformat": 4,
 "nbformat_minor": 4
}
