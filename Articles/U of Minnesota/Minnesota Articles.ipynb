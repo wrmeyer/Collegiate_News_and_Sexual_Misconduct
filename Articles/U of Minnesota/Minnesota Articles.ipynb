{
 "cells": [
  {
   "cell_type": "code",
   "execution_count": 74,
   "metadata": {},
   "outputs": [],
   "source": [
    "import time\n",
    "import os\n",
    "location = str(os.getcwd())\n",
    "from selenium import webdriver\n",
    "import json\n",
    "import csv\n",
    "from datetime import timedelta, date\n",
    "import time\n",
    "\n",
    "options = webdriver.ChromeOptions()\n",
    "driver = webdriver.Chrome(location + \"\\chromedriver\", options=options)"
   ]
  },
  {
   "cell_type": "code",
   "execution_count": 75,
   "metadata": {},
   "outputs": [],
   "source": [
    "search_terms = [\"sexual assault\", \"sexual misconduct\", \"rape\", \"sexual abuse\"]\n",
    "home = 'https://mndaily.com/?s='"
   ]
  },
  {
   "cell_type": "code",
   "execution_count": 76,
   "metadata": {},
   "outputs": [],
   "source": [
    "def next_page(term):\n",
    "    global driver\n",
    "    global x\n",
    "    x += 1\n",
    "    new_link = \"https://mndaily.com//page/\" + str(x) + '/?s=' + term\n",
    "    try:\n",
    "        driver.get(new_link)\n",
    "    except Exception as e: \n",
    "        print(e)        "
   ]
  },
  {
   "cell_type": "code",
   "execution_count": 77,
   "metadata": {},
   "outputs": [
    {
     "name": "stdout",
     "output_type": "stream",
     "text": [
      "Message: stale element reference: element is not attached to the page document\n",
      "  (Session info: chrome=97.0.4692.99)\n",
      "\n",
      "https://mndaily.com/page/115/?s=sexual%20assault\n",
      "Message: stale element reference: element is not attached to the page document\n",
      "  (Session info: chrome=97.0.4692.99)\n",
      "\n",
      "https://mndaily.com/page/32/?s=sexual%20misconduct\n",
      "Message: stale element reference: element is not attached to the page document\n",
      "  (Session info: chrome=97.0.4692.99)\n",
      "\n",
      "https://mndaily.com/page/157/?s=rape\n",
      "Message: stale element reference: element is not attached to the page document\n",
      "  (Session info: chrome=97.0.4692.99)\n",
      "\n",
      "https://mndaily.com/page/38/?s=sexual%20abuse\n",
      "3367\n"
     ]
    }
   ],
   "source": [
    "links = []\n",
    "\n",
    "for term in search_terms:\n",
    "    driver.get(home + term)\n",
    "    x = 1\n",
    "    while True:\n",
    "        try:\n",
    "            y = 0\n",
    "            while y < 6:\n",
    "                try:\n",
    "                    article_box = driver.find_element_by_xpath(\"/html/body/div[2]/div[4]/div/div/div/main/div/div[1]/div\")\n",
    "                    break\n",
    "                except:\n",
    "                    driver.refresh()\n",
    "                    y += 1\n",
    "            sub_box = article_box.find_elements_by_tag_name(\"h2\")\n",
    "            for item in sub_box:\n",
    "                links.append(item.find_element_by_tag_name(\"a\").get_attribute(\"href\"))\n",
    "            next_page(term)\n",
    "        except Exception as e:\n",
    "            print(e)\n",
    "            print(driver.current_url)\n",
    "            break\n",
    "\n",
    "print(len(links))"
   ]
  },
  {
   "cell_type": "code",
   "execution_count": 78,
   "metadata": {},
   "outputs": [],
   "source": [
    "with open('links.json', 'w') as outfile:\n",
    "    json.dump(links, outfile)"
   ]
  },
  {
   "cell_type": "code",
   "execution_count": null,
   "metadata": {},
   "outputs": [],
   "source": []
  }
 ],
 "metadata": {
  "kernelspec": {
   "display_name": "Python 3",
   "language": "python",
   "name": "python3"
  },
  "language_info": {
   "codemirror_mode": {
    "name": "ipython",
    "version": 3
   },
   "file_extension": ".py",
   "mimetype": "text/x-python",
   "name": "python",
   "nbconvert_exporter": "python",
   "pygments_lexer": "ipython3",
   "version": "3.8.10"
  }
 },
 "nbformat": 4,
 "nbformat_minor": 4
}
