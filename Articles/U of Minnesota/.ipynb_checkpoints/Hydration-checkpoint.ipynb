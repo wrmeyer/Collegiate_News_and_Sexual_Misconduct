{
 "cells": [
  {
   "cell_type": "code",
   "execution_count": 2,
   "metadata": {},
   "outputs": [],
   "source": [
    "import os\n",
    "location = str(os.getcwd())\n",
    "from selenium import webdriver\n",
    "import json\n",
    "import csv"
   ]
  },
  {
   "cell_type": "code",
   "execution_count": 3,
   "metadata": {},
   "outputs": [],
   "source": [
    "with open(location + '/minnesota_daily_links.json') as f:\n",
    "    article_links = json.load(f)"
   ]
  },
  {
   "cell_type": "code",
   "execution_count": 12,
   "metadata": {},
   "outputs": [
    {
     "ename": "WebDriverException",
     "evalue": "Message: unknown error: cannot determine loading status\nfrom disconnected: received Inspector.detached event\n  (Session info: chrome=99.0.4844.51)\n",
     "output_type": "error",
     "traceback": [
      "\u001b[1;31m---------------------------------------------------------------------------\u001b[0m",
      "\u001b[1;31mWebDriverException\u001b[0m                        Traceback (most recent call last)",
      "\u001b[1;32m<ipython-input-12-e6b02fe1bfb6>\u001b[0m in \u001b[0;36m<module>\u001b[1;34m\u001b[0m\n\u001b[0;32m      6\u001b[0m \u001b[1;32mfor\u001b[0m \u001b[0murl\u001b[0m \u001b[1;32min\u001b[0m \u001b[0marticle_links\u001b[0m\u001b[1;33m:\u001b[0m\u001b[1;33m\u001b[0m\u001b[1;33m\u001b[0m\u001b[0m\n\u001b[0;32m      7\u001b[0m     \u001b[0marticle_dict\u001b[0m \u001b[1;33m=\u001b[0m \u001b[1;33m{\u001b[0m\u001b[1;33m}\u001b[0m\u001b[1;33m\u001b[0m\u001b[1;33m\u001b[0m\u001b[0m\n\u001b[1;32m----> 8\u001b[1;33m     \u001b[0mdriver\u001b[0m\u001b[1;33m.\u001b[0m\u001b[0mget\u001b[0m\u001b[1;33m(\u001b[0m\u001b[0murl\u001b[0m\u001b[1;33m)\u001b[0m\u001b[1;33m\u001b[0m\u001b[1;33m\u001b[0m\u001b[0m\n\u001b[0m\u001b[0;32m      9\u001b[0m \u001b[1;33m\u001b[0m\u001b[0m\n\u001b[0;32m     10\u001b[0m     \u001b[0marticle_dict\u001b[0m\u001b[1;33m[\u001b[0m\u001b[1;34m\"url\"\u001b[0m\u001b[1;33m]\u001b[0m \u001b[1;33m=\u001b[0m \u001b[0murl\u001b[0m\u001b[1;33m\u001b[0m\u001b[1;33m\u001b[0m\u001b[0m\n",
      "\u001b[1;32mc:\\users\\wilmd\\onedrive\\desktop\\python_env\\env\\lib\\site-packages\\selenium\\webdriver\\remote\\webdriver.py\u001b[0m in \u001b[0;36mget\u001b[1;34m(self, url)\u001b[0m\n\u001b[0;32m    331\u001b[0m         \u001b[0mLoads\u001b[0m \u001b[0ma\u001b[0m \u001b[0mweb\u001b[0m \u001b[0mpage\u001b[0m \u001b[1;32min\u001b[0m \u001b[0mthe\u001b[0m \u001b[0mcurrent\u001b[0m \u001b[0mbrowser\u001b[0m \u001b[0msession\u001b[0m\u001b[1;33m.\u001b[0m\u001b[1;33m\u001b[0m\u001b[1;33m\u001b[0m\u001b[0m\n\u001b[0;32m    332\u001b[0m         \"\"\"\n\u001b[1;32m--> 333\u001b[1;33m         \u001b[0mself\u001b[0m\u001b[1;33m.\u001b[0m\u001b[0mexecute\u001b[0m\u001b[1;33m(\u001b[0m\u001b[0mCommand\u001b[0m\u001b[1;33m.\u001b[0m\u001b[0mGET\u001b[0m\u001b[1;33m,\u001b[0m \u001b[1;33m{\u001b[0m\u001b[1;34m'url'\u001b[0m\u001b[1;33m:\u001b[0m \u001b[0murl\u001b[0m\u001b[1;33m}\u001b[0m\u001b[1;33m)\u001b[0m\u001b[1;33m\u001b[0m\u001b[1;33m\u001b[0m\u001b[0m\n\u001b[0m\u001b[0;32m    334\u001b[0m \u001b[1;33m\u001b[0m\u001b[0m\n\u001b[0;32m    335\u001b[0m     \u001b[1;33m@\u001b[0m\u001b[0mproperty\u001b[0m\u001b[1;33m\u001b[0m\u001b[1;33m\u001b[0m\u001b[0m\n",
      "\u001b[1;32mc:\\users\\wilmd\\onedrive\\desktop\\python_env\\env\\lib\\site-packages\\selenium\\webdriver\\remote\\webdriver.py\u001b[0m in \u001b[0;36mexecute\u001b[1;34m(self, driver_command, params)\u001b[0m\n\u001b[0;32m    319\u001b[0m         \u001b[0mresponse\u001b[0m \u001b[1;33m=\u001b[0m \u001b[0mself\u001b[0m\u001b[1;33m.\u001b[0m\u001b[0mcommand_executor\u001b[0m\u001b[1;33m.\u001b[0m\u001b[0mexecute\u001b[0m\u001b[1;33m(\u001b[0m\u001b[0mdriver_command\u001b[0m\u001b[1;33m,\u001b[0m \u001b[0mparams\u001b[0m\u001b[1;33m)\u001b[0m\u001b[1;33m\u001b[0m\u001b[1;33m\u001b[0m\u001b[0m\n\u001b[0;32m    320\u001b[0m         \u001b[1;32mif\u001b[0m \u001b[0mresponse\u001b[0m\u001b[1;33m:\u001b[0m\u001b[1;33m\u001b[0m\u001b[1;33m\u001b[0m\u001b[0m\n\u001b[1;32m--> 321\u001b[1;33m             \u001b[0mself\u001b[0m\u001b[1;33m.\u001b[0m\u001b[0merror_handler\u001b[0m\u001b[1;33m.\u001b[0m\u001b[0mcheck_response\u001b[0m\u001b[1;33m(\u001b[0m\u001b[0mresponse\u001b[0m\u001b[1;33m)\u001b[0m\u001b[1;33m\u001b[0m\u001b[1;33m\u001b[0m\u001b[0m\n\u001b[0m\u001b[0;32m    322\u001b[0m             response['value'] = self._unwrap_value(\n\u001b[0;32m    323\u001b[0m                 response.get('value', None))\n",
      "\u001b[1;32mc:\\users\\wilmd\\onedrive\\desktop\\python_env\\env\\lib\\site-packages\\selenium\\webdriver\\remote\\errorhandler.py\u001b[0m in \u001b[0;36mcheck_response\u001b[1;34m(self, response)\u001b[0m\n\u001b[0;32m    240\u001b[0m                 \u001b[0malert_text\u001b[0m \u001b[1;33m=\u001b[0m \u001b[0mvalue\u001b[0m\u001b[1;33m[\u001b[0m\u001b[1;34m'alert'\u001b[0m\u001b[1;33m]\u001b[0m\u001b[1;33m.\u001b[0m\u001b[0mget\u001b[0m\u001b[1;33m(\u001b[0m\u001b[1;34m'text'\u001b[0m\u001b[1;33m)\u001b[0m\u001b[1;33m\u001b[0m\u001b[1;33m\u001b[0m\u001b[0m\n\u001b[0;32m    241\u001b[0m             \u001b[1;32mraise\u001b[0m \u001b[0mexception_class\u001b[0m\u001b[1;33m(\u001b[0m\u001b[0mmessage\u001b[0m\u001b[1;33m,\u001b[0m \u001b[0mscreen\u001b[0m\u001b[1;33m,\u001b[0m \u001b[0mstacktrace\u001b[0m\u001b[1;33m,\u001b[0m \u001b[0malert_text\u001b[0m\u001b[1;33m)\u001b[0m\u001b[1;33m\u001b[0m\u001b[1;33m\u001b[0m\u001b[0m\n\u001b[1;32m--> 242\u001b[1;33m         \u001b[1;32mraise\u001b[0m \u001b[0mexception_class\u001b[0m\u001b[1;33m(\u001b[0m\u001b[0mmessage\u001b[0m\u001b[1;33m,\u001b[0m \u001b[0mscreen\u001b[0m\u001b[1;33m,\u001b[0m \u001b[0mstacktrace\u001b[0m\u001b[1;33m)\u001b[0m\u001b[1;33m\u001b[0m\u001b[1;33m\u001b[0m\u001b[0m\n\u001b[0m\u001b[0;32m    243\u001b[0m \u001b[1;33m\u001b[0m\u001b[0m\n\u001b[0;32m    244\u001b[0m     \u001b[1;32mdef\u001b[0m \u001b[0m_value_or_default\u001b[0m\u001b[1;33m(\u001b[0m\u001b[0mself\u001b[0m\u001b[1;33m,\u001b[0m \u001b[0mobj\u001b[0m\u001b[1;33m,\u001b[0m \u001b[0mkey\u001b[0m\u001b[1;33m,\u001b[0m \u001b[0mdefault\u001b[0m\u001b[1;33m)\u001b[0m\u001b[1;33m:\u001b[0m\u001b[1;33m\u001b[0m\u001b[1;33m\u001b[0m\u001b[0m\n",
      "\u001b[1;31mWebDriverException\u001b[0m: Message: unknown error: cannot determine loading status\nfrom disconnected: received Inspector.detached event\n  (Session info: chrome=99.0.4844.51)\n"
     ]
    }
   ],
   "source": [
    "options = webdriver.ChromeOptions()\n",
    "driver = webdriver.Chrome(location + \"\\chromedriver\", options=options)\n",
    "\n",
    "data = []\n",
    "\n",
    "for url in article_links:\n",
    "    article_dict = {}\n",
    "    driver.get(url)\n",
    "    \n",
    "    article_dict[\"url\"] = url\n",
    "    \n",
    "    #date\n",
    "    date = driver.find_element_by_class_name(\"time-wrapper\").text\n",
    "    article_dict[\"date\"] = date\n",
    "    \n",
    "    #body\n",
    "    body = \"\"\n",
    "    text = driver.find_element_by_class_name(\"storycontent\")\n",
    "    for item in text.find_elements_by_tag_name(\"p\"):\n",
    "        body = body + item.text\n",
    "    article_dict[\"body\"] = body\n",
    "    \n",
    "    #title\n",
    "    title = driver.find_element_by_class_name(\"storyheadline\").text\n",
    "    article_dict[\"title\"] = title\n",
    "    \n",
    "    #location\n",
    "    article_dict[\"location\"] = \"IUB\"\n",
    "\n",
    "    data.append(article_dict)"
   ]
  },
  {
   "cell_type": "code",
   "execution_count": 13,
   "metadata": {},
   "outputs": [
    {
     "name": "stdout",
     "output_type": "stream",
     "text": [
      "{'url': 'https://mndaily.com/268544/news/new-bill-grants-legal-amnesty-to-reporters-of-sexual-assault-even-if-under-the-illegal-influence-of-drugs-or-alcohol/', 'date': 'Published July 30, 2021', 'body': 'Editor’s note: This article discusses sexual harassment. If you or anyone you know has experienced sexual harassment, the Aurora Center’s 24-hour helpline can be reached at (612) 626-9111.Reporters of sexual assault who are in possession of or under the influence of illegal substances can now contact emergency authorities to seek assistance without fear of legal consequences, according to a new provision in the Public Safety Omnibus bill signed by Gov. Tim Walz on June 30.Members of the Minnesota Student Association (MSA) began advocating for the provision to be added to law in 2018.The bill states that the first person to call 911 and seek help for an incident of sexual assault will not be charged or prosecuted even if they are under the influence of illegal substances. To be granted immunity, the person calling must stay at the scene until emergency help arrives and provide the name and contact of the person in need of assistance.The provision applies to any incidents that occur on or after Aug. 1.“Already so many young women and men have been victim of sexual assault,” said Rep. Heather Edelson (DFL-Edina), the chief author of the bill. “If you remove the barrier of, ‘Listen, you are not going to get in trouble and we want to hold that person accountable. In fact, we need to do that because that person could create more victims.’ If we really get that out there, this small piece of legislation could have a big impact.”Student advocacyUniversity of Minnesota students have been working to pass a bill addressing amnesty for sexual assault victims for four years according to Sam Parmekar, the outgoing state government coordinator for MSA.MSA consulted with stakeholders, such as the Aurora Center for Advocacy & Education and the University Police Department, to gather additional opinions and support for the bill.Even with executive board changes, the COVID-19 pandemic and other legislative factors slowing its passage, MSA has continued to advocate for the bill.MSA leadership has been advocating for legislation to protect students in emergency medical situations for almost a decade, including the Medical Amnesty Law in 2013, Parmekar said.“That bill, essentially, created the concept of medical amnesty where if someone is experiencing a medical emergency as a result of drug overdose, alcohol poisoning or something like that, they could contact emergency services or someone could contact emergency services on their behalf and they would receive immunity from possession, consumption or sharing of those substances,” Parmekar said.However, the bill did not apply to individuals that needed emergency support due to a sexual assault.“Four years ago, [MSA] brought forward this bill to close that loophole and make sure that those protections also applied to individuals who had been sexually assaulted,” Parmekar said.The students worked to gather bipartisan support for the bill, according to Parmekar. Ultimately, they were able to earn the DFL majority votes in the House and the Republican majority in the Senate in order to include the provision in the final Public Safety Omnibus bill.All universities in Minnesota are prohibited from academically punishing students if they report sexual assault and illegal drugs or alcohol are found, Parmekar said. However, before this provision, there was no statewide protection from criminal consequences.The bill’s significanceMany young adults do not report sexual assaults when alcohol or drugs are involved out of fear of the legal consequences related to the substances.According to a 2019 survey by the AAU Climate Survey on Sexual Assault and Sexual Misconduct, 54% of women who experienced a sexual assault and “reported penetration did not contact a program or resource because alcohol was involved.”“There is obviously quite a stigma about being believed if you are assaulted under the influence. But a large part of that is the perception that, if I was drinking or I was doing drugs and I admit that to someone in authority, I am going to get in trouble,” Parmekar said. “I think there are students who really feel fear for the academic consequences, or fear that they might lose their job or scholarship. The whole reason we want to bring this forward is that we do not want anyone to ever have to make that calculation.”Women ages 18 to 24 are also at a higher risk for sexual assault, according to the Rape, Abuse, & Incest National Network. Women attending college are at an even higher risk; they are three times as likely to experience sexual assault than women in general, and 50% of sexual assaults happen at the beginning of the school year from August to November, according to the Association of American Universities.This bill is particularly important in light of the Minnesota Supreme Court’s recent decision involving the definition of a “mentally incapacitated” person, Edelson said.In the decision, the court ruled that a victim of sexual assault did not meet the requirements to be considered “mentally incapacitated” and unable to consent to sex because she had voluntarily consumed alcohol.Revisions in the Public Safety Omnibus bill closed Minnesota’s “intoxication loophole,” Edelson said. Now, the definition of “mentally incapacitated” includes a person intoxicated “to a degree that renders them incapable of consenting or incapable of appreciating, understanding or controlling the person’s conduct.”“We want victims to know, and we want people reporting an assault to know, that assault outweighs any possible underage drug use or underage alcohol use that could possibly be happening,” Edelson said. “Regardless of whether or not you have consumed alcohol or drugs, that’s not a free pass for you to be sexually assaulted. And that is the key: Using drugs does not mean somebody can violate you, and we want people to know that.”', 'title': 'New bill grants legal amnesty to reporters of sexual assault, even if under the illegal influence of drugs or alcohol', 'location': 'IUB'}\n"
     ]
    }
   ],
   "source": [
    "print(data[0])"
   ]
  },
  {
   "cell_type": "code",
   "execution_count": 14,
   "metadata": {},
   "outputs": [
    {
     "name": "stdout",
     "output_type": "stream",
     "text": [
      "https://mndaily.com/268544/news/new-bill-grants-legal-amnesty-to-reporters-of-sexual-assault-even-if-under-the-illegal-influence-of-drugs-or-alcohol/\n"
     ]
    }
   ],
   "source": [
    "print(article_links[0])"
   ]
  },
  {
   "cell_type": "code",
   "execution_count": null,
   "metadata": {},
   "outputs": [],
   "source": []
  }
 ],
 "metadata": {
  "kernelspec": {
   "display_name": "Python 3",
   "language": "python",
   "name": "python3"
  },
  "language_info": {
   "codemirror_mode": {
    "name": "ipython",
    "version": 3
   },
   "file_extension": ".py",
   "mimetype": "text/x-python",
   "name": "python",
   "nbconvert_exporter": "python",
   "pygments_lexer": "ipython3",
   "version": "3.7.6"
  }
 },
 "nbformat": 4,
 "nbformat_minor": 4
}
