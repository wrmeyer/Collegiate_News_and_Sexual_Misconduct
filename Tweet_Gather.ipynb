{
 "cells": [
  {
   "cell_type": "code",
   "execution_count": 96,
   "metadata": {},
   "outputs": [],
   "source": [
    "import searchtweets\n",
    "from searchtweets import load_credentials\n",
    "from searchtweets import gen_request_parameters\n",
    "import os"
   ]
  },
  {
   "cell_type": "code",
   "execution_count": 97,
   "metadata": {},
   "outputs": [],
   "source": [
    "premium_search_args = load_credentials(filename=\"./creds.yaml\", yaml_key=\"search_tweets_v2\", env_overwrite = False)"
   ]
  },
  {
   "cell_type": "code",
   "execution_count": 104,
   "metadata": {},
   "outputs": [],
   "source": [
    "max_results = 1\n",
    "max_pages= 1\n",
    "start_date = \"2011-01-01\"\n",
    "end_date = \"2022-01-01\"\n",
    "results_per_call = 1\n",
    "query_terms = \"sexual assault\""
   ]
  },
  {
   "cell_type": "code",
   "execution_count": 105,
   "metadata": {},
   "outputs": [],
   "source": [
    "# rule = gen_request_parameters(query_terms,\n",
    "#                         start_time=start_date,\n",
    "#                         end_time=end_date,\n",
    "#                         granularity = \"day\",\n",
    "#                         results_per_call=results_per_call)\n",
    "\n",
    "# tweets = searchtweets.collect_results(rule, \n",
    "#                          max_tweets=1,\n",
    "#                          result_stream_args=premium_search_args)"
   ]
  },
  {
   "cell_type": "code",
   "execution_count": 106,
   "metadata": {},
   "outputs": [],
   "source": [
    "rule = gen_request_parameters(query_terms,\n",
    "                        granularity = \"day\",\n",
    "                        results_per_call=results_per_call)\n",
    "\n",
    "tweets1 = searchtweets.collect_results(rule, \n",
    "                         max_tweets=1,\n",
    "                         result_stream_args=premium_search_args)"
   ]
  },
  {
   "cell_type": "code",
   "execution_count": null,
   "metadata": {},
   "outputs": [],
   "source": [
    "pull(tweets1)"
   ]
  }
 ],
 "metadata": {
  "kernelspec": {
   "display_name": "Python 3",
   "language": "python",
   "name": "python3"
  },
  "language_info": {
   "codemirror_mode": {
    "name": "ipython",
    "version": 3
   },
   "file_extension": ".py",
   "mimetype": "text/x-python",
   "name": "python",
   "nbconvert_exporter": "python",
   "pygments_lexer": "ipython3",
   "version": "3.8.10"
  }
 },
 "nbformat": 4,
 "nbformat_minor": 4
}
