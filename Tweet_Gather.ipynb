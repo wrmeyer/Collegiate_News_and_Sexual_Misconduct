{
 "cells": [
  {
   "cell_type": "code",
   "execution_count": 36,
   "metadata": {},
   "outputs": [],
   "source": [
    "import searchtweets\n",
    "from searchtweets import load_credentials\n",
    "from searchtweets import gen_request_parameters\n",
    "import os"
   ]
  },
  {
   "cell_type": "code",
   "execution_count": 37,
   "metadata": {},
   "outputs": [],
   "source": [
    "premium_search_args = load_credentials(filename=\"./creds.yaml\", yaml_key=\"search_tweets_v2\", env_overwrite = False)"
   ]
  },
  {
   "cell_type": "code",
   "execution_count": null,
   "metadata": {},
   "outputs": [],
   "source": [
    "#  start_time:2011-01-01T00:00:00.00Z end_time:2022-01-01T00:00:00.00Z"
   ]
  },
  {
   "cell_type": "code",
   "execution_count": 58,
   "metadata": {},
   "outputs": [],
   "source": [
    "start_date = \"2011-01-01\"\n",
    "end_date = \"2022-01-01\"\n",
    "\n",
    "#bloomington coords\n",
    "query_terms = '(\"sexual assault\" OR \"sexual misconduct\" OR rape OR \"sexual abuse\" OR \"sexual harassment\") point_radius:[39.094400 -86.314500 3mi]'\n",
    "\n",
    "rule = gen_request_parameters(query_terms, granularity = \"day\", start_time = start_date, end_time = end_date)\n",
    "\n",
    "tweets1 = searchtweets.collect_results(rule,\n",
    "                                       result_stream_args=premium_search_args)"
   ]
  },
  {
   "cell_type": "code",
   "execution_count": 50,
   "metadata": {},
   "outputs": [
    {
     "data": {
      "text/plain": [
       "'00:00.00Z end_time:2022-'"
      ]
     },
     "execution_count": 50,
     "metadata": {},
     "output_type": "execute_result"
    }
   ],
   "source": [
    "query_terms[156:180]"
   ]
  },
  {
   "cell_type": "code",
   "execution_count": 63,
   "metadata": {},
   "outputs": [],
   "source": [
    "for i in tweets1[0][\"data\"]:\n",
    "    if i[\"tweet_count\"] > 0:\n",
    "        print(i)"
   ]
  }
 ],
 "metadata": {
  "kernelspec": {
   "display_name": "Python 3",
   "language": "python",
   "name": "python3"
  },
  "language_info": {
   "codemirror_mode": {
    "name": "ipython",
    "version": 3
   },
   "file_extension": ".py",
   "mimetype": "text/x-python",
   "name": "python",
   "nbconvert_exporter": "python",
   "pygments_lexer": "ipython3",
   "version": "3.8.10"
  }
 },
 "nbformat": 4,
 "nbformat_minor": 4
}
